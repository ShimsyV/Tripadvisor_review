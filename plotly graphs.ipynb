{
 "cells": [
  {
   "cell_type": "code",
   "execution_count": null,
   "metadata": {},
   "outputs": [],
   "source": [
    "### IF THE VISUALS DON'T SHOW UP, RUN THIS IN JUPYTER NOTEBOOK INSTEAD OF LAB"
   ]
  },
  {
   "cell_type": "code",
   "execution_count": 1,
   "metadata": {},
   "outputs": [],
   "source": [
    "import pandas as pd\n",
    "import numpy as np\n",
    "\n",
    "# pd.set_option(\"max_columns\", 30)\n",
    "\n",
    "import plotly.express as px\n",
    "import plotly.graph_objects as go"
   ]
  },
  {
   "cell_type": "code",
   "execution_count": 2,
   "metadata": {},
   "outputs": [
    {
     "data": {
      "text/html": [
       "<div>\n",
       "<style scoped>\n",
       "    .dataframe tbody tr th:only-of-type {\n",
       "        vertical-align: middle;\n",
       "    }\n",
       "\n",
       "    .dataframe tbody tr th {\n",
       "        vertical-align: top;\n",
       "    }\n",
       "\n",
       "    .dataframe thead th {\n",
       "        text-align: right;\n",
       "    }\n",
       "</style>\n",
       "<table border=\"1\" class=\"dataframe\">\n",
       "  <thead>\n",
       "    <tr style=\"text-align: right;\">\n",
       "      <th></th>\n",
       "      <th>Unnamed: 0</th>\n",
       "      <th>id</th>\n",
       "      <th>address</th>\n",
       "      <th>city</th>\n",
       "      <th>country</th>\n",
       "      <th>latitude</th>\n",
       "      <th>longitude</th>\n",
       "      <th>name</th>\n",
       "      <th>postalCode</th>\n",
       "      <th>province</th>\n",
       "      <th>reviews_rating</th>\n",
       "      <th>reviews_sourceURLs</th>\n",
       "      <th>reviews_text</th>\n",
       "      <th>reviews_title</th>\n",
       "      <th>city_and_state</th>\n",
       "      <th>reviews_text_tokens</th>\n",
       "      <th>cluster</th>\n",
       "      <th>keywords</th>\n",
       "    </tr>\n",
       "  </thead>\n",
       "  <tbody>\n",
       "    <tr>\n",
       "      <th>0</th>\n",
       "      <td>5</td>\n",
       "      <td>6</td>\n",
       "      <td>167 W Main St</td>\n",
       "      <td>Lexington</td>\n",
       "      <td>US</td>\n",
       "      <td>38.047014</td>\n",
       "      <td>-84.497742</td>\n",
       "      <td>21c Museum Hotel Lexington</td>\n",
       "      <td>40507</td>\n",
       "      <td>KY</td>\n",
       "      <td>4</td>\n",
       "      <td>http://www.tripadvisor.com/Hotel_Review-g39588...</td>\n",
       "      <td>This is such a fun, lovely hotel. The attentio...</td>\n",
       "      <td>Loved staying here</td>\n",
       "      <td>Lexington, KY</td>\n",
       "      <td>lovely hotel attention detail impressive thick...</td>\n",
       "      <td>4</td>\n",
       "      <td>love, hotel, great, stay, room, staff, back, p...</td>\n",
       "    </tr>\n",
       "    <tr>\n",
       "      <th>1</th>\n",
       "      <td>6</td>\n",
       "      <td>7</td>\n",
       "      <td>167 W Main St</td>\n",
       "      <td>Lexington</td>\n",
       "      <td>US</td>\n",
       "      <td>38.047014</td>\n",
       "      <td>-84.497742</td>\n",
       "      <td>21c Museum Hotel Lexington</td>\n",
       "      <td>40507</td>\n",
       "      <td>KY</td>\n",
       "      <td>1</td>\n",
       "      <td>https://www.tripadvisor.com/Hotel_Review-g3958...</td>\n",
       "      <td>We recently stayed at this hotel on a trip to ...</td>\n",
       "      <td>Does not live up to its reputation</td>\n",
       "      <td>Lexington, KY</td>\n",
       "      <td>recently stay hotel trip lexington friend grou...</td>\n",
       "      <td>19</td>\n",
       "      <td>room, hotel, stay, night, small, good, floor, ...</td>\n",
       "    </tr>\n",
       "    <tr>\n",
       "      <th>2</th>\n",
       "      <td>8</td>\n",
       "      <td>9</td>\n",
       "      <td>2240 Buena Vista Rd</td>\n",
       "      <td>Lexington</td>\n",
       "      <td>US</td>\n",
       "      <td>38.042100</td>\n",
       "      <td>-84.427100</td>\n",
       "      <td>Microtel Inn Suites By Wyndham Lexington</td>\n",
       "      <td>40505</td>\n",
       "      <td>KY</td>\n",
       "      <td>5</td>\n",
       "      <td>https://www.tripadvisor.co.uk/Hotel_Review-g39...</td>\n",
       "      <td>MoreMore</td>\n",
       "      <td>Location Location Location</td>\n",
       "      <td>Lexington, KY</td>\n",
       "      <td>moremore</td>\n",
       "      <td>7</td>\n",
       "      <td>hotel, stay, room, great, servic, staff, locat...</td>\n",
       "    </tr>\n",
       "    <tr>\n",
       "      <th>3</th>\n",
       "      <td>10</td>\n",
       "      <td>11</td>\n",
       "      <td>1953 Nicholasville Rd</td>\n",
       "      <td>Lexington</td>\n",
       "      <td>US</td>\n",
       "      <td>38.012430</td>\n",
       "      <td>-84.516350</td>\n",
       "      <td>Hampton Inn Lexington Medical Center</td>\n",
       "      <td>40503</td>\n",
       "      <td>KY</td>\n",
       "      <td>5</td>\n",
       "      <td>https://www.tripadvisor.com/Hotel_Review-g3958...</td>\n",
       "      <td>This is a new Hampton Inn and is well decorate...</td>\n",
       "      <td>Beautiful hotel</td>\n",
       "      <td>Lexington, KY</td>\n",
       "      <td>hampton decorate color scheme give feel luxury...</td>\n",
       "      <td>19</td>\n",
       "      <td>room, hotel, stay, night, small, good, floor, ...</td>\n",
       "    </tr>\n",
       "    <tr>\n",
       "      <th>4</th>\n",
       "      <td>13</td>\n",
       "      <td>14</td>\n",
       "      <td>610 Poydras St</td>\n",
       "      <td>New Orleans</td>\n",
       "      <td>US</td>\n",
       "      <td>29.949125</td>\n",
       "      <td>-90.069748</td>\n",
       "      <td>The Whitney Hotel</td>\n",
       "      <td>70130</td>\n",
       "      <td>LA</td>\n",
       "      <td>3</td>\n",
       "      <td>https://www.tripadvisor.com/Hotel_Review-g6086...</td>\n",
       "      <td>The water is very hot and there's no cold wate...</td>\n",
       "      <td>Very hot water, bad food</td>\n",
       "      <td>New Orleans, LA</td>\n",
       "      <td>water cold water awful food good staff friendl...</td>\n",
       "      <td>9</td>\n",
       "      <td>room, experi, apolog, stay, guest, hotel, sorr...</td>\n",
       "    </tr>\n",
       "  </tbody>\n",
       "</table>\n",
       "</div>"
      ],
      "text/plain": [
       "   Unnamed: 0  id                address         city country   latitude  \\\n",
       "0           5   6          167 W Main St    Lexington      US  38.047014   \n",
       "1           6   7          167 W Main St    Lexington      US  38.047014   \n",
       "2           8   9    2240 Buena Vista Rd    Lexington      US  38.042100   \n",
       "3          10  11  1953 Nicholasville Rd    Lexington      US  38.012430   \n",
       "4          13  14         610 Poydras St  New Orleans      US  29.949125   \n",
       "\n",
       "   longitude                                      name postalCode province  \\\n",
       "0 -84.497742                21c Museum Hotel Lexington      40507       KY   \n",
       "1 -84.497742                21c Museum Hotel Lexington      40507       KY   \n",
       "2 -84.427100  Microtel Inn Suites By Wyndham Lexington      40505       KY   \n",
       "3 -84.516350      Hampton Inn Lexington Medical Center      40503       KY   \n",
       "4 -90.069748                         The Whitney Hotel      70130       LA   \n",
       "\n",
       "   reviews_rating                                 reviews_sourceURLs  \\\n",
       "0               4  http://www.tripadvisor.com/Hotel_Review-g39588...   \n",
       "1               1  https://www.tripadvisor.com/Hotel_Review-g3958...   \n",
       "2               5  https://www.tripadvisor.co.uk/Hotel_Review-g39...   \n",
       "3               5  https://www.tripadvisor.com/Hotel_Review-g3958...   \n",
       "4               3  https://www.tripadvisor.com/Hotel_Review-g6086...   \n",
       "\n",
       "                                        reviews_text  \\\n",
       "0  This is such a fun, lovely hotel. The attentio...   \n",
       "1  We recently stayed at this hotel on a trip to ...   \n",
       "2                                           MoreMore   \n",
       "3  This is a new Hampton Inn and is well decorate...   \n",
       "4  The water is very hot and there's no cold wate...   \n",
       "\n",
       "                        reviews_title   city_and_state  \\\n",
       "0                  Loved staying here    Lexington, KY   \n",
       "1  Does not live up to its reputation    Lexington, KY   \n",
       "2          Location Location Location    Lexington, KY   \n",
       "3                     Beautiful hotel    Lexington, KY   \n",
       "4            Very hot water, bad food  New Orleans, LA   \n",
       "\n",
       "                                 reviews_text_tokens  cluster  \\\n",
       "0  lovely hotel attention detail impressive thick...        4   \n",
       "1  recently stay hotel trip lexington friend grou...       19   \n",
       "2                                           moremore        7   \n",
       "3  hampton decorate color scheme give feel luxury...       19   \n",
       "4  water cold water awful food good staff friendl...        9   \n",
       "\n",
       "                                            keywords  \n",
       "0  love, hotel, great, stay, room, staff, back, p...  \n",
       "1  room, hotel, stay, night, small, good, floor, ...  \n",
       "2  hotel, stay, room, great, servic, staff, locat...  \n",
       "3  room, hotel, stay, night, small, good, floor, ...  \n",
       "4  room, experi, apolog, stay, guest, hotel, sorr...  "
      ]
     },
     "execution_count": 2,
     "metadata": {},
     "output_type": "execute_result"
    }
   ],
   "source": [
    "generator = pd.read_csv(\"output/Reviews_Cutoff_Clusters_Keywords.csv\")\n",
    "generator.head()"
   ]
  },
  {
   "cell_type": "code",
   "execution_count": 3,
   "metadata": {},
   "outputs": [
    {
     "data": {
      "text/html": [
       "<div>\n",
       "<style scoped>\n",
       "    .dataframe tbody tr th:only-of-type {\n",
       "        vertical-align: middle;\n",
       "    }\n",
       "\n",
       "    .dataframe tbody tr th {\n",
       "        vertical-align: top;\n",
       "    }\n",
       "\n",
       "    .dataframe thead th {\n",
       "        text-align: right;\n",
       "    }\n",
       "</style>\n",
       "<table border=\"1\" class=\"dataframe\">\n",
       "  <thead>\n",
       "    <tr style=\"text-align: right;\">\n",
       "      <th></th>\n",
       "      <th>address</th>\n",
       "      <th>city</th>\n",
       "      <th>name</th>\n",
       "      <th>postalCode</th>\n",
       "      <th>province</th>\n",
       "      <th>reviews_rating</th>\n",
       "      <th>reviews_text</th>\n",
       "      <th>city_and_state</th>\n",
       "      <th>reviews_text_tokens</th>\n",
       "      <th>cluster</th>\n",
       "      <th>keywords</th>\n",
       "    </tr>\n",
       "  </thead>\n",
       "  <tbody>\n",
       "    <tr>\n",
       "      <th>0</th>\n",
       "      <td>167 W Main St</td>\n",
       "      <td>Lexington</td>\n",
       "      <td>21c Museum Hotel Lexington</td>\n",
       "      <td>40507</td>\n",
       "      <td>KY</td>\n",
       "      <td>4</td>\n",
       "      <td>This is such a fun, lovely hotel. The attentio...</td>\n",
       "      <td>Lexington, KY</td>\n",
       "      <td>lovely hotel attention detail impressive thick...</td>\n",
       "      <td>4</td>\n",
       "      <td>love, hotel, great, stay, room, staff, back, p...</td>\n",
       "    </tr>\n",
       "    <tr>\n",
       "      <th>1</th>\n",
       "      <td>167 W Main St</td>\n",
       "      <td>Lexington</td>\n",
       "      <td>21c Museum Hotel Lexington</td>\n",
       "      <td>40507</td>\n",
       "      <td>KY</td>\n",
       "      <td>1</td>\n",
       "      <td>We recently stayed at this hotel on a trip to ...</td>\n",
       "      <td>Lexington, KY</td>\n",
       "      <td>recently stay hotel trip lexington friend grou...</td>\n",
       "      <td>19</td>\n",
       "      <td>room, hotel, stay, night, small, good, floor, ...</td>\n",
       "    </tr>\n",
       "    <tr>\n",
       "      <th>2</th>\n",
       "      <td>2240 Buena Vista Rd</td>\n",
       "      <td>Lexington</td>\n",
       "      <td>Microtel Inn Suites By Wyndham Lexington</td>\n",
       "      <td>40505</td>\n",
       "      <td>KY</td>\n",
       "      <td>5</td>\n",
       "      <td>MoreMore</td>\n",
       "      <td>Lexington, KY</td>\n",
       "      <td>moremore</td>\n",
       "      <td>7</td>\n",
       "      <td>hotel, stay, room, great, servic, staff, locat...</td>\n",
       "    </tr>\n",
       "    <tr>\n",
       "      <th>3</th>\n",
       "      <td>1953 Nicholasville Rd</td>\n",
       "      <td>Lexington</td>\n",
       "      <td>Hampton Inn Lexington Medical Center</td>\n",
       "      <td>40503</td>\n",
       "      <td>KY</td>\n",
       "      <td>5</td>\n",
       "      <td>This is a new Hampton Inn and is well decorate...</td>\n",
       "      <td>Lexington, KY</td>\n",
       "      <td>hampton decorate color scheme give feel luxury...</td>\n",
       "      <td>19</td>\n",
       "      <td>room, hotel, stay, night, small, good, floor, ...</td>\n",
       "    </tr>\n",
       "    <tr>\n",
       "      <th>4</th>\n",
       "      <td>610 Poydras St</td>\n",
       "      <td>New Orleans</td>\n",
       "      <td>The Whitney Hotel</td>\n",
       "      <td>70130</td>\n",
       "      <td>LA</td>\n",
       "      <td>3</td>\n",
       "      <td>The water is very hot and there's no cold wate...</td>\n",
       "      <td>New Orleans, LA</td>\n",
       "      <td>water cold water awful food good staff friendl...</td>\n",
       "      <td>9</td>\n",
       "      <td>room, experi, apolog, stay, guest, hotel, sorr...</td>\n",
       "    </tr>\n",
       "    <tr>\n",
       "      <th>...</th>\n",
       "      <td>...</td>\n",
       "      <td>...</td>\n",
       "      <td>...</td>\n",
       "      <td>...</td>\n",
       "      <td>...</td>\n",
       "      <td>...</td>\n",
       "      <td>...</td>\n",
       "      <td>...</td>\n",
       "      <td>...</td>\n",
       "      <td>...</td>\n",
       "      <td>...</td>\n",
       "    </tr>\n",
       "    <tr>\n",
       "      <th>8131</th>\n",
       "      <td>426 W Ball Rd</td>\n",
       "      <td>Anaheim</td>\n",
       "      <td>Americas Best Value Astoria Inn and Suites</td>\n",
       "      <td>92805-6051</td>\n",
       "      <td>CA</td>\n",
       "      <td>3</td>\n",
       "      <td>Stayed here as my daughter had a competition i...</td>\n",
       "      <td>Anaheim, CA</td>\n",
       "      <td>stay daughter competition anaheim locate aroun...</td>\n",
       "      <td>19</td>\n",
       "      <td>room, hotel, stay, night, small, good, floor, ...</td>\n",
       "    </tr>\n",
       "    <tr>\n",
       "      <th>8132</th>\n",
       "      <td>426 S Beach Blvd</td>\n",
       "      <td>Anaheim</td>\n",
       "      <td>Pacific Inn</td>\n",
       "      <td>92804-1861</td>\n",
       "      <td>CA</td>\n",
       "      <td>4</td>\n",
       "      <td>Friendly staff, the house keepers were friendl...</td>\n",
       "      <td>Anaheim, CA</td>\n",
       "      <td>friendly staff house keeper friendly room nice...</td>\n",
       "      <td>2</td>\n",
       "      <td>disneyland, anaheim, hotel, stay, room, park, ...</td>\n",
       "    </tr>\n",
       "    <tr>\n",
       "      <th>8133</th>\n",
       "      <td>426 S Beach Blvd</td>\n",
       "      <td>Anaheim</td>\n",
       "      <td>Pacific Inn</td>\n",
       "      <td>92804-1861</td>\n",
       "      <td>CA</td>\n",
       "      <td>5</td>\n",
       "      <td>Manager was very nice. Bed was comfy, bathroom...</td>\n",
       "      <td>Anaheim, CA</td>\n",
       "      <td>manager nice comfy bathroom nice array toiletr...</td>\n",
       "      <td>5</td>\n",
       "      <td>nice, pool, room, hotel, clean, good, great, s...</td>\n",
       "    </tr>\n",
       "    <tr>\n",
       "      <th>8134</th>\n",
       "      <td>426 S Beach Blvd</td>\n",
       "      <td>Anaheim</td>\n",
       "      <td>Pacific Inn</td>\n",
       "      <td>92804-1861</td>\n",
       "      <td>CA</td>\n",
       "      <td>5</td>\n",
       "      <td>My husband and I booked on line to stay at Pac...</td>\n",
       "      <td>Anaheim, CA</td>\n",
       "      <td>husband book line stay pacific week week vacat...</td>\n",
       "      <td>7</td>\n",
       "      <td>hotel, stay, room, great, servic, staff, locat...</td>\n",
       "    </tr>\n",
       "    <tr>\n",
       "      <th>8135</th>\n",
       "      <td>426 S Beach Blvd</td>\n",
       "      <td>Anaheim</td>\n",
       "      <td>Pacific Inn</td>\n",
       "      <td>92804-1861</td>\n",
       "      <td>CA</td>\n",
       "      <td>5</td>\n",
       "      <td>The hotel owner lives there and is always avai...</td>\n",
       "      <td>Anaheim, CA</td>\n",
       "      <td>hotel owner life always available help wheelch...</td>\n",
       "      <td>7</td>\n",
       "      <td>hotel, stay, room, great, servic, staff, locat...</td>\n",
       "    </tr>\n",
       "  </tbody>\n",
       "</table>\n",
       "<p>8136 rows × 11 columns</p>\n",
       "</div>"
      ],
      "text/plain": [
       "                    address         city  \\\n",
       "0             167 W Main St    Lexington   \n",
       "1             167 W Main St    Lexington   \n",
       "2       2240 Buena Vista Rd    Lexington   \n",
       "3     1953 Nicholasville Rd    Lexington   \n",
       "4            610 Poydras St  New Orleans   \n",
       "...                     ...          ...   \n",
       "8131          426 W Ball Rd      Anaheim   \n",
       "8132       426 S Beach Blvd      Anaheim   \n",
       "8133       426 S Beach Blvd      Anaheim   \n",
       "8134       426 S Beach Blvd      Anaheim   \n",
       "8135       426 S Beach Blvd      Anaheim   \n",
       "\n",
       "                                            name  postalCode province  \\\n",
       "0                     21c Museum Hotel Lexington       40507       KY   \n",
       "1                     21c Museum Hotel Lexington       40507       KY   \n",
       "2       Microtel Inn Suites By Wyndham Lexington       40505       KY   \n",
       "3           Hampton Inn Lexington Medical Center       40503       KY   \n",
       "4                              The Whitney Hotel       70130       LA   \n",
       "...                                          ...         ...      ...   \n",
       "8131  Americas Best Value Astoria Inn and Suites  92805-6051       CA   \n",
       "8132                                 Pacific Inn  92804-1861       CA   \n",
       "8133                                 Pacific Inn  92804-1861       CA   \n",
       "8134                                 Pacific Inn  92804-1861       CA   \n",
       "8135                                 Pacific Inn  92804-1861       CA   \n",
       "\n",
       "      reviews_rating                                       reviews_text  \\\n",
       "0                  4  This is such a fun, lovely hotel. The attentio...   \n",
       "1                  1  We recently stayed at this hotel on a trip to ...   \n",
       "2                  5                                           MoreMore   \n",
       "3                  5  This is a new Hampton Inn and is well decorate...   \n",
       "4                  3  The water is very hot and there's no cold wate...   \n",
       "...              ...                                                ...   \n",
       "8131               3  Stayed here as my daughter had a competition i...   \n",
       "8132               4  Friendly staff, the house keepers were friendl...   \n",
       "8133               5  Manager was very nice. Bed was comfy, bathroom...   \n",
       "8134               5  My husband and I booked on line to stay at Pac...   \n",
       "8135               5  The hotel owner lives there and is always avai...   \n",
       "\n",
       "       city_and_state                                reviews_text_tokens  \\\n",
       "0       Lexington, KY  lovely hotel attention detail impressive thick...   \n",
       "1       Lexington, KY  recently stay hotel trip lexington friend grou...   \n",
       "2       Lexington, KY                                           moremore   \n",
       "3       Lexington, KY  hampton decorate color scheme give feel luxury...   \n",
       "4     New Orleans, LA  water cold water awful food good staff friendl...   \n",
       "...               ...                                                ...   \n",
       "8131      Anaheim, CA  stay daughter competition anaheim locate aroun...   \n",
       "8132      Anaheim, CA  friendly staff house keeper friendly room nice...   \n",
       "8133      Anaheim, CA  manager nice comfy bathroom nice array toiletr...   \n",
       "8134      Anaheim, CA  husband book line stay pacific week week vacat...   \n",
       "8135      Anaheim, CA  hotel owner life always available help wheelch...   \n",
       "\n",
       "      cluster                                           keywords  \n",
       "0           4  love, hotel, great, stay, room, staff, back, p...  \n",
       "1          19  room, hotel, stay, night, small, good, floor, ...  \n",
       "2           7  hotel, stay, room, great, servic, staff, locat...  \n",
       "3          19  room, hotel, stay, night, small, good, floor, ...  \n",
       "4           9  room, experi, apolog, stay, guest, hotel, sorr...  \n",
       "...       ...                                                ...  \n",
       "8131       19  room, hotel, stay, night, small, good, floor, ...  \n",
       "8132        2  disneyland, anaheim, hotel, stay, room, park, ...  \n",
       "8133        5  nice, pool, room, hotel, clean, good, great, s...  \n",
       "8134        7  hotel, stay, room, great, servic, staff, locat...  \n",
       "8135        7  hotel, stay, room, great, servic, staff, locat...  \n",
       "\n",
       "[8136 rows x 11 columns]"
      ]
     },
     "execution_count": 3,
     "metadata": {},
     "output_type": "execute_result"
    }
   ],
   "source": [
    "generator.drop(columns=[\"Unnamed: 0\",\"id\",\"country\", \"latitude\",\"longitude\",\"reviews_title\",\"reviews_sourceURLs\"])"
   ]
  },
  {
   "cell_type": "code",
   "execution_count": 4,
   "metadata": {},
   "outputs": [],
   "source": [
    "generator[\"Count\"]=generator[\"cluster\"]"
   ]
  },
  {
   "cell_type": "code",
   "execution_count": 5,
   "metadata": {},
   "outputs": [],
   "source": [
    "df2 = generator.groupby(['province','city','reviews_rating','cluster','keywords'])['Count'].count()"
   ]
  },
  {
   "cell_type": "code",
   "execution_count": 6,
   "metadata": {},
   "outputs": [],
   "source": [
    "df2 = df2.reset_index()"
   ]
  },
  {
   "cell_type": "code",
   "execution_count": 7,
   "metadata": {},
   "outputs": [
    {
     "data": {
      "text/html": [
       "<div>\n",
       "<style scoped>\n",
       "    .dataframe tbody tr th:only-of-type {\n",
       "        vertical-align: middle;\n",
       "    }\n",
       "\n",
       "    .dataframe tbody tr th {\n",
       "        vertical-align: top;\n",
       "    }\n",
       "\n",
       "    .dataframe thead th {\n",
       "        text-align: right;\n",
       "    }\n",
       "</style>\n",
       "<table border=\"1\" class=\"dataframe\">\n",
       "  <thead>\n",
       "    <tr style=\"text-align: right;\">\n",
       "      <th></th>\n",
       "      <th>province</th>\n",
       "      <th>city</th>\n",
       "      <th>reviews_rating</th>\n",
       "      <th>cluster</th>\n",
       "      <th>keywords</th>\n",
       "      <th>Count</th>\n",
       "    </tr>\n",
       "  </thead>\n",
       "  <tbody>\n",
       "    <tr>\n",
       "      <th>0</th>\n",
       "      <td>AZ</td>\n",
       "      <td>Phoenix</td>\n",
       "      <td>1</td>\n",
       "      <td>3</td>\n",
       "      <td>smell, room, dirti, hotel, carpet, stay, sheet...</td>\n",
       "      <td>3</td>\n",
       "    </tr>\n",
       "    <tr>\n",
       "      <th>1</th>\n",
       "      <td>AZ</td>\n",
       "      <td>Phoenix</td>\n",
       "      <td>1</td>\n",
       "      <td>7</td>\n",
       "      <td>hotel, stay, room, great, servic, staff, locat...</td>\n",
       "      <td>1</td>\n",
       "    </tr>\n",
       "    <tr>\n",
       "      <th>2</th>\n",
       "      <td>AZ</td>\n",
       "      <td>Phoenix</td>\n",
       "      <td>1</td>\n",
       "      <td>9</td>\n",
       "      <td>room, experi, apolog, stay, guest, hotel, sorr...</td>\n",
       "      <td>1</td>\n",
       "    </tr>\n",
       "    <tr>\n",
       "      <th>3</th>\n",
       "      <td>AZ</td>\n",
       "      <td>Phoenix</td>\n",
       "      <td>1</td>\n",
       "      <td>17</td>\n",
       "      <td>check, room, hotel, arriv, stay, night, book, ...</td>\n",
       "      <td>1</td>\n",
       "    </tr>\n",
       "    <tr>\n",
       "      <th>4</th>\n",
       "      <td>AZ</td>\n",
       "      <td>Phoenix</td>\n",
       "      <td>1</td>\n",
       "      <td>19</td>\n",
       "      <td>room, hotel, stay, night, small, good, floor, ...</td>\n",
       "      <td>1</td>\n",
       "    </tr>\n",
       "    <tr>\n",
       "      <th>...</th>\n",
       "      <td>...</td>\n",
       "      <td>...</td>\n",
       "      <td>...</td>\n",
       "      <td>...</td>\n",
       "      <td>...</td>\n",
       "      <td>...</td>\n",
       "    </tr>\n",
       "    <tr>\n",
       "      <th>1308</th>\n",
       "      <td>WI</td>\n",
       "      <td>Wisconsin Dells</td>\n",
       "      <td>5</td>\n",
       "      <td>4</td>\n",
       "      <td>love, hotel, great, stay, room, staff, back, p...</td>\n",
       "      <td>2</td>\n",
       "    </tr>\n",
       "    <tr>\n",
       "      <th>1309</th>\n",
       "      <td>WI</td>\n",
       "      <td>Wisconsin Dells</td>\n",
       "      <td>5</td>\n",
       "      <td>5</td>\n",
       "      <td>nice, pool, room, hotel, clean, good, great, s...</td>\n",
       "      <td>1</td>\n",
       "    </tr>\n",
       "    <tr>\n",
       "      <th>1310</th>\n",
       "      <td>WI</td>\n",
       "      <td>Wisconsin Dells</td>\n",
       "      <td>5</td>\n",
       "      <td>7</td>\n",
       "      <td>hotel, stay, room, great, servic, staff, locat...</td>\n",
       "      <td>3</td>\n",
       "    </tr>\n",
       "    <tr>\n",
       "      <th>1311</th>\n",
       "      <td>WI</td>\n",
       "      <td>Wisconsin Dells</td>\n",
       "      <td>5</td>\n",
       "      <td>11</td>\n",
       "      <td>across, street, space, hotel, room, needl, bre...</td>\n",
       "      <td>1</td>\n",
       "    </tr>\n",
       "    <tr>\n",
       "      <th>1312</th>\n",
       "      <td>WI</td>\n",
       "      <td>Wisconsin Dells</td>\n",
       "      <td>5</td>\n",
       "      <td>15</td>\n",
       "      <td>suit, room, stay, hotel, bedroom, area, breakf...</td>\n",
       "      <td>2</td>\n",
       "    </tr>\n",
       "  </tbody>\n",
       "</table>\n",
       "<p>1313 rows × 6 columns</p>\n",
       "</div>"
      ],
      "text/plain": [
       "     province             city  reviews_rating  cluster  \\\n",
       "0          AZ          Phoenix               1        3   \n",
       "1          AZ          Phoenix               1        7   \n",
       "2          AZ          Phoenix               1        9   \n",
       "3          AZ          Phoenix               1       17   \n",
       "4          AZ          Phoenix               1       19   \n",
       "...       ...              ...             ...      ...   \n",
       "1308       WI  Wisconsin Dells               5        4   \n",
       "1309       WI  Wisconsin Dells               5        5   \n",
       "1310       WI  Wisconsin Dells               5        7   \n",
       "1311       WI  Wisconsin Dells               5       11   \n",
       "1312       WI  Wisconsin Dells               5       15   \n",
       "\n",
       "                                               keywords  Count  \n",
       "0     smell, room, dirti, hotel, carpet, stay, sheet...      3  \n",
       "1     hotel, stay, room, great, servic, staff, locat...      1  \n",
       "2     room, experi, apolog, stay, guest, hotel, sorr...      1  \n",
       "3     check, room, hotel, arriv, stay, night, book, ...      1  \n",
       "4     room, hotel, stay, night, small, good, floor, ...      1  \n",
       "...                                                 ...    ...  \n",
       "1308  love, hotel, great, stay, room, staff, back, p...      2  \n",
       "1309  nice, pool, room, hotel, clean, good, great, s...      1  \n",
       "1310  hotel, stay, room, great, servic, staff, locat...      3  \n",
       "1311  across, street, space, hotel, room, needl, bre...      1  \n",
       "1312  suit, room, stay, hotel, bedroom, area, breakf...      2  \n",
       "\n",
       "[1313 rows x 6 columns]"
      ]
     },
     "execution_count": 7,
     "metadata": {},
     "output_type": "execute_result"
    }
   ],
   "source": [
    "df2"
   ]
  },
  {
   "cell_type": "code",
   "execution_count": 7,
   "metadata": {},
   "outputs": [],
   "source": [
    "# df2 = df2.rename(columns={'city_and_state': 'count'})"
   ]
  },
  {
   "cell_type": "code",
   "execution_count": 8,
   "metadata": {},
   "outputs": [],
   "source": [
    "df2[\"reviews_rating\"] = df2[\"reviews_rating\"].apply(str)\n",
    "df2[\"cluster\"] = df2[\"cluster\"].apply(str)"
   ]
  },
  {
   "cell_type": "code",
   "execution_count": 12,
   "metadata": {
    "scrolled": false
   },
   "outputs": [
    {
     "data": {
      "application/vnd.plotly.v1+json": {
       "config": {
        "plotlyServerURL": "https://plot.ly"
       },
       "data": [
        {
         "branchvalues": "total",
         "customdata": [
          [
           "park, free, hotel, room, stay, good, breakfast, locat, clean, great"
          ],
          [
           "park, free, hotel, room, stay, good, breakfast, locat, clean, great"
          ],
          [
           "park, free, hotel, room, stay, good, breakfast, locat, clean, great"
          ],
          [
           "park, free, hotel, room, stay, good, breakfast, locat, clean, great"
          ],
          [
           "park, free, hotel, room, stay, good, breakfast, locat, clean, great"
          ],
          [
           "orlando, airport, garden, hilton, managerhilton, stay, guest, servic, alex, blancogener"
          ],
          [
           "orlando, airport, garden, hilton, managerhilton, stay, guest, servic, alex, blancogener"
          ],
          [
           "orlando, airport, garden, hilton, managerhilton, stay, guest, servic, alex, blancogener"
          ],
          [
           "orlando, airport, garden, hilton, managerhilton, stay, guest, servic, alex, blancogener"
          ],
          [
           "airport, shuttl, hotel, philadelphia, stay, flight, room, good, breakfast, free"
          ],
          [
           "airport, shuttl, hotel, philadelphia, stay, flight, room, good, breakfast, free"
          ],
          [
           "airport, shuttl, hotel, philadelphia, stay, flight, room, good, breakfast, free"
          ],
          [
           "airport, shuttl, hotel, philadelphia, stay, flight, room, good, breakfast, free"
          ],
          [
           "across, street, space, hotel, room, needl, breakfast, great, includ, walk"
          ],
          [
           "across, street, space, hotel, room, needl, breakfast, great, includ, walk"
          ],
          [
           "across, street, space, hotel, room, needl, breakfast, great, includ, walk"
          ],
          [
           "across, street, space, hotel, room, needl, breakfast, great, includ, walk"
          ],
          [
           "across, street, space, hotel, room, needl, breakfast, great, includ, walk"
          ],
          [
           "beach, ocean, hotel, locat, room, stay, great, view, walk, restaur"
          ],
          [
           "beach, ocean, hotel, locat, room, stay, great, view, walk, restaur"
          ],
          [
           "beach, ocean, hotel, locat, room, stay, great, view, walk, restaur"
          ],
          [
           "beach, ocean, hotel, locat, room, stay, great, view, walk, restaur"
          ],
          [
           "beach, ocean, hotel, locat, room, stay, great, view, walk, restaur"
          ],
          [
           "chicago, conrad, stay, thank, hotel, room, great, forward, river, time"
          ],
          [
           "chicago, conrad, stay, thank, hotel, room, great, forward, river, time"
          ],
          [
           "chicago, conrad, stay, thank, hotel, room, great, forward, river, time"
          ],
          [
           "chicago, conrad, stay, thank, hotel, room, great, forward, river, time"
          ],
          [
           "chicago, conrad, stay, thank, hotel, room, great, forward, river, time"
          ],
          [
           "french, quarter, orlean, hotel, room, stay, street, locat, walk, great"
          ],
          [
           "french, quarter, orlean, hotel, room, stay, street, locat, walk, great"
          ],
          [
           "french, quarter, orlean, hotel, room, stay, street, locat, walk, great"
          ],
          [
           "french, quarter, orlean, hotel, room, stay, street, locat, walk, great"
          ],
          [
           "suit, room, stay, hotel, bedroom, area, breakfast, great, comfort, time"
          ],
          [
           "suit, room, stay, hotel, bedroom, area, breakfast, great, comfort, time"
          ],
          [
           "suit, room, stay, hotel, bedroom, area, breakfast, great, comfort, time"
          ],
          [
           "suit, room, stay, hotel, bedroom, area, breakfast, great, comfort, time"
          ],
          [
           "suit, room, stay, hotel, bedroom, area, breakfast, great, comfort, time"
          ],
          [
           "seattl, hyatt, hotel, needl, stay, space, hous, downtown, jung, guest"
          ],
          [
           "seattl, hyatt, hotel, needl, stay, space, hous, downtown, jung, guest"
          ],
          [
           "seattl, hyatt, hotel, needl, stay, space, hous, downtown, jung, guest"
          ],
          [
           "seattl, hyatt, hotel, needl, stay, space, hous, downtown, jung, guest"
          ],
          [
           "seattl, hyatt, hotel, needl, stay, space, hous, downtown, jung, guest"
          ],
          [
           "check, room, hotel, arriv, stay, night, book, call, earli, tell"
          ],
          [
           "check, room, hotel, arriv, stay, night, book, call, earli, tell"
          ],
          [
           "check, room, hotel, arriv, stay, night, book, call, earli, tell"
          ],
          [
           "check, room, hotel, arriv, stay, night, book, call, earli, tell"
          ],
          [
           "check, room, hotel, arriv, stay, night, book, call, earli, tell"
          ],
          [
           "western, best, diego, stay, hotel, thank, plus, room, breakfast, staff"
          ],
          [
           "western, best, diego, stay, hotel, thank, plus, room, breakfast, staff"
          ],
          [
           "western, best, diego, stay, hotel, thank, plus, room, breakfast, staff"
          ],
          [
           "western, best, diego, stay, hotel, thank, plus, room, breakfast, staff"
          ],
          [
           "western, best, diego, stay, hotel, thank, plus, room, breakfast, staff"
          ],
          [
           "room, hotel, stay, night, small, good, floor, clean, bathroom, nois"
          ],
          [
           "room, hotel, stay, night, small, good, floor, clean, bathroom, nois"
          ],
          [
           "room, hotel, stay, night, small, good, floor, clean, bathroom, nois"
          ],
          [
           "room, hotel, stay, night, small, good, floor, clean, bathroom, nois"
          ],
          [
           "room, hotel, stay, night, small, good, floor, clean, bathroom, nois"
          ],
          [
           "disneyland, anaheim, hotel, stay, room, park, clean, walk, disney, great"
          ],
          [
           "disneyland, anaheim, hotel, stay, room, park, clean, walk, disney, great"
          ],
          [
           "disneyland, anaheim, hotel, stay, room, park, clean, walk, disney, great"
          ],
          [
           "disneyland, anaheim, hotel, stay, room, park, clean, walk, disney, great"
          ],
          [
           "squar, union, francisco, hotel, room, locat, stay, walk, great, diva"
          ],
          [
           "squar, union, francisco, hotel, room, locat, stay, walk, great, diva"
          ],
          [
           "squar, union, francisco, hotel, room, locat, stay, walk, great, diva"
          ],
          [
           "squar, union, francisco, hotel, room, locat, stay, walk, great, diva"
          ],
          [
           "squar, union, francisco, hotel, room, locat, stay, walk, great, diva"
          ],
          [
           "emma, ritz, hotel, carlton, stay, beauti, antonio, amaz, pearl, experi"
          ],
          [
           "emma, ritz, hotel, carlton, stay, beauti, antonio, amaz, pearl, experi"
          ],
          [
           "emma, ritz, hotel, carlton, stay, beauti, antonio, amaz, pearl, experi"
          ],
          [
           "emma, ritz, hotel, carlton, stay, beauti, antonio, amaz, pearl, experi"
          ],
          [
           "emma, ritz, hotel, carlton, stay, beauti, antonio, amaz, pearl, experi"
          ],
          [
           "thank, stay, great, hotel, staff, time, review, share, appreci, enjoy"
          ],
          [
           "thank, stay, great, hotel, staff, time, review, share, appreci, enjoy"
          ],
          [
           "thank, stay, great, hotel, staff, time, review, share, appreci, enjoy"
          ],
          [
           "thank, stay, great, hotel, staff, time, review, share, appreci, enjoy"
          ],
          [
           "thank, stay, great, hotel, staff, time, review, share, appreci, enjoy"
          ],
          [
           "waikiki, resort, morealoha, stay, beach, review, luana, thank, enjoy, mahalo"
          ],
          [
           "waikiki, resort, morealoha, stay, beach, review, luana, thank, enjoy, mahalo"
          ],
          [
           "waikiki, resort, morealoha, stay, beach, review, luana, thank, enjoy, mahalo"
          ],
          [
           "waikiki, resort, morealoha, stay, beach, review, luana, thank, enjoy, mahalo"
          ],
          [
           "atlanta, stay, hotel, downtown, staff, great, hampton, room, locat, area"
          ],
          [
           "atlanta, stay, hotel, downtown, staff, great, hampton, room, locat, area"
          ],
          [
           "atlanta, stay, hotel, downtown, staff, great, hampton, room, locat, area"
          ],
          [
           "atlanta, stay, hotel, downtown, staff, great, hampton, room, locat, area"
          ],
          [
           "smell, room, dirti, hotel, carpet, stay, sheet, stain, chelsea, annex"
          ],
          [
           "smell, room, dirti, hotel, carpet, stay, sheet, stain, chelsea, annex"
          ],
          [
           "smell, room, dirti, hotel, carpet, stay, sheet, stain, chelsea, annex"
          ],
          [
           "smell, room, dirti, hotel, carpet, stay, sheet, stain, chelsea, annex"
          ],
          [
           "smell, room, dirti, hotel, carpet, stay, sheet, stain, chelsea, annex"
          ],
          [
           "love, hotel, great, stay, room, staff, back, place, locat, time"
          ],
          [
           "love, hotel, great, stay, room, staff, back, place, locat, time"
          ],
          [
           "love, hotel, great, stay, room, staff, back, place, locat, time"
          ],
          [
           "love, hotel, great, stay, room, staff, back, place, locat, time"
          ],
          [
           "nice, pool, room, hotel, clean, good, great, stay, area, breakfast"
          ],
          [
           "nice, pool, room, hotel, clean, good, great, stay, area, breakfast"
          ],
          [
           "nice, pool, room, hotel, clean, good, great, stay, area, breakfast"
          ],
          [
           "nice, pool, room, hotel, clean, good, great, stay, area, breakfast"
          ],
          [
           "nice, pool, room, hotel, clean, good, great, stay, area, breakfast"
          ],
          [
           "stay, great, staff, friend, help, clean, hotel, room, breakfast, locat"
          ],
          [
           "stay, great, staff, friend, help, clean, hotel, room, breakfast, locat"
          ],
          [
           "stay, great, staff, friend, help, clean, hotel, room, breakfast, locat"
          ],
          [
           "stay, great, staff, friend, help, clean, hotel, room, breakfast, locat"
          ],
          [
           "stay, great, staff, friend, help, clean, hotel, room, breakfast, locat"
          ],
          [
           "hotel, stay, room, great, servic, staff, locat, place, restaur, breakfast"
          ],
          [
           "hotel, stay, room, great, servic, staff, locat, place, restaur, breakfast"
          ],
          [
           "hotel, stay, room, great, servic, staff, locat, place, restaur, breakfast"
          ],
          [
           "hotel, stay, room, great, servic, staff, locat, place, restaur, breakfast"
          ],
          [
           "hotel, stay, room, great, servic, staff, locat, place, restaur, breakfast"
          ],
          [
           "desk, front, room, hotel, staff, stay, help, great, servic, breakfast"
          ],
          [
           "desk, front, room, hotel, staff, stay, help, great, servic, breakfast"
          ],
          [
           "desk, front, room, hotel, staff, stay, help, great, servic, breakfast"
          ],
          [
           "desk, front, room, hotel, staff, stay, help, great, servic, breakfast"
          ],
          [
           "desk, front, room, hotel, staff, stay, help, great, servic, breakfast"
          ],
          [
           "room, experi, apolog, stay, guest, hotel, sorri, feedback, thank, hope"
          ],
          [
           "room, experi, apolog, stay, guest, hotel, sorri, feedback, thank, hope"
          ],
          [
           "room, experi, apolog, stay, guest, hotel, sorri, feedback, thank, hope"
          ],
          [
           "room, experi, apolog, stay, guest, hotel, sorri, feedback, thank, hope"
          ],
          [
           "room, experi, apolog, stay, guest, hotel, sorri, feedback, thank, hope"
          ],
          [
           "(?)"
          ],
          [
           "(?)"
          ],
          [
           "(?)"
          ],
          [
           "(?)"
          ],
          [
           "(?)"
          ]
         ],
         "domain": {
          "x": [
           0,
           1
          ],
          "y": [
           0,
           1
          ]
         },
         "hovertemplate": "labels=%{label}<br>Count=%{value}<br>parent=%{parent}<br>id=%{id}<br>keywords=%{customdata[0]}<extra></extra>",
         "ids": [
          "1/0",
          "2/0",
          "3/0",
          "4/0",
          "5/0",
          "2/1",
          "3/1",
          "4/1",
          "5/1",
          "2/10",
          "3/10",
          "4/10",
          "5/10",
          "1/11",
          "2/11",
          "3/11",
          "4/11",
          "5/11",
          "1/12",
          "2/12",
          "3/12",
          "4/12",
          "5/12",
          "1/13",
          "2/13",
          "3/13",
          "4/13",
          "5/13",
          "2/14",
          "3/14",
          "4/14",
          "5/14",
          "1/15",
          "2/15",
          "3/15",
          "4/15",
          "5/15",
          "1/16",
          "2/16",
          "3/16",
          "4/16",
          "5/16",
          "1/17",
          "2/17",
          "3/17",
          "4/17",
          "5/17",
          "1/18",
          "2/18",
          "3/18",
          "4/18",
          "5/18",
          "1/19",
          "2/19",
          "3/19",
          "4/19",
          "5/19",
          "2/2",
          "3/2",
          "4/2",
          "5/2",
          "1/20",
          "2/20",
          "3/20",
          "4/20",
          "5/20",
          "1/21",
          "2/21",
          "3/21",
          "4/21",
          "5/21",
          "1/22",
          "2/22",
          "3/22",
          "4/22",
          "5/22",
          "2/23",
          "3/23",
          "4/23",
          "5/23",
          "2/24",
          "3/24",
          "4/24",
          "5/24",
          "1/3",
          "2/3",
          "3/3",
          "4/3",
          "5/3",
          "2/4",
          "3/4",
          "4/4",
          "5/4",
          "1/5",
          "2/5",
          "3/5",
          "4/5",
          "5/5",
          "1/6",
          "2/6",
          "3/6",
          "4/6",
          "5/6",
          "1/7",
          "2/7",
          "3/7",
          "4/7",
          "5/7",
          "1/8",
          "2/8",
          "3/8",
          "4/8",
          "5/8",
          "1/9",
          "2/9",
          "3/9",
          "4/9",
          "5/9",
          "1",
          "2",
          "3",
          "4",
          "5"
         ],
         "labels": [
          "0",
          "0",
          "0",
          "0",
          "0",
          "1",
          "1",
          "1",
          "1",
          "10",
          "10",
          "10",
          "10",
          "11",
          "11",
          "11",
          "11",
          "11",
          "12",
          "12",
          "12",
          "12",
          "12",
          "13",
          "13",
          "13",
          "13",
          "13",
          "14",
          "14",
          "14",
          "14",
          "15",
          "15",
          "15",
          "15",
          "15",
          "16",
          "16",
          "16",
          "16",
          "16",
          "17",
          "17",
          "17",
          "17",
          "17",
          "18",
          "18",
          "18",
          "18",
          "18",
          "19",
          "19",
          "19",
          "19",
          "19",
          "2",
          "2",
          "2",
          "2",
          "20",
          "20",
          "20",
          "20",
          "20",
          "21",
          "21",
          "21",
          "21",
          "21",
          "22",
          "22",
          "22",
          "22",
          "22",
          "23",
          "23",
          "23",
          "23",
          "24",
          "24",
          "24",
          "24",
          "3",
          "3",
          "3",
          "3",
          "3",
          "4",
          "4",
          "4",
          "4",
          "5",
          "5",
          "5",
          "5",
          "5",
          "6",
          "6",
          "6",
          "6",
          "6",
          "7",
          "7",
          "7",
          "7",
          "7",
          "8",
          "8",
          "8",
          "8",
          "8",
          "9",
          "9",
          "9",
          "9",
          "9",
          "1",
          "2",
          "3",
          "4",
          "5"
         ],
         "name": "",
         "parents": [
          "1",
          "2",
          "3",
          "4",
          "5",
          "2",
          "3",
          "4",
          "5",
          "2",
          "3",
          "4",
          "5",
          "1",
          "2",
          "3",
          "4",
          "5",
          "1",
          "2",
          "3",
          "4",
          "5",
          "1",
          "2",
          "3",
          "4",
          "5",
          "2",
          "3",
          "4",
          "5",
          "1",
          "2",
          "3",
          "4",
          "5",
          "1",
          "2",
          "3",
          "4",
          "5",
          "1",
          "2",
          "3",
          "4",
          "5",
          "1",
          "2",
          "3",
          "4",
          "5",
          "1",
          "2",
          "3",
          "4",
          "5",
          "2",
          "3",
          "4",
          "5",
          "1",
          "2",
          "3",
          "4",
          "5",
          "1",
          "2",
          "3",
          "4",
          "5",
          "1",
          "2",
          "3",
          "4",
          "5",
          "2",
          "3",
          "4",
          "5",
          "2",
          "3",
          "4",
          "5",
          "1",
          "2",
          "3",
          "4",
          "5",
          "2",
          "3",
          "4",
          "5",
          "1",
          "2",
          "3",
          "4",
          "5",
          "1",
          "2",
          "3",
          "4",
          "5",
          "1",
          "2",
          "3",
          "4",
          "5",
          "1",
          "2",
          "3",
          "4",
          "5",
          "1",
          "2",
          "3",
          "4",
          "5",
          "",
          "",
          "",
          "",
          ""
         ],
         "type": "sunburst",
         "values": [
          4,
          19,
          76,
          177,
          159,
          1,
          5,
          20,
          63,
          10,
          26,
          100,
          90,
          2,
          2,
          10,
          74,
          102,
          2,
          2,
          14,
          72,
          108,
          2,
          1,
          5,
          35,
          119,
          2,
          15,
          106,
          197,
          1,
          3,
          30,
          103,
          160,
          1,
          3,
          11,
          51,
          132,
          70,
          54,
          67,
          55,
          116,
          3,
          7,
          27,
          102,
          113,
          41,
          72,
          229,
          242,
          118,
          4,
          12,
          38,
          44,
          2,
          3,
          28,
          95,
          132,
          3,
          3,
          7,
          11,
          107,
          1,
          3,
          39,
          162,
          436,
          1,
          13,
          70,
          91,
          2,
          11,
          61,
          89,
          106,
          51,
          29,
          9,
          10,
          1,
          7,
          57,
          255,
          4,
          6,
          44,
          226,
          253,
          1,
          2,
          25,
          141,
          346,
          37,
          30,
          51,
          231,
          577,
          22,
          28,
          30,
          67,
          143,
          120,
          118,
          140,
          55,
          15,
          422,
          428,
          951,
          2360,
          3975
         ]
        }
       ],
       "layout": {
        "height": 750,
        "legend": {
         "tracegroupgap": 0
        },
        "template": {
         "data": {
          "bar": [
           {
            "error_x": {
             "color": "#2a3f5f"
            },
            "error_y": {
             "color": "#2a3f5f"
            },
            "marker": {
             "line": {
              "color": "#E5ECF6",
              "width": 0.5
             }
            },
            "type": "bar"
           }
          ],
          "barpolar": [
           {
            "marker": {
             "line": {
              "color": "#E5ECF6",
              "width": 0.5
             }
            },
            "type": "barpolar"
           }
          ],
          "carpet": [
           {
            "aaxis": {
             "endlinecolor": "#2a3f5f",
             "gridcolor": "white",
             "linecolor": "white",
             "minorgridcolor": "white",
             "startlinecolor": "#2a3f5f"
            },
            "baxis": {
             "endlinecolor": "#2a3f5f",
             "gridcolor": "white",
             "linecolor": "white",
             "minorgridcolor": "white",
             "startlinecolor": "#2a3f5f"
            },
            "type": "carpet"
           }
          ],
          "choropleth": [
           {
            "colorbar": {
             "outlinewidth": 0,
             "ticks": ""
            },
            "type": "choropleth"
           }
          ],
          "contour": [
           {
            "colorbar": {
             "outlinewidth": 0,
             "ticks": ""
            },
            "colorscale": [
             [
              0,
              "#0d0887"
             ],
             [
              0.1111111111111111,
              "#46039f"
             ],
             [
              0.2222222222222222,
              "#7201a8"
             ],
             [
              0.3333333333333333,
              "#9c179e"
             ],
             [
              0.4444444444444444,
              "#bd3786"
             ],
             [
              0.5555555555555556,
              "#d8576b"
             ],
             [
              0.6666666666666666,
              "#ed7953"
             ],
             [
              0.7777777777777778,
              "#fb9f3a"
             ],
             [
              0.8888888888888888,
              "#fdca26"
             ],
             [
              1,
              "#f0f921"
             ]
            ],
            "type": "contour"
           }
          ],
          "contourcarpet": [
           {
            "colorbar": {
             "outlinewidth": 0,
             "ticks": ""
            },
            "type": "contourcarpet"
           }
          ],
          "heatmap": [
           {
            "colorbar": {
             "outlinewidth": 0,
             "ticks": ""
            },
            "colorscale": [
             [
              0,
              "#0d0887"
             ],
             [
              0.1111111111111111,
              "#46039f"
             ],
             [
              0.2222222222222222,
              "#7201a8"
             ],
             [
              0.3333333333333333,
              "#9c179e"
             ],
             [
              0.4444444444444444,
              "#bd3786"
             ],
             [
              0.5555555555555556,
              "#d8576b"
             ],
             [
              0.6666666666666666,
              "#ed7953"
             ],
             [
              0.7777777777777778,
              "#fb9f3a"
             ],
             [
              0.8888888888888888,
              "#fdca26"
             ],
             [
              1,
              "#f0f921"
             ]
            ],
            "type": "heatmap"
           }
          ],
          "heatmapgl": [
           {
            "colorbar": {
             "outlinewidth": 0,
             "ticks": ""
            },
            "colorscale": [
             [
              0,
              "#0d0887"
             ],
             [
              0.1111111111111111,
              "#46039f"
             ],
             [
              0.2222222222222222,
              "#7201a8"
             ],
             [
              0.3333333333333333,
              "#9c179e"
             ],
             [
              0.4444444444444444,
              "#bd3786"
             ],
             [
              0.5555555555555556,
              "#d8576b"
             ],
             [
              0.6666666666666666,
              "#ed7953"
             ],
             [
              0.7777777777777778,
              "#fb9f3a"
             ],
             [
              0.8888888888888888,
              "#fdca26"
             ],
             [
              1,
              "#f0f921"
             ]
            ],
            "type": "heatmapgl"
           }
          ],
          "histogram": [
           {
            "marker": {
             "colorbar": {
              "outlinewidth": 0,
              "ticks": ""
             }
            },
            "type": "histogram"
           }
          ],
          "histogram2d": [
           {
            "colorbar": {
             "outlinewidth": 0,
             "ticks": ""
            },
            "colorscale": [
             [
              0,
              "#0d0887"
             ],
             [
              0.1111111111111111,
              "#46039f"
             ],
             [
              0.2222222222222222,
              "#7201a8"
             ],
             [
              0.3333333333333333,
              "#9c179e"
             ],
             [
              0.4444444444444444,
              "#bd3786"
             ],
             [
              0.5555555555555556,
              "#d8576b"
             ],
             [
              0.6666666666666666,
              "#ed7953"
             ],
             [
              0.7777777777777778,
              "#fb9f3a"
             ],
             [
              0.8888888888888888,
              "#fdca26"
             ],
             [
              1,
              "#f0f921"
             ]
            ],
            "type": "histogram2d"
           }
          ],
          "histogram2dcontour": [
           {
            "colorbar": {
             "outlinewidth": 0,
             "ticks": ""
            },
            "colorscale": [
             [
              0,
              "#0d0887"
             ],
             [
              0.1111111111111111,
              "#46039f"
             ],
             [
              0.2222222222222222,
              "#7201a8"
             ],
             [
              0.3333333333333333,
              "#9c179e"
             ],
             [
              0.4444444444444444,
              "#bd3786"
             ],
             [
              0.5555555555555556,
              "#d8576b"
             ],
             [
              0.6666666666666666,
              "#ed7953"
             ],
             [
              0.7777777777777778,
              "#fb9f3a"
             ],
             [
              0.8888888888888888,
              "#fdca26"
             ],
             [
              1,
              "#f0f921"
             ]
            ],
            "type": "histogram2dcontour"
           }
          ],
          "mesh3d": [
           {
            "colorbar": {
             "outlinewidth": 0,
             "ticks": ""
            },
            "type": "mesh3d"
           }
          ],
          "parcoords": [
           {
            "line": {
             "colorbar": {
              "outlinewidth": 0,
              "ticks": ""
             }
            },
            "type": "parcoords"
           }
          ],
          "pie": [
           {
            "automargin": true,
            "type": "pie"
           }
          ],
          "scatter": [
           {
            "marker": {
             "colorbar": {
              "outlinewidth": 0,
              "ticks": ""
             }
            },
            "type": "scatter"
           }
          ],
          "scatter3d": [
           {
            "line": {
             "colorbar": {
              "outlinewidth": 0,
              "ticks": ""
             }
            },
            "marker": {
             "colorbar": {
              "outlinewidth": 0,
              "ticks": ""
             }
            },
            "type": "scatter3d"
           }
          ],
          "scattercarpet": [
           {
            "marker": {
             "colorbar": {
              "outlinewidth": 0,
              "ticks": ""
             }
            },
            "type": "scattercarpet"
           }
          ],
          "scattergeo": [
           {
            "marker": {
             "colorbar": {
              "outlinewidth": 0,
              "ticks": ""
             }
            },
            "type": "scattergeo"
           }
          ],
          "scattergl": [
           {
            "marker": {
             "colorbar": {
              "outlinewidth": 0,
              "ticks": ""
             }
            },
            "type": "scattergl"
           }
          ],
          "scattermapbox": [
           {
            "marker": {
             "colorbar": {
              "outlinewidth": 0,
              "ticks": ""
             }
            },
            "type": "scattermapbox"
           }
          ],
          "scatterpolar": [
           {
            "marker": {
             "colorbar": {
              "outlinewidth": 0,
              "ticks": ""
             }
            },
            "type": "scatterpolar"
           }
          ],
          "scatterpolargl": [
           {
            "marker": {
             "colorbar": {
              "outlinewidth": 0,
              "ticks": ""
             }
            },
            "type": "scatterpolargl"
           }
          ],
          "scatterternary": [
           {
            "marker": {
             "colorbar": {
              "outlinewidth": 0,
              "ticks": ""
             }
            },
            "type": "scatterternary"
           }
          ],
          "surface": [
           {
            "colorbar": {
             "outlinewidth": 0,
             "ticks": ""
            },
            "colorscale": [
             [
              0,
              "#0d0887"
             ],
             [
              0.1111111111111111,
              "#46039f"
             ],
             [
              0.2222222222222222,
              "#7201a8"
             ],
             [
              0.3333333333333333,
              "#9c179e"
             ],
             [
              0.4444444444444444,
              "#bd3786"
             ],
             [
              0.5555555555555556,
              "#d8576b"
             ],
             [
              0.6666666666666666,
              "#ed7953"
             ],
             [
              0.7777777777777778,
              "#fb9f3a"
             ],
             [
              0.8888888888888888,
              "#fdca26"
             ],
             [
              1,
              "#f0f921"
             ]
            ],
            "type": "surface"
           }
          ],
          "table": [
           {
            "cells": {
             "fill": {
              "color": "#EBF0F8"
             },
             "line": {
              "color": "white"
             }
            },
            "header": {
             "fill": {
              "color": "#C8D4E3"
             },
             "line": {
              "color": "white"
             }
            },
            "type": "table"
           }
          ]
         },
         "layout": {
          "annotationdefaults": {
           "arrowcolor": "#2a3f5f",
           "arrowhead": 0,
           "arrowwidth": 1
          },
          "autotypenumbers": "strict",
          "coloraxis": {
           "colorbar": {
            "outlinewidth": 0,
            "ticks": ""
           }
          },
          "colorscale": {
           "diverging": [
            [
             0,
             "#8e0152"
            ],
            [
             0.1,
             "#c51b7d"
            ],
            [
             0.2,
             "#de77ae"
            ],
            [
             0.3,
             "#f1b6da"
            ],
            [
             0.4,
             "#fde0ef"
            ],
            [
             0.5,
             "#f7f7f7"
            ],
            [
             0.6,
             "#e6f5d0"
            ],
            [
             0.7,
             "#b8e186"
            ],
            [
             0.8,
             "#7fbc41"
            ],
            [
             0.9,
             "#4d9221"
            ],
            [
             1,
             "#276419"
            ]
           ],
           "sequential": [
            [
             0,
             "#0d0887"
            ],
            [
             0.1111111111111111,
             "#46039f"
            ],
            [
             0.2222222222222222,
             "#7201a8"
            ],
            [
             0.3333333333333333,
             "#9c179e"
            ],
            [
             0.4444444444444444,
             "#bd3786"
            ],
            [
             0.5555555555555556,
             "#d8576b"
            ],
            [
             0.6666666666666666,
             "#ed7953"
            ],
            [
             0.7777777777777778,
             "#fb9f3a"
            ],
            [
             0.8888888888888888,
             "#fdca26"
            ],
            [
             1,
             "#f0f921"
            ]
           ],
           "sequentialminus": [
            [
             0,
             "#0d0887"
            ],
            [
             0.1111111111111111,
             "#46039f"
            ],
            [
             0.2222222222222222,
             "#7201a8"
            ],
            [
             0.3333333333333333,
             "#9c179e"
            ],
            [
             0.4444444444444444,
             "#bd3786"
            ],
            [
             0.5555555555555556,
             "#d8576b"
            ],
            [
             0.6666666666666666,
             "#ed7953"
            ],
            [
             0.7777777777777778,
             "#fb9f3a"
            ],
            [
             0.8888888888888888,
             "#fdca26"
            ],
            [
             1,
             "#f0f921"
            ]
           ]
          },
          "colorway": [
           "#636efa",
           "#EF553B",
           "#00cc96",
           "#ab63fa",
           "#FFA15A",
           "#19d3f3",
           "#FF6692",
           "#B6E880",
           "#FF97FF",
           "#FECB52"
          ],
          "font": {
           "color": "#2a3f5f"
          },
          "geo": {
           "bgcolor": "white",
           "lakecolor": "white",
           "landcolor": "#E5ECF6",
           "showlakes": true,
           "showland": true,
           "subunitcolor": "white"
          },
          "hoverlabel": {
           "align": "left"
          },
          "hovermode": "closest",
          "mapbox": {
           "style": "light"
          },
          "paper_bgcolor": "white",
          "plot_bgcolor": "#E5ECF6",
          "polar": {
           "angularaxis": {
            "gridcolor": "white",
            "linecolor": "white",
            "ticks": ""
           },
           "bgcolor": "#E5ECF6",
           "radialaxis": {
            "gridcolor": "white",
            "linecolor": "white",
            "ticks": ""
           }
          },
          "scene": {
           "xaxis": {
            "backgroundcolor": "#E5ECF6",
            "gridcolor": "white",
            "gridwidth": 2,
            "linecolor": "white",
            "showbackground": true,
            "ticks": "",
            "zerolinecolor": "white"
           },
           "yaxis": {
            "backgroundcolor": "#E5ECF6",
            "gridcolor": "white",
            "gridwidth": 2,
            "linecolor": "white",
            "showbackground": true,
            "ticks": "",
            "zerolinecolor": "white"
           },
           "zaxis": {
            "backgroundcolor": "#E5ECF6",
            "gridcolor": "white",
            "gridwidth": 2,
            "linecolor": "white",
            "showbackground": true,
            "ticks": "",
            "zerolinecolor": "white"
           }
          },
          "shapedefaults": {
           "line": {
            "color": "#2a3f5f"
           }
          },
          "ternary": {
           "aaxis": {
            "gridcolor": "white",
            "linecolor": "white",
            "ticks": ""
           },
           "baxis": {
            "gridcolor": "white",
            "linecolor": "white",
            "ticks": ""
           },
           "bgcolor": "#E5ECF6",
           "caxis": {
            "gridcolor": "white",
            "linecolor": "white",
            "ticks": ""
           }
          },
          "title": {
           "x": 0.05
          },
          "xaxis": {
           "automargin": true,
           "gridcolor": "white",
           "linecolor": "white",
           "ticks": "",
           "title": {
            "standoff": 15
           },
           "zerolinecolor": "white",
           "zerolinewidth": 2
          },
          "yaxis": {
           "automargin": true,
           "gridcolor": "white",
           "linecolor": "white",
           "ticks": "",
           "title": {
            "standoff": 15
           },
           "zerolinecolor": "white",
           "zerolinewidth": 2
          }
         }
        },
        "title": {
         "text": "Distribution of Clusters within Review Ratings"
        },
        "width": 750
       }
      },
      "text/html": [
       "<div>                            <div id=\"aaf380d4-6937-412c-ba34-89ffba59c066\" class=\"plotly-graph-div\" style=\"height:750px; width:750px;\"></div>            <script type=\"text/javascript\">                require([\"plotly\"], function(Plotly) {                    window.PLOTLYENV=window.PLOTLYENV || {};                                    if (document.getElementById(\"aaf380d4-6937-412c-ba34-89ffba59c066\")) {                    Plotly.newPlot(                        \"aaf380d4-6937-412c-ba34-89ffba59c066\",                        [{\"branchvalues\": \"total\", \"customdata\": [[\"park, free, hotel, room, stay, good, breakfast, locat, clean, great\"], [\"park, free, hotel, room, stay, good, breakfast, locat, clean, great\"], [\"park, free, hotel, room, stay, good, breakfast, locat, clean, great\"], [\"park, free, hotel, room, stay, good, breakfast, locat, clean, great\"], [\"park, free, hotel, room, stay, good, breakfast, locat, clean, great\"], [\"orlando, airport, garden, hilton, managerhilton, stay, guest, servic, alex, blancogener\"], [\"orlando, airport, garden, hilton, managerhilton, stay, guest, servic, alex, blancogener\"], [\"orlando, airport, garden, hilton, managerhilton, stay, guest, servic, alex, blancogener\"], [\"orlando, airport, garden, hilton, managerhilton, stay, guest, servic, alex, blancogener\"], [\"airport, shuttl, hotel, philadelphia, stay, flight, room, good, breakfast, free\"], [\"airport, shuttl, hotel, philadelphia, stay, flight, room, good, breakfast, free\"], [\"airport, shuttl, hotel, philadelphia, stay, flight, room, good, breakfast, free\"], [\"airport, shuttl, hotel, philadelphia, stay, flight, room, good, breakfast, free\"], [\"across, street, space, hotel, room, needl, breakfast, great, includ, walk\"], [\"across, street, space, hotel, room, needl, breakfast, great, includ, walk\"], [\"across, street, space, hotel, room, needl, breakfast, great, includ, walk\"], [\"across, street, space, hotel, room, needl, breakfast, great, includ, walk\"], [\"across, street, space, hotel, room, needl, breakfast, great, includ, walk\"], [\"beach, ocean, hotel, locat, room, stay, great, view, walk, restaur\"], [\"beach, ocean, hotel, locat, room, stay, great, view, walk, restaur\"], [\"beach, ocean, hotel, locat, room, stay, great, view, walk, restaur\"], [\"beach, ocean, hotel, locat, room, stay, great, view, walk, restaur\"], [\"beach, ocean, hotel, locat, room, stay, great, view, walk, restaur\"], [\"chicago, conrad, stay, thank, hotel, room, great, forward, river, time\"], [\"chicago, conrad, stay, thank, hotel, room, great, forward, river, time\"], [\"chicago, conrad, stay, thank, hotel, room, great, forward, river, time\"], [\"chicago, conrad, stay, thank, hotel, room, great, forward, river, time\"], [\"chicago, conrad, stay, thank, hotel, room, great, forward, river, time\"], [\"french, quarter, orlean, hotel, room, stay, street, locat, walk, great\"], [\"french, quarter, orlean, hotel, room, stay, street, locat, walk, great\"], [\"french, quarter, orlean, hotel, room, stay, street, locat, walk, great\"], [\"french, quarter, orlean, hotel, room, stay, street, locat, walk, great\"], [\"suit, room, stay, hotel, bedroom, area, breakfast, great, comfort, time\"], [\"suit, room, stay, hotel, bedroom, area, breakfast, great, comfort, time\"], [\"suit, room, stay, hotel, bedroom, area, breakfast, great, comfort, time\"], [\"suit, room, stay, hotel, bedroom, area, breakfast, great, comfort, time\"], [\"suit, room, stay, hotel, bedroom, area, breakfast, great, comfort, time\"], [\"seattl, hyatt, hotel, needl, stay, space, hous, downtown, jung, guest\"], [\"seattl, hyatt, hotel, needl, stay, space, hous, downtown, jung, guest\"], [\"seattl, hyatt, hotel, needl, stay, space, hous, downtown, jung, guest\"], [\"seattl, hyatt, hotel, needl, stay, space, hous, downtown, jung, guest\"], [\"seattl, hyatt, hotel, needl, stay, space, hous, downtown, jung, guest\"], [\"check, room, hotel, arriv, stay, night, book, call, earli, tell\"], [\"check, room, hotel, arriv, stay, night, book, call, earli, tell\"], [\"check, room, hotel, arriv, stay, night, book, call, earli, tell\"], [\"check, room, hotel, arriv, stay, night, book, call, earli, tell\"], [\"check, room, hotel, arriv, stay, night, book, call, earli, tell\"], [\"western, best, diego, stay, hotel, thank, plus, room, breakfast, staff\"], [\"western, best, diego, stay, hotel, thank, plus, room, breakfast, staff\"], [\"western, best, diego, stay, hotel, thank, plus, room, breakfast, staff\"], [\"western, best, diego, stay, hotel, thank, plus, room, breakfast, staff\"], [\"western, best, diego, stay, hotel, thank, plus, room, breakfast, staff\"], [\"room, hotel, stay, night, small, good, floor, clean, bathroom, nois\"], [\"room, hotel, stay, night, small, good, floor, clean, bathroom, nois\"], [\"room, hotel, stay, night, small, good, floor, clean, bathroom, nois\"], [\"room, hotel, stay, night, small, good, floor, clean, bathroom, nois\"], [\"room, hotel, stay, night, small, good, floor, clean, bathroom, nois\"], [\"disneyland, anaheim, hotel, stay, room, park, clean, walk, disney, great\"], [\"disneyland, anaheim, hotel, stay, room, park, clean, walk, disney, great\"], [\"disneyland, anaheim, hotel, stay, room, park, clean, walk, disney, great\"], [\"disneyland, anaheim, hotel, stay, room, park, clean, walk, disney, great\"], [\"squar, union, francisco, hotel, room, locat, stay, walk, great, diva\"], [\"squar, union, francisco, hotel, room, locat, stay, walk, great, diva\"], [\"squar, union, francisco, hotel, room, locat, stay, walk, great, diva\"], [\"squar, union, francisco, hotel, room, locat, stay, walk, great, diva\"], [\"squar, union, francisco, hotel, room, locat, stay, walk, great, diva\"], [\"emma, ritz, hotel, carlton, stay, beauti, antonio, amaz, pearl, experi\"], [\"emma, ritz, hotel, carlton, stay, beauti, antonio, amaz, pearl, experi\"], [\"emma, ritz, hotel, carlton, stay, beauti, antonio, amaz, pearl, experi\"], [\"emma, ritz, hotel, carlton, stay, beauti, antonio, amaz, pearl, experi\"], [\"emma, ritz, hotel, carlton, stay, beauti, antonio, amaz, pearl, experi\"], [\"thank, stay, great, hotel, staff, time, review, share, appreci, enjoy\"], [\"thank, stay, great, hotel, staff, time, review, share, appreci, enjoy\"], [\"thank, stay, great, hotel, staff, time, review, share, appreci, enjoy\"], [\"thank, stay, great, hotel, staff, time, review, share, appreci, enjoy\"], [\"thank, stay, great, hotel, staff, time, review, share, appreci, enjoy\"], [\"waikiki, resort, morealoha, stay, beach, review, luana, thank, enjoy, mahalo\"], [\"waikiki, resort, morealoha, stay, beach, review, luana, thank, enjoy, mahalo\"], [\"waikiki, resort, morealoha, stay, beach, review, luana, thank, enjoy, mahalo\"], [\"waikiki, resort, morealoha, stay, beach, review, luana, thank, enjoy, mahalo\"], [\"atlanta, stay, hotel, downtown, staff, great, hampton, room, locat, area\"], [\"atlanta, stay, hotel, downtown, staff, great, hampton, room, locat, area\"], [\"atlanta, stay, hotel, downtown, staff, great, hampton, room, locat, area\"], [\"atlanta, stay, hotel, downtown, staff, great, hampton, room, locat, area\"], [\"smell, room, dirti, hotel, carpet, stay, sheet, stain, chelsea, annex\"], [\"smell, room, dirti, hotel, carpet, stay, sheet, stain, chelsea, annex\"], [\"smell, room, dirti, hotel, carpet, stay, sheet, stain, chelsea, annex\"], [\"smell, room, dirti, hotel, carpet, stay, sheet, stain, chelsea, annex\"], [\"smell, room, dirti, hotel, carpet, stay, sheet, stain, chelsea, annex\"], [\"love, hotel, great, stay, room, staff, back, place, locat, time\"], [\"love, hotel, great, stay, room, staff, back, place, locat, time\"], [\"love, hotel, great, stay, room, staff, back, place, locat, time\"], [\"love, hotel, great, stay, room, staff, back, place, locat, time\"], [\"nice, pool, room, hotel, clean, good, great, stay, area, breakfast\"], [\"nice, pool, room, hotel, clean, good, great, stay, area, breakfast\"], [\"nice, pool, room, hotel, clean, good, great, stay, area, breakfast\"], [\"nice, pool, room, hotel, clean, good, great, stay, area, breakfast\"], [\"nice, pool, room, hotel, clean, good, great, stay, area, breakfast\"], [\"stay, great, staff, friend, help, clean, hotel, room, breakfast, locat\"], [\"stay, great, staff, friend, help, clean, hotel, room, breakfast, locat\"], [\"stay, great, staff, friend, help, clean, hotel, room, breakfast, locat\"], [\"stay, great, staff, friend, help, clean, hotel, room, breakfast, locat\"], [\"stay, great, staff, friend, help, clean, hotel, room, breakfast, locat\"], [\"hotel, stay, room, great, servic, staff, locat, place, restaur, breakfast\"], [\"hotel, stay, room, great, servic, staff, locat, place, restaur, breakfast\"], [\"hotel, stay, room, great, servic, staff, locat, place, restaur, breakfast\"], [\"hotel, stay, room, great, servic, staff, locat, place, restaur, breakfast\"], [\"hotel, stay, room, great, servic, staff, locat, place, restaur, breakfast\"], [\"desk, front, room, hotel, staff, stay, help, great, servic, breakfast\"], [\"desk, front, room, hotel, staff, stay, help, great, servic, breakfast\"], [\"desk, front, room, hotel, staff, stay, help, great, servic, breakfast\"], [\"desk, front, room, hotel, staff, stay, help, great, servic, breakfast\"], [\"desk, front, room, hotel, staff, stay, help, great, servic, breakfast\"], [\"room, experi, apolog, stay, guest, hotel, sorri, feedback, thank, hope\"], [\"room, experi, apolog, stay, guest, hotel, sorri, feedback, thank, hope\"], [\"room, experi, apolog, stay, guest, hotel, sorri, feedback, thank, hope\"], [\"room, experi, apolog, stay, guest, hotel, sorri, feedback, thank, hope\"], [\"room, experi, apolog, stay, guest, hotel, sorri, feedback, thank, hope\"], [\"(?)\"], [\"(?)\"], [\"(?)\"], [\"(?)\"], [\"(?)\"]], \"domain\": {\"x\": [0.0, 1.0], \"y\": [0.0, 1.0]}, \"hovertemplate\": \"labels=%{label}<br>Count=%{value}<br>parent=%{parent}<br>id=%{id}<br>keywords=%{customdata[0]}<extra></extra>\", \"ids\": [\"1/0\", \"2/0\", \"3/0\", \"4/0\", \"5/0\", \"2/1\", \"3/1\", \"4/1\", \"5/1\", \"2/10\", \"3/10\", \"4/10\", \"5/10\", \"1/11\", \"2/11\", \"3/11\", \"4/11\", \"5/11\", \"1/12\", \"2/12\", \"3/12\", \"4/12\", \"5/12\", \"1/13\", \"2/13\", \"3/13\", \"4/13\", \"5/13\", \"2/14\", \"3/14\", \"4/14\", \"5/14\", \"1/15\", \"2/15\", \"3/15\", \"4/15\", \"5/15\", \"1/16\", \"2/16\", \"3/16\", \"4/16\", \"5/16\", \"1/17\", \"2/17\", \"3/17\", \"4/17\", \"5/17\", \"1/18\", \"2/18\", \"3/18\", \"4/18\", \"5/18\", \"1/19\", \"2/19\", \"3/19\", \"4/19\", \"5/19\", \"2/2\", \"3/2\", \"4/2\", \"5/2\", \"1/20\", \"2/20\", \"3/20\", \"4/20\", \"5/20\", \"1/21\", \"2/21\", \"3/21\", \"4/21\", \"5/21\", \"1/22\", \"2/22\", \"3/22\", \"4/22\", \"5/22\", \"2/23\", \"3/23\", \"4/23\", \"5/23\", \"2/24\", \"3/24\", \"4/24\", \"5/24\", \"1/3\", \"2/3\", \"3/3\", \"4/3\", \"5/3\", \"2/4\", \"3/4\", \"4/4\", \"5/4\", \"1/5\", \"2/5\", \"3/5\", \"4/5\", \"5/5\", \"1/6\", \"2/6\", \"3/6\", \"4/6\", \"5/6\", \"1/7\", \"2/7\", \"3/7\", \"4/7\", \"5/7\", \"1/8\", \"2/8\", \"3/8\", \"4/8\", \"5/8\", \"1/9\", \"2/9\", \"3/9\", \"4/9\", \"5/9\", \"1\", \"2\", \"3\", \"4\", \"5\"], \"labels\": [\"0\", \"0\", \"0\", \"0\", \"0\", \"1\", \"1\", \"1\", \"1\", \"10\", \"10\", \"10\", \"10\", \"11\", \"11\", \"11\", \"11\", \"11\", \"12\", \"12\", \"12\", \"12\", \"12\", \"13\", \"13\", \"13\", \"13\", \"13\", \"14\", \"14\", \"14\", \"14\", \"15\", \"15\", \"15\", \"15\", \"15\", \"16\", \"16\", \"16\", \"16\", \"16\", \"17\", \"17\", \"17\", \"17\", \"17\", \"18\", \"18\", \"18\", \"18\", \"18\", \"19\", \"19\", \"19\", \"19\", \"19\", \"2\", \"2\", \"2\", \"2\", \"20\", \"20\", \"20\", \"20\", \"20\", \"21\", \"21\", \"21\", \"21\", \"21\", \"22\", \"22\", \"22\", \"22\", \"22\", \"23\", \"23\", \"23\", \"23\", \"24\", \"24\", \"24\", \"24\", \"3\", \"3\", \"3\", \"3\", \"3\", \"4\", \"4\", \"4\", \"4\", \"5\", \"5\", \"5\", \"5\", \"5\", \"6\", \"6\", \"6\", \"6\", \"6\", \"7\", \"7\", \"7\", \"7\", \"7\", \"8\", \"8\", \"8\", \"8\", \"8\", \"9\", \"9\", \"9\", \"9\", \"9\", \"1\", \"2\", \"3\", \"4\", \"5\"], \"name\": \"\", \"parents\": [\"1\", \"2\", \"3\", \"4\", \"5\", \"2\", \"3\", \"4\", \"5\", \"2\", \"3\", \"4\", \"5\", \"1\", \"2\", \"3\", \"4\", \"5\", \"1\", \"2\", \"3\", \"4\", \"5\", \"1\", \"2\", \"3\", \"4\", \"5\", \"2\", \"3\", \"4\", \"5\", \"1\", \"2\", \"3\", \"4\", \"5\", \"1\", \"2\", \"3\", \"4\", \"5\", \"1\", \"2\", \"3\", \"4\", \"5\", \"1\", \"2\", \"3\", \"4\", \"5\", \"1\", \"2\", \"3\", \"4\", \"5\", \"2\", \"3\", \"4\", \"5\", \"1\", \"2\", \"3\", \"4\", \"5\", \"1\", \"2\", \"3\", \"4\", \"5\", \"1\", \"2\", \"3\", \"4\", \"5\", \"2\", \"3\", \"4\", \"5\", \"2\", \"3\", \"4\", \"5\", \"1\", \"2\", \"3\", \"4\", \"5\", \"2\", \"3\", \"4\", \"5\", \"1\", \"2\", \"3\", \"4\", \"5\", \"1\", \"2\", \"3\", \"4\", \"5\", \"1\", \"2\", \"3\", \"4\", \"5\", \"1\", \"2\", \"3\", \"4\", \"5\", \"1\", \"2\", \"3\", \"4\", \"5\", \"\", \"\", \"\", \"\", \"\"], \"type\": \"sunburst\", \"values\": [4, 19, 76, 177, 159, 1, 5, 20, 63, 10, 26, 100, 90, 2, 2, 10, 74, 102, 2, 2, 14, 72, 108, 2, 1, 5, 35, 119, 2, 15, 106, 197, 1, 3, 30, 103, 160, 1, 3, 11, 51, 132, 70, 54, 67, 55, 116, 3, 7, 27, 102, 113, 41, 72, 229, 242, 118, 4, 12, 38, 44, 2, 3, 28, 95, 132, 3, 3, 7, 11, 107, 1, 3, 39, 162, 436, 1, 13, 70, 91, 2, 11, 61, 89, 106, 51, 29, 9, 10, 1, 7, 57, 255, 4, 6, 44, 226, 253, 1, 2, 25, 141, 346, 37, 30, 51, 231, 577, 22, 28, 30, 67, 143, 120, 118, 140, 55, 15, 422, 428, 951, 2360, 3975]}],                        {\"height\": 750, \"legend\": {\"tracegroupgap\": 0}, \"template\": {\"data\": {\"bar\": [{\"error_x\": {\"color\": \"#2a3f5f\"}, \"error_y\": {\"color\": \"#2a3f5f\"}, \"marker\": {\"line\": {\"color\": \"#E5ECF6\", \"width\": 0.5}}, \"type\": \"bar\"}], \"barpolar\": [{\"marker\": {\"line\": {\"color\": \"#E5ECF6\", \"width\": 0.5}}, \"type\": \"barpolar\"}], \"carpet\": [{\"aaxis\": {\"endlinecolor\": \"#2a3f5f\", \"gridcolor\": \"white\", \"linecolor\": \"white\", \"minorgridcolor\": \"white\", \"startlinecolor\": \"#2a3f5f\"}, \"baxis\": {\"endlinecolor\": \"#2a3f5f\", \"gridcolor\": \"white\", \"linecolor\": \"white\", \"minorgridcolor\": \"white\", \"startlinecolor\": \"#2a3f5f\"}, \"type\": \"carpet\"}], \"choropleth\": [{\"colorbar\": {\"outlinewidth\": 0, \"ticks\": \"\"}, \"type\": \"choropleth\"}], \"contour\": [{\"colorbar\": {\"outlinewidth\": 0, \"ticks\": \"\"}, \"colorscale\": [[0.0, \"#0d0887\"], [0.1111111111111111, \"#46039f\"], [0.2222222222222222, \"#7201a8\"], [0.3333333333333333, \"#9c179e\"], [0.4444444444444444, \"#bd3786\"], [0.5555555555555556, \"#d8576b\"], [0.6666666666666666, \"#ed7953\"], [0.7777777777777778, \"#fb9f3a\"], [0.8888888888888888, \"#fdca26\"], [1.0, \"#f0f921\"]], \"type\": \"contour\"}], \"contourcarpet\": [{\"colorbar\": {\"outlinewidth\": 0, \"ticks\": \"\"}, \"type\": \"contourcarpet\"}], \"heatmap\": [{\"colorbar\": {\"outlinewidth\": 0, \"ticks\": \"\"}, \"colorscale\": [[0.0, \"#0d0887\"], [0.1111111111111111, \"#46039f\"], [0.2222222222222222, \"#7201a8\"], [0.3333333333333333, \"#9c179e\"], [0.4444444444444444, \"#bd3786\"], [0.5555555555555556, \"#d8576b\"], [0.6666666666666666, \"#ed7953\"], [0.7777777777777778, \"#fb9f3a\"], [0.8888888888888888, \"#fdca26\"], [1.0, \"#f0f921\"]], \"type\": \"heatmap\"}], \"heatmapgl\": [{\"colorbar\": {\"outlinewidth\": 0, \"ticks\": \"\"}, \"colorscale\": [[0.0, \"#0d0887\"], [0.1111111111111111, \"#46039f\"], [0.2222222222222222, \"#7201a8\"], [0.3333333333333333, \"#9c179e\"], [0.4444444444444444, \"#bd3786\"], [0.5555555555555556, \"#d8576b\"], [0.6666666666666666, \"#ed7953\"], [0.7777777777777778, \"#fb9f3a\"], [0.8888888888888888, \"#fdca26\"], [1.0, \"#f0f921\"]], \"type\": \"heatmapgl\"}], \"histogram\": [{\"marker\": {\"colorbar\": {\"outlinewidth\": 0, \"ticks\": \"\"}}, \"type\": \"histogram\"}], \"histogram2d\": [{\"colorbar\": {\"outlinewidth\": 0, \"ticks\": \"\"}, \"colorscale\": [[0.0, \"#0d0887\"], [0.1111111111111111, \"#46039f\"], [0.2222222222222222, \"#7201a8\"], [0.3333333333333333, \"#9c179e\"], [0.4444444444444444, \"#bd3786\"], [0.5555555555555556, \"#d8576b\"], [0.6666666666666666, \"#ed7953\"], [0.7777777777777778, \"#fb9f3a\"], [0.8888888888888888, \"#fdca26\"], [1.0, \"#f0f921\"]], \"type\": \"histogram2d\"}], \"histogram2dcontour\": [{\"colorbar\": {\"outlinewidth\": 0, \"ticks\": \"\"}, \"colorscale\": [[0.0, \"#0d0887\"], [0.1111111111111111, \"#46039f\"], [0.2222222222222222, \"#7201a8\"], [0.3333333333333333, \"#9c179e\"], [0.4444444444444444, \"#bd3786\"], [0.5555555555555556, \"#d8576b\"], [0.6666666666666666, \"#ed7953\"], [0.7777777777777778, \"#fb9f3a\"], [0.8888888888888888, \"#fdca26\"], [1.0, \"#f0f921\"]], \"type\": \"histogram2dcontour\"}], \"mesh3d\": [{\"colorbar\": {\"outlinewidth\": 0, \"ticks\": \"\"}, \"type\": \"mesh3d\"}], \"parcoords\": [{\"line\": {\"colorbar\": {\"outlinewidth\": 0, \"ticks\": \"\"}}, \"type\": \"parcoords\"}], \"pie\": [{\"automargin\": true, \"type\": \"pie\"}], \"scatter\": [{\"marker\": {\"colorbar\": {\"outlinewidth\": 0, \"ticks\": \"\"}}, \"type\": \"scatter\"}], \"scatter3d\": [{\"line\": {\"colorbar\": {\"outlinewidth\": 0, \"ticks\": \"\"}}, \"marker\": {\"colorbar\": {\"outlinewidth\": 0, \"ticks\": \"\"}}, \"type\": \"scatter3d\"}], \"scattercarpet\": [{\"marker\": {\"colorbar\": {\"outlinewidth\": 0, \"ticks\": \"\"}}, \"type\": \"scattercarpet\"}], \"scattergeo\": [{\"marker\": {\"colorbar\": {\"outlinewidth\": 0, \"ticks\": \"\"}}, \"type\": \"scattergeo\"}], \"scattergl\": [{\"marker\": {\"colorbar\": {\"outlinewidth\": 0, \"ticks\": \"\"}}, \"type\": \"scattergl\"}], \"scattermapbox\": [{\"marker\": {\"colorbar\": {\"outlinewidth\": 0, \"ticks\": \"\"}}, \"type\": \"scattermapbox\"}], \"scatterpolar\": [{\"marker\": {\"colorbar\": {\"outlinewidth\": 0, \"ticks\": \"\"}}, \"type\": \"scatterpolar\"}], \"scatterpolargl\": [{\"marker\": {\"colorbar\": {\"outlinewidth\": 0, \"ticks\": \"\"}}, \"type\": \"scatterpolargl\"}], \"scatterternary\": [{\"marker\": {\"colorbar\": {\"outlinewidth\": 0, \"ticks\": \"\"}}, \"type\": \"scatterternary\"}], \"surface\": [{\"colorbar\": {\"outlinewidth\": 0, \"ticks\": \"\"}, \"colorscale\": [[0.0, \"#0d0887\"], [0.1111111111111111, \"#46039f\"], [0.2222222222222222, \"#7201a8\"], [0.3333333333333333, \"#9c179e\"], [0.4444444444444444, \"#bd3786\"], [0.5555555555555556, \"#d8576b\"], [0.6666666666666666, \"#ed7953\"], [0.7777777777777778, \"#fb9f3a\"], [0.8888888888888888, \"#fdca26\"], [1.0, \"#f0f921\"]], \"type\": \"surface\"}], \"table\": [{\"cells\": {\"fill\": {\"color\": \"#EBF0F8\"}, \"line\": {\"color\": \"white\"}}, \"header\": {\"fill\": {\"color\": \"#C8D4E3\"}, \"line\": {\"color\": \"white\"}}, \"type\": \"table\"}]}, \"layout\": {\"annotationdefaults\": {\"arrowcolor\": \"#2a3f5f\", \"arrowhead\": 0, \"arrowwidth\": 1}, \"autotypenumbers\": \"strict\", \"coloraxis\": {\"colorbar\": {\"outlinewidth\": 0, \"ticks\": \"\"}}, \"colorscale\": {\"diverging\": [[0, \"#8e0152\"], [0.1, \"#c51b7d\"], [0.2, \"#de77ae\"], [0.3, \"#f1b6da\"], [0.4, \"#fde0ef\"], [0.5, \"#f7f7f7\"], [0.6, \"#e6f5d0\"], [0.7, \"#b8e186\"], [0.8, \"#7fbc41\"], [0.9, \"#4d9221\"], [1, \"#276419\"]], \"sequential\": [[0.0, \"#0d0887\"], [0.1111111111111111, \"#46039f\"], [0.2222222222222222, \"#7201a8\"], [0.3333333333333333, \"#9c179e\"], [0.4444444444444444, \"#bd3786\"], [0.5555555555555556, \"#d8576b\"], [0.6666666666666666, \"#ed7953\"], [0.7777777777777778, \"#fb9f3a\"], [0.8888888888888888, \"#fdca26\"], [1.0, \"#f0f921\"]], \"sequentialminus\": [[0.0, \"#0d0887\"], [0.1111111111111111, \"#46039f\"], [0.2222222222222222, \"#7201a8\"], [0.3333333333333333, \"#9c179e\"], [0.4444444444444444, \"#bd3786\"], [0.5555555555555556, \"#d8576b\"], [0.6666666666666666, \"#ed7953\"], [0.7777777777777778, \"#fb9f3a\"], [0.8888888888888888, \"#fdca26\"], [1.0, \"#f0f921\"]]}, \"colorway\": [\"#636efa\", \"#EF553B\", \"#00cc96\", \"#ab63fa\", \"#FFA15A\", \"#19d3f3\", \"#FF6692\", \"#B6E880\", \"#FF97FF\", \"#FECB52\"], \"font\": {\"color\": \"#2a3f5f\"}, \"geo\": {\"bgcolor\": \"white\", \"lakecolor\": \"white\", \"landcolor\": \"#E5ECF6\", \"showlakes\": true, \"showland\": true, \"subunitcolor\": \"white\"}, \"hoverlabel\": {\"align\": \"left\"}, \"hovermode\": \"closest\", \"mapbox\": {\"style\": \"light\"}, \"paper_bgcolor\": \"white\", \"plot_bgcolor\": \"#E5ECF6\", \"polar\": {\"angularaxis\": {\"gridcolor\": \"white\", \"linecolor\": \"white\", \"ticks\": \"\"}, \"bgcolor\": \"#E5ECF6\", \"radialaxis\": {\"gridcolor\": \"white\", \"linecolor\": \"white\", \"ticks\": \"\"}}, \"scene\": {\"xaxis\": {\"backgroundcolor\": \"#E5ECF6\", \"gridcolor\": \"white\", \"gridwidth\": 2, \"linecolor\": \"white\", \"showbackground\": true, \"ticks\": \"\", \"zerolinecolor\": \"white\"}, \"yaxis\": {\"backgroundcolor\": \"#E5ECF6\", \"gridcolor\": \"white\", \"gridwidth\": 2, \"linecolor\": \"white\", \"showbackground\": true, \"ticks\": \"\", \"zerolinecolor\": \"white\"}, \"zaxis\": {\"backgroundcolor\": \"#E5ECF6\", \"gridcolor\": \"white\", \"gridwidth\": 2, \"linecolor\": \"white\", \"showbackground\": true, \"ticks\": \"\", \"zerolinecolor\": \"white\"}}, \"shapedefaults\": {\"line\": {\"color\": \"#2a3f5f\"}}, \"ternary\": {\"aaxis\": {\"gridcolor\": \"white\", \"linecolor\": \"white\", \"ticks\": \"\"}, \"baxis\": {\"gridcolor\": \"white\", \"linecolor\": \"white\", \"ticks\": \"\"}, \"bgcolor\": \"#E5ECF6\", \"caxis\": {\"gridcolor\": \"white\", \"linecolor\": \"white\", \"ticks\": \"\"}}, \"title\": {\"x\": 0.05}, \"xaxis\": {\"automargin\": true, \"gridcolor\": \"white\", \"linecolor\": \"white\", \"ticks\": \"\", \"title\": {\"standoff\": 15}, \"zerolinecolor\": \"white\", \"zerolinewidth\": 2}, \"yaxis\": {\"automargin\": true, \"gridcolor\": \"white\", \"linecolor\": \"white\", \"ticks\": \"\", \"title\": {\"standoff\": 15}, \"zerolinecolor\": \"white\", \"zerolinewidth\": 2}}}, \"title\": {\"text\": \"Distribution of Clusters within Review Ratings\"}, \"width\": 750},                        {\"responsive\": true}                    ).then(function(){\n",
       "                            \n",
       "var gd = document.getElementById('aaf380d4-6937-412c-ba34-89ffba59c066');\n",
       "var x = new MutationObserver(function (mutations, observer) {{\n",
       "        var display = window.getComputedStyle(gd).display;\n",
       "        if (!display || display === 'none') {{\n",
       "            console.log([gd, 'removed!']);\n",
       "            Plotly.purge(gd);\n",
       "            observer.disconnect();\n",
       "        }}\n",
       "}});\n",
       "\n",
       "// Listen for the removal of the full notebook cells\n",
       "var notebookContainer = gd.closest('#notebook-container');\n",
       "if (notebookContainer) {{\n",
       "    x.observe(notebookContainer, {childList: true});\n",
       "}}\n",
       "\n",
       "// Listen for the clearing of the current output cell\n",
       "var outputEl = gd.closest('.output');\n",
       "if (outputEl) {{\n",
       "    x.observe(outputEl, {childList: true});\n",
       "}}\n",
       "\n",
       "                        })                };                });            </script>        </div>"
      ]
     },
     "metadata": {},
     "output_type": "display_data"
    }
   ],
   "source": [
    "import plotly.express as px\n",
    "\n",
    "fig = px.sunburst(df2,\n",
    "                  path=[\"reviews_rating\", \"cluster\"],\n",
    "                  values='Count',\n",
    "                  width=750, height=750,\n",
    "#                   color_continuous_scale=\"RdYlGn\",\n",
    "                  hover_data=['keywords'],\n",
    "                  title=\"Distribution of Clusters within Review Ratings\",\n",
    "                  )\n",
    "fig.show()\n",
    "fig.write_html(\"plotlytry1.html\", include_plotlyjs = \"cdn\")"
   ]
  },
  {
   "cell_type": "code",
   "execution_count": 13,
   "metadata": {
    "scrolled": false
   },
   "outputs": [
    {
     "data": {
      "application/vnd.plotly.v1+json": {
       "config": {
        "plotlyServerURL": "https://plot.ly"
       },
       "data": [
        {
         "branchvalues": "total",
         "customdata": [
          [
           "park, free, hotel, room, stay, good, breakfast, locat, clean, great"
          ],
          [
           "park, free, hotel, room, stay, good, breakfast, locat, clean, great"
          ],
          [
           "park, free, hotel, room, stay, good, breakfast, locat, clean, great"
          ],
          [
           "park, free, hotel, room, stay, good, breakfast, locat, clean, great"
          ],
          [
           "park, free, hotel, room, stay, good, breakfast, locat, clean, great"
          ],
          [
           "park, free, hotel, room, stay, good, breakfast, locat, clean, great"
          ],
          [
           "park, free, hotel, room, stay, good, breakfast, locat, clean, great"
          ],
          [
           "park, free, hotel, room, stay, good, breakfast, locat, clean, great"
          ],
          [
           "park, free, hotel, room, stay, good, breakfast, locat, clean, great"
          ],
          [
           "park, free, hotel, room, stay, good, breakfast, locat, clean, great"
          ],
          [
           "park, free, hotel, room, stay, good, breakfast, locat, clean, great"
          ],
          [
           "park, free, hotel, room, stay, good, breakfast, locat, clean, great"
          ],
          [
           "park, free, hotel, room, stay, good, breakfast, locat, clean, great"
          ],
          [
           "park, free, hotel, room, stay, good, breakfast, locat, clean, great"
          ],
          [
           "park, free, hotel, room, stay, good, breakfast, locat, clean, great"
          ],
          [
           "park, free, hotel, room, stay, good, breakfast, locat, clean, great"
          ],
          [
           "park, free, hotel, room, stay, good, breakfast, locat, clean, great"
          ],
          [
           "park, free, hotel, room, stay, good, breakfast, locat, clean, great"
          ],
          [
           "park, free, hotel, room, stay, good, breakfast, locat, clean, great"
          ],
          [
           "park, free, hotel, room, stay, good, breakfast, locat, clean, great"
          ],
          [
           "park, free, hotel, room, stay, good, breakfast, locat, clean, great"
          ],
          [
           "park, free, hotel, room, stay, good, breakfast, locat, clean, great"
          ],
          [
           "park, free, hotel, room, stay, good, breakfast, locat, clean, great"
          ],
          [
           "park, free, hotel, room, stay, good, breakfast, locat, clean, great"
          ],
          [
           "park, free, hotel, room, stay, good, breakfast, locat, clean, great"
          ],
          [
           "park, free, hotel, room, stay, good, breakfast, locat, clean, great"
          ],
          [
           "park, free, hotel, room, stay, good, breakfast, locat, clean, great"
          ],
          [
           "park, free, hotel, room, stay, good, breakfast, locat, clean, great"
          ],
          [
           "park, free, hotel, room, stay, good, breakfast, locat, clean, great"
          ],
          [
           "park, free, hotel, room, stay, good, breakfast, locat, clean, great"
          ],
          [
           "park, free, hotel, room, stay, good, breakfast, locat, clean, great"
          ],
          [
           "park, free, hotel, room, stay, good, breakfast, locat, clean, great"
          ],
          [
           "park, free, hotel, room, stay, good, breakfast, locat, clean, great"
          ],
          [
           "park, free, hotel, room, stay, good, breakfast, locat, clean, great"
          ],
          [
           "orlando, airport, garden, hilton, managerhilton, stay, guest, servic, alex, blancogener"
          ],
          [
           "orlando, airport, garden, hilton, managerhilton, stay, guest, servic, alex, blancogener"
          ],
          [
           "orlando, airport, garden, hilton, managerhilton, stay, guest, servic, alex, blancogener"
          ],
          [
           "airport, shuttl, hotel, philadelphia, stay, flight, room, good, breakfast, free"
          ],
          [
           "airport, shuttl, hotel, philadelphia, stay, flight, room, good, breakfast, free"
          ],
          [
           "airport, shuttl, hotel, philadelphia, stay, flight, room, good, breakfast, free"
          ],
          [
           "airport, shuttl, hotel, philadelphia, stay, flight, room, good, breakfast, free"
          ],
          [
           "airport, shuttl, hotel, philadelphia, stay, flight, room, good, breakfast, free"
          ],
          [
           "airport, shuttl, hotel, philadelphia, stay, flight, room, good, breakfast, free"
          ],
          [
           "airport, shuttl, hotel, philadelphia, stay, flight, room, good, breakfast, free"
          ],
          [
           "airport, shuttl, hotel, philadelphia, stay, flight, room, good, breakfast, free"
          ],
          [
           "airport, shuttl, hotel, philadelphia, stay, flight, room, good, breakfast, free"
          ],
          [
           "airport, shuttl, hotel, philadelphia, stay, flight, room, good, breakfast, free"
          ],
          [
           "airport, shuttl, hotel, philadelphia, stay, flight, room, good, breakfast, free"
          ],
          [
           "airport, shuttl, hotel, philadelphia, stay, flight, room, good, breakfast, free"
          ],
          [
           "airport, shuttl, hotel, philadelphia, stay, flight, room, good, breakfast, free"
          ],
          [
           "airport, shuttl, hotel, philadelphia, stay, flight, room, good, breakfast, free"
          ],
          [
           "airport, shuttl, hotel, philadelphia, stay, flight, room, good, breakfast, free"
          ],
          [
           "airport, shuttl, hotel, philadelphia, stay, flight, room, good, breakfast, free"
          ],
          [
           "airport, shuttl, hotel, philadelphia, stay, flight, room, good, breakfast, free"
          ],
          [
           "airport, shuttl, hotel, philadelphia, stay, flight, room, good, breakfast, free"
          ],
          [
           "airport, shuttl, hotel, philadelphia, stay, flight, room, good, breakfast, free"
          ],
          [
           "across, street, space, hotel, room, needl, breakfast, great, includ, walk"
          ],
          [
           "across, street, space, hotel, room, needl, breakfast, great, includ, walk"
          ],
          [
           "across, street, space, hotel, room, needl, breakfast, great, includ, walk"
          ],
          [
           "across, street, space, hotel, room, needl, breakfast, great, includ, walk"
          ],
          [
           "across, street, space, hotel, room, needl, breakfast, great, includ, walk"
          ],
          [
           "across, street, space, hotel, room, needl, breakfast, great, includ, walk"
          ],
          [
           "across, street, space, hotel, room, needl, breakfast, great, includ, walk"
          ],
          [
           "across, street, space, hotel, room, needl, breakfast, great, includ, walk"
          ],
          [
           "across, street, space, hotel, room, needl, breakfast, great, includ, walk"
          ],
          [
           "across, street, space, hotel, room, needl, breakfast, great, includ, walk"
          ],
          [
           "across, street, space, hotel, room, needl, breakfast, great, includ, walk"
          ],
          [
           "across, street, space, hotel, room, needl, breakfast, great, includ, walk"
          ],
          [
           "across, street, space, hotel, room, needl, breakfast, great, includ, walk"
          ],
          [
           "across, street, space, hotel, room, needl, breakfast, great, includ, walk"
          ],
          [
           "across, street, space, hotel, room, needl, breakfast, great, includ, walk"
          ],
          [
           "across, street, space, hotel, room, needl, breakfast, great, includ, walk"
          ],
          [
           "across, street, space, hotel, room, needl, breakfast, great, includ, walk"
          ],
          [
           "across, street, space, hotel, room, needl, breakfast, great, includ, walk"
          ],
          [
           "across, street, space, hotel, room, needl, breakfast, great, includ, walk"
          ],
          [
           "across, street, space, hotel, room, needl, breakfast, great, includ, walk"
          ],
          [
           "across, street, space, hotel, room, needl, breakfast, great, includ, walk"
          ],
          [
           "across, street, space, hotel, room, needl, breakfast, great, includ, walk"
          ],
          [
           "across, street, space, hotel, room, needl, breakfast, great, includ, walk"
          ],
          [
           "beach, ocean, hotel, locat, room, stay, great, view, walk, restaur"
          ],
          [
           "beach, ocean, hotel, locat, room, stay, great, view, walk, restaur"
          ],
          [
           "beach, ocean, hotel, locat, room, stay, great, view, walk, restaur"
          ],
          [
           "beach, ocean, hotel, locat, room, stay, great, view, walk, restaur"
          ],
          [
           "beach, ocean, hotel, locat, room, stay, great, view, walk, restaur"
          ],
          [
           "beach, ocean, hotel, locat, room, stay, great, view, walk, restaur"
          ],
          [
           "beach, ocean, hotel, locat, room, stay, great, view, walk, restaur"
          ],
          [
           "beach, ocean, hotel, locat, room, stay, great, view, walk, restaur"
          ],
          [
           "beach, ocean, hotel, locat, room, stay, great, view, walk, restaur"
          ],
          [
           "beach, ocean, hotel, locat, room, stay, great, view, walk, restaur"
          ],
          [
           "beach, ocean, hotel, locat, room, stay, great, view, walk, restaur"
          ],
          [
           "beach, ocean, hotel, locat, room, stay, great, view, walk, restaur"
          ],
          [
           "beach, ocean, hotel, locat, room, stay, great, view, walk, restaur"
          ],
          [
           "beach, ocean, hotel, locat, room, stay, great, view, walk, restaur"
          ],
          [
           "beach, ocean, hotel, locat, room, stay, great, view, walk, restaur"
          ],
          [
           "beach, ocean, hotel, locat, room, stay, great, view, walk, restaur"
          ],
          [
           "beach, ocean, hotel, locat, room, stay, great, view, walk, restaur"
          ],
          [
           "beach, ocean, hotel, locat, room, stay, great, view, walk, restaur"
          ],
          [
           "beach, ocean, hotel, locat, room, stay, great, view, walk, restaur"
          ],
          [
           "chicago, conrad, stay, thank, hotel, room, great, forward, river, time"
          ],
          [
           "french, quarter, orlean, hotel, room, stay, street, locat, walk, great"
          ],
          [
           "suit, room, stay, hotel, bedroom, area, breakfast, great, comfort, time"
          ],
          [
           "suit, room, stay, hotel, bedroom, area, breakfast, great, comfort, time"
          ],
          [
           "suit, room, stay, hotel, bedroom, area, breakfast, great, comfort, time"
          ],
          [
           "suit, room, stay, hotel, bedroom, area, breakfast, great, comfort, time"
          ],
          [
           "suit, room, stay, hotel, bedroom, area, breakfast, great, comfort, time"
          ],
          [
           "suit, room, stay, hotel, bedroom, area, breakfast, great, comfort, time"
          ],
          [
           "suit, room, stay, hotel, bedroom, area, breakfast, great, comfort, time"
          ],
          [
           "suit, room, stay, hotel, bedroom, area, breakfast, great, comfort, time"
          ],
          [
           "suit, room, stay, hotel, bedroom, area, breakfast, great, comfort, time"
          ],
          [
           "suit, room, stay, hotel, bedroom, area, breakfast, great, comfort, time"
          ],
          [
           "suit, room, stay, hotel, bedroom, area, breakfast, great, comfort, time"
          ],
          [
           "suit, room, stay, hotel, bedroom, area, breakfast, great, comfort, time"
          ],
          [
           "suit, room, stay, hotel, bedroom, area, breakfast, great, comfort, time"
          ],
          [
           "suit, room, stay, hotel, bedroom, area, breakfast, great, comfort, time"
          ],
          [
           "suit, room, stay, hotel, bedroom, area, breakfast, great, comfort, time"
          ],
          [
           "suit, room, stay, hotel, bedroom, area, breakfast, great, comfort, time"
          ],
          [
           "suit, room, stay, hotel, bedroom, area, breakfast, great, comfort, time"
          ],
          [
           "suit, room, stay, hotel, bedroom, area, breakfast, great, comfort, time"
          ],
          [
           "suit, room, stay, hotel, bedroom, area, breakfast, great, comfort, time"
          ],
          [
           "suit, room, stay, hotel, bedroom, area, breakfast, great, comfort, time"
          ],
          [
           "suit, room, stay, hotel, bedroom, area, breakfast, great, comfort, time"
          ],
          [
           "suit, room, stay, hotel, bedroom, area, breakfast, great, comfort, time"
          ],
          [
           "suit, room, stay, hotel, bedroom, area, breakfast, great, comfort, time"
          ],
          [
           "suit, room, stay, hotel, bedroom, area, breakfast, great, comfort, time"
          ],
          [
           "suit, room, stay, hotel, bedroom, area, breakfast, great, comfort, time"
          ],
          [
           "suit, room, stay, hotel, bedroom, area, breakfast, great, comfort, time"
          ],
          [
           "suit, room, stay, hotel, bedroom, area, breakfast, great, comfort, time"
          ],
          [
           "suit, room, stay, hotel, bedroom, area, breakfast, great, comfort, time"
          ],
          [
           "suit, room, stay, hotel, bedroom, area, breakfast, great, comfort, time"
          ],
          [
           "suit, room, stay, hotel, bedroom, area, breakfast, great, comfort, time"
          ],
          [
           "suit, room, stay, hotel, bedroom, area, breakfast, great, comfort, time"
          ],
          [
           "suit, room, stay, hotel, bedroom, area, breakfast, great, comfort, time"
          ],
          [
           "suit, room, stay, hotel, bedroom, area, breakfast, great, comfort, time"
          ],
          [
           "suit, room, stay, hotel, bedroom, area, breakfast, great, comfort, time"
          ],
          [
           "suit, room, stay, hotel, bedroom, area, breakfast, great, comfort, time"
          ],
          [
           "suit, room, stay, hotel, bedroom, area, breakfast, great, comfort, time"
          ],
          [
           "suit, room, stay, hotel, bedroom, area, breakfast, great, comfort, time"
          ],
          [
           "suit, room, stay, hotel, bedroom, area, breakfast, great, comfort, time"
          ],
          [
           "seattl, hyatt, hotel, needl, stay, space, hous, downtown, jung, guest"
          ],
          [
           "seattl, hyatt, hotel, needl, stay, space, hous, downtown, jung, guest"
          ],
          [
           "check, room, hotel, arriv, stay, night, book, call, earli, tell"
          ],
          [
           "check, room, hotel, arriv, stay, night, book, call, earli, tell"
          ],
          [
           "check, room, hotel, arriv, stay, night, book, call, earli, tell"
          ],
          [
           "check, room, hotel, arriv, stay, night, book, call, earli, tell"
          ],
          [
           "check, room, hotel, arriv, stay, night, book, call, earli, tell"
          ],
          [
           "check, room, hotel, arriv, stay, night, book, call, earli, tell"
          ],
          [
           "check, room, hotel, arriv, stay, night, book, call, earli, tell"
          ],
          [
           "check, room, hotel, arriv, stay, night, book, call, earli, tell"
          ],
          [
           "check, room, hotel, arriv, stay, night, book, call, earli, tell"
          ],
          [
           "check, room, hotel, arriv, stay, night, book, call, earli, tell"
          ],
          [
           "check, room, hotel, arriv, stay, night, book, call, earli, tell"
          ],
          [
           "check, room, hotel, arriv, stay, night, book, call, earli, tell"
          ],
          [
           "check, room, hotel, arriv, stay, night, book, call, earli, tell"
          ],
          [
           "check, room, hotel, arriv, stay, night, book, call, earli, tell"
          ],
          [
           "check, room, hotel, arriv, stay, night, book, call, earli, tell"
          ],
          [
           "check, room, hotel, arriv, stay, night, book, call, earli, tell"
          ],
          [
           "check, room, hotel, arriv, stay, night, book, call, earli, tell"
          ],
          [
           "check, room, hotel, arriv, stay, night, book, call, earli, tell"
          ],
          [
           "check, room, hotel, arriv, stay, night, book, call, earli, tell"
          ],
          [
           "check, room, hotel, arriv, stay, night, book, call, earli, tell"
          ],
          [
           "check, room, hotel, arriv, stay, night, book, call, earli, tell"
          ],
          [
           "check, room, hotel, arriv, stay, night, book, call, earli, tell"
          ],
          [
           "check, room, hotel, arriv, stay, night, book, call, earli, tell"
          ],
          [
           "check, room, hotel, arriv, stay, night, book, call, earli, tell"
          ],
          [
           "check, room, hotel, arriv, stay, night, book, call, earli, tell"
          ],
          [
           "check, room, hotel, arriv, stay, night, book, call, earli, tell"
          ],
          [
           "check, room, hotel, arriv, stay, night, book, call, earli, tell"
          ],
          [
           "check, room, hotel, arriv, stay, night, book, call, earli, tell"
          ],
          [
           "check, room, hotel, arriv, stay, night, book, call, earli, tell"
          ],
          [
           "check, room, hotel, arriv, stay, night, book, call, earli, tell"
          ],
          [
           "check, room, hotel, arriv, stay, night, book, call, earli, tell"
          ],
          [
           "check, room, hotel, arriv, stay, night, book, call, earli, tell"
          ],
          [
           "check, room, hotel, arriv, stay, night, book, call, earli, tell"
          ],
          [
           "check, room, hotel, arriv, stay, night, book, call, earli, tell"
          ],
          [
           "check, room, hotel, arriv, stay, night, book, call, earli, tell"
          ],
          [
           "check, room, hotel, arriv, stay, night, book, call, earli, tell"
          ],
          [
           "check, room, hotel, arriv, stay, night, book, call, earli, tell"
          ],
          [
           "check, room, hotel, arriv, stay, night, book, call, earli, tell"
          ],
          [
           "check, room, hotel, arriv, stay, night, book, call, earli, tell"
          ],
          [
           "check, room, hotel, arriv, stay, night, book, call, earli, tell"
          ],
          [
           "check, room, hotel, arriv, stay, night, book, call, earli, tell"
          ],
          [
           "check, room, hotel, arriv, stay, night, book, call, earli, tell"
          ],
          [
           "check, room, hotel, arriv, stay, night, book, call, earli, tell"
          ],
          [
           "check, room, hotel, arriv, stay, night, book, call, earli, tell"
          ],
          [
           "western, best, diego, stay, hotel, thank, plus, room, breakfast, staff"
          ],
          [
           "western, best, diego, stay, hotel, thank, plus, room, breakfast, staff"
          ],
          [
           "western, best, diego, stay, hotel, thank, plus, room, breakfast, staff"
          ],
          [
           "western, best, diego, stay, hotel, thank, plus, room, breakfast, staff"
          ],
          [
           "western, best, diego, stay, hotel, thank, plus, room, breakfast, staff"
          ],
          [
           "western, best, diego, stay, hotel, thank, plus, room, breakfast, staff"
          ],
          [
           "western, best, diego, stay, hotel, thank, plus, room, breakfast, staff"
          ],
          [
           "western, best, diego, stay, hotel, thank, plus, room, breakfast, staff"
          ],
          [
           "western, best, diego, stay, hotel, thank, plus, room, breakfast, staff"
          ],
          [
           "western, best, diego, stay, hotel, thank, plus, room, breakfast, staff"
          ],
          [
           "western, best, diego, stay, hotel, thank, plus, room, breakfast, staff"
          ],
          [
           "western, best, diego, stay, hotel, thank, plus, room, breakfast, staff"
          ],
          [
           "western, best, diego, stay, hotel, thank, plus, room, breakfast, staff"
          ],
          [
           "western, best, diego, stay, hotel, thank, plus, room, breakfast, staff"
          ],
          [
           "room, hotel, stay, night, small, good, floor, clean, bathroom, nois"
          ],
          [
           "room, hotel, stay, night, small, good, floor, clean, bathroom, nois"
          ],
          [
           "room, hotel, stay, night, small, good, floor, clean, bathroom, nois"
          ],
          [
           "room, hotel, stay, night, small, good, floor, clean, bathroom, nois"
          ],
          [
           "room, hotel, stay, night, small, good, floor, clean, bathroom, nois"
          ],
          [
           "room, hotel, stay, night, small, good, floor, clean, bathroom, nois"
          ],
          [
           "room, hotel, stay, night, small, good, floor, clean, bathroom, nois"
          ],
          [
           "room, hotel, stay, night, small, good, floor, clean, bathroom, nois"
          ],
          [
           "room, hotel, stay, night, small, good, floor, clean, bathroom, nois"
          ],
          [
           "room, hotel, stay, night, small, good, floor, clean, bathroom, nois"
          ],
          [
           "room, hotel, stay, night, small, good, floor, clean, bathroom, nois"
          ],
          [
           "room, hotel, stay, night, small, good, floor, clean, bathroom, nois"
          ],
          [
           "room, hotel, stay, night, small, good, floor, clean, bathroom, nois"
          ],
          [
           "room, hotel, stay, night, small, good, floor, clean, bathroom, nois"
          ],
          [
           "room, hotel, stay, night, small, good, floor, clean, bathroom, nois"
          ],
          [
           "room, hotel, stay, night, small, good, floor, clean, bathroom, nois"
          ],
          [
           "room, hotel, stay, night, small, good, floor, clean, bathroom, nois"
          ],
          [
           "room, hotel, stay, night, small, good, floor, clean, bathroom, nois"
          ],
          [
           "room, hotel, stay, night, small, good, floor, clean, bathroom, nois"
          ],
          [
           "room, hotel, stay, night, small, good, floor, clean, bathroom, nois"
          ],
          [
           "room, hotel, stay, night, small, good, floor, clean, bathroom, nois"
          ],
          [
           "room, hotel, stay, night, small, good, floor, clean, bathroom, nois"
          ],
          [
           "room, hotel, stay, night, small, good, floor, clean, bathroom, nois"
          ],
          [
           "room, hotel, stay, night, small, good, floor, clean, bathroom, nois"
          ],
          [
           "room, hotel, stay, night, small, good, floor, clean, bathroom, nois"
          ],
          [
           "room, hotel, stay, night, small, good, floor, clean, bathroom, nois"
          ],
          [
           "room, hotel, stay, night, small, good, floor, clean, bathroom, nois"
          ],
          [
           "room, hotel, stay, night, small, good, floor, clean, bathroom, nois"
          ],
          [
           "room, hotel, stay, night, small, good, floor, clean, bathroom, nois"
          ],
          [
           "room, hotel, stay, night, small, good, floor, clean, bathroom, nois"
          ],
          [
           "room, hotel, stay, night, small, good, floor, clean, bathroom, nois"
          ],
          [
           "room, hotel, stay, night, small, good, floor, clean, bathroom, nois"
          ],
          [
           "room, hotel, stay, night, small, good, floor, clean, bathroom, nois"
          ],
          [
           "room, hotel, stay, night, small, good, floor, clean, bathroom, nois"
          ],
          [
           "room, hotel, stay, night, small, good, floor, clean, bathroom, nois"
          ],
          [
           "room, hotel, stay, night, small, good, floor, clean, bathroom, nois"
          ],
          [
           "room, hotel, stay, night, small, good, floor, clean, bathroom, nois"
          ],
          [
           "room, hotel, stay, night, small, good, floor, clean, bathroom, nois"
          ],
          [
           "room, hotel, stay, night, small, good, floor, clean, bathroom, nois"
          ],
          [
           "room, hotel, stay, night, small, good, floor, clean, bathroom, nois"
          ],
          [
           "room, hotel, stay, night, small, good, floor, clean, bathroom, nois"
          ],
          [
           "room, hotel, stay, night, small, good, floor, clean, bathroom, nois"
          ],
          [
           "room, hotel, stay, night, small, good, floor, clean, bathroom, nois"
          ],
          [
           "room, hotel, stay, night, small, good, floor, clean, bathroom, nois"
          ],
          [
           "room, hotel, stay, night, small, good, floor, clean, bathroom, nois"
          ],
          [
           "disneyland, anaheim, hotel, stay, room, park, clean, walk, disney, great"
          ],
          [
           "disneyland, anaheim, hotel, stay, room, park, clean, walk, disney, great"
          ],
          [
           "squar, union, francisco, hotel, room, locat, stay, walk, great, diva"
          ],
          [
           "squar, union, francisco, hotel, room, locat, stay, walk, great, diva"
          ],
          [
           "squar, union, francisco, hotel, room, locat, stay, walk, great, diva"
          ],
          [
           "squar, union, francisco, hotel, room, locat, stay, walk, great, diva"
          ],
          [
           "squar, union, francisco, hotel, room, locat, stay, walk, great, diva"
          ],
          [
           "emma, ritz, hotel, carlton, stay, beauti, antonio, amaz, pearl, experi"
          ],
          [
           "emma, ritz, hotel, carlton, stay, beauti, antonio, amaz, pearl, experi"
          ],
          [
           "emma, ritz, hotel, carlton, stay, beauti, antonio, amaz, pearl, experi"
          ],
          [
           "emma, ritz, hotel, carlton, stay, beauti, antonio, amaz, pearl, experi"
          ],
          [
           "thank, stay, great, hotel, staff, time, review, share, appreci, enjoy"
          ],
          [
           "thank, stay, great, hotel, staff, time, review, share, appreci, enjoy"
          ],
          [
           "thank, stay, great, hotel, staff, time, review, share, appreci, enjoy"
          ],
          [
           "thank, stay, great, hotel, staff, time, review, share, appreci, enjoy"
          ],
          [
           "thank, stay, great, hotel, staff, time, review, share, appreci, enjoy"
          ],
          [
           "thank, stay, great, hotel, staff, time, review, share, appreci, enjoy"
          ],
          [
           "thank, stay, great, hotel, staff, time, review, share, appreci, enjoy"
          ],
          [
           "thank, stay, great, hotel, staff, time, review, share, appreci, enjoy"
          ],
          [
           "thank, stay, great, hotel, staff, time, review, share, appreci, enjoy"
          ],
          [
           "thank, stay, great, hotel, staff, time, review, share, appreci, enjoy"
          ],
          [
           "thank, stay, great, hotel, staff, time, review, share, appreci, enjoy"
          ],
          [
           "thank, stay, great, hotel, staff, time, review, share, appreci, enjoy"
          ],
          [
           "thank, stay, great, hotel, staff, time, review, share, appreci, enjoy"
          ],
          [
           "thank, stay, great, hotel, staff, time, review, share, appreci, enjoy"
          ],
          [
           "thank, stay, great, hotel, staff, time, review, share, appreci, enjoy"
          ],
          [
           "thank, stay, great, hotel, staff, time, review, share, appreci, enjoy"
          ],
          [
           "thank, stay, great, hotel, staff, time, review, share, appreci, enjoy"
          ],
          [
           "thank, stay, great, hotel, staff, time, review, share, appreci, enjoy"
          ],
          [
           "thank, stay, great, hotel, staff, time, review, share, appreci, enjoy"
          ],
          [
           "thank, stay, great, hotel, staff, time, review, share, appreci, enjoy"
          ],
          [
           "thank, stay, great, hotel, staff, time, review, share, appreci, enjoy"
          ],
          [
           "thank, stay, great, hotel, staff, time, review, share, appreci, enjoy"
          ],
          [
           "thank, stay, great, hotel, staff, time, review, share, appreci, enjoy"
          ],
          [
           "thank, stay, great, hotel, staff, time, review, share, appreci, enjoy"
          ],
          [
           "thank, stay, great, hotel, staff, time, review, share, appreci, enjoy"
          ],
          [
           "thank, stay, great, hotel, staff, time, review, share, appreci, enjoy"
          ],
          [
           "thank, stay, great, hotel, staff, time, review, share, appreci, enjoy"
          ],
          [
           "thank, stay, great, hotel, staff, time, review, share, appreci, enjoy"
          ],
          [
           "waikiki, resort, morealoha, stay, beach, review, luana, thank, enjoy, mahalo"
          ],
          [
           "waikiki, resort, morealoha, stay, beach, review, luana, thank, enjoy, mahalo"
          ],
          [
           "waikiki, resort, morealoha, stay, beach, review, luana, thank, enjoy, mahalo"
          ],
          [
           "waikiki, resort, morealoha, stay, beach, review, luana, thank, enjoy, mahalo"
          ],
          [
           "waikiki, resort, morealoha, stay, beach, review, luana, thank, enjoy, mahalo"
          ],
          [
           "atlanta, stay, hotel, downtown, staff, great, hampton, room, locat, area"
          ],
          [
           "smell, room, dirti, hotel, carpet, stay, sheet, stain, chelsea, annex"
          ],
          [
           "smell, room, dirti, hotel, carpet, stay, sheet, stain, chelsea, annex"
          ],
          [
           "smell, room, dirti, hotel, carpet, stay, sheet, stain, chelsea, annex"
          ],
          [
           "smell, room, dirti, hotel, carpet, stay, sheet, stain, chelsea, annex"
          ],
          [
           "smell, room, dirti, hotel, carpet, stay, sheet, stain, chelsea, annex"
          ],
          [
           "smell, room, dirti, hotel, carpet, stay, sheet, stain, chelsea, annex"
          ],
          [
           "smell, room, dirti, hotel, carpet, stay, sheet, stain, chelsea, annex"
          ],
          [
           "smell, room, dirti, hotel, carpet, stay, sheet, stain, chelsea, annex"
          ],
          [
           "smell, room, dirti, hotel, carpet, stay, sheet, stain, chelsea, annex"
          ],
          [
           "smell, room, dirti, hotel, carpet, stay, sheet, stain, chelsea, annex"
          ],
          [
           "smell, room, dirti, hotel, carpet, stay, sheet, stain, chelsea, annex"
          ],
          [
           "smell, room, dirti, hotel, carpet, stay, sheet, stain, chelsea, annex"
          ],
          [
           "smell, room, dirti, hotel, carpet, stay, sheet, stain, chelsea, annex"
          ],
          [
           "smell, room, dirti, hotel, carpet, stay, sheet, stain, chelsea, annex"
          ],
          [
           "smell, room, dirti, hotel, carpet, stay, sheet, stain, chelsea, annex"
          ],
          [
           "smell, room, dirti, hotel, carpet, stay, sheet, stain, chelsea, annex"
          ],
          [
           "smell, room, dirti, hotel, carpet, stay, sheet, stain, chelsea, annex"
          ],
          [
           "smell, room, dirti, hotel, carpet, stay, sheet, stain, chelsea, annex"
          ],
          [
           "smell, room, dirti, hotel, carpet, stay, sheet, stain, chelsea, annex"
          ],
          [
           "smell, room, dirti, hotel, carpet, stay, sheet, stain, chelsea, annex"
          ],
          [
           "smell, room, dirti, hotel, carpet, stay, sheet, stain, chelsea, annex"
          ],
          [
           "smell, room, dirti, hotel, carpet, stay, sheet, stain, chelsea, annex"
          ],
          [
           "smell, room, dirti, hotel, carpet, stay, sheet, stain, chelsea, annex"
          ],
          [
           "smell, room, dirti, hotel, carpet, stay, sheet, stain, chelsea, annex"
          ],
          [
           "smell, room, dirti, hotel, carpet, stay, sheet, stain, chelsea, annex"
          ],
          [
           "smell, room, dirti, hotel, carpet, stay, sheet, stain, chelsea, annex"
          ],
          [
           "smell, room, dirti, hotel, carpet, stay, sheet, stain, chelsea, annex"
          ],
          [
           "smell, room, dirti, hotel, carpet, stay, sheet, stain, chelsea, annex"
          ],
          [
           "smell, room, dirti, hotel, carpet, stay, sheet, stain, chelsea, annex"
          ],
          [
           "love, hotel, great, stay, room, staff, back, place, locat, time"
          ],
          [
           "love, hotel, great, stay, room, staff, back, place, locat, time"
          ],
          [
           "love, hotel, great, stay, room, staff, back, place, locat, time"
          ],
          [
           "love, hotel, great, stay, room, staff, back, place, locat, time"
          ],
          [
           "love, hotel, great, stay, room, staff, back, place, locat, time"
          ],
          [
           "love, hotel, great, stay, room, staff, back, place, locat, time"
          ],
          [
           "love, hotel, great, stay, room, staff, back, place, locat, time"
          ],
          [
           "love, hotel, great, stay, room, staff, back, place, locat, time"
          ],
          [
           "love, hotel, great, stay, room, staff, back, place, locat, time"
          ],
          [
           "love, hotel, great, stay, room, staff, back, place, locat, time"
          ],
          [
           "love, hotel, great, stay, room, staff, back, place, locat, time"
          ],
          [
           "love, hotel, great, stay, room, staff, back, place, locat, time"
          ],
          [
           "love, hotel, great, stay, room, staff, back, place, locat, time"
          ],
          [
           "love, hotel, great, stay, room, staff, back, place, locat, time"
          ],
          [
           "love, hotel, great, stay, room, staff, back, place, locat, time"
          ],
          [
           "love, hotel, great, stay, room, staff, back, place, locat, time"
          ],
          [
           "love, hotel, great, stay, room, staff, back, place, locat, time"
          ],
          [
           "love, hotel, great, stay, room, staff, back, place, locat, time"
          ],
          [
           "love, hotel, great, stay, room, staff, back, place, locat, time"
          ],
          [
           "love, hotel, great, stay, room, staff, back, place, locat, time"
          ],
          [
           "love, hotel, great, stay, room, staff, back, place, locat, time"
          ],
          [
           "love, hotel, great, stay, room, staff, back, place, locat, time"
          ],
          [
           "love, hotel, great, stay, room, staff, back, place, locat, time"
          ],
          [
           "love, hotel, great, stay, room, staff, back, place, locat, time"
          ],
          [
           "love, hotel, great, stay, room, staff, back, place, locat, time"
          ],
          [
           "love, hotel, great, stay, room, staff, back, place, locat, time"
          ],
          [
           "love, hotel, great, stay, room, staff, back, place, locat, time"
          ],
          [
           "love, hotel, great, stay, room, staff, back, place, locat, time"
          ],
          [
           "love, hotel, great, stay, room, staff, back, place, locat, time"
          ],
          [
           "love, hotel, great, stay, room, staff, back, place, locat, time"
          ],
          [
           "love, hotel, great, stay, room, staff, back, place, locat, time"
          ],
          [
           "love, hotel, great, stay, room, staff, back, place, locat, time"
          ],
          [
           "love, hotel, great, stay, room, staff, back, place, locat, time"
          ],
          [
           "love, hotel, great, stay, room, staff, back, place, locat, time"
          ],
          [
           "love, hotel, great, stay, room, staff, back, place, locat, time"
          ],
          [
           "love, hotel, great, stay, room, staff, back, place, locat, time"
          ],
          [
           "love, hotel, great, stay, room, staff, back, place, locat, time"
          ],
          [
           "love, hotel, great, stay, room, staff, back, place, locat, time"
          ],
          [
           "love, hotel, great, stay, room, staff, back, place, locat, time"
          ],
          [
           "nice, pool, room, hotel, clean, good, great, stay, area, breakfast"
          ],
          [
           "nice, pool, room, hotel, clean, good, great, stay, area, breakfast"
          ],
          [
           "nice, pool, room, hotel, clean, good, great, stay, area, breakfast"
          ],
          [
           "nice, pool, room, hotel, clean, good, great, stay, area, breakfast"
          ],
          [
           "nice, pool, room, hotel, clean, good, great, stay, area, breakfast"
          ],
          [
           "nice, pool, room, hotel, clean, good, great, stay, area, breakfast"
          ],
          [
           "nice, pool, room, hotel, clean, good, great, stay, area, breakfast"
          ],
          [
           "nice, pool, room, hotel, clean, good, great, stay, area, breakfast"
          ],
          [
           "nice, pool, room, hotel, clean, good, great, stay, area, breakfast"
          ],
          [
           "nice, pool, room, hotel, clean, good, great, stay, area, breakfast"
          ],
          [
           "nice, pool, room, hotel, clean, good, great, stay, area, breakfast"
          ],
          [
           "nice, pool, room, hotel, clean, good, great, stay, area, breakfast"
          ],
          [
           "nice, pool, room, hotel, clean, good, great, stay, area, breakfast"
          ],
          [
           "nice, pool, room, hotel, clean, good, great, stay, area, breakfast"
          ],
          [
           "nice, pool, room, hotel, clean, good, great, stay, area, breakfast"
          ],
          [
           "nice, pool, room, hotel, clean, good, great, stay, area, breakfast"
          ],
          [
           "nice, pool, room, hotel, clean, good, great, stay, area, breakfast"
          ],
          [
           "nice, pool, room, hotel, clean, good, great, stay, area, breakfast"
          ],
          [
           "nice, pool, room, hotel, clean, good, great, stay, area, breakfast"
          ],
          [
           "nice, pool, room, hotel, clean, good, great, stay, area, breakfast"
          ],
          [
           "nice, pool, room, hotel, clean, good, great, stay, area, breakfast"
          ],
          [
           "nice, pool, room, hotel, clean, good, great, stay, area, breakfast"
          ],
          [
           "nice, pool, room, hotel, clean, good, great, stay, area, breakfast"
          ],
          [
           "nice, pool, room, hotel, clean, good, great, stay, area, breakfast"
          ],
          [
           "nice, pool, room, hotel, clean, good, great, stay, area, breakfast"
          ],
          [
           "nice, pool, room, hotel, clean, good, great, stay, area, breakfast"
          ],
          [
           "nice, pool, room, hotel, clean, good, great, stay, area, breakfast"
          ],
          [
           "nice, pool, room, hotel, clean, good, great, stay, area, breakfast"
          ],
          [
           "nice, pool, room, hotel, clean, good, great, stay, area, breakfast"
          ],
          [
           "nice, pool, room, hotel, clean, good, great, stay, area, breakfast"
          ],
          [
           "nice, pool, room, hotel, clean, good, great, stay, area, breakfast"
          ],
          [
           "nice, pool, room, hotel, clean, good, great, stay, area, breakfast"
          ],
          [
           "nice, pool, room, hotel, clean, good, great, stay, area, breakfast"
          ],
          [
           "nice, pool, room, hotel, clean, good, great, stay, area, breakfast"
          ],
          [
           "nice, pool, room, hotel, clean, good, great, stay, area, breakfast"
          ],
          [
           "nice, pool, room, hotel, clean, good, great, stay, area, breakfast"
          ],
          [
           "nice, pool, room, hotel, clean, good, great, stay, area, breakfast"
          ],
          [
           "nice, pool, room, hotel, clean, good, great, stay, area, breakfast"
          ],
          [
           "nice, pool, room, hotel, clean, good, great, stay, area, breakfast"
          ],
          [
           "nice, pool, room, hotel, clean, good, great, stay, area, breakfast"
          ],
          [
           "nice, pool, room, hotel, clean, good, great, stay, area, breakfast"
          ],
          [
           "nice, pool, room, hotel, clean, good, great, stay, area, breakfast"
          ],
          [
           "nice, pool, room, hotel, clean, good, great, stay, area, breakfast"
          ],
          [
           "nice, pool, room, hotel, clean, good, great, stay, area, breakfast"
          ],
          [
           "nice, pool, room, hotel, clean, good, great, stay, area, breakfast"
          ],
          [
           "nice, pool, room, hotel, clean, good, great, stay, area, breakfast"
          ],
          [
           "nice, pool, room, hotel, clean, good, great, stay, area, breakfast"
          ],
          [
           "nice, pool, room, hotel, clean, good, great, stay, area, breakfast"
          ],
          [
           "nice, pool, room, hotel, clean, good, great, stay, area, breakfast"
          ],
          [
           "nice, pool, room, hotel, clean, good, great, stay, area, breakfast"
          ],
          [
           "nice, pool, room, hotel, clean, good, great, stay, area, breakfast"
          ],
          [
           "nice, pool, room, hotel, clean, good, great, stay, area, breakfast"
          ],
          [
           "nice, pool, room, hotel, clean, good, great, stay, area, breakfast"
          ],
          [
           "nice, pool, room, hotel, clean, good, great, stay, area, breakfast"
          ],
          [
           "nice, pool, room, hotel, clean, good, great, stay, area, breakfast"
          ],
          [
           "nice, pool, room, hotel, clean, good, great, stay, area, breakfast"
          ],
          [
           "stay, great, staff, friend, help, clean, hotel, room, breakfast, locat"
          ],
          [
           "stay, great, staff, friend, help, clean, hotel, room, breakfast, locat"
          ],
          [
           "stay, great, staff, friend, help, clean, hotel, room, breakfast, locat"
          ],
          [
           "stay, great, staff, friend, help, clean, hotel, room, breakfast, locat"
          ],
          [
           "stay, great, staff, friend, help, clean, hotel, room, breakfast, locat"
          ],
          [
           "stay, great, staff, friend, help, clean, hotel, room, breakfast, locat"
          ],
          [
           "stay, great, staff, friend, help, clean, hotel, room, breakfast, locat"
          ],
          [
           "stay, great, staff, friend, help, clean, hotel, room, breakfast, locat"
          ],
          [
           "stay, great, staff, friend, help, clean, hotel, room, breakfast, locat"
          ],
          [
           "stay, great, staff, friend, help, clean, hotel, room, breakfast, locat"
          ],
          [
           "stay, great, staff, friend, help, clean, hotel, room, breakfast, locat"
          ],
          [
           "stay, great, staff, friend, help, clean, hotel, room, breakfast, locat"
          ],
          [
           "stay, great, staff, friend, help, clean, hotel, room, breakfast, locat"
          ],
          [
           "stay, great, staff, friend, help, clean, hotel, room, breakfast, locat"
          ],
          [
           "stay, great, staff, friend, help, clean, hotel, room, breakfast, locat"
          ],
          [
           "stay, great, staff, friend, help, clean, hotel, room, breakfast, locat"
          ],
          [
           "stay, great, staff, friend, help, clean, hotel, room, breakfast, locat"
          ],
          [
           "stay, great, staff, friend, help, clean, hotel, room, breakfast, locat"
          ],
          [
           "stay, great, staff, friend, help, clean, hotel, room, breakfast, locat"
          ],
          [
           "stay, great, staff, friend, help, clean, hotel, room, breakfast, locat"
          ],
          [
           "stay, great, staff, friend, help, clean, hotel, room, breakfast, locat"
          ],
          [
           "stay, great, staff, friend, help, clean, hotel, room, breakfast, locat"
          ],
          [
           "stay, great, staff, friend, help, clean, hotel, room, breakfast, locat"
          ],
          [
           "stay, great, staff, friend, help, clean, hotel, room, breakfast, locat"
          ],
          [
           "stay, great, staff, friend, help, clean, hotel, room, breakfast, locat"
          ],
          [
           "stay, great, staff, friend, help, clean, hotel, room, breakfast, locat"
          ],
          [
           "stay, great, staff, friend, help, clean, hotel, room, breakfast, locat"
          ],
          [
           "stay, great, staff, friend, help, clean, hotel, room, breakfast, locat"
          ],
          [
           "stay, great, staff, friend, help, clean, hotel, room, breakfast, locat"
          ],
          [
           "stay, great, staff, friend, help, clean, hotel, room, breakfast, locat"
          ],
          [
           "stay, great, staff, friend, help, clean, hotel, room, breakfast, locat"
          ],
          [
           "stay, great, staff, friend, help, clean, hotel, room, breakfast, locat"
          ],
          [
           "stay, great, staff, friend, help, clean, hotel, room, breakfast, locat"
          ],
          [
           "stay, great, staff, friend, help, clean, hotel, room, breakfast, locat"
          ],
          [
           "stay, great, staff, friend, help, clean, hotel, room, breakfast, locat"
          ],
          [
           "stay, great, staff, friend, help, clean, hotel, room, breakfast, locat"
          ],
          [
           "stay, great, staff, friend, help, clean, hotel, room, breakfast, locat"
          ],
          [
           "stay, great, staff, friend, help, clean, hotel, room, breakfast, locat"
          ],
          [
           "stay, great, staff, friend, help, clean, hotel, room, breakfast, locat"
          ],
          [
           "stay, great, staff, friend, help, clean, hotel, room, breakfast, locat"
          ],
          [
           "stay, great, staff, friend, help, clean, hotel, room, breakfast, locat"
          ],
          [
           "stay, great, staff, friend, help, clean, hotel, room, breakfast, locat"
          ],
          [
           "stay, great, staff, friend, help, clean, hotel, room, breakfast, locat"
          ],
          [
           "stay, great, staff, friend, help, clean, hotel, room, breakfast, locat"
          ],
          [
           "stay, great, staff, friend, help, clean, hotel, room, breakfast, locat"
          ],
          [
           "stay, great, staff, friend, help, clean, hotel, room, breakfast, locat"
          ],
          [
           "stay, great, staff, friend, help, clean, hotel, room, breakfast, locat"
          ],
          [
           "stay, great, staff, friend, help, clean, hotel, room, breakfast, locat"
          ],
          [
           "stay, great, staff, friend, help, clean, hotel, room, breakfast, locat"
          ],
          [
           "stay, great, staff, friend, help, clean, hotel, room, breakfast, locat"
          ],
          [
           "stay, great, staff, friend, help, clean, hotel, room, breakfast, locat"
          ],
          [
           "stay, great, staff, friend, help, clean, hotel, room, breakfast, locat"
          ],
          [
           "stay, great, staff, friend, help, clean, hotel, room, breakfast, locat"
          ],
          [
           "stay, great, staff, friend, help, clean, hotel, room, breakfast, locat"
          ],
          [
           "stay, great, staff, friend, help, clean, hotel, room, breakfast, locat"
          ],
          [
           "hotel, stay, room, great, servic, staff, locat, place, restaur, breakfast"
          ],
          [
           "hotel, stay, room, great, servic, staff, locat, place, restaur, breakfast"
          ],
          [
           "hotel, stay, room, great, servic, staff, locat, place, restaur, breakfast"
          ],
          [
           "hotel, stay, room, great, servic, staff, locat, place, restaur, breakfast"
          ],
          [
           "hotel, stay, room, great, servic, staff, locat, place, restaur, breakfast"
          ],
          [
           "hotel, stay, room, great, servic, staff, locat, place, restaur, breakfast"
          ],
          [
           "hotel, stay, room, great, servic, staff, locat, place, restaur, breakfast"
          ],
          [
           "hotel, stay, room, great, servic, staff, locat, place, restaur, breakfast"
          ],
          [
           "hotel, stay, room, great, servic, staff, locat, place, restaur, breakfast"
          ],
          [
           "hotel, stay, room, great, servic, staff, locat, place, restaur, breakfast"
          ],
          [
           "hotel, stay, room, great, servic, staff, locat, place, restaur, breakfast"
          ],
          [
           "hotel, stay, room, great, servic, staff, locat, place, restaur, breakfast"
          ],
          [
           "hotel, stay, room, great, servic, staff, locat, place, restaur, breakfast"
          ],
          [
           "hotel, stay, room, great, servic, staff, locat, place, restaur, breakfast"
          ],
          [
           "hotel, stay, room, great, servic, staff, locat, place, restaur, breakfast"
          ],
          [
           "hotel, stay, room, great, servic, staff, locat, place, restaur, breakfast"
          ],
          [
           "hotel, stay, room, great, servic, staff, locat, place, restaur, breakfast"
          ],
          [
           "hotel, stay, room, great, servic, staff, locat, place, restaur, breakfast"
          ],
          [
           "hotel, stay, room, great, servic, staff, locat, place, restaur, breakfast"
          ],
          [
           "hotel, stay, room, great, servic, staff, locat, place, restaur, breakfast"
          ],
          [
           "hotel, stay, room, great, servic, staff, locat, place, restaur, breakfast"
          ],
          [
           "hotel, stay, room, great, servic, staff, locat, place, restaur, breakfast"
          ],
          [
           "hotel, stay, room, great, servic, staff, locat, place, restaur, breakfast"
          ],
          [
           "hotel, stay, room, great, servic, staff, locat, place, restaur, breakfast"
          ],
          [
           "hotel, stay, room, great, servic, staff, locat, place, restaur, breakfast"
          ],
          [
           "hotel, stay, room, great, servic, staff, locat, place, restaur, breakfast"
          ],
          [
           "hotel, stay, room, great, servic, staff, locat, place, restaur, breakfast"
          ],
          [
           "hotel, stay, room, great, servic, staff, locat, place, restaur, breakfast"
          ],
          [
           "hotel, stay, room, great, servic, staff, locat, place, restaur, breakfast"
          ],
          [
           "hotel, stay, room, great, servic, staff, locat, place, restaur, breakfast"
          ],
          [
           "hotel, stay, room, great, servic, staff, locat, place, restaur, breakfast"
          ],
          [
           "hotel, stay, room, great, servic, staff, locat, place, restaur, breakfast"
          ],
          [
           "hotel, stay, room, great, servic, staff, locat, place, restaur, breakfast"
          ],
          [
           "hotel, stay, room, great, servic, staff, locat, place, restaur, breakfast"
          ],
          [
           "hotel, stay, room, great, servic, staff, locat, place, restaur, breakfast"
          ],
          [
           "hotel, stay, room, great, servic, staff, locat, place, restaur, breakfast"
          ],
          [
           "hotel, stay, room, great, servic, staff, locat, place, restaur, breakfast"
          ],
          [
           "hotel, stay, room, great, servic, staff, locat, place, restaur, breakfast"
          ],
          [
           "hotel, stay, room, great, servic, staff, locat, place, restaur, breakfast"
          ],
          [
           "hotel, stay, room, great, servic, staff, locat, place, restaur, breakfast"
          ],
          [
           "hotel, stay, room, great, servic, staff, locat, place, restaur, breakfast"
          ],
          [
           "hotel, stay, room, great, servic, staff, locat, place, restaur, breakfast"
          ],
          [
           "hotel, stay, room, great, servic, staff, locat, place, restaur, breakfast"
          ],
          [
           "hotel, stay, room, great, servic, staff, locat, place, restaur, breakfast"
          ],
          [
           "hotel, stay, room, great, servic, staff, locat, place, restaur, breakfast"
          ],
          [
           "hotel, stay, room, great, servic, staff, locat, place, restaur, breakfast"
          ],
          [
           "hotel, stay, room, great, servic, staff, locat, place, restaur, breakfast"
          ],
          [
           "hotel, stay, room, great, servic, staff, locat, place, restaur, breakfast"
          ],
          [
           "hotel, stay, room, great, servic, staff, locat, place, restaur, breakfast"
          ],
          [
           "hotel, stay, room, great, servic, staff, locat, place, restaur, breakfast"
          ],
          [
           "hotel, stay, room, great, servic, staff, locat, place, restaur, breakfast"
          ],
          [
           "hotel, stay, room, great, servic, staff, locat, place, restaur, breakfast"
          ],
          [
           "hotel, stay, room, great, servic, staff, locat, place, restaur, breakfast"
          ],
          [
           "hotel, stay, room, great, servic, staff, locat, place, restaur, breakfast"
          ],
          [
           "hotel, stay, room, great, servic, staff, locat, place, restaur, breakfast"
          ],
          [
           "hotel, stay, room, great, servic, staff, locat, place, restaur, breakfast"
          ],
          [
           "hotel, stay, room, great, servic, staff, locat, place, restaur, breakfast"
          ],
          [
           "hotel, stay, room, great, servic, staff, locat, place, restaur, breakfast"
          ],
          [
           "hotel, stay, room, great, servic, staff, locat, place, restaur, breakfast"
          ],
          [
           "hotel, stay, room, great, servic, staff, locat, place, restaur, breakfast"
          ],
          [
           "hotel, stay, room, great, servic, staff, locat, place, restaur, breakfast"
          ],
          [
           "hotel, stay, room, great, servic, staff, locat, place, restaur, breakfast"
          ],
          [
           "hotel, stay, room, great, servic, staff, locat, place, restaur, breakfast"
          ],
          [
           "desk, front, room, hotel, staff, stay, help, great, servic, breakfast"
          ],
          [
           "desk, front, room, hotel, staff, stay, help, great, servic, breakfast"
          ],
          [
           "desk, front, room, hotel, staff, stay, help, great, servic, breakfast"
          ],
          [
           "desk, front, room, hotel, staff, stay, help, great, servic, breakfast"
          ],
          [
           "desk, front, room, hotel, staff, stay, help, great, servic, breakfast"
          ],
          [
           "desk, front, room, hotel, staff, stay, help, great, servic, breakfast"
          ],
          [
           "desk, front, room, hotel, staff, stay, help, great, servic, breakfast"
          ],
          [
           "desk, front, room, hotel, staff, stay, help, great, servic, breakfast"
          ],
          [
           "desk, front, room, hotel, staff, stay, help, great, servic, breakfast"
          ],
          [
           "desk, front, room, hotel, staff, stay, help, great, servic, breakfast"
          ],
          [
           "desk, front, room, hotel, staff, stay, help, great, servic, breakfast"
          ],
          [
           "desk, front, room, hotel, staff, stay, help, great, servic, breakfast"
          ],
          [
           "desk, front, room, hotel, staff, stay, help, great, servic, breakfast"
          ],
          [
           "desk, front, room, hotel, staff, stay, help, great, servic, breakfast"
          ],
          [
           "desk, front, room, hotel, staff, stay, help, great, servic, breakfast"
          ],
          [
           "desk, front, room, hotel, staff, stay, help, great, servic, breakfast"
          ],
          [
           "desk, front, room, hotel, staff, stay, help, great, servic, breakfast"
          ],
          [
           "desk, front, room, hotel, staff, stay, help, great, servic, breakfast"
          ],
          [
           "desk, front, room, hotel, staff, stay, help, great, servic, breakfast"
          ],
          [
           "desk, front, room, hotel, staff, stay, help, great, servic, breakfast"
          ],
          [
           "desk, front, room, hotel, staff, stay, help, great, servic, breakfast"
          ],
          [
           "desk, front, room, hotel, staff, stay, help, great, servic, breakfast"
          ],
          [
           "desk, front, room, hotel, staff, stay, help, great, servic, breakfast"
          ],
          [
           "desk, front, room, hotel, staff, stay, help, great, servic, breakfast"
          ],
          [
           "desk, front, room, hotel, staff, stay, help, great, servic, breakfast"
          ],
          [
           "desk, front, room, hotel, staff, stay, help, great, servic, breakfast"
          ],
          [
           "desk, front, room, hotel, staff, stay, help, great, servic, breakfast"
          ],
          [
           "desk, front, room, hotel, staff, stay, help, great, servic, breakfast"
          ],
          [
           "desk, front, room, hotel, staff, stay, help, great, servic, breakfast"
          ],
          [
           "desk, front, room, hotel, staff, stay, help, great, servic, breakfast"
          ],
          [
           "desk, front, room, hotel, staff, stay, help, great, servic, breakfast"
          ],
          [
           "desk, front, room, hotel, staff, stay, help, great, servic, breakfast"
          ],
          [
           "desk, front, room, hotel, staff, stay, help, great, servic, breakfast"
          ],
          [
           "desk, front, room, hotel, staff, stay, help, great, servic, breakfast"
          ],
          [
           "desk, front, room, hotel, staff, stay, help, great, servic, breakfast"
          ],
          [
           "desk, front, room, hotel, staff, stay, help, great, servic, breakfast"
          ],
          [
           "desk, front, room, hotel, staff, stay, help, great, servic, breakfast"
          ],
          [
           "desk, front, room, hotel, staff, stay, help, great, servic, breakfast"
          ],
          [
           "desk, front, room, hotel, staff, stay, help, great, servic, breakfast"
          ],
          [
           "desk, front, room, hotel, staff, stay, help, great, servic, breakfast"
          ],
          [
           "desk, front, room, hotel, staff, stay, help, great, servic, breakfast"
          ],
          [
           "desk, front, room, hotel, staff, stay, help, great, servic, breakfast"
          ],
          [
           "desk, front, room, hotel, staff, stay, help, great, servic, breakfast"
          ],
          [
           "desk, front, room, hotel, staff, stay, help, great, servic, breakfast"
          ],
          [
           "desk, front, room, hotel, staff, stay, help, great, servic, breakfast"
          ],
          [
           "desk, front, room, hotel, staff, stay, help, great, servic, breakfast"
          ],
          [
           "room, experi, apolog, stay, guest, hotel, sorri, feedback, thank, hope"
          ],
          [
           "room, experi, apolog, stay, guest, hotel, sorri, feedback, thank, hope"
          ],
          [
           "room, experi, apolog, stay, guest, hotel, sorri, feedback, thank, hope"
          ],
          [
           "room, experi, apolog, stay, guest, hotel, sorri, feedback, thank, hope"
          ],
          [
           "room, experi, apolog, stay, guest, hotel, sorri, feedback, thank, hope"
          ],
          [
           "room, experi, apolog, stay, guest, hotel, sorri, feedback, thank, hope"
          ],
          [
           "room, experi, apolog, stay, guest, hotel, sorri, feedback, thank, hope"
          ],
          [
           "room, experi, apolog, stay, guest, hotel, sorri, feedback, thank, hope"
          ],
          [
           "room, experi, apolog, stay, guest, hotel, sorri, feedback, thank, hope"
          ],
          [
           "room, experi, apolog, stay, guest, hotel, sorri, feedback, thank, hope"
          ],
          [
           "room, experi, apolog, stay, guest, hotel, sorri, feedback, thank, hope"
          ],
          [
           "room, experi, apolog, stay, guest, hotel, sorri, feedback, thank, hope"
          ],
          [
           "room, experi, apolog, stay, guest, hotel, sorri, feedback, thank, hope"
          ],
          [
           "room, experi, apolog, stay, guest, hotel, sorri, feedback, thank, hope"
          ],
          [
           "room, experi, apolog, stay, guest, hotel, sorri, feedback, thank, hope"
          ],
          [
           "room, experi, apolog, stay, guest, hotel, sorri, feedback, thank, hope"
          ],
          [
           "room, experi, apolog, stay, guest, hotel, sorri, feedback, thank, hope"
          ],
          [
           "room, experi, apolog, stay, guest, hotel, sorri, feedback, thank, hope"
          ],
          [
           "room, experi, apolog, stay, guest, hotel, sorri, feedback, thank, hope"
          ],
          [
           "room, experi, apolog, stay, guest, hotel, sorri, feedback, thank, hope"
          ],
          [
           "room, experi, apolog, stay, guest, hotel, sorri, feedback, thank, hope"
          ],
          [
           "room, experi, apolog, stay, guest, hotel, sorri, feedback, thank, hope"
          ],
          [
           "room, experi, apolog, stay, guest, hotel, sorri, feedback, thank, hope"
          ],
          [
           "room, experi, apolog, stay, guest, hotel, sorri, feedback, thank, hope"
          ],
          [
           "room, experi, apolog, stay, guest, hotel, sorri, feedback, thank, hope"
          ],
          [
           "room, experi, apolog, stay, guest, hotel, sorri, feedback, thank, hope"
          ],
          [
           "room, experi, apolog, stay, guest, hotel, sorri, feedback, thank, hope"
          ],
          [
           "(?)"
          ],
          [
           "(?)"
          ],
          [
           "(?)"
          ],
          [
           "(?)"
          ],
          [
           "(?)"
          ],
          [
           "(?)"
          ],
          [
           "(?)"
          ],
          [
           "(?)"
          ],
          [
           "(?)"
          ],
          [
           "(?)"
          ],
          [
           "(?)"
          ],
          [
           "(?)"
          ],
          [
           "(?)"
          ],
          [
           "(?)"
          ],
          [
           "(?)"
          ],
          [
           "(?)"
          ],
          [
           "(?)"
          ],
          [
           "(?)"
          ],
          [
           "(?)"
          ],
          [
           "(?)"
          ],
          [
           "(?)"
          ],
          [
           "(?)"
          ],
          [
           "(?)"
          ],
          [
           "(?)"
          ],
          [
           "(?)"
          ],
          [
           "(?)"
          ],
          [
           "(?)"
          ],
          [
           "(?)"
          ],
          [
           "(?)"
          ],
          [
           "(?)"
          ],
          [
           "(?)"
          ],
          [
           "(?)"
          ],
          [
           "(?)"
          ],
          [
           "(?)"
          ],
          [
           "(?)"
          ],
          [
           "(?)"
          ],
          [
           "(?)"
          ],
          [
           "(?)"
          ],
          [
           "(?)"
          ],
          [
           "(?)"
          ],
          [
           "(?)"
          ],
          [
           "(?)"
          ],
          [
           "(?)"
          ],
          [
           "(?)"
          ],
          [
           "(?)"
          ],
          [
           "(?)"
          ],
          [
           "(?)"
          ],
          [
           "(?)"
          ],
          [
           "(?)"
          ],
          [
           "(?)"
          ],
          [
           "(?)"
          ],
          [
           "(?)"
          ],
          [
           "(?)"
          ],
          [
           "(?)"
          ],
          [
           "(?)"
          ],
          [
           "(?)"
          ],
          [
           "(?)"
          ],
          [
           "(?)"
          ],
          [
           "(?)"
          ],
          [
           "(?)"
          ],
          [
           "(?)"
          ],
          [
           "(?)"
          ],
          [
           "(?)"
          ],
          [
           "(?)"
          ],
          [
           "(?)"
          ],
          [
           "(?)"
          ],
          [
           "(?)"
          ],
          [
           "(?)"
          ],
          [
           "(?)"
          ],
          [
           "(?)"
          ],
          [
           "(?)"
          ],
          [
           "(?)"
          ],
          [
           "(?)"
          ],
          [
           "(?)"
          ],
          [
           "(?)"
          ],
          [
           "(?)"
          ],
          [
           "(?)"
          ],
          [
           "(?)"
          ],
          [
           "(?)"
          ],
          [
           "(?)"
          ],
          [
           "(?)"
          ],
          [
           "(?)"
          ],
          [
           "(?)"
          ],
          [
           "(?)"
          ],
          [
           "(?)"
          ],
          [
           "(?)"
          ],
          [
           "(?)"
          ],
          [
           "(?)"
          ],
          [
           "(?)"
          ],
          [
           "(?)"
          ],
          [
           "(?)"
          ],
          [
           "(?)"
          ],
          [
           "(?)"
          ]
         ],
         "domain": {
          "x": [
           0,
           1
          ],
          "y": [
           0,
           1
          ]
         },
         "hovertemplate": "labels=%{label}<br>Count=%{value}<br>parent=%{parent}<br>id=%{id}<br>keywords=%{customdata[0]}<extra></extra>",
         "ids": [
          "CA/Anaheim/0",
          "GA/Atlanta/0",
          "OR/Bend/0",
          "MA/Boston/0",
          "NC/Charlotte/0",
          "IL/Chicago/0",
          "VA/Chincoteague Island/0",
          "CO/Colorado Springs/0",
          "TX/Dallas/0",
          "CO/Estes Park/0",
          "HI/Honolulu/0",
          "TN/Jackson/0",
          "FL/Key West/0",
          "CA/La Jolla/0",
          "KY/Lexington/0",
          "KY/Louisville/0",
          "FL/Miami/0",
          "MN/Minneapolis/0",
          "CA/Napa/0",
          "LA/New Orleans/0",
          "NY/New York/0",
          "FL/Orlando/0",
          "PA/Philadelphia/0",
          "AZ/Phoenix/0",
          "OR/Portland/0",
          "MO/Saint Louis/0",
          "FL/Saint Petersburg/0",
          "TX/San Antonio/0",
          "CA/San Diego/0",
          "CA/San Francisco/0",
          "CA/Santa Monica/0",
          "WA/Seattle/0",
          "OK/Tulsa/0",
          "WI/Wisconsin Dells/0",
          "TX/Dallas/1",
          "FL/Miami/1",
          "FL/Orlando/1",
          "CA/Anaheim/10",
          "GA/Atlanta/10",
          "NC/Charlotte/10",
          "IL/Chicago/10",
          "CO/Colorado Springs/10",
          "TX/Dallas/10",
          "FL/Key West/10",
          "CA/La Jolla/10",
          "KY/Lexington/10",
          "FL/Miami/10",
          "MN/Minneapolis/10",
          "LA/New Orleans/10",
          "NY/New York/10",
          "FL/Orlando/10",
          "PA/Philadelphia/10",
          "AZ/Phoenix/10",
          "CA/San Diego/10",
          "CA/San Francisco/10",
          "WA/Seattle/10",
          "CA/Anaheim/11",
          "GA/Atlanta/11",
          "NC/Charlotte/11",
          "IL/Chicago/11",
          "TX/Dallas/11",
          "FL/Fort Myers Beach/11",
          "HI/Honolulu/11",
          "FL/Key West/11",
          "PA/King of Prussia/11",
          "KY/Lexington/11",
          "GA/Macon/11",
          "FL/Miami/11",
          "CA/Napa/11",
          "LA/New Orleans/11",
          "FL/Orlando/11",
          "UT/Saint George/11",
          "MO/Saint Louis/11",
          "CA/San Diego/11",
          "CA/San Francisco/11",
          "WA/Seattle/11",
          "CA/South Lake Tahoe/11",
          "FL/Tampa/11",
          "WI/Wisconsin Dells/11",
          "NJ/Atlantic City/12",
          "OR/Cannon Beach/12",
          "VA/Chincoteague Island/12",
          "FL/Destin/12",
          "FL/Fort Myers Beach/12",
          "SC/Hilton Head Island/12",
          "HI/Honolulu/12",
          "FL/Key West/12",
          "CA/La Jolla/12",
          "HI/Lahaina/12",
          "NV/Las Vegas/12",
          "FL/Miami/12",
          "FL/Naples/12",
          "FL/Orlando/12",
          "TN/Pigeon Forge/12",
          "CA/San Diego/12",
          "CA/San Francisco/12",
          "CA/South Lake Tahoe/12",
          "FL/Tampa/12",
          "IL/Chicago/13",
          "LA/New Orleans/14",
          "CA/Anaheim/15",
          "GA/Atlanta/15",
          "NC/Charlotte/15",
          "IL/Chicago/15",
          "CO/Colorado Springs/15",
          "TX/Dallas/15",
          "FL/Fort Myers Beach/15",
          "PA/Harrisburg/15",
          "HI/Honolulu/15",
          "IN/Indianapolis/15",
          "TN/Jackson/15",
          "FL/Key West/15",
          "CA/La Jolla/15",
          "HI/Lahaina/15",
          "NV/Las Vegas/15",
          "KY/Lexington/15",
          "KY/Louisville/15",
          "GA/Macon/15",
          "WI/Madison/15",
          "FL/Miami/15",
          "CA/Napa/15",
          "FL/Naples/15",
          "LA/New Orleans/15",
          "NE/North Platte/15",
          "FL/Orlando/15",
          "TX/Palestine/15",
          "PA/Philadelphia/15",
          "AZ/Phoenix/15",
          "UT/Saint George/15",
          "MO/Saint Louis/15",
          "FL/Saint Petersburg/15",
          "CA/San Diego/15",
          "CA/San Francisco/15",
          "WA/Seattle/15",
          "WI/Sheboygan/15",
          "FL/Tampa/15",
          "OK/Tulsa/15",
          "WI/Wisconsin Dells/15",
          "WA/Arlington/16",
          "WA/Seattle/16",
          "CA/Anaheim/17",
          "GA/Atlanta/17",
          "NJ/Atlantic City/17",
          "OR/Bend/17",
          "OR/Cannon Beach/17",
          "NC/Charlotte/17",
          "IL/Chicago/17",
          "VA/Chincoteague Island/17",
          "CO/Colorado Springs/17",
          "TX/Dallas/17",
          "CO/Estes Park/17",
          "GA/Helen/17",
          "HI/Honolulu/17",
          "IN/Indianapolis/17",
          "TN/Jackson/17",
          "NE/Kearney/17",
          "FL/Key West/17",
          "CA/La Jolla/17",
          "HI/Lahaina/17",
          "NV/Las Vegas/17",
          "KY/Lexington/17",
          "NE/Lincoln/17",
          "KY/Louisville/17",
          "GA/Macon/17",
          "FL/Miami/17",
          "CA/Napa/17",
          "FL/Naples/17",
          "LA/New Orleans/17",
          "NY/New York/17",
          "NE/North Platte/17",
          "FL/Orlando/17",
          "TX/Palestine/17",
          "PA/Philadelphia/17",
          "AZ/Phoenix/17",
          "TN/Pigeon Forge/17",
          "UT/Saint George/17",
          "TX/San Antonio/17",
          "CA/San Diego/17",
          "CA/San Francisco/17",
          "WA/Seattle/17",
          "WI/Sheboygan/17",
          "CA/South Lake Tahoe/17",
          "FL/Tampa/17",
          "OK/Tulsa/17",
          "WA/Arlington/18",
          "TX/Dallas/18",
          "TN/Gatlinburg/18",
          "IN/Indianapolis/18",
          "NE/Kearney/18",
          "PA/King of Prussia/18",
          "FL/Miami/18",
          "LA/New Orleans/18",
          "NY/New York/18",
          "FL/Orlando/18",
          "NM/Raton/18",
          "VA/Roanoke/18",
          "UT/Saint George/18",
          "CA/San Diego/18",
          "CA/Anaheim/19",
          "GA/Atlanta/19",
          "NJ/Atlantic City/19",
          "OR/Bend/19",
          "MA/Boston/19",
          "IL/Chicago/19",
          "TX/Dallas/19",
          "CO/Estes Park/19",
          "TN/Gatlinburg/19",
          "PA/Harrisburg/19",
          "GA/Helen/19",
          "HI/Honolulu/19",
          "TN/Jackson/19",
          "NE/Kearney/19",
          "FL/Key West/19",
          "PA/King of Prussia/19",
          "CA/La Jolla/19",
          "KY/Lexington/19",
          "NE/Lincoln/19",
          "KY/Louisville/19",
          "WI/Madison/19",
          "OR/McMinnville/19",
          "FL/Miami/19",
          "MN/Minneapolis/19",
          "CA/Napa/19",
          "FL/Naples/19",
          "LA/New Orleans/19",
          "NY/New York/19",
          "NE/North Platte/19",
          "FL/Orlando/19",
          "PA/Philadelphia/19",
          "AZ/Phoenix/19",
          "TN/Pigeon Forge/19",
          "AZ/Prescott/19",
          "NM/Raton/19",
          "VA/Roanoke/19",
          "UT/Saint George/19",
          "FL/Saint Petersburg/19",
          "CA/San Diego/19",
          "CA/San Francisco/19",
          "CA/Santa Monica/19",
          "WA/Seattle/19",
          "WI/Sheboygan/19",
          "CA/South Lake Tahoe/19",
          "FL/Tampa/19",
          "CA/Anaheim/2",
          "FL/Orlando/2",
          "LA/New Orleans/20",
          "NY/New York/20",
          "AZ/Phoenix/20",
          "CA/San Francisco/20",
          "WA/Seattle/20",
          "GA/Atlanta/21",
          "NY/New York/21",
          "TX/San Antonio/21",
          "CA/San Diego/21",
          "CA/Anaheim/22",
          "WA/Arlington/22",
          "GA/Atlanta/22",
          "OR/Cannon Beach/22",
          "IL/Chicago/22",
          "TX/Dallas/22",
          "FL/Destin/22",
          "TN/Gatlinburg/22",
          "HI/Honolulu/22",
          "FL/Key West/22",
          "CA/La Jolla/22",
          "HI/Lahaina/22",
          "NV/Las Vegas/22",
          "KY/Louisville/22",
          "WI/Madison/22",
          "FL/Miami/22",
          "CA/Napa/22",
          "LA/New Orleans/22",
          "NY/New York/22",
          "FL/Orlando/22",
          "PA/Philadelphia/22",
          "AZ/Phoenix/22",
          "NM/Raton/22",
          "UT/Saint George/22",
          "TX/San Antonio/22",
          "CA/San Diego/22",
          "CA/San Francisco/22",
          "WA/Seattle/22",
          "SC/Hilton Head Island/23",
          "HI/Honolulu/23",
          "CA/La Jolla/23",
          "HI/Lahaina/23",
          "TN/Pigeon Forge/23",
          "GA/Atlanta/24",
          "CA/Anaheim/3",
          "GA/Atlanta/3",
          "NJ/Atlantic City/3",
          "IL/Chicago/3",
          "TX/Dallas/3",
          "CO/Estes Park/3",
          "IN/Indianapolis/3",
          "TN/Jackson/3",
          "PA/King of Prussia/3",
          "NV/Las Vegas/3",
          "NE/Lincoln/3",
          "KY/Louisville/3",
          "GA/Macon/3",
          "WI/Madison/3",
          "FL/Miami/3",
          "CA/Napa/3",
          "FL/Naples/3",
          "LA/New Orleans/3",
          "FL/Orlando/3",
          "PA/Philadelphia/3",
          "AZ/Phoenix/3",
          "UT/Saint George/3",
          "FL/Saint Petersburg/3",
          "CA/San Diego/3",
          "CA/San Francisco/3",
          "WA/Seattle/3",
          "CA/South Lake Tahoe/3",
          "FL/Tampa/3",
          "OK/Tulsa/3",
          "CA/Anaheim/4",
          "GA/Atlanta/4",
          "OR/Bend/4",
          "MA/Boston/4",
          "OR/Cannon Beach/4",
          "NC/Charlotte/4",
          "IL/Chicago/4",
          "VA/Chincoteague Island/4",
          "CO/Colorado Springs/4",
          "NM/Corrales/4",
          "TX/Dallas/4",
          "FL/Destin/4",
          "CO/Estes Park/4",
          "TN/Gatlinburg/4",
          "GA/Helen/4",
          "SC/Hilton Head Island/4",
          "HI/Honolulu/4",
          "TN/Jackson/4",
          "FL/Key West/4",
          "CA/La Jolla/4",
          "HI/Lahaina/4",
          "NV/Las Vegas/4",
          "KY/Lexington/4",
          "FL/Miami/4",
          "LA/New Orleans/4",
          "NY/New York/4",
          "NE/North Platte/4",
          "FL/Orlando/4",
          "PA/Philadelphia/4",
          "AZ/Phoenix/4",
          "TN/Pigeon Forge/4",
          "OR/Portland/4",
          "MO/Saint Louis/4",
          "FL/Saint Petersburg/4",
          "TX/San Antonio/4",
          "CA/San Diego/4",
          "CA/San Francisco/4",
          "WA/Seattle/4",
          "WI/Wisconsin Dells/4",
          "CA/Anaheim/5",
          "WA/Arlington/5",
          "GA/Atlanta/5",
          "NJ/Atlantic City/5",
          "MA/Boston/5",
          "NC/Charlotte/5",
          "IL/Chicago/5",
          "VA/Chincoteague Island/5",
          "CO/Colorado Springs/5",
          "TX/Dallas/5",
          "FL/Fort Myers Beach/5",
          "TN/Gatlinburg/5",
          "PA/Harrisburg/5",
          "GA/Helen/5",
          "HI/Honolulu/5",
          "IN/Indianapolis/5",
          "TN/Jackson/5",
          "NE/Kearney/5",
          "FL/Key West/5",
          "PA/King of Prussia/5",
          "CA/La Jolla/5",
          "HI/Lahaina/5",
          "NV/Las Vegas/5",
          "KY/Lexington/5",
          "NE/Lincoln/5",
          "KY/Louisville/5",
          "GA/Macon/5",
          "OR/McMinnville/5",
          "FL/Miami/5",
          "MN/Minneapolis/5",
          "CA/Napa/5",
          "FL/Naples/5",
          "LA/New Orleans/5",
          "NY/New York/5",
          "NE/North Platte/5",
          "FL/Orlando/5",
          "TX/Palestine/5",
          "PA/Philadelphia/5",
          "AZ/Phoenix/5",
          "TN/Pigeon Forge/5",
          "OR/Portland/5",
          "AZ/Prescott/5",
          "NM/Raton/5",
          "VA/Roanoke/5",
          "UT/Saint George/5",
          "MO/Saint Louis/5",
          "FL/Saint Petersburg/5",
          "TX/San Antonio/5",
          "CA/San Diego/5",
          "CA/San Francisco/5",
          "WA/Seattle/5",
          "WI/Sheboygan/5",
          "CA/South Lake Tahoe/5",
          "FL/Tampa/5",
          "OK/Tulsa/5",
          "WI/Wisconsin Dells/5",
          "CA/Anaheim/6",
          "WA/Arlington/6",
          "GA/Atlanta/6",
          "OR/Bend/6",
          "OR/Cannon Beach/6",
          "NC/Charlotte/6",
          "IL/Chicago/6",
          "VA/Chincoteague Island/6",
          "CO/Colorado Springs/6",
          "NM/Corrales/6",
          "TX/Dallas/6",
          "FL/Destin/6",
          "CO/Estes Park/6",
          "FL/Fort Myers Beach/6",
          "PA/Harrisburg/6",
          "GA/Helen/6",
          "SC/Hilton Head Island/6",
          "HI/Honolulu/6",
          "TN/Jackson/6",
          "NE/Kearney/6",
          "FL/Key West/6",
          "CA/La Jolla/6",
          "HI/Lahaina/6",
          "NE/Lincoln/6",
          "KY/Louisville/6",
          "GA/Macon/6",
          "WI/Madison/6",
          "OR/McMinnville/6",
          "FL/Miami/6",
          "MN/Minneapolis/6",
          "CA/Napa/6",
          "FL/Naples/6",
          "LA/New Orleans/6",
          "NY/New York/6",
          "NE/North Platte/6",
          "FL/Orlando/6",
          "TX/Palestine/6",
          "PA/Philadelphia/6",
          "AZ/Phoenix/6",
          "TN/Pigeon Forge/6",
          "OR/Portland/6",
          "AZ/Prescott/6",
          "NM/Raton/6",
          "VA/Roanoke/6",
          "UT/Saint George/6",
          "MO/Saint Louis/6",
          "FL/Saint Petersburg/6",
          "TX/San Antonio/6",
          "CA/San Diego/6",
          "CA/San Francisco/6",
          "WA/Seattle/6",
          "WI/Sheboygan/6",
          "CA/South Lake Tahoe/6",
          "FL/Tampa/6",
          "OK/Tulsa/6",
          "CA/Anaheim/7",
          "WA/Arlington/7",
          "GA/Atlanta/7",
          "NJ/Atlantic City/7",
          "OR/Bend/7",
          "MA/Boston/7",
          "OR/Cannon Beach/7",
          "NC/Charlotte/7",
          "IL/Chicago/7",
          "VA/Chincoteague Island/7",
          "CO/Colorado Springs/7",
          "NM/Corrales/7",
          "TX/Dallas/7",
          "FL/Destin/7",
          "CO/Estes Park/7",
          "FL/Fort Myers Beach/7",
          "TN/Gatlinburg/7",
          "PA/Harrisburg/7",
          "GA/Helen/7",
          "SC/Hilton Head Island/7",
          "HI/Honolulu/7",
          "IN/Indianapolis/7",
          "TN/Jackson/7",
          "NE/Kearney/7",
          "FL/Key West/7",
          "PA/King of Prussia/7",
          "CA/La Jolla/7",
          "HI/Lahaina/7",
          "NV/Las Vegas/7",
          "KY/Lexington/7",
          "NE/Lincoln/7",
          "KY/Louisville/7",
          "GA/Macon/7",
          "WI/Madison/7",
          "OR/McMinnville/7",
          "FL/Miami/7",
          "MN/Minneapolis/7",
          "CA/Napa/7",
          "FL/Naples/7",
          "LA/New Orleans/7",
          "NY/New York/7",
          "NE/North Platte/7",
          "FL/Orlando/7",
          "TX/Palestine/7",
          "PA/Philadelphia/7",
          "AZ/Phoenix/7",
          "TN/Pigeon Forge/7",
          "OR/Portland/7",
          "AZ/Prescott/7",
          "NM/Raton/7",
          "VA/Roanoke/7",
          "UT/Saint George/7",
          "MO/Saint Louis/7",
          "FL/Saint Petersburg/7",
          "TX/San Antonio/7",
          "CA/San Diego/7",
          "CA/San Francisco/7",
          "CA/Santa Monica/7",
          "WA/Seattle/7",
          "WI/Sheboygan/7",
          "CA/South Lake Tahoe/7",
          "FL/Tampa/7",
          "WI/Wisconsin Dells/7",
          "CA/Anaheim/8",
          "GA/Atlanta/8",
          "NJ/Atlantic City/8",
          "NC/Charlotte/8",
          "IL/Chicago/8",
          "VA/Chincoteague Island/8",
          "CO/Colorado Springs/8",
          "TX/Dallas/8",
          "FL/Fort Myers Beach/8",
          "TN/Gatlinburg/8",
          "PA/Harrisburg/8",
          "SC/Hilton Head Island/8",
          "HI/Honolulu/8",
          "IN/Indianapolis/8",
          "TN/Jackson/8",
          "NE/Kearney/8",
          "FL/Key West/8",
          "CA/La Jolla/8",
          "HI/Lahaina/8",
          "NV/Las Vegas/8",
          "KY/Lexington/8",
          "NE/Lincoln/8",
          "KY/Louisville/8",
          "GA/Macon/8",
          "FL/Miami/8",
          "MN/Minneapolis/8",
          "CA/Napa/8",
          "FL/Naples/8",
          "LA/New Orleans/8",
          "NY/New York/8",
          "FL/Orlando/8",
          "TX/Palestine/8",
          "PA/Philadelphia/8",
          "AZ/Phoenix/8",
          "TN/Pigeon Forge/8",
          "OR/Portland/8",
          "NM/Raton/8",
          "VA/Roanoke/8",
          "MO/Saint Louis/8",
          "TX/San Antonio/8",
          "CA/San Diego/8",
          "CA/San Francisco/8",
          "WA/Seattle/8",
          "CA/South Lake Tahoe/8",
          "FL/Tampa/8",
          "WI/Wisconsin Dells/8",
          "CA/Anaheim/9",
          "GA/Atlanta/9",
          "OR/Cannon Beach/9",
          "IL/Chicago/9",
          "TX/Dallas/9",
          "FL/Destin/9",
          "TN/Gatlinburg/9",
          "HI/Honolulu/9",
          "FL/Key West/9",
          "CA/La Jolla/9",
          "HI/Lahaina/9",
          "FL/Miami/9",
          "CA/Napa/9",
          "LA/New Orleans/9",
          "NY/New York/9",
          "FL/Orlando/9",
          "PA/Philadelphia/9",
          "AZ/Phoenix/9",
          "AZ/Prescott/9",
          "VA/Roanoke/9",
          "UT/Saint George/9",
          "TX/San Antonio/9",
          "CA/San Diego/9",
          "CA/San Francisco/9",
          "CA/Santa Monica/9",
          "WA/Seattle/9",
          "OK/Tulsa/9",
          "CA/Anaheim",
          "WA/Arlington",
          "GA/Atlanta",
          "NJ/Atlantic City",
          "OR/Bend",
          "MA/Boston",
          "OR/Cannon Beach",
          "NC/Charlotte",
          "IL/Chicago",
          "VA/Chincoteague Island",
          "CO/Colorado Springs",
          "NM/Corrales",
          "TX/Dallas",
          "FL/Destin",
          "CO/Estes Park",
          "FL/Fort Myers Beach",
          "TN/Gatlinburg",
          "PA/Harrisburg",
          "GA/Helen",
          "SC/Hilton Head Island",
          "HI/Honolulu",
          "IN/Indianapolis",
          "TN/Jackson",
          "NE/Kearney",
          "FL/Key West",
          "PA/King of Prussia",
          "CA/La Jolla",
          "HI/Lahaina",
          "NV/Las Vegas",
          "KY/Lexington",
          "NE/Lincoln",
          "KY/Louisville",
          "GA/Macon",
          "WI/Madison",
          "OR/McMinnville",
          "FL/Miami",
          "MN/Minneapolis",
          "CA/Napa",
          "FL/Naples",
          "LA/New Orleans",
          "NY/New York",
          "NE/North Platte",
          "FL/Orlando",
          "TX/Palestine",
          "PA/Philadelphia",
          "AZ/Phoenix",
          "TN/Pigeon Forge",
          "OR/Portland",
          "AZ/Prescott",
          "NM/Raton",
          "VA/Roanoke",
          "UT/Saint George",
          "MO/Saint Louis",
          "FL/Saint Petersburg",
          "TX/San Antonio",
          "CA/San Diego",
          "CA/San Francisco",
          "CA/Santa Monica",
          "WA/Seattle",
          "WI/Sheboygan",
          "CA/South Lake Tahoe",
          "FL/Tampa",
          "OK/Tulsa",
          "WI/Wisconsin Dells",
          "AZ",
          "CA",
          "CO",
          "FL",
          "GA",
          "HI",
          "IL",
          "IN",
          "KY",
          "LA",
          "MA",
          "MN",
          "MO",
          "NC",
          "NE",
          "NJ",
          "NM",
          "NV",
          "NY",
          "OK",
          "OR",
          "PA",
          "SC",
          "TN",
          "TX",
          "UT",
          "VA",
          "WA",
          "WI"
         ],
         "labels": [
          "0",
          "0",
          "0",
          "0",
          "0",
          "0",
          "0",
          "0",
          "0",
          "0",
          "0",
          "0",
          "0",
          "0",
          "0",
          "0",
          "0",
          "0",
          "0",
          "0",
          "0",
          "0",
          "0",
          "0",
          "0",
          "0",
          "0",
          "0",
          "0",
          "0",
          "0",
          "0",
          "0",
          "0",
          "1",
          "1",
          "1",
          "10",
          "10",
          "10",
          "10",
          "10",
          "10",
          "10",
          "10",
          "10",
          "10",
          "10",
          "10",
          "10",
          "10",
          "10",
          "10",
          "10",
          "10",
          "10",
          "11",
          "11",
          "11",
          "11",
          "11",
          "11",
          "11",
          "11",
          "11",
          "11",
          "11",
          "11",
          "11",
          "11",
          "11",
          "11",
          "11",
          "11",
          "11",
          "11",
          "11",
          "11",
          "11",
          "12",
          "12",
          "12",
          "12",
          "12",
          "12",
          "12",
          "12",
          "12",
          "12",
          "12",
          "12",
          "12",
          "12",
          "12",
          "12",
          "12",
          "12",
          "12",
          "13",
          "14",
          "15",
          "15",
          "15",
          "15",
          "15",
          "15",
          "15",
          "15",
          "15",
          "15",
          "15",
          "15",
          "15",
          "15",
          "15",
          "15",
          "15",
          "15",
          "15",
          "15",
          "15",
          "15",
          "15",
          "15",
          "15",
          "15",
          "15",
          "15",
          "15",
          "15",
          "15",
          "15",
          "15",
          "15",
          "15",
          "15",
          "15",
          "15",
          "16",
          "16",
          "17",
          "17",
          "17",
          "17",
          "17",
          "17",
          "17",
          "17",
          "17",
          "17",
          "17",
          "17",
          "17",
          "17",
          "17",
          "17",
          "17",
          "17",
          "17",
          "17",
          "17",
          "17",
          "17",
          "17",
          "17",
          "17",
          "17",
          "17",
          "17",
          "17",
          "17",
          "17",
          "17",
          "17",
          "17",
          "17",
          "17",
          "17",
          "17",
          "17",
          "17",
          "17",
          "17",
          "17",
          "18",
          "18",
          "18",
          "18",
          "18",
          "18",
          "18",
          "18",
          "18",
          "18",
          "18",
          "18",
          "18",
          "18",
          "19",
          "19",
          "19",
          "19",
          "19",
          "19",
          "19",
          "19",
          "19",
          "19",
          "19",
          "19",
          "19",
          "19",
          "19",
          "19",
          "19",
          "19",
          "19",
          "19",
          "19",
          "19",
          "19",
          "19",
          "19",
          "19",
          "19",
          "19",
          "19",
          "19",
          "19",
          "19",
          "19",
          "19",
          "19",
          "19",
          "19",
          "19",
          "19",
          "19",
          "19",
          "19",
          "19",
          "19",
          "19",
          "2",
          "2",
          "20",
          "20",
          "20",
          "20",
          "20",
          "21",
          "21",
          "21",
          "21",
          "22",
          "22",
          "22",
          "22",
          "22",
          "22",
          "22",
          "22",
          "22",
          "22",
          "22",
          "22",
          "22",
          "22",
          "22",
          "22",
          "22",
          "22",
          "22",
          "22",
          "22",
          "22",
          "22",
          "22",
          "22",
          "22",
          "22",
          "22",
          "23",
          "23",
          "23",
          "23",
          "23",
          "24",
          "3",
          "3",
          "3",
          "3",
          "3",
          "3",
          "3",
          "3",
          "3",
          "3",
          "3",
          "3",
          "3",
          "3",
          "3",
          "3",
          "3",
          "3",
          "3",
          "3",
          "3",
          "3",
          "3",
          "3",
          "3",
          "3",
          "3",
          "3",
          "3",
          "4",
          "4",
          "4",
          "4",
          "4",
          "4",
          "4",
          "4",
          "4",
          "4",
          "4",
          "4",
          "4",
          "4",
          "4",
          "4",
          "4",
          "4",
          "4",
          "4",
          "4",
          "4",
          "4",
          "4",
          "4",
          "4",
          "4",
          "4",
          "4",
          "4",
          "4",
          "4",
          "4",
          "4",
          "4",
          "4",
          "4",
          "4",
          "4",
          "5",
          "5",
          "5",
          "5",
          "5",
          "5",
          "5",
          "5",
          "5",
          "5",
          "5",
          "5",
          "5",
          "5",
          "5",
          "5",
          "5",
          "5",
          "5",
          "5",
          "5",
          "5",
          "5",
          "5",
          "5",
          "5",
          "5",
          "5",
          "5",
          "5",
          "5",
          "5",
          "5",
          "5",
          "5",
          "5",
          "5",
          "5",
          "5",
          "5",
          "5",
          "5",
          "5",
          "5",
          "5",
          "5",
          "5",
          "5",
          "5",
          "5",
          "5",
          "5",
          "5",
          "5",
          "5",
          "5",
          "6",
          "6",
          "6",
          "6",
          "6",
          "6",
          "6",
          "6",
          "6",
          "6",
          "6",
          "6",
          "6",
          "6",
          "6",
          "6",
          "6",
          "6",
          "6",
          "6",
          "6",
          "6",
          "6",
          "6",
          "6",
          "6",
          "6",
          "6",
          "6",
          "6",
          "6",
          "6",
          "6",
          "6",
          "6",
          "6",
          "6",
          "6",
          "6",
          "6",
          "6",
          "6",
          "6",
          "6",
          "6",
          "6",
          "6",
          "6",
          "6",
          "6",
          "6",
          "6",
          "6",
          "6",
          "6",
          "7",
          "7",
          "7",
          "7",
          "7",
          "7",
          "7",
          "7",
          "7",
          "7",
          "7",
          "7",
          "7",
          "7",
          "7",
          "7",
          "7",
          "7",
          "7",
          "7",
          "7",
          "7",
          "7",
          "7",
          "7",
          "7",
          "7",
          "7",
          "7",
          "7",
          "7",
          "7",
          "7",
          "7",
          "7",
          "7",
          "7",
          "7",
          "7",
          "7",
          "7",
          "7",
          "7",
          "7",
          "7",
          "7",
          "7",
          "7",
          "7",
          "7",
          "7",
          "7",
          "7",
          "7",
          "7",
          "7",
          "7",
          "7",
          "7",
          "7",
          "7",
          "7",
          "7",
          "8",
          "8",
          "8",
          "8",
          "8",
          "8",
          "8",
          "8",
          "8",
          "8",
          "8",
          "8",
          "8",
          "8",
          "8",
          "8",
          "8",
          "8",
          "8",
          "8",
          "8",
          "8",
          "8",
          "8",
          "8",
          "8",
          "8",
          "8",
          "8",
          "8",
          "8",
          "8",
          "8",
          "8",
          "8",
          "8",
          "8",
          "8",
          "8",
          "8",
          "8",
          "8",
          "8",
          "8",
          "8",
          "8",
          "9",
          "9",
          "9",
          "9",
          "9",
          "9",
          "9",
          "9",
          "9",
          "9",
          "9",
          "9",
          "9",
          "9",
          "9",
          "9",
          "9",
          "9",
          "9",
          "9",
          "9",
          "9",
          "9",
          "9",
          "9",
          "9",
          "9",
          "Anaheim",
          "Arlington",
          "Atlanta",
          "Atlantic City",
          "Bend",
          "Boston",
          "Cannon Beach",
          "Charlotte",
          "Chicago",
          "Chincoteague Island",
          "Colorado Springs",
          "Corrales",
          "Dallas",
          "Destin",
          "Estes Park",
          "Fort Myers Beach",
          "Gatlinburg",
          "Harrisburg",
          "Helen",
          "Hilton Head Island",
          "Honolulu",
          "Indianapolis",
          "Jackson",
          "Kearney",
          "Key West",
          "King of Prussia",
          "La Jolla",
          "Lahaina",
          "Las Vegas",
          "Lexington",
          "Lincoln",
          "Louisville",
          "Macon",
          "Madison",
          "McMinnville",
          "Miami",
          "Minneapolis",
          "Napa",
          "Naples",
          "New Orleans",
          "New York",
          "North Platte",
          "Orlando",
          "Palestine",
          "Philadelphia",
          "Phoenix",
          "Pigeon Forge",
          "Portland",
          "Prescott",
          "Raton",
          "Roanoke",
          "Saint George",
          "Saint Louis",
          "Saint Petersburg",
          "San Antonio",
          "San Diego",
          "San Francisco",
          "Santa Monica",
          "Seattle",
          "Sheboygan",
          "South Lake Tahoe",
          "Tampa",
          "Tulsa",
          "Wisconsin Dells",
          "AZ",
          "CA",
          "CO",
          "FL",
          "GA",
          "HI",
          "IL",
          "IN",
          "KY",
          "LA",
          "MA",
          "MN",
          "MO",
          "NC",
          "NE",
          "NJ",
          "NM",
          "NV",
          "NY",
          "OK",
          "OR",
          "PA",
          "SC",
          "TN",
          "TX",
          "UT",
          "VA",
          "WA",
          "WI"
         ],
         "name": "",
         "parents": [
          "CA/Anaheim",
          "GA/Atlanta",
          "OR/Bend",
          "MA/Boston",
          "NC/Charlotte",
          "IL/Chicago",
          "VA/Chincoteague Island",
          "CO/Colorado Springs",
          "TX/Dallas",
          "CO/Estes Park",
          "HI/Honolulu",
          "TN/Jackson",
          "FL/Key West",
          "CA/La Jolla",
          "KY/Lexington",
          "KY/Louisville",
          "FL/Miami",
          "MN/Minneapolis",
          "CA/Napa",
          "LA/New Orleans",
          "NY/New York",
          "FL/Orlando",
          "PA/Philadelphia",
          "AZ/Phoenix",
          "OR/Portland",
          "MO/Saint Louis",
          "FL/Saint Petersburg",
          "TX/San Antonio",
          "CA/San Diego",
          "CA/San Francisco",
          "CA/Santa Monica",
          "WA/Seattle",
          "OK/Tulsa",
          "WI/Wisconsin Dells",
          "TX/Dallas",
          "FL/Miami",
          "FL/Orlando",
          "CA/Anaheim",
          "GA/Atlanta",
          "NC/Charlotte",
          "IL/Chicago",
          "CO/Colorado Springs",
          "TX/Dallas",
          "FL/Key West",
          "CA/La Jolla",
          "KY/Lexington",
          "FL/Miami",
          "MN/Minneapolis",
          "LA/New Orleans",
          "NY/New York",
          "FL/Orlando",
          "PA/Philadelphia",
          "AZ/Phoenix",
          "CA/San Diego",
          "CA/San Francisco",
          "WA/Seattle",
          "CA/Anaheim",
          "GA/Atlanta",
          "NC/Charlotte",
          "IL/Chicago",
          "TX/Dallas",
          "FL/Fort Myers Beach",
          "HI/Honolulu",
          "FL/Key West",
          "PA/King of Prussia",
          "KY/Lexington",
          "GA/Macon",
          "FL/Miami",
          "CA/Napa",
          "LA/New Orleans",
          "FL/Orlando",
          "UT/Saint George",
          "MO/Saint Louis",
          "CA/San Diego",
          "CA/San Francisco",
          "WA/Seattle",
          "CA/South Lake Tahoe",
          "FL/Tampa",
          "WI/Wisconsin Dells",
          "NJ/Atlantic City",
          "OR/Cannon Beach",
          "VA/Chincoteague Island",
          "FL/Destin",
          "FL/Fort Myers Beach",
          "SC/Hilton Head Island",
          "HI/Honolulu",
          "FL/Key West",
          "CA/La Jolla",
          "HI/Lahaina",
          "NV/Las Vegas",
          "FL/Miami",
          "FL/Naples",
          "FL/Orlando",
          "TN/Pigeon Forge",
          "CA/San Diego",
          "CA/San Francisco",
          "CA/South Lake Tahoe",
          "FL/Tampa",
          "IL/Chicago",
          "LA/New Orleans",
          "CA/Anaheim",
          "GA/Atlanta",
          "NC/Charlotte",
          "IL/Chicago",
          "CO/Colorado Springs",
          "TX/Dallas",
          "FL/Fort Myers Beach",
          "PA/Harrisburg",
          "HI/Honolulu",
          "IN/Indianapolis",
          "TN/Jackson",
          "FL/Key West",
          "CA/La Jolla",
          "HI/Lahaina",
          "NV/Las Vegas",
          "KY/Lexington",
          "KY/Louisville",
          "GA/Macon",
          "WI/Madison",
          "FL/Miami",
          "CA/Napa",
          "FL/Naples",
          "LA/New Orleans",
          "NE/North Platte",
          "FL/Orlando",
          "TX/Palestine",
          "PA/Philadelphia",
          "AZ/Phoenix",
          "UT/Saint George",
          "MO/Saint Louis",
          "FL/Saint Petersburg",
          "CA/San Diego",
          "CA/San Francisco",
          "WA/Seattle",
          "WI/Sheboygan",
          "FL/Tampa",
          "OK/Tulsa",
          "WI/Wisconsin Dells",
          "WA/Arlington",
          "WA/Seattle",
          "CA/Anaheim",
          "GA/Atlanta",
          "NJ/Atlantic City",
          "OR/Bend",
          "OR/Cannon Beach",
          "NC/Charlotte",
          "IL/Chicago",
          "VA/Chincoteague Island",
          "CO/Colorado Springs",
          "TX/Dallas",
          "CO/Estes Park",
          "GA/Helen",
          "HI/Honolulu",
          "IN/Indianapolis",
          "TN/Jackson",
          "NE/Kearney",
          "FL/Key West",
          "CA/La Jolla",
          "HI/Lahaina",
          "NV/Las Vegas",
          "KY/Lexington",
          "NE/Lincoln",
          "KY/Louisville",
          "GA/Macon",
          "FL/Miami",
          "CA/Napa",
          "FL/Naples",
          "LA/New Orleans",
          "NY/New York",
          "NE/North Platte",
          "FL/Orlando",
          "TX/Palestine",
          "PA/Philadelphia",
          "AZ/Phoenix",
          "TN/Pigeon Forge",
          "UT/Saint George",
          "TX/San Antonio",
          "CA/San Diego",
          "CA/San Francisco",
          "WA/Seattle",
          "WI/Sheboygan",
          "CA/South Lake Tahoe",
          "FL/Tampa",
          "OK/Tulsa",
          "WA/Arlington",
          "TX/Dallas",
          "TN/Gatlinburg",
          "IN/Indianapolis",
          "NE/Kearney",
          "PA/King of Prussia",
          "FL/Miami",
          "LA/New Orleans",
          "NY/New York",
          "FL/Orlando",
          "NM/Raton",
          "VA/Roanoke",
          "UT/Saint George",
          "CA/San Diego",
          "CA/Anaheim",
          "GA/Atlanta",
          "NJ/Atlantic City",
          "OR/Bend",
          "MA/Boston",
          "IL/Chicago",
          "TX/Dallas",
          "CO/Estes Park",
          "TN/Gatlinburg",
          "PA/Harrisburg",
          "GA/Helen",
          "HI/Honolulu",
          "TN/Jackson",
          "NE/Kearney",
          "FL/Key West",
          "PA/King of Prussia",
          "CA/La Jolla",
          "KY/Lexington",
          "NE/Lincoln",
          "KY/Louisville",
          "WI/Madison",
          "OR/McMinnville",
          "FL/Miami",
          "MN/Minneapolis",
          "CA/Napa",
          "FL/Naples",
          "LA/New Orleans",
          "NY/New York",
          "NE/North Platte",
          "FL/Orlando",
          "PA/Philadelphia",
          "AZ/Phoenix",
          "TN/Pigeon Forge",
          "AZ/Prescott",
          "NM/Raton",
          "VA/Roanoke",
          "UT/Saint George",
          "FL/Saint Petersburg",
          "CA/San Diego",
          "CA/San Francisco",
          "CA/Santa Monica",
          "WA/Seattle",
          "WI/Sheboygan",
          "CA/South Lake Tahoe",
          "FL/Tampa",
          "CA/Anaheim",
          "FL/Orlando",
          "LA/New Orleans",
          "NY/New York",
          "AZ/Phoenix",
          "CA/San Francisco",
          "WA/Seattle",
          "GA/Atlanta",
          "NY/New York",
          "TX/San Antonio",
          "CA/San Diego",
          "CA/Anaheim",
          "WA/Arlington",
          "GA/Atlanta",
          "OR/Cannon Beach",
          "IL/Chicago",
          "TX/Dallas",
          "FL/Destin",
          "TN/Gatlinburg",
          "HI/Honolulu",
          "FL/Key West",
          "CA/La Jolla",
          "HI/Lahaina",
          "NV/Las Vegas",
          "KY/Louisville",
          "WI/Madison",
          "FL/Miami",
          "CA/Napa",
          "LA/New Orleans",
          "NY/New York",
          "FL/Orlando",
          "PA/Philadelphia",
          "AZ/Phoenix",
          "NM/Raton",
          "UT/Saint George",
          "TX/San Antonio",
          "CA/San Diego",
          "CA/San Francisco",
          "WA/Seattle",
          "SC/Hilton Head Island",
          "HI/Honolulu",
          "CA/La Jolla",
          "HI/Lahaina",
          "TN/Pigeon Forge",
          "GA/Atlanta",
          "CA/Anaheim",
          "GA/Atlanta",
          "NJ/Atlantic City",
          "IL/Chicago",
          "TX/Dallas",
          "CO/Estes Park",
          "IN/Indianapolis",
          "TN/Jackson",
          "PA/King of Prussia",
          "NV/Las Vegas",
          "NE/Lincoln",
          "KY/Louisville",
          "GA/Macon",
          "WI/Madison",
          "FL/Miami",
          "CA/Napa",
          "FL/Naples",
          "LA/New Orleans",
          "FL/Orlando",
          "PA/Philadelphia",
          "AZ/Phoenix",
          "UT/Saint George",
          "FL/Saint Petersburg",
          "CA/San Diego",
          "CA/San Francisco",
          "WA/Seattle",
          "CA/South Lake Tahoe",
          "FL/Tampa",
          "OK/Tulsa",
          "CA/Anaheim",
          "GA/Atlanta",
          "OR/Bend",
          "MA/Boston",
          "OR/Cannon Beach",
          "NC/Charlotte",
          "IL/Chicago",
          "VA/Chincoteague Island",
          "CO/Colorado Springs",
          "NM/Corrales",
          "TX/Dallas",
          "FL/Destin",
          "CO/Estes Park",
          "TN/Gatlinburg",
          "GA/Helen",
          "SC/Hilton Head Island",
          "HI/Honolulu",
          "TN/Jackson",
          "FL/Key West",
          "CA/La Jolla",
          "HI/Lahaina",
          "NV/Las Vegas",
          "KY/Lexington",
          "FL/Miami",
          "LA/New Orleans",
          "NY/New York",
          "NE/North Platte",
          "FL/Orlando",
          "PA/Philadelphia",
          "AZ/Phoenix",
          "TN/Pigeon Forge",
          "OR/Portland",
          "MO/Saint Louis",
          "FL/Saint Petersburg",
          "TX/San Antonio",
          "CA/San Diego",
          "CA/San Francisco",
          "WA/Seattle",
          "WI/Wisconsin Dells",
          "CA/Anaheim",
          "WA/Arlington",
          "GA/Atlanta",
          "NJ/Atlantic City",
          "MA/Boston",
          "NC/Charlotte",
          "IL/Chicago",
          "VA/Chincoteague Island",
          "CO/Colorado Springs",
          "TX/Dallas",
          "FL/Fort Myers Beach",
          "TN/Gatlinburg",
          "PA/Harrisburg",
          "GA/Helen",
          "HI/Honolulu",
          "IN/Indianapolis",
          "TN/Jackson",
          "NE/Kearney",
          "FL/Key West",
          "PA/King of Prussia",
          "CA/La Jolla",
          "HI/Lahaina",
          "NV/Las Vegas",
          "KY/Lexington",
          "NE/Lincoln",
          "KY/Louisville",
          "GA/Macon",
          "OR/McMinnville",
          "FL/Miami",
          "MN/Minneapolis",
          "CA/Napa",
          "FL/Naples",
          "LA/New Orleans",
          "NY/New York",
          "NE/North Platte",
          "FL/Orlando",
          "TX/Palestine",
          "PA/Philadelphia",
          "AZ/Phoenix",
          "TN/Pigeon Forge",
          "OR/Portland",
          "AZ/Prescott",
          "NM/Raton",
          "VA/Roanoke",
          "UT/Saint George",
          "MO/Saint Louis",
          "FL/Saint Petersburg",
          "TX/San Antonio",
          "CA/San Diego",
          "CA/San Francisco",
          "WA/Seattle",
          "WI/Sheboygan",
          "CA/South Lake Tahoe",
          "FL/Tampa",
          "OK/Tulsa",
          "WI/Wisconsin Dells",
          "CA/Anaheim",
          "WA/Arlington",
          "GA/Atlanta",
          "OR/Bend",
          "OR/Cannon Beach",
          "NC/Charlotte",
          "IL/Chicago",
          "VA/Chincoteague Island",
          "CO/Colorado Springs",
          "NM/Corrales",
          "TX/Dallas",
          "FL/Destin",
          "CO/Estes Park",
          "FL/Fort Myers Beach",
          "PA/Harrisburg",
          "GA/Helen",
          "SC/Hilton Head Island",
          "HI/Honolulu",
          "TN/Jackson",
          "NE/Kearney",
          "FL/Key West",
          "CA/La Jolla",
          "HI/Lahaina",
          "NE/Lincoln",
          "KY/Louisville",
          "GA/Macon",
          "WI/Madison",
          "OR/McMinnville",
          "FL/Miami",
          "MN/Minneapolis",
          "CA/Napa",
          "FL/Naples",
          "LA/New Orleans",
          "NY/New York",
          "NE/North Platte",
          "FL/Orlando",
          "TX/Palestine",
          "PA/Philadelphia",
          "AZ/Phoenix",
          "TN/Pigeon Forge",
          "OR/Portland",
          "AZ/Prescott",
          "NM/Raton",
          "VA/Roanoke",
          "UT/Saint George",
          "MO/Saint Louis",
          "FL/Saint Petersburg",
          "TX/San Antonio",
          "CA/San Diego",
          "CA/San Francisco",
          "WA/Seattle",
          "WI/Sheboygan",
          "CA/South Lake Tahoe",
          "FL/Tampa",
          "OK/Tulsa",
          "CA/Anaheim",
          "WA/Arlington",
          "GA/Atlanta",
          "NJ/Atlantic City",
          "OR/Bend",
          "MA/Boston",
          "OR/Cannon Beach",
          "NC/Charlotte",
          "IL/Chicago",
          "VA/Chincoteague Island",
          "CO/Colorado Springs",
          "NM/Corrales",
          "TX/Dallas",
          "FL/Destin",
          "CO/Estes Park",
          "FL/Fort Myers Beach",
          "TN/Gatlinburg",
          "PA/Harrisburg",
          "GA/Helen",
          "SC/Hilton Head Island",
          "HI/Honolulu",
          "IN/Indianapolis",
          "TN/Jackson",
          "NE/Kearney",
          "FL/Key West",
          "PA/King of Prussia",
          "CA/La Jolla",
          "HI/Lahaina",
          "NV/Las Vegas",
          "KY/Lexington",
          "NE/Lincoln",
          "KY/Louisville",
          "GA/Macon",
          "WI/Madison",
          "OR/McMinnville",
          "FL/Miami",
          "MN/Minneapolis",
          "CA/Napa",
          "FL/Naples",
          "LA/New Orleans",
          "NY/New York",
          "NE/North Platte",
          "FL/Orlando",
          "TX/Palestine",
          "PA/Philadelphia",
          "AZ/Phoenix",
          "TN/Pigeon Forge",
          "OR/Portland",
          "AZ/Prescott",
          "NM/Raton",
          "VA/Roanoke",
          "UT/Saint George",
          "MO/Saint Louis",
          "FL/Saint Petersburg",
          "TX/San Antonio",
          "CA/San Diego",
          "CA/San Francisco",
          "CA/Santa Monica",
          "WA/Seattle",
          "WI/Sheboygan",
          "CA/South Lake Tahoe",
          "FL/Tampa",
          "WI/Wisconsin Dells",
          "CA/Anaheim",
          "GA/Atlanta",
          "NJ/Atlantic City",
          "NC/Charlotte",
          "IL/Chicago",
          "VA/Chincoteague Island",
          "CO/Colorado Springs",
          "TX/Dallas",
          "FL/Fort Myers Beach",
          "TN/Gatlinburg",
          "PA/Harrisburg",
          "SC/Hilton Head Island",
          "HI/Honolulu",
          "IN/Indianapolis",
          "TN/Jackson",
          "NE/Kearney",
          "FL/Key West",
          "CA/La Jolla",
          "HI/Lahaina",
          "NV/Las Vegas",
          "KY/Lexington",
          "NE/Lincoln",
          "KY/Louisville",
          "GA/Macon",
          "FL/Miami",
          "MN/Minneapolis",
          "CA/Napa",
          "FL/Naples",
          "LA/New Orleans",
          "NY/New York",
          "FL/Orlando",
          "TX/Palestine",
          "PA/Philadelphia",
          "AZ/Phoenix",
          "TN/Pigeon Forge",
          "OR/Portland",
          "NM/Raton",
          "VA/Roanoke",
          "MO/Saint Louis",
          "TX/San Antonio",
          "CA/San Diego",
          "CA/San Francisco",
          "WA/Seattle",
          "CA/South Lake Tahoe",
          "FL/Tampa",
          "WI/Wisconsin Dells",
          "CA/Anaheim",
          "GA/Atlanta",
          "OR/Cannon Beach",
          "IL/Chicago",
          "TX/Dallas",
          "FL/Destin",
          "TN/Gatlinburg",
          "HI/Honolulu",
          "FL/Key West",
          "CA/La Jolla",
          "HI/Lahaina",
          "FL/Miami",
          "CA/Napa",
          "LA/New Orleans",
          "NY/New York",
          "FL/Orlando",
          "PA/Philadelphia",
          "AZ/Phoenix",
          "AZ/Prescott",
          "VA/Roanoke",
          "UT/Saint George",
          "TX/San Antonio",
          "CA/San Diego",
          "CA/San Francisco",
          "CA/Santa Monica",
          "WA/Seattle",
          "OK/Tulsa",
          "CA",
          "WA",
          "GA",
          "NJ",
          "OR",
          "MA",
          "OR",
          "NC",
          "IL",
          "VA",
          "CO",
          "NM",
          "TX",
          "FL",
          "CO",
          "FL",
          "TN",
          "PA",
          "GA",
          "SC",
          "HI",
          "IN",
          "TN",
          "NE",
          "FL",
          "PA",
          "CA",
          "HI",
          "NV",
          "KY",
          "NE",
          "KY",
          "GA",
          "WI",
          "OR",
          "FL",
          "MN",
          "CA",
          "FL",
          "LA",
          "NY",
          "NE",
          "FL",
          "TX",
          "PA",
          "AZ",
          "TN",
          "OR",
          "AZ",
          "NM",
          "VA",
          "UT",
          "MO",
          "FL",
          "TX",
          "CA",
          "CA",
          "CA",
          "WA",
          "WI",
          "CA",
          "FL",
          "OK",
          "WI",
          "",
          "",
          "",
          "",
          "",
          "",
          "",
          "",
          "",
          "",
          "",
          "",
          "",
          "",
          "",
          "",
          "",
          "",
          "",
          "",
          "",
          "",
          "",
          "",
          "",
          "",
          "",
          "",
          ""
         ],
         "type": "sunburst",
         "values": [
          25,
          42,
          1,
          1,
          3,
          13,
          1,
          2,
          10,
          5,
          8,
          1,
          3,
          2,
          1,
          2,
          6,
          3,
          1,
          41,
          6,
          58,
          5,
          1,
          2,
          4,
          1,
          1,
          110,
          52,
          1,
          20,
          2,
          1,
          1,
          4,
          84,
          2,
          9,
          2,
          31,
          2,
          3,
          2,
          1,
          2,
          10,
          1,
          1,
          2,
          26,
          83,
          4,
          33,
          2,
          10,
          5,
          7,
          1,
          3,
          4,
          1,
          2,
          1,
          1,
          1,
          1,
          2,
          2,
          18,
          8,
          3,
          4,
          18,
          12,
          92,
          2,
          1,
          1,
          4,
          6,
          2,
          4,
          4,
          1,
          40,
          4,
          2,
          10,
          1,
          24,
          3,
          1,
          1,
          78,
          2,
          10,
          1,
          162,
          320,
          16,
          21,
          2,
          26,
          3,
          27,
          1,
          2,
          8,
          1,
          1,
          4,
          3,
          1,
          5,
          2,
          1,
          3,
          2,
          6,
          1,
          1,
          12,
          1,
          58,
          2,
          1,
          2,
          1,
          3,
          1,
          37,
          10,
          27,
          1,
          1,
          1,
          2,
          1,
          197,
          11,
          38,
          2,
          1,
          3,
          1,
          19,
          1,
          1,
          10,
          5,
          2,
          11,
          1,
          1,
          1,
          3,
          6,
          3,
          2,
          2,
          1,
          3,
          2,
          8,
          7,
          2,
          27,
          2,
          3,
          40,
          3,
          11,
          5,
          1,
          2,
          1,
          46,
          33,
          29,
          1,
          1,
          7,
          3,
          2,
          5,
          1,
          1,
          1,
          1,
          1,
          7,
          1,
          15,
          4,
          1,
          6,
          206,
          21,
          73,
          7,
          1,
          12,
          36,
          20,
          3,
          2,
          1,
          1,
          11,
          1,
          1,
          1,
          2,
          9,
          4,
          1,
          1,
          1,
          2,
          11,
          3,
          7,
          2,
          61,
          12,
          1,
          61,
          9,
          6,
          2,
          1,
          1,
          1,
          1,
          1,
          96,
          148,
          1,
          54,
          4,
          5,
          3,
          97,
          1,
          3,
          6,
          1,
          247,
          3,
          40,
          11,
          79,
          1,
          16,
          3,
          62,
          1,
          36,
          27,
          3,
          2,
          14,
          12,
          38,
          13,
          1,
          1,
          2,
          5,
          2,
          41,
          23,
          32,
          29,
          6,
          1,
          7,
          5,
          134,
          87,
          38,
          27,
          140,
          1,
          6,
          1,
          163,
          4,
          14,
          28,
          3,
          15,
          1,
          1,
          1,
          1,
          2,
          1,
          2,
          1,
          1,
          1,
          2,
          1,
          14,
          52,
          3,
          3,
          2,
          2,
          21,
          14,
          11,
          1,
          2,
          1,
          2,
          19,
          1,
          3,
          2,
          3,
          23,
          2,
          2,
          8,
          20,
          1,
          3,
          1,
          2,
          2,
          3,
          1,
          11,
          7,
          4,
          1,
          1,
          5,
          56,
          2,
          1,
          8,
          6,
          5,
          1,
          3,
          1,
          1,
          18,
          45,
          27,
          17,
          2,
          7,
          1,
          39,
          3,
          2,
          3,
          23,
          1,
          3,
          10,
          3,
          2,
          3,
          1,
          7,
          3,
          3,
          2,
          14,
          3,
          8,
          5,
          1,
          2,
          2,
          2,
          2,
          2,
          23,
          3,
          7,
          4,
          35,
          1,
          4,
          77,
          3,
          7,
          9,
          4,
          1,
          2,
          1,
          5,
          7,
          2,
          3,
          6,
          88,
          26,
          37,
          3,
          6,
          7,
          2,
          3,
          7,
          1,
          36,
          2,
          1,
          1,
          22,
          9,
          5,
          2,
          29,
          4,
          2,
          1,
          2,
          1,
          1,
          24,
          4,
          1,
          9,
          6,
          1,
          5,
          1,
          2,
          2,
          1,
          12,
          3,
          2,
          2,
          56,
          6,
          1,
          63,
          8,
          12,
          5,
          3,
          3,
          4,
          1,
          3,
          13,
          1,
          3,
          3,
          63,
          38,
          17,
          3,
          2,
          5,
          1,
          13,
          3,
          76,
          2,
          7,
          8,
          5,
          7,
          27,
          11,
          4,
          5,
          21,
          1,
          9,
          2,
          1,
          2,
          6,
          5,
          21,
          3,
          4,
          3,
          42,
          3,
          10,
          7,
          10,
          4,
          2,
          5,
          3,
          5,
          7,
          78,
          3,
          10,
          2,
          37,
          11,
          3,
          63,
          8,
          8,
          7,
          2,
          15,
          6,
          1,
          6,
          6,
          8,
          12,
          69,
          100,
          58,
          8,
          40,
          1,
          6,
          8,
          6,
          6,
          35,
          4,
          1,
          15,
          1,
          1,
          11,
          1,
          1,
          1,
          2,
          6,
          2,
          3,
          2,
          4,
          1,
          1,
          1,
          2,
          1,
          1,
          1,
          17,
          1,
          3,
          5,
          28,
          4,
          44,
          1,
          7,
          1,
          2,
          2,
          2,
          1,
          1,
          2,
          24,
          16,
          20,
          2,
          2,
          1,
          4,
          88,
          2,
          20,
          32,
          2,
          1,
          10,
          3,
          4,
          4,
          17,
          2,
          41,
          6,
          43,
          7,
          4,
          1,
          1,
          5,
          1,
          89,
          36,
          1,
          23,
          1,
          236,
          11,
          762,
          50,
          13,
          26,
          20,
          24,
          459,
          28,
          23,
          15,
          245,
          15,
          28,
          13,
          11,
          11,
          13,
          38,
          305,
          12,
          20,
          11,
          113,
          11,
          98,
          55,
          24,
          21,
          13,
          19,
          15,
          13,
          12,
          230,
          17,
          46,
          22,
          798,
          93,
          14,
          734,
          25,
          188,
          59,
          17,
          26,
          14,
          11,
          18,
          53,
          24,
          24,
          185,
          1189,
          808,
          11,
          635,
          13,
          35,
          37,
          11,
          16,
          73,
          2423,
          51,
          1188,
          790,
          360,
          459,
          12,
          40,
          798,
          26,
          17,
          24,
          24,
          38,
          50,
          26,
          24,
          93,
          11,
          71,
          210,
          38,
          48,
          455,
          53,
          46,
          646,
          42
         ]
        }
       ],
       "layout": {
        "height": 750,
        "legend": {
         "tracegroupgap": 0
        },
        "template": {
         "data": {
          "bar": [
           {
            "error_x": {
             "color": "#2a3f5f"
            },
            "error_y": {
             "color": "#2a3f5f"
            },
            "marker": {
             "line": {
              "color": "#E5ECF6",
              "width": 0.5
             }
            },
            "type": "bar"
           }
          ],
          "barpolar": [
           {
            "marker": {
             "line": {
              "color": "#E5ECF6",
              "width": 0.5
             }
            },
            "type": "barpolar"
           }
          ],
          "carpet": [
           {
            "aaxis": {
             "endlinecolor": "#2a3f5f",
             "gridcolor": "white",
             "linecolor": "white",
             "minorgridcolor": "white",
             "startlinecolor": "#2a3f5f"
            },
            "baxis": {
             "endlinecolor": "#2a3f5f",
             "gridcolor": "white",
             "linecolor": "white",
             "minorgridcolor": "white",
             "startlinecolor": "#2a3f5f"
            },
            "type": "carpet"
           }
          ],
          "choropleth": [
           {
            "colorbar": {
             "outlinewidth": 0,
             "ticks": ""
            },
            "type": "choropleth"
           }
          ],
          "contour": [
           {
            "colorbar": {
             "outlinewidth": 0,
             "ticks": ""
            },
            "colorscale": [
             [
              0,
              "#0d0887"
             ],
             [
              0.1111111111111111,
              "#46039f"
             ],
             [
              0.2222222222222222,
              "#7201a8"
             ],
             [
              0.3333333333333333,
              "#9c179e"
             ],
             [
              0.4444444444444444,
              "#bd3786"
             ],
             [
              0.5555555555555556,
              "#d8576b"
             ],
             [
              0.6666666666666666,
              "#ed7953"
             ],
             [
              0.7777777777777778,
              "#fb9f3a"
             ],
             [
              0.8888888888888888,
              "#fdca26"
             ],
             [
              1,
              "#f0f921"
             ]
            ],
            "type": "contour"
           }
          ],
          "contourcarpet": [
           {
            "colorbar": {
             "outlinewidth": 0,
             "ticks": ""
            },
            "type": "contourcarpet"
           }
          ],
          "heatmap": [
           {
            "colorbar": {
             "outlinewidth": 0,
             "ticks": ""
            },
            "colorscale": [
             [
              0,
              "#0d0887"
             ],
             [
              0.1111111111111111,
              "#46039f"
             ],
             [
              0.2222222222222222,
              "#7201a8"
             ],
             [
              0.3333333333333333,
              "#9c179e"
             ],
             [
              0.4444444444444444,
              "#bd3786"
             ],
             [
              0.5555555555555556,
              "#d8576b"
             ],
             [
              0.6666666666666666,
              "#ed7953"
             ],
             [
              0.7777777777777778,
              "#fb9f3a"
             ],
             [
              0.8888888888888888,
              "#fdca26"
             ],
             [
              1,
              "#f0f921"
             ]
            ],
            "type": "heatmap"
           }
          ],
          "heatmapgl": [
           {
            "colorbar": {
             "outlinewidth": 0,
             "ticks": ""
            },
            "colorscale": [
             [
              0,
              "#0d0887"
             ],
             [
              0.1111111111111111,
              "#46039f"
             ],
             [
              0.2222222222222222,
              "#7201a8"
             ],
             [
              0.3333333333333333,
              "#9c179e"
             ],
             [
              0.4444444444444444,
              "#bd3786"
             ],
             [
              0.5555555555555556,
              "#d8576b"
             ],
             [
              0.6666666666666666,
              "#ed7953"
             ],
             [
              0.7777777777777778,
              "#fb9f3a"
             ],
             [
              0.8888888888888888,
              "#fdca26"
             ],
             [
              1,
              "#f0f921"
             ]
            ],
            "type": "heatmapgl"
           }
          ],
          "histogram": [
           {
            "marker": {
             "colorbar": {
              "outlinewidth": 0,
              "ticks": ""
             }
            },
            "type": "histogram"
           }
          ],
          "histogram2d": [
           {
            "colorbar": {
             "outlinewidth": 0,
             "ticks": ""
            },
            "colorscale": [
             [
              0,
              "#0d0887"
             ],
             [
              0.1111111111111111,
              "#46039f"
             ],
             [
              0.2222222222222222,
              "#7201a8"
             ],
             [
              0.3333333333333333,
              "#9c179e"
             ],
             [
              0.4444444444444444,
              "#bd3786"
             ],
             [
              0.5555555555555556,
              "#d8576b"
             ],
             [
              0.6666666666666666,
              "#ed7953"
             ],
             [
              0.7777777777777778,
              "#fb9f3a"
             ],
             [
              0.8888888888888888,
              "#fdca26"
             ],
             [
              1,
              "#f0f921"
             ]
            ],
            "type": "histogram2d"
           }
          ],
          "histogram2dcontour": [
           {
            "colorbar": {
             "outlinewidth": 0,
             "ticks": ""
            },
            "colorscale": [
             [
              0,
              "#0d0887"
             ],
             [
              0.1111111111111111,
              "#46039f"
             ],
             [
              0.2222222222222222,
              "#7201a8"
             ],
             [
              0.3333333333333333,
              "#9c179e"
             ],
             [
              0.4444444444444444,
              "#bd3786"
             ],
             [
              0.5555555555555556,
              "#d8576b"
             ],
             [
              0.6666666666666666,
              "#ed7953"
             ],
             [
              0.7777777777777778,
              "#fb9f3a"
             ],
             [
              0.8888888888888888,
              "#fdca26"
             ],
             [
              1,
              "#f0f921"
             ]
            ],
            "type": "histogram2dcontour"
           }
          ],
          "mesh3d": [
           {
            "colorbar": {
             "outlinewidth": 0,
             "ticks": ""
            },
            "type": "mesh3d"
           }
          ],
          "parcoords": [
           {
            "line": {
             "colorbar": {
              "outlinewidth": 0,
              "ticks": ""
             }
            },
            "type": "parcoords"
           }
          ],
          "pie": [
           {
            "automargin": true,
            "type": "pie"
           }
          ],
          "scatter": [
           {
            "marker": {
             "colorbar": {
              "outlinewidth": 0,
              "ticks": ""
             }
            },
            "type": "scatter"
           }
          ],
          "scatter3d": [
           {
            "line": {
             "colorbar": {
              "outlinewidth": 0,
              "ticks": ""
             }
            },
            "marker": {
             "colorbar": {
              "outlinewidth": 0,
              "ticks": ""
             }
            },
            "type": "scatter3d"
           }
          ],
          "scattercarpet": [
           {
            "marker": {
             "colorbar": {
              "outlinewidth": 0,
              "ticks": ""
             }
            },
            "type": "scattercarpet"
           }
          ],
          "scattergeo": [
           {
            "marker": {
             "colorbar": {
              "outlinewidth": 0,
              "ticks": ""
             }
            },
            "type": "scattergeo"
           }
          ],
          "scattergl": [
           {
            "marker": {
             "colorbar": {
              "outlinewidth": 0,
              "ticks": ""
             }
            },
            "type": "scattergl"
           }
          ],
          "scattermapbox": [
           {
            "marker": {
             "colorbar": {
              "outlinewidth": 0,
              "ticks": ""
             }
            },
            "type": "scattermapbox"
           }
          ],
          "scatterpolar": [
           {
            "marker": {
             "colorbar": {
              "outlinewidth": 0,
              "ticks": ""
             }
            },
            "type": "scatterpolar"
           }
          ],
          "scatterpolargl": [
           {
            "marker": {
             "colorbar": {
              "outlinewidth": 0,
              "ticks": ""
             }
            },
            "type": "scatterpolargl"
           }
          ],
          "scatterternary": [
           {
            "marker": {
             "colorbar": {
              "outlinewidth": 0,
              "ticks": ""
             }
            },
            "type": "scatterternary"
           }
          ],
          "surface": [
           {
            "colorbar": {
             "outlinewidth": 0,
             "ticks": ""
            },
            "colorscale": [
             [
              0,
              "#0d0887"
             ],
             [
              0.1111111111111111,
              "#46039f"
             ],
             [
              0.2222222222222222,
              "#7201a8"
             ],
             [
              0.3333333333333333,
              "#9c179e"
             ],
             [
              0.4444444444444444,
              "#bd3786"
             ],
             [
              0.5555555555555556,
              "#d8576b"
             ],
             [
              0.6666666666666666,
              "#ed7953"
             ],
             [
              0.7777777777777778,
              "#fb9f3a"
             ],
             [
              0.8888888888888888,
              "#fdca26"
             ],
             [
              1,
              "#f0f921"
             ]
            ],
            "type": "surface"
           }
          ],
          "table": [
           {
            "cells": {
             "fill": {
              "color": "#EBF0F8"
             },
             "line": {
              "color": "white"
             }
            },
            "header": {
             "fill": {
              "color": "#C8D4E3"
             },
             "line": {
              "color": "white"
             }
            },
            "type": "table"
           }
          ]
         },
         "layout": {
          "annotationdefaults": {
           "arrowcolor": "#2a3f5f",
           "arrowhead": 0,
           "arrowwidth": 1
          },
          "autotypenumbers": "strict",
          "coloraxis": {
           "colorbar": {
            "outlinewidth": 0,
            "ticks": ""
           }
          },
          "colorscale": {
           "diverging": [
            [
             0,
             "#8e0152"
            ],
            [
             0.1,
             "#c51b7d"
            ],
            [
             0.2,
             "#de77ae"
            ],
            [
             0.3,
             "#f1b6da"
            ],
            [
             0.4,
             "#fde0ef"
            ],
            [
             0.5,
             "#f7f7f7"
            ],
            [
             0.6,
             "#e6f5d0"
            ],
            [
             0.7,
             "#b8e186"
            ],
            [
             0.8,
             "#7fbc41"
            ],
            [
             0.9,
             "#4d9221"
            ],
            [
             1,
             "#276419"
            ]
           ],
           "sequential": [
            [
             0,
             "#0d0887"
            ],
            [
             0.1111111111111111,
             "#46039f"
            ],
            [
             0.2222222222222222,
             "#7201a8"
            ],
            [
             0.3333333333333333,
             "#9c179e"
            ],
            [
             0.4444444444444444,
             "#bd3786"
            ],
            [
             0.5555555555555556,
             "#d8576b"
            ],
            [
             0.6666666666666666,
             "#ed7953"
            ],
            [
             0.7777777777777778,
             "#fb9f3a"
            ],
            [
             0.8888888888888888,
             "#fdca26"
            ],
            [
             1,
             "#f0f921"
            ]
           ],
           "sequentialminus": [
            [
             0,
             "#0d0887"
            ],
            [
             0.1111111111111111,
             "#46039f"
            ],
            [
             0.2222222222222222,
             "#7201a8"
            ],
            [
             0.3333333333333333,
             "#9c179e"
            ],
            [
             0.4444444444444444,
             "#bd3786"
            ],
            [
             0.5555555555555556,
             "#d8576b"
            ],
            [
             0.6666666666666666,
             "#ed7953"
            ],
            [
             0.7777777777777778,
             "#fb9f3a"
            ],
            [
             0.8888888888888888,
             "#fdca26"
            ],
            [
             1,
             "#f0f921"
            ]
           ]
          },
          "colorway": [
           "#636efa",
           "#EF553B",
           "#00cc96",
           "#ab63fa",
           "#FFA15A",
           "#19d3f3",
           "#FF6692",
           "#B6E880",
           "#FF97FF",
           "#FECB52"
          ],
          "font": {
           "color": "#2a3f5f"
          },
          "geo": {
           "bgcolor": "white",
           "lakecolor": "white",
           "landcolor": "#E5ECF6",
           "showlakes": true,
           "showland": true,
           "subunitcolor": "white"
          },
          "hoverlabel": {
           "align": "left"
          },
          "hovermode": "closest",
          "mapbox": {
           "style": "light"
          },
          "paper_bgcolor": "white",
          "plot_bgcolor": "#E5ECF6",
          "polar": {
           "angularaxis": {
            "gridcolor": "white",
            "linecolor": "white",
            "ticks": ""
           },
           "bgcolor": "#E5ECF6",
           "radialaxis": {
            "gridcolor": "white",
            "linecolor": "white",
            "ticks": ""
           }
          },
          "scene": {
           "xaxis": {
            "backgroundcolor": "#E5ECF6",
            "gridcolor": "white",
            "gridwidth": 2,
            "linecolor": "white",
            "showbackground": true,
            "ticks": "",
            "zerolinecolor": "white"
           },
           "yaxis": {
            "backgroundcolor": "#E5ECF6",
            "gridcolor": "white",
            "gridwidth": 2,
            "linecolor": "white",
            "showbackground": true,
            "ticks": "",
            "zerolinecolor": "white"
           },
           "zaxis": {
            "backgroundcolor": "#E5ECF6",
            "gridcolor": "white",
            "gridwidth": 2,
            "linecolor": "white",
            "showbackground": true,
            "ticks": "",
            "zerolinecolor": "white"
           }
          },
          "shapedefaults": {
           "line": {
            "color": "#2a3f5f"
           }
          },
          "ternary": {
           "aaxis": {
            "gridcolor": "white",
            "linecolor": "white",
            "ticks": ""
           },
           "baxis": {
            "gridcolor": "white",
            "linecolor": "white",
            "ticks": ""
           },
           "bgcolor": "#E5ECF6",
           "caxis": {
            "gridcolor": "white",
            "linecolor": "white",
            "ticks": ""
           }
          },
          "title": {
           "x": 0.05
          },
          "xaxis": {
           "automargin": true,
           "gridcolor": "white",
           "linecolor": "white",
           "ticks": "",
           "title": {
            "standoff": 15
           },
           "zerolinecolor": "white",
           "zerolinewidth": 2
          },
          "yaxis": {
           "automargin": true,
           "gridcolor": "white",
           "linecolor": "white",
           "ticks": "",
           "title": {
            "standoff": 15
           },
           "zerolinecolor": "white",
           "zerolinewidth": 2
          }
         }
        },
        "title": {
         "text": "Distribution of Clusters within State>City"
        },
        "width": 750
       }
      },
      "text/html": [
       "<div>                            <div id=\"c1de3bee-f320-431e-846d-d7d47a7e8b08\" class=\"plotly-graph-div\" style=\"height:750px; width:750px;\"></div>            <script type=\"text/javascript\">                require([\"plotly\"], function(Plotly) {                    window.PLOTLYENV=window.PLOTLYENV || {};                                    if (document.getElementById(\"c1de3bee-f320-431e-846d-d7d47a7e8b08\")) {                    Plotly.newPlot(                        \"c1de3bee-f320-431e-846d-d7d47a7e8b08\",                        [{\"branchvalues\": \"total\", \"customdata\": [[\"park, free, hotel, room, stay, good, breakfast, locat, clean, great\"], [\"park, free, hotel, room, stay, good, breakfast, locat, clean, great\"], [\"park, free, hotel, room, stay, good, breakfast, locat, clean, great\"], [\"park, free, hotel, room, stay, good, breakfast, locat, clean, great\"], [\"park, free, hotel, room, stay, good, breakfast, locat, clean, great\"], [\"park, free, hotel, room, stay, good, breakfast, locat, clean, great\"], [\"park, free, hotel, room, stay, good, breakfast, locat, clean, great\"], [\"park, free, hotel, room, stay, good, breakfast, locat, clean, great\"], [\"park, free, hotel, room, stay, good, breakfast, locat, clean, great\"], [\"park, free, hotel, room, stay, good, breakfast, locat, clean, great\"], [\"park, free, hotel, room, stay, good, breakfast, locat, clean, great\"], [\"park, free, hotel, room, stay, good, breakfast, locat, clean, great\"], [\"park, free, hotel, room, stay, good, breakfast, locat, clean, great\"], [\"park, free, hotel, room, stay, good, breakfast, locat, clean, great\"], [\"park, free, hotel, room, stay, good, breakfast, locat, clean, great\"], [\"park, free, hotel, room, stay, good, breakfast, locat, clean, great\"], [\"park, free, hotel, room, stay, good, breakfast, locat, clean, great\"], [\"park, free, hotel, room, stay, good, breakfast, locat, clean, great\"], [\"park, free, hotel, room, stay, good, breakfast, locat, clean, great\"], [\"park, free, hotel, room, stay, good, breakfast, locat, clean, great\"], [\"park, free, hotel, room, stay, good, breakfast, locat, clean, great\"], [\"park, free, hotel, room, stay, good, breakfast, locat, clean, great\"], [\"park, free, hotel, room, stay, good, breakfast, locat, clean, great\"], [\"park, free, hotel, room, stay, good, breakfast, locat, clean, great\"], [\"park, free, hotel, room, stay, good, breakfast, locat, clean, great\"], [\"park, free, hotel, room, stay, good, breakfast, locat, clean, great\"], [\"park, free, hotel, room, stay, good, breakfast, locat, clean, great\"], [\"park, free, hotel, room, stay, good, breakfast, locat, clean, great\"], [\"park, free, hotel, room, stay, good, breakfast, locat, clean, great\"], [\"park, free, hotel, room, stay, good, breakfast, locat, clean, great\"], [\"park, free, hotel, room, stay, good, breakfast, locat, clean, great\"], [\"park, free, hotel, room, stay, good, breakfast, locat, clean, great\"], [\"park, free, hotel, room, stay, good, breakfast, locat, clean, great\"], [\"park, free, hotel, room, stay, good, breakfast, locat, clean, great\"], [\"orlando, airport, garden, hilton, managerhilton, stay, guest, servic, alex, blancogener\"], [\"orlando, airport, garden, hilton, managerhilton, stay, guest, servic, alex, blancogener\"], [\"orlando, airport, garden, hilton, managerhilton, stay, guest, servic, alex, blancogener\"], [\"airport, shuttl, hotel, philadelphia, stay, flight, room, good, breakfast, free\"], [\"airport, shuttl, hotel, philadelphia, stay, flight, room, good, breakfast, free\"], [\"airport, shuttl, hotel, philadelphia, stay, flight, room, good, breakfast, free\"], [\"airport, shuttl, hotel, philadelphia, stay, flight, room, good, breakfast, free\"], [\"airport, shuttl, hotel, philadelphia, stay, flight, room, good, breakfast, free\"], [\"airport, shuttl, hotel, philadelphia, stay, flight, room, good, breakfast, free\"], [\"airport, shuttl, hotel, philadelphia, stay, flight, room, good, breakfast, free\"], [\"airport, shuttl, hotel, philadelphia, stay, flight, room, good, breakfast, free\"], [\"airport, shuttl, hotel, philadelphia, stay, flight, room, good, breakfast, free\"], [\"airport, shuttl, hotel, philadelphia, stay, flight, room, good, breakfast, free\"], [\"airport, shuttl, hotel, philadelphia, stay, flight, room, good, breakfast, free\"], [\"airport, shuttl, hotel, philadelphia, stay, flight, room, good, breakfast, free\"], [\"airport, shuttl, hotel, philadelphia, stay, flight, room, good, breakfast, free\"], [\"airport, shuttl, hotel, philadelphia, stay, flight, room, good, breakfast, free\"], [\"airport, shuttl, hotel, philadelphia, stay, flight, room, good, breakfast, free\"], [\"airport, shuttl, hotel, philadelphia, stay, flight, room, good, breakfast, free\"], [\"airport, shuttl, hotel, philadelphia, stay, flight, room, good, breakfast, free\"], [\"airport, shuttl, hotel, philadelphia, stay, flight, room, good, breakfast, free\"], [\"airport, shuttl, hotel, philadelphia, stay, flight, room, good, breakfast, free\"], [\"across, street, space, hotel, room, needl, breakfast, great, includ, walk\"], [\"across, street, space, hotel, room, needl, breakfast, great, includ, walk\"], [\"across, street, space, hotel, room, needl, breakfast, great, includ, walk\"], [\"across, street, space, hotel, room, needl, breakfast, great, includ, walk\"], [\"across, street, space, hotel, room, needl, breakfast, great, includ, walk\"], [\"across, street, space, hotel, room, needl, breakfast, great, includ, walk\"], [\"across, street, space, hotel, room, needl, breakfast, great, includ, walk\"], [\"across, street, space, hotel, room, needl, breakfast, great, includ, walk\"], [\"across, street, space, hotel, room, needl, breakfast, great, includ, walk\"], [\"across, street, space, hotel, room, needl, breakfast, great, includ, walk\"], [\"across, street, space, hotel, room, needl, breakfast, great, includ, walk\"], [\"across, street, space, hotel, room, needl, breakfast, great, includ, walk\"], [\"across, street, space, hotel, room, needl, breakfast, great, includ, walk\"], [\"across, street, space, hotel, room, needl, breakfast, great, includ, walk\"], [\"across, street, space, hotel, room, needl, breakfast, great, includ, walk\"], [\"across, street, space, hotel, room, needl, breakfast, great, includ, walk\"], [\"across, street, space, hotel, room, needl, breakfast, great, includ, walk\"], [\"across, street, space, hotel, room, needl, breakfast, great, includ, walk\"], [\"across, street, space, hotel, room, needl, breakfast, great, includ, walk\"], [\"across, street, space, hotel, room, needl, breakfast, great, includ, walk\"], [\"across, street, space, hotel, room, needl, breakfast, great, includ, walk\"], [\"across, street, space, hotel, room, needl, breakfast, great, includ, walk\"], [\"across, street, space, hotel, room, needl, breakfast, great, includ, walk\"], [\"beach, ocean, hotel, locat, room, stay, great, view, walk, restaur\"], [\"beach, ocean, hotel, locat, room, stay, great, view, walk, restaur\"], [\"beach, ocean, hotel, locat, room, stay, great, view, walk, restaur\"], [\"beach, ocean, hotel, locat, room, stay, great, view, walk, restaur\"], [\"beach, ocean, hotel, locat, room, stay, great, view, walk, restaur\"], [\"beach, ocean, hotel, locat, room, stay, great, view, walk, restaur\"], [\"beach, ocean, hotel, locat, room, stay, great, view, walk, restaur\"], [\"beach, ocean, hotel, locat, room, stay, great, view, walk, restaur\"], [\"beach, ocean, hotel, locat, room, stay, great, view, walk, restaur\"], [\"beach, ocean, hotel, locat, room, stay, great, view, walk, restaur\"], [\"beach, ocean, hotel, locat, room, stay, great, view, walk, restaur\"], [\"beach, ocean, hotel, locat, room, stay, great, view, walk, restaur\"], [\"beach, ocean, hotel, locat, room, stay, great, view, walk, restaur\"], [\"beach, ocean, hotel, locat, room, stay, great, view, walk, restaur\"], [\"beach, ocean, hotel, locat, room, stay, great, view, walk, restaur\"], [\"beach, ocean, hotel, locat, room, stay, great, view, walk, restaur\"], [\"beach, ocean, hotel, locat, room, stay, great, view, walk, restaur\"], [\"beach, ocean, hotel, locat, room, stay, great, view, walk, restaur\"], [\"beach, ocean, hotel, locat, room, stay, great, view, walk, restaur\"], [\"chicago, conrad, stay, thank, hotel, room, great, forward, river, time\"], [\"french, quarter, orlean, hotel, room, stay, street, locat, walk, great\"], [\"suit, room, stay, hotel, bedroom, area, breakfast, great, comfort, time\"], [\"suit, room, stay, hotel, bedroom, area, breakfast, great, comfort, time\"], [\"suit, room, stay, hotel, bedroom, area, breakfast, great, comfort, time\"], [\"suit, room, stay, hotel, bedroom, area, breakfast, great, comfort, time\"], [\"suit, room, stay, hotel, bedroom, area, breakfast, great, comfort, time\"], [\"suit, room, stay, hotel, bedroom, area, breakfast, great, comfort, time\"], [\"suit, room, stay, hotel, bedroom, area, breakfast, great, comfort, time\"], [\"suit, room, stay, hotel, bedroom, area, breakfast, great, comfort, time\"], [\"suit, room, stay, hotel, bedroom, area, breakfast, great, comfort, time\"], [\"suit, room, stay, hotel, bedroom, area, breakfast, great, comfort, time\"], [\"suit, room, stay, hotel, bedroom, area, breakfast, great, comfort, time\"], [\"suit, room, stay, hotel, bedroom, area, breakfast, great, comfort, time\"], [\"suit, room, stay, hotel, bedroom, area, breakfast, great, comfort, time\"], [\"suit, room, stay, hotel, bedroom, area, breakfast, great, comfort, time\"], [\"suit, room, stay, hotel, bedroom, area, breakfast, great, comfort, time\"], [\"suit, room, stay, hotel, bedroom, area, breakfast, great, comfort, time\"], [\"suit, room, stay, hotel, bedroom, area, breakfast, great, comfort, time\"], [\"suit, room, stay, hotel, bedroom, area, breakfast, great, comfort, time\"], [\"suit, room, stay, hotel, bedroom, area, breakfast, great, comfort, time\"], [\"suit, room, stay, hotel, bedroom, area, breakfast, great, comfort, time\"], [\"suit, room, stay, hotel, bedroom, area, breakfast, great, comfort, time\"], [\"suit, room, stay, hotel, bedroom, area, breakfast, great, comfort, time\"], [\"suit, room, stay, hotel, bedroom, area, breakfast, great, comfort, time\"], [\"suit, room, stay, hotel, bedroom, area, breakfast, great, comfort, time\"], [\"suit, room, stay, hotel, bedroom, area, breakfast, great, comfort, time\"], [\"suit, room, stay, hotel, bedroom, area, breakfast, great, comfort, time\"], [\"suit, room, stay, hotel, bedroom, area, breakfast, great, comfort, time\"], [\"suit, room, stay, hotel, bedroom, area, breakfast, great, comfort, time\"], [\"suit, room, stay, hotel, bedroom, area, breakfast, great, comfort, time\"], [\"suit, room, stay, hotel, bedroom, area, breakfast, great, comfort, time\"], [\"suit, room, stay, hotel, bedroom, area, breakfast, great, comfort, time\"], [\"suit, room, stay, hotel, bedroom, area, breakfast, great, comfort, time\"], [\"suit, room, stay, hotel, bedroom, area, breakfast, great, comfort, time\"], [\"suit, room, stay, hotel, bedroom, area, breakfast, great, comfort, time\"], [\"suit, room, stay, hotel, bedroom, area, breakfast, great, comfort, time\"], [\"suit, room, stay, hotel, bedroom, area, breakfast, great, comfort, time\"], [\"suit, room, stay, hotel, bedroom, area, breakfast, great, comfort, time\"], [\"suit, room, stay, hotel, bedroom, area, breakfast, great, comfort, time\"], [\"seattl, hyatt, hotel, needl, stay, space, hous, downtown, jung, guest\"], [\"seattl, hyatt, hotel, needl, stay, space, hous, downtown, jung, guest\"], [\"check, room, hotel, arriv, stay, night, book, call, earli, tell\"], [\"check, room, hotel, arriv, stay, night, book, call, earli, tell\"], [\"check, room, hotel, arriv, stay, night, book, call, earli, tell\"], [\"check, room, hotel, arriv, stay, night, book, call, earli, tell\"], [\"check, room, hotel, arriv, stay, night, book, call, earli, tell\"], [\"check, room, hotel, arriv, stay, night, book, call, earli, tell\"], [\"check, room, hotel, arriv, stay, night, book, call, earli, tell\"], [\"check, room, hotel, arriv, stay, night, book, call, earli, tell\"], [\"check, room, hotel, arriv, stay, night, book, call, earli, tell\"], [\"check, room, hotel, arriv, stay, night, book, call, earli, tell\"], [\"check, room, hotel, arriv, stay, night, book, call, earli, tell\"], [\"check, room, hotel, arriv, stay, night, book, call, earli, tell\"], [\"check, room, hotel, arriv, stay, night, book, call, earli, tell\"], [\"check, room, hotel, arriv, stay, night, book, call, earli, tell\"], [\"check, room, hotel, arriv, stay, night, book, call, earli, tell\"], [\"check, room, hotel, arriv, stay, night, book, call, earli, tell\"], [\"check, room, hotel, arriv, stay, night, book, call, earli, tell\"], [\"check, room, hotel, arriv, stay, night, book, call, earli, tell\"], [\"check, room, hotel, arriv, stay, night, book, call, earli, tell\"], [\"check, room, hotel, arriv, stay, night, book, call, earli, tell\"], [\"check, room, hotel, arriv, stay, night, book, call, earli, tell\"], [\"check, room, hotel, arriv, stay, night, book, call, earli, tell\"], [\"check, room, hotel, arriv, stay, night, book, call, earli, tell\"], [\"check, room, hotel, arriv, stay, night, book, call, earli, tell\"], [\"check, room, hotel, arriv, stay, night, book, call, earli, tell\"], [\"check, room, hotel, arriv, stay, night, book, call, earli, tell\"], [\"check, room, hotel, arriv, stay, night, book, call, earli, tell\"], [\"check, room, hotel, arriv, stay, night, book, call, earli, tell\"], [\"check, room, hotel, arriv, stay, night, book, call, earli, tell\"], [\"check, room, hotel, arriv, stay, night, book, call, earli, tell\"], [\"check, room, hotel, arriv, stay, night, book, call, earli, tell\"], [\"check, room, hotel, arriv, stay, night, book, call, earli, tell\"], [\"check, room, hotel, arriv, stay, night, book, call, earli, tell\"], [\"check, room, hotel, arriv, stay, night, book, call, earli, tell\"], [\"check, room, hotel, arriv, stay, night, book, call, earli, tell\"], [\"check, room, hotel, arriv, stay, night, book, call, earli, tell\"], [\"check, room, hotel, arriv, stay, night, book, call, earli, tell\"], [\"check, room, hotel, arriv, stay, night, book, call, earli, tell\"], [\"check, room, hotel, arriv, stay, night, book, call, earli, tell\"], [\"check, room, hotel, arriv, stay, night, book, call, earli, tell\"], [\"check, room, hotel, arriv, stay, night, book, call, earli, tell\"], [\"check, room, hotel, arriv, stay, night, book, call, earli, tell\"], [\"check, room, hotel, arriv, stay, night, book, call, earli, tell\"], [\"check, room, hotel, arriv, stay, night, book, call, earli, tell\"], [\"western, best, diego, stay, hotel, thank, plus, room, breakfast, staff\"], [\"western, best, diego, stay, hotel, thank, plus, room, breakfast, staff\"], [\"western, best, diego, stay, hotel, thank, plus, room, breakfast, staff\"], [\"western, best, diego, stay, hotel, thank, plus, room, breakfast, staff\"], [\"western, best, diego, stay, hotel, thank, plus, room, breakfast, staff\"], [\"western, best, diego, stay, hotel, thank, plus, room, breakfast, staff\"], [\"western, best, diego, stay, hotel, thank, plus, room, breakfast, staff\"], [\"western, best, diego, stay, hotel, thank, plus, room, breakfast, staff\"], [\"western, best, diego, stay, hotel, thank, plus, room, breakfast, staff\"], [\"western, best, diego, stay, hotel, thank, plus, room, breakfast, staff\"], [\"western, best, diego, stay, hotel, thank, plus, room, breakfast, staff\"], [\"western, best, diego, stay, hotel, thank, plus, room, breakfast, staff\"], [\"western, best, diego, stay, hotel, thank, plus, room, breakfast, staff\"], [\"western, best, diego, stay, hotel, thank, plus, room, breakfast, staff\"], [\"room, hotel, stay, night, small, good, floor, clean, bathroom, nois\"], [\"room, hotel, stay, night, small, good, floor, clean, bathroom, nois\"], [\"room, hotel, stay, night, small, good, floor, clean, bathroom, nois\"], [\"room, hotel, stay, night, small, good, floor, clean, bathroom, nois\"], [\"room, hotel, stay, night, small, good, floor, clean, bathroom, nois\"], [\"room, hotel, stay, night, small, good, floor, clean, bathroom, nois\"], [\"room, hotel, stay, night, small, good, floor, clean, bathroom, nois\"], [\"room, hotel, stay, night, small, good, floor, clean, bathroom, nois\"], [\"room, hotel, stay, night, small, good, floor, clean, bathroom, nois\"], [\"room, hotel, stay, night, small, good, floor, clean, bathroom, nois\"], [\"room, hotel, stay, night, small, good, floor, clean, bathroom, nois\"], [\"room, hotel, stay, night, small, good, floor, clean, bathroom, nois\"], [\"room, hotel, stay, night, small, good, floor, clean, bathroom, nois\"], [\"room, hotel, stay, night, small, good, floor, clean, bathroom, nois\"], [\"room, hotel, stay, night, small, good, floor, clean, bathroom, nois\"], [\"room, hotel, stay, night, small, good, floor, clean, bathroom, nois\"], [\"room, hotel, stay, night, small, good, floor, clean, bathroom, nois\"], [\"room, hotel, stay, night, small, good, floor, clean, bathroom, nois\"], [\"room, hotel, stay, night, small, good, floor, clean, bathroom, nois\"], [\"room, hotel, stay, night, small, good, floor, clean, bathroom, nois\"], [\"room, hotel, stay, night, small, good, floor, clean, bathroom, nois\"], [\"room, hotel, stay, night, small, good, floor, clean, bathroom, nois\"], [\"room, hotel, stay, night, small, good, floor, clean, bathroom, nois\"], [\"room, hotel, stay, night, small, good, floor, clean, bathroom, nois\"], [\"room, hotel, stay, night, small, good, floor, clean, bathroom, nois\"], [\"room, hotel, stay, night, small, good, floor, clean, bathroom, nois\"], [\"room, hotel, stay, night, small, good, floor, clean, bathroom, nois\"], [\"room, hotel, stay, night, small, good, floor, clean, bathroom, nois\"], [\"room, hotel, stay, night, small, good, floor, clean, bathroom, nois\"], [\"room, hotel, stay, night, small, good, floor, clean, bathroom, nois\"], [\"room, hotel, stay, night, small, good, floor, clean, bathroom, nois\"], [\"room, hotel, stay, night, small, good, floor, clean, bathroom, nois\"], [\"room, hotel, stay, night, small, good, floor, clean, bathroom, nois\"], [\"room, hotel, stay, night, small, good, floor, clean, bathroom, nois\"], [\"room, hotel, stay, night, small, good, floor, clean, bathroom, nois\"], [\"room, hotel, stay, night, small, good, floor, clean, bathroom, nois\"], [\"room, hotel, stay, night, small, good, floor, clean, bathroom, nois\"], [\"room, hotel, stay, night, small, good, floor, clean, bathroom, nois\"], [\"room, hotel, stay, night, small, good, floor, clean, bathroom, nois\"], [\"room, hotel, stay, night, small, good, floor, clean, bathroom, nois\"], [\"room, hotel, stay, night, small, good, floor, clean, bathroom, nois\"], [\"room, hotel, stay, night, small, good, floor, clean, bathroom, nois\"], [\"room, hotel, stay, night, small, good, floor, clean, bathroom, nois\"], [\"room, hotel, stay, night, small, good, floor, clean, bathroom, nois\"], [\"room, hotel, stay, night, small, good, floor, clean, bathroom, nois\"], [\"disneyland, anaheim, hotel, stay, room, park, clean, walk, disney, great\"], [\"disneyland, anaheim, hotel, stay, room, park, clean, walk, disney, great\"], [\"squar, union, francisco, hotel, room, locat, stay, walk, great, diva\"], [\"squar, union, francisco, hotel, room, locat, stay, walk, great, diva\"], [\"squar, union, francisco, hotel, room, locat, stay, walk, great, diva\"], [\"squar, union, francisco, hotel, room, locat, stay, walk, great, diva\"], [\"squar, union, francisco, hotel, room, locat, stay, walk, great, diva\"], [\"emma, ritz, hotel, carlton, stay, beauti, antonio, amaz, pearl, experi\"], [\"emma, ritz, hotel, carlton, stay, beauti, antonio, amaz, pearl, experi\"], [\"emma, ritz, hotel, carlton, stay, beauti, antonio, amaz, pearl, experi\"], [\"emma, ritz, hotel, carlton, stay, beauti, antonio, amaz, pearl, experi\"], [\"thank, stay, great, hotel, staff, time, review, share, appreci, enjoy\"], [\"thank, stay, great, hotel, staff, time, review, share, appreci, enjoy\"], [\"thank, stay, great, hotel, staff, time, review, share, appreci, enjoy\"], [\"thank, stay, great, hotel, staff, time, review, share, appreci, enjoy\"], [\"thank, stay, great, hotel, staff, time, review, share, appreci, enjoy\"], [\"thank, stay, great, hotel, staff, time, review, share, appreci, enjoy\"], [\"thank, stay, great, hotel, staff, time, review, share, appreci, enjoy\"], [\"thank, stay, great, hotel, staff, time, review, share, appreci, enjoy\"], [\"thank, stay, great, hotel, staff, time, review, share, appreci, enjoy\"], [\"thank, stay, great, hotel, staff, time, review, share, appreci, enjoy\"], [\"thank, stay, great, hotel, staff, time, review, share, appreci, enjoy\"], [\"thank, stay, great, hotel, staff, time, review, share, appreci, enjoy\"], [\"thank, stay, great, hotel, staff, time, review, share, appreci, enjoy\"], [\"thank, stay, great, hotel, staff, time, review, share, appreci, enjoy\"], [\"thank, stay, great, hotel, staff, time, review, share, appreci, enjoy\"], [\"thank, stay, great, hotel, staff, time, review, share, appreci, enjoy\"], [\"thank, stay, great, hotel, staff, time, review, share, appreci, enjoy\"], [\"thank, stay, great, hotel, staff, time, review, share, appreci, enjoy\"], [\"thank, stay, great, hotel, staff, time, review, share, appreci, enjoy\"], [\"thank, stay, great, hotel, staff, time, review, share, appreci, enjoy\"], [\"thank, stay, great, hotel, staff, time, review, share, appreci, enjoy\"], [\"thank, stay, great, hotel, staff, time, review, share, appreci, enjoy\"], [\"thank, stay, great, hotel, staff, time, review, share, appreci, enjoy\"], [\"thank, stay, great, hotel, staff, time, review, share, appreci, enjoy\"], [\"thank, stay, great, hotel, staff, time, review, share, appreci, enjoy\"], [\"thank, stay, great, hotel, staff, time, review, share, appreci, enjoy\"], [\"thank, stay, great, hotel, staff, time, review, share, appreci, enjoy\"], [\"thank, stay, great, hotel, staff, time, review, share, appreci, enjoy\"], [\"waikiki, resort, morealoha, stay, beach, review, luana, thank, enjoy, mahalo\"], [\"waikiki, resort, morealoha, stay, beach, review, luana, thank, enjoy, mahalo\"], [\"waikiki, resort, morealoha, stay, beach, review, luana, thank, enjoy, mahalo\"], [\"waikiki, resort, morealoha, stay, beach, review, luana, thank, enjoy, mahalo\"], [\"waikiki, resort, morealoha, stay, beach, review, luana, thank, enjoy, mahalo\"], [\"atlanta, stay, hotel, downtown, staff, great, hampton, room, locat, area\"], [\"smell, room, dirti, hotel, carpet, stay, sheet, stain, chelsea, annex\"], [\"smell, room, dirti, hotel, carpet, stay, sheet, stain, chelsea, annex\"], [\"smell, room, dirti, hotel, carpet, stay, sheet, stain, chelsea, annex\"], [\"smell, room, dirti, hotel, carpet, stay, sheet, stain, chelsea, annex\"], [\"smell, room, dirti, hotel, carpet, stay, sheet, stain, chelsea, annex\"], [\"smell, room, dirti, hotel, carpet, stay, sheet, stain, chelsea, annex\"], [\"smell, room, dirti, hotel, carpet, stay, sheet, stain, chelsea, annex\"], [\"smell, room, dirti, hotel, carpet, stay, sheet, stain, chelsea, annex\"], [\"smell, room, dirti, hotel, carpet, stay, sheet, stain, chelsea, annex\"], [\"smell, room, dirti, hotel, carpet, stay, sheet, stain, chelsea, annex\"], [\"smell, room, dirti, hotel, carpet, stay, sheet, stain, chelsea, annex\"], [\"smell, room, dirti, hotel, carpet, stay, sheet, stain, chelsea, annex\"], [\"smell, room, dirti, hotel, carpet, stay, sheet, stain, chelsea, annex\"], [\"smell, room, dirti, hotel, carpet, stay, sheet, stain, chelsea, annex\"], [\"smell, room, dirti, hotel, carpet, stay, sheet, stain, chelsea, annex\"], [\"smell, room, dirti, hotel, carpet, stay, sheet, stain, chelsea, annex\"], [\"smell, room, dirti, hotel, carpet, stay, sheet, stain, chelsea, annex\"], [\"smell, room, dirti, hotel, carpet, stay, sheet, stain, chelsea, annex\"], [\"smell, room, dirti, hotel, carpet, stay, sheet, stain, chelsea, annex\"], [\"smell, room, dirti, hotel, carpet, stay, sheet, stain, chelsea, annex\"], [\"smell, room, dirti, hotel, carpet, stay, sheet, stain, chelsea, annex\"], [\"smell, room, dirti, hotel, carpet, stay, sheet, stain, chelsea, annex\"], [\"smell, room, dirti, hotel, carpet, stay, sheet, stain, chelsea, annex\"], [\"smell, room, dirti, hotel, carpet, stay, sheet, stain, chelsea, annex\"], [\"smell, room, dirti, hotel, carpet, stay, sheet, stain, chelsea, annex\"], [\"smell, room, dirti, hotel, carpet, stay, sheet, stain, chelsea, annex\"], [\"smell, room, dirti, hotel, carpet, stay, sheet, stain, chelsea, annex\"], [\"smell, room, dirti, hotel, carpet, stay, sheet, stain, chelsea, annex\"], [\"smell, room, dirti, hotel, carpet, stay, sheet, stain, chelsea, annex\"], [\"love, hotel, great, stay, room, staff, back, place, locat, time\"], [\"love, hotel, great, stay, room, staff, back, place, locat, time\"], [\"love, hotel, great, stay, room, staff, back, place, locat, time\"], [\"love, hotel, great, stay, room, staff, back, place, locat, time\"], [\"love, hotel, great, stay, room, staff, back, place, locat, time\"], [\"love, hotel, great, stay, room, staff, back, place, locat, time\"], [\"love, hotel, great, stay, room, staff, back, place, locat, time\"], [\"love, hotel, great, stay, room, staff, back, place, locat, time\"], [\"love, hotel, great, stay, room, staff, back, place, locat, time\"], [\"love, hotel, great, stay, room, staff, back, place, locat, time\"], [\"love, hotel, great, stay, room, staff, back, place, locat, time\"], [\"love, hotel, great, stay, room, staff, back, place, locat, time\"], [\"love, hotel, great, stay, room, staff, back, place, locat, time\"], [\"love, hotel, great, stay, room, staff, back, place, locat, time\"], [\"love, hotel, great, stay, room, staff, back, place, locat, time\"], [\"love, hotel, great, stay, room, staff, back, place, locat, time\"], [\"love, hotel, great, stay, room, staff, back, place, locat, time\"], [\"love, hotel, great, stay, room, staff, back, place, locat, time\"], [\"love, hotel, great, stay, room, staff, back, place, locat, time\"], [\"love, hotel, great, stay, room, staff, back, place, locat, time\"], [\"love, hotel, great, stay, room, staff, back, place, locat, time\"], [\"love, hotel, great, stay, room, staff, back, place, locat, time\"], [\"love, hotel, great, stay, room, staff, back, place, locat, time\"], [\"love, hotel, great, stay, room, staff, back, place, locat, time\"], [\"love, hotel, great, stay, room, staff, back, place, locat, time\"], [\"love, hotel, great, stay, room, staff, back, place, locat, time\"], [\"love, hotel, great, stay, room, staff, back, place, locat, time\"], [\"love, hotel, great, stay, room, staff, back, place, locat, time\"], [\"love, hotel, great, stay, room, staff, back, place, locat, time\"], [\"love, hotel, great, stay, room, staff, back, place, locat, time\"], [\"love, hotel, great, stay, room, staff, back, place, locat, time\"], [\"love, hotel, great, stay, room, staff, back, place, locat, time\"], [\"love, hotel, great, stay, room, staff, back, place, locat, time\"], [\"love, hotel, great, stay, room, staff, back, place, locat, time\"], [\"love, hotel, great, stay, room, staff, back, place, locat, time\"], [\"love, hotel, great, stay, room, staff, back, place, locat, time\"], [\"love, hotel, great, stay, room, staff, back, place, locat, time\"], [\"love, hotel, great, stay, room, staff, back, place, locat, time\"], [\"love, hotel, great, stay, room, staff, back, place, locat, time\"], [\"nice, pool, room, hotel, clean, good, great, stay, area, breakfast\"], [\"nice, pool, room, hotel, clean, good, great, stay, area, breakfast\"], [\"nice, pool, room, hotel, clean, good, great, stay, area, breakfast\"], [\"nice, pool, room, hotel, clean, good, great, stay, area, breakfast\"], [\"nice, pool, room, hotel, clean, good, great, stay, area, breakfast\"], [\"nice, pool, room, hotel, clean, good, great, stay, area, breakfast\"], [\"nice, pool, room, hotel, clean, good, great, stay, area, breakfast\"], [\"nice, pool, room, hotel, clean, good, great, stay, area, breakfast\"], [\"nice, pool, room, hotel, clean, good, great, stay, area, breakfast\"], [\"nice, pool, room, hotel, clean, good, great, stay, area, breakfast\"], [\"nice, pool, room, hotel, clean, good, great, stay, area, breakfast\"], [\"nice, pool, room, hotel, clean, good, great, stay, area, breakfast\"], [\"nice, pool, room, hotel, clean, good, great, stay, area, breakfast\"], [\"nice, pool, room, hotel, clean, good, great, stay, area, breakfast\"], [\"nice, pool, room, hotel, clean, good, great, stay, area, breakfast\"], [\"nice, pool, room, hotel, clean, good, great, stay, area, breakfast\"], [\"nice, pool, room, hotel, clean, good, great, stay, area, breakfast\"], [\"nice, pool, room, hotel, clean, good, great, stay, area, breakfast\"], [\"nice, pool, room, hotel, clean, good, great, stay, area, breakfast\"], [\"nice, pool, room, hotel, clean, good, great, stay, area, breakfast\"], [\"nice, pool, room, hotel, clean, good, great, stay, area, breakfast\"], [\"nice, pool, room, hotel, clean, good, great, stay, area, breakfast\"], [\"nice, pool, room, hotel, clean, good, great, stay, area, breakfast\"], [\"nice, pool, room, hotel, clean, good, great, stay, area, breakfast\"], [\"nice, pool, room, hotel, clean, good, great, stay, area, breakfast\"], [\"nice, pool, room, hotel, clean, good, great, stay, area, breakfast\"], [\"nice, pool, room, hotel, clean, good, great, stay, area, breakfast\"], [\"nice, pool, room, hotel, clean, good, great, stay, area, breakfast\"], [\"nice, pool, room, hotel, clean, good, great, stay, area, breakfast\"], [\"nice, pool, room, hotel, clean, good, great, stay, area, breakfast\"], [\"nice, pool, room, hotel, clean, good, great, stay, area, breakfast\"], [\"nice, pool, room, hotel, clean, good, great, stay, area, breakfast\"], [\"nice, pool, room, hotel, clean, good, great, stay, area, breakfast\"], [\"nice, pool, room, hotel, clean, good, great, stay, area, breakfast\"], [\"nice, pool, room, hotel, clean, good, great, stay, area, breakfast\"], [\"nice, pool, room, hotel, clean, good, great, stay, area, breakfast\"], [\"nice, pool, room, hotel, clean, good, great, stay, area, breakfast\"], [\"nice, pool, room, hotel, clean, good, great, stay, area, breakfast\"], [\"nice, pool, room, hotel, clean, good, great, stay, area, breakfast\"], [\"nice, pool, room, hotel, clean, good, great, stay, area, breakfast\"], [\"nice, pool, room, hotel, clean, good, great, stay, area, breakfast\"], [\"nice, pool, room, hotel, clean, good, great, stay, area, breakfast\"], [\"nice, pool, room, hotel, clean, good, great, stay, area, breakfast\"], [\"nice, pool, room, hotel, clean, good, great, stay, area, breakfast\"], [\"nice, pool, room, hotel, clean, good, great, stay, area, breakfast\"], [\"nice, pool, room, hotel, clean, good, great, stay, area, breakfast\"], [\"nice, pool, room, hotel, clean, good, great, stay, area, breakfast\"], [\"nice, pool, room, hotel, clean, good, great, stay, area, breakfast\"], [\"nice, pool, room, hotel, clean, good, great, stay, area, breakfast\"], [\"nice, pool, room, hotel, clean, good, great, stay, area, breakfast\"], [\"nice, pool, room, hotel, clean, good, great, stay, area, breakfast\"], [\"nice, pool, room, hotel, clean, good, great, stay, area, breakfast\"], [\"nice, pool, room, hotel, clean, good, great, stay, area, breakfast\"], [\"nice, pool, room, hotel, clean, good, great, stay, area, breakfast\"], [\"nice, pool, room, hotel, clean, good, great, stay, area, breakfast\"], [\"nice, pool, room, hotel, clean, good, great, stay, area, breakfast\"], [\"stay, great, staff, friend, help, clean, hotel, room, breakfast, locat\"], [\"stay, great, staff, friend, help, clean, hotel, room, breakfast, locat\"], [\"stay, great, staff, friend, help, clean, hotel, room, breakfast, locat\"], [\"stay, great, staff, friend, help, clean, hotel, room, breakfast, locat\"], [\"stay, great, staff, friend, help, clean, hotel, room, breakfast, locat\"], [\"stay, great, staff, friend, help, clean, hotel, room, breakfast, locat\"], [\"stay, great, staff, friend, help, clean, hotel, room, breakfast, locat\"], [\"stay, great, staff, friend, help, clean, hotel, room, breakfast, locat\"], [\"stay, great, staff, friend, help, clean, hotel, room, breakfast, locat\"], [\"stay, great, staff, friend, help, clean, hotel, room, breakfast, locat\"], [\"stay, great, staff, friend, help, clean, hotel, room, breakfast, locat\"], [\"stay, great, staff, friend, help, clean, hotel, room, breakfast, locat\"], [\"stay, great, staff, friend, help, clean, hotel, room, breakfast, locat\"], [\"stay, great, staff, friend, help, clean, hotel, room, breakfast, locat\"], [\"stay, great, staff, friend, help, clean, hotel, room, breakfast, locat\"], [\"stay, great, staff, friend, help, clean, hotel, room, breakfast, locat\"], [\"stay, great, staff, friend, help, clean, hotel, room, breakfast, locat\"], [\"stay, great, staff, friend, help, clean, hotel, room, breakfast, locat\"], [\"stay, great, staff, friend, help, clean, hotel, room, breakfast, locat\"], [\"stay, great, staff, friend, help, clean, hotel, room, breakfast, locat\"], [\"stay, great, staff, friend, help, clean, hotel, room, breakfast, locat\"], [\"stay, great, staff, friend, help, clean, hotel, room, breakfast, locat\"], [\"stay, great, staff, friend, help, clean, hotel, room, breakfast, locat\"], [\"stay, great, staff, friend, help, clean, hotel, room, breakfast, locat\"], [\"stay, great, staff, friend, help, clean, hotel, room, breakfast, locat\"], [\"stay, great, staff, friend, help, clean, hotel, room, breakfast, locat\"], [\"stay, great, staff, friend, help, clean, hotel, room, breakfast, locat\"], [\"stay, great, staff, friend, help, clean, hotel, room, breakfast, locat\"], [\"stay, great, staff, friend, help, clean, hotel, room, breakfast, locat\"], [\"stay, great, staff, friend, help, clean, hotel, room, breakfast, locat\"], [\"stay, great, staff, friend, help, clean, hotel, room, breakfast, locat\"], [\"stay, great, staff, friend, help, clean, hotel, room, breakfast, locat\"], [\"stay, great, staff, friend, help, clean, hotel, room, breakfast, locat\"], [\"stay, great, staff, friend, help, clean, hotel, room, breakfast, locat\"], [\"stay, great, staff, friend, help, clean, hotel, room, breakfast, locat\"], [\"stay, great, staff, friend, help, clean, hotel, room, breakfast, locat\"], [\"stay, great, staff, friend, help, clean, hotel, room, breakfast, locat\"], [\"stay, great, staff, friend, help, clean, hotel, room, breakfast, locat\"], [\"stay, great, staff, friend, help, clean, hotel, room, breakfast, locat\"], [\"stay, great, staff, friend, help, clean, hotel, room, breakfast, locat\"], [\"stay, great, staff, friend, help, clean, hotel, room, breakfast, locat\"], [\"stay, great, staff, friend, help, clean, hotel, room, breakfast, locat\"], [\"stay, great, staff, friend, help, clean, hotel, room, breakfast, locat\"], [\"stay, great, staff, friend, help, clean, hotel, room, breakfast, locat\"], [\"stay, great, staff, friend, help, clean, hotel, room, breakfast, locat\"], [\"stay, great, staff, friend, help, clean, hotel, room, breakfast, locat\"], [\"stay, great, staff, friend, help, clean, hotel, room, breakfast, locat\"], [\"stay, great, staff, friend, help, clean, hotel, room, breakfast, locat\"], [\"stay, great, staff, friend, help, clean, hotel, room, breakfast, locat\"], [\"stay, great, staff, friend, help, clean, hotel, room, breakfast, locat\"], [\"stay, great, staff, friend, help, clean, hotel, room, breakfast, locat\"], [\"stay, great, staff, friend, help, clean, hotel, room, breakfast, locat\"], [\"stay, great, staff, friend, help, clean, hotel, room, breakfast, locat\"], [\"stay, great, staff, friend, help, clean, hotel, room, breakfast, locat\"], [\"stay, great, staff, friend, help, clean, hotel, room, breakfast, locat\"], [\"hotel, stay, room, great, servic, staff, locat, place, restaur, breakfast\"], [\"hotel, stay, room, great, servic, staff, locat, place, restaur, breakfast\"], [\"hotel, stay, room, great, servic, staff, locat, place, restaur, breakfast\"], [\"hotel, stay, room, great, servic, staff, locat, place, restaur, breakfast\"], [\"hotel, stay, room, great, servic, staff, locat, place, restaur, breakfast\"], [\"hotel, stay, room, great, servic, staff, locat, place, restaur, breakfast\"], [\"hotel, stay, room, great, servic, staff, locat, place, restaur, breakfast\"], [\"hotel, stay, room, great, servic, staff, locat, place, restaur, breakfast\"], [\"hotel, stay, room, great, servic, staff, locat, place, restaur, breakfast\"], [\"hotel, stay, room, great, servic, staff, locat, place, restaur, breakfast\"], [\"hotel, stay, room, great, servic, staff, locat, place, restaur, breakfast\"], [\"hotel, stay, room, great, servic, staff, locat, place, restaur, breakfast\"], [\"hotel, stay, room, great, servic, staff, locat, place, restaur, breakfast\"], [\"hotel, stay, room, great, servic, staff, locat, place, restaur, breakfast\"], [\"hotel, stay, room, great, servic, staff, locat, place, restaur, breakfast\"], [\"hotel, stay, room, great, servic, staff, locat, place, restaur, breakfast\"], [\"hotel, stay, room, great, servic, staff, locat, place, restaur, breakfast\"], [\"hotel, stay, room, great, servic, staff, locat, place, restaur, breakfast\"], [\"hotel, stay, room, great, servic, staff, locat, place, restaur, breakfast\"], [\"hotel, stay, room, great, servic, staff, locat, place, restaur, breakfast\"], [\"hotel, stay, room, great, servic, staff, locat, place, restaur, breakfast\"], [\"hotel, stay, room, great, servic, staff, locat, place, restaur, breakfast\"], [\"hotel, stay, room, great, servic, staff, locat, place, restaur, breakfast\"], [\"hotel, stay, room, great, servic, staff, locat, place, restaur, breakfast\"], [\"hotel, stay, room, great, servic, staff, locat, place, restaur, breakfast\"], [\"hotel, stay, room, great, servic, staff, locat, place, restaur, breakfast\"], [\"hotel, stay, room, great, servic, staff, locat, place, restaur, breakfast\"], [\"hotel, stay, room, great, servic, staff, locat, place, restaur, breakfast\"], [\"hotel, stay, room, great, servic, staff, locat, place, restaur, breakfast\"], [\"hotel, stay, room, great, servic, staff, locat, place, restaur, breakfast\"], [\"hotel, stay, room, great, servic, staff, locat, place, restaur, breakfast\"], [\"hotel, stay, room, great, servic, staff, locat, place, restaur, breakfast\"], [\"hotel, stay, room, great, servic, staff, locat, place, restaur, breakfast\"], [\"hotel, stay, room, great, servic, staff, locat, place, restaur, breakfast\"], [\"hotel, stay, room, great, servic, staff, locat, place, restaur, breakfast\"], [\"hotel, stay, room, great, servic, staff, locat, place, restaur, breakfast\"], [\"hotel, stay, room, great, servic, staff, locat, place, restaur, breakfast\"], [\"hotel, stay, room, great, servic, staff, locat, place, restaur, breakfast\"], [\"hotel, stay, room, great, servic, staff, locat, place, restaur, breakfast\"], [\"hotel, stay, room, great, servic, staff, locat, place, restaur, breakfast\"], [\"hotel, stay, room, great, servic, staff, locat, place, restaur, breakfast\"], [\"hotel, stay, room, great, servic, staff, locat, place, restaur, breakfast\"], [\"hotel, stay, room, great, servic, staff, locat, place, restaur, breakfast\"], [\"hotel, stay, room, great, servic, staff, locat, place, restaur, breakfast\"], [\"hotel, stay, room, great, servic, staff, locat, place, restaur, breakfast\"], [\"hotel, stay, room, great, servic, staff, locat, place, restaur, breakfast\"], [\"hotel, stay, room, great, servic, staff, locat, place, restaur, breakfast\"], [\"hotel, stay, room, great, servic, staff, locat, place, restaur, breakfast\"], [\"hotel, stay, room, great, servic, staff, locat, place, restaur, breakfast\"], [\"hotel, stay, room, great, servic, staff, locat, place, restaur, breakfast\"], [\"hotel, stay, room, great, servic, staff, locat, place, restaur, breakfast\"], [\"hotel, stay, room, great, servic, staff, locat, place, restaur, breakfast\"], [\"hotel, stay, room, great, servic, staff, locat, place, restaur, breakfast\"], [\"hotel, stay, room, great, servic, staff, locat, place, restaur, breakfast\"], [\"hotel, stay, room, great, servic, staff, locat, place, restaur, breakfast\"], [\"hotel, stay, room, great, servic, staff, locat, place, restaur, breakfast\"], [\"hotel, stay, room, great, servic, staff, locat, place, restaur, breakfast\"], [\"hotel, stay, room, great, servic, staff, locat, place, restaur, breakfast\"], [\"hotel, stay, room, great, servic, staff, locat, place, restaur, breakfast\"], [\"hotel, stay, room, great, servic, staff, locat, place, restaur, breakfast\"], [\"hotel, stay, room, great, servic, staff, locat, place, restaur, breakfast\"], [\"hotel, stay, room, great, servic, staff, locat, place, restaur, breakfast\"], [\"hotel, stay, room, great, servic, staff, locat, place, restaur, breakfast\"], [\"desk, front, room, hotel, staff, stay, help, great, servic, breakfast\"], [\"desk, front, room, hotel, staff, stay, help, great, servic, breakfast\"], [\"desk, front, room, hotel, staff, stay, help, great, servic, breakfast\"], [\"desk, front, room, hotel, staff, stay, help, great, servic, breakfast\"], [\"desk, front, room, hotel, staff, stay, help, great, servic, breakfast\"], [\"desk, front, room, hotel, staff, stay, help, great, servic, breakfast\"], [\"desk, front, room, hotel, staff, stay, help, great, servic, breakfast\"], [\"desk, front, room, hotel, staff, stay, help, great, servic, breakfast\"], [\"desk, front, room, hotel, staff, stay, help, great, servic, breakfast\"], [\"desk, front, room, hotel, staff, stay, help, great, servic, breakfast\"], [\"desk, front, room, hotel, staff, stay, help, great, servic, breakfast\"], [\"desk, front, room, hotel, staff, stay, help, great, servic, breakfast\"], [\"desk, front, room, hotel, staff, stay, help, great, servic, breakfast\"], [\"desk, front, room, hotel, staff, stay, help, great, servic, breakfast\"], [\"desk, front, room, hotel, staff, stay, help, great, servic, breakfast\"], [\"desk, front, room, hotel, staff, stay, help, great, servic, breakfast\"], [\"desk, front, room, hotel, staff, stay, help, great, servic, breakfast\"], [\"desk, front, room, hotel, staff, stay, help, great, servic, breakfast\"], [\"desk, front, room, hotel, staff, stay, help, great, servic, breakfast\"], [\"desk, front, room, hotel, staff, stay, help, great, servic, breakfast\"], [\"desk, front, room, hotel, staff, stay, help, great, servic, breakfast\"], [\"desk, front, room, hotel, staff, stay, help, great, servic, breakfast\"], [\"desk, front, room, hotel, staff, stay, help, great, servic, breakfast\"], [\"desk, front, room, hotel, staff, stay, help, great, servic, breakfast\"], [\"desk, front, room, hotel, staff, stay, help, great, servic, breakfast\"], [\"desk, front, room, hotel, staff, stay, help, great, servic, breakfast\"], [\"desk, front, room, hotel, staff, stay, help, great, servic, breakfast\"], [\"desk, front, room, hotel, staff, stay, help, great, servic, breakfast\"], [\"desk, front, room, hotel, staff, stay, help, great, servic, breakfast\"], [\"desk, front, room, hotel, staff, stay, help, great, servic, breakfast\"], [\"desk, front, room, hotel, staff, stay, help, great, servic, breakfast\"], [\"desk, front, room, hotel, staff, stay, help, great, servic, breakfast\"], [\"desk, front, room, hotel, staff, stay, help, great, servic, breakfast\"], [\"desk, front, room, hotel, staff, stay, help, great, servic, breakfast\"], [\"desk, front, room, hotel, staff, stay, help, great, servic, breakfast\"], [\"desk, front, room, hotel, staff, stay, help, great, servic, breakfast\"], [\"desk, front, room, hotel, staff, stay, help, great, servic, breakfast\"], [\"desk, front, room, hotel, staff, stay, help, great, servic, breakfast\"], [\"desk, front, room, hotel, staff, stay, help, great, servic, breakfast\"], [\"desk, front, room, hotel, staff, stay, help, great, servic, breakfast\"], [\"desk, front, room, hotel, staff, stay, help, great, servic, breakfast\"], [\"desk, front, room, hotel, staff, stay, help, great, servic, breakfast\"], [\"desk, front, room, hotel, staff, stay, help, great, servic, breakfast\"], [\"desk, front, room, hotel, staff, stay, help, great, servic, breakfast\"], [\"desk, front, room, hotel, staff, stay, help, great, servic, breakfast\"], [\"desk, front, room, hotel, staff, stay, help, great, servic, breakfast\"], [\"room, experi, apolog, stay, guest, hotel, sorri, feedback, thank, hope\"], [\"room, experi, apolog, stay, guest, hotel, sorri, feedback, thank, hope\"], [\"room, experi, apolog, stay, guest, hotel, sorri, feedback, thank, hope\"], [\"room, experi, apolog, stay, guest, hotel, sorri, feedback, thank, hope\"], [\"room, experi, apolog, stay, guest, hotel, sorri, feedback, thank, hope\"], [\"room, experi, apolog, stay, guest, hotel, sorri, feedback, thank, hope\"], [\"room, experi, apolog, stay, guest, hotel, sorri, feedback, thank, hope\"], [\"room, experi, apolog, stay, guest, hotel, sorri, feedback, thank, hope\"], [\"room, experi, apolog, stay, guest, hotel, sorri, feedback, thank, hope\"], [\"room, experi, apolog, stay, guest, hotel, sorri, feedback, thank, hope\"], [\"room, experi, apolog, stay, guest, hotel, sorri, feedback, thank, hope\"], [\"room, experi, apolog, stay, guest, hotel, sorri, feedback, thank, hope\"], [\"room, experi, apolog, stay, guest, hotel, sorri, feedback, thank, hope\"], [\"room, experi, apolog, stay, guest, hotel, sorri, feedback, thank, hope\"], [\"room, experi, apolog, stay, guest, hotel, sorri, feedback, thank, hope\"], [\"room, experi, apolog, stay, guest, hotel, sorri, feedback, thank, hope\"], [\"room, experi, apolog, stay, guest, hotel, sorri, feedback, thank, hope\"], [\"room, experi, apolog, stay, guest, hotel, sorri, feedback, thank, hope\"], [\"room, experi, apolog, stay, guest, hotel, sorri, feedback, thank, hope\"], [\"room, experi, apolog, stay, guest, hotel, sorri, feedback, thank, hope\"], [\"room, experi, apolog, stay, guest, hotel, sorri, feedback, thank, hope\"], [\"room, experi, apolog, stay, guest, hotel, sorri, feedback, thank, hope\"], [\"room, experi, apolog, stay, guest, hotel, sorri, feedback, thank, hope\"], [\"room, experi, apolog, stay, guest, hotel, sorri, feedback, thank, hope\"], [\"room, experi, apolog, stay, guest, hotel, sorri, feedback, thank, hope\"], [\"room, experi, apolog, stay, guest, hotel, sorri, feedback, thank, hope\"], [\"room, experi, apolog, stay, guest, hotel, sorri, feedback, thank, hope\"], [\"(?)\"], [\"(?)\"], [\"(?)\"], [\"(?)\"], [\"(?)\"], [\"(?)\"], [\"(?)\"], [\"(?)\"], [\"(?)\"], [\"(?)\"], [\"(?)\"], [\"(?)\"], [\"(?)\"], [\"(?)\"], [\"(?)\"], [\"(?)\"], [\"(?)\"], [\"(?)\"], [\"(?)\"], [\"(?)\"], [\"(?)\"], [\"(?)\"], [\"(?)\"], [\"(?)\"], [\"(?)\"], [\"(?)\"], [\"(?)\"], [\"(?)\"], [\"(?)\"], [\"(?)\"], [\"(?)\"], [\"(?)\"], [\"(?)\"], [\"(?)\"], [\"(?)\"], [\"(?)\"], [\"(?)\"], [\"(?)\"], [\"(?)\"], [\"(?)\"], [\"(?)\"], [\"(?)\"], [\"(?)\"], [\"(?)\"], [\"(?)\"], [\"(?)\"], [\"(?)\"], [\"(?)\"], [\"(?)\"], [\"(?)\"], [\"(?)\"], [\"(?)\"], [\"(?)\"], [\"(?)\"], [\"(?)\"], [\"(?)\"], [\"(?)\"], [\"(?)\"], [\"(?)\"], [\"(?)\"], [\"(?)\"], [\"(?)\"], [\"(?)\"], [\"(?)\"], [\"(?)\"], [\"(?)\"], [\"(?)\"], [\"(?)\"], [\"(?)\"], [\"(?)\"], [\"(?)\"], [\"(?)\"], [\"(?)\"], [\"(?)\"], [\"(?)\"], [\"(?)\"], [\"(?)\"], [\"(?)\"], [\"(?)\"], [\"(?)\"], [\"(?)\"], [\"(?)\"], [\"(?)\"], [\"(?)\"], [\"(?)\"], [\"(?)\"], [\"(?)\"], [\"(?)\"], [\"(?)\"], [\"(?)\"], [\"(?)\"], [\"(?)\"], [\"(?)\"]], \"domain\": {\"x\": [0.0, 1.0], \"y\": [0.0, 1.0]}, \"hovertemplate\": \"labels=%{label}<br>Count=%{value}<br>parent=%{parent}<br>id=%{id}<br>keywords=%{customdata[0]}<extra></extra>\", \"ids\": [\"CA/Anaheim/0\", \"GA/Atlanta/0\", \"OR/Bend/0\", \"MA/Boston/0\", \"NC/Charlotte/0\", \"IL/Chicago/0\", \"VA/Chincoteague Island/0\", \"CO/Colorado Springs/0\", \"TX/Dallas/0\", \"CO/Estes Park/0\", \"HI/Honolulu/0\", \"TN/Jackson/0\", \"FL/Key West/0\", \"CA/La Jolla/0\", \"KY/Lexington/0\", \"KY/Louisville/0\", \"FL/Miami/0\", \"MN/Minneapolis/0\", \"CA/Napa/0\", \"LA/New Orleans/0\", \"NY/New York/0\", \"FL/Orlando/0\", \"PA/Philadelphia/0\", \"AZ/Phoenix/0\", \"OR/Portland/0\", \"MO/Saint Louis/0\", \"FL/Saint Petersburg/0\", \"TX/San Antonio/0\", \"CA/San Diego/0\", \"CA/San Francisco/0\", \"CA/Santa Monica/0\", \"WA/Seattle/0\", \"OK/Tulsa/0\", \"WI/Wisconsin Dells/0\", \"TX/Dallas/1\", \"FL/Miami/1\", \"FL/Orlando/1\", \"CA/Anaheim/10\", \"GA/Atlanta/10\", \"NC/Charlotte/10\", \"IL/Chicago/10\", \"CO/Colorado Springs/10\", \"TX/Dallas/10\", \"FL/Key West/10\", \"CA/La Jolla/10\", \"KY/Lexington/10\", \"FL/Miami/10\", \"MN/Minneapolis/10\", \"LA/New Orleans/10\", \"NY/New York/10\", \"FL/Orlando/10\", \"PA/Philadelphia/10\", \"AZ/Phoenix/10\", \"CA/San Diego/10\", \"CA/San Francisco/10\", \"WA/Seattle/10\", \"CA/Anaheim/11\", \"GA/Atlanta/11\", \"NC/Charlotte/11\", \"IL/Chicago/11\", \"TX/Dallas/11\", \"FL/Fort Myers Beach/11\", \"HI/Honolulu/11\", \"FL/Key West/11\", \"PA/King of Prussia/11\", \"KY/Lexington/11\", \"GA/Macon/11\", \"FL/Miami/11\", \"CA/Napa/11\", \"LA/New Orleans/11\", \"FL/Orlando/11\", \"UT/Saint George/11\", \"MO/Saint Louis/11\", \"CA/San Diego/11\", \"CA/San Francisco/11\", \"WA/Seattle/11\", \"CA/South Lake Tahoe/11\", \"FL/Tampa/11\", \"WI/Wisconsin Dells/11\", \"NJ/Atlantic City/12\", \"OR/Cannon Beach/12\", \"VA/Chincoteague Island/12\", \"FL/Destin/12\", \"FL/Fort Myers Beach/12\", \"SC/Hilton Head Island/12\", \"HI/Honolulu/12\", \"FL/Key West/12\", \"CA/La Jolla/12\", \"HI/Lahaina/12\", \"NV/Las Vegas/12\", \"FL/Miami/12\", \"FL/Naples/12\", \"FL/Orlando/12\", \"TN/Pigeon Forge/12\", \"CA/San Diego/12\", \"CA/San Francisco/12\", \"CA/South Lake Tahoe/12\", \"FL/Tampa/12\", \"IL/Chicago/13\", \"LA/New Orleans/14\", \"CA/Anaheim/15\", \"GA/Atlanta/15\", \"NC/Charlotte/15\", \"IL/Chicago/15\", \"CO/Colorado Springs/15\", \"TX/Dallas/15\", \"FL/Fort Myers Beach/15\", \"PA/Harrisburg/15\", \"HI/Honolulu/15\", \"IN/Indianapolis/15\", \"TN/Jackson/15\", \"FL/Key West/15\", \"CA/La Jolla/15\", \"HI/Lahaina/15\", \"NV/Las Vegas/15\", \"KY/Lexington/15\", \"KY/Louisville/15\", \"GA/Macon/15\", \"WI/Madison/15\", \"FL/Miami/15\", \"CA/Napa/15\", \"FL/Naples/15\", \"LA/New Orleans/15\", \"NE/North Platte/15\", \"FL/Orlando/15\", \"TX/Palestine/15\", \"PA/Philadelphia/15\", \"AZ/Phoenix/15\", \"UT/Saint George/15\", \"MO/Saint Louis/15\", \"FL/Saint Petersburg/15\", \"CA/San Diego/15\", \"CA/San Francisco/15\", \"WA/Seattle/15\", \"WI/Sheboygan/15\", \"FL/Tampa/15\", \"OK/Tulsa/15\", \"WI/Wisconsin Dells/15\", \"WA/Arlington/16\", \"WA/Seattle/16\", \"CA/Anaheim/17\", \"GA/Atlanta/17\", \"NJ/Atlantic City/17\", \"OR/Bend/17\", \"OR/Cannon Beach/17\", \"NC/Charlotte/17\", \"IL/Chicago/17\", \"VA/Chincoteague Island/17\", \"CO/Colorado Springs/17\", \"TX/Dallas/17\", \"CO/Estes Park/17\", \"GA/Helen/17\", \"HI/Honolulu/17\", \"IN/Indianapolis/17\", \"TN/Jackson/17\", \"NE/Kearney/17\", \"FL/Key West/17\", \"CA/La Jolla/17\", \"HI/Lahaina/17\", \"NV/Las Vegas/17\", \"KY/Lexington/17\", \"NE/Lincoln/17\", \"KY/Louisville/17\", \"GA/Macon/17\", \"FL/Miami/17\", \"CA/Napa/17\", \"FL/Naples/17\", \"LA/New Orleans/17\", \"NY/New York/17\", \"NE/North Platte/17\", \"FL/Orlando/17\", \"TX/Palestine/17\", \"PA/Philadelphia/17\", \"AZ/Phoenix/17\", \"TN/Pigeon Forge/17\", \"UT/Saint George/17\", \"TX/San Antonio/17\", \"CA/San Diego/17\", \"CA/San Francisco/17\", \"WA/Seattle/17\", \"WI/Sheboygan/17\", \"CA/South Lake Tahoe/17\", \"FL/Tampa/17\", \"OK/Tulsa/17\", \"WA/Arlington/18\", \"TX/Dallas/18\", \"TN/Gatlinburg/18\", \"IN/Indianapolis/18\", \"NE/Kearney/18\", \"PA/King of Prussia/18\", \"FL/Miami/18\", \"LA/New Orleans/18\", \"NY/New York/18\", \"FL/Orlando/18\", \"NM/Raton/18\", \"VA/Roanoke/18\", \"UT/Saint George/18\", \"CA/San Diego/18\", \"CA/Anaheim/19\", \"GA/Atlanta/19\", \"NJ/Atlantic City/19\", \"OR/Bend/19\", \"MA/Boston/19\", \"IL/Chicago/19\", \"TX/Dallas/19\", \"CO/Estes Park/19\", \"TN/Gatlinburg/19\", \"PA/Harrisburg/19\", \"GA/Helen/19\", \"HI/Honolulu/19\", \"TN/Jackson/19\", \"NE/Kearney/19\", \"FL/Key West/19\", \"PA/King of Prussia/19\", \"CA/La Jolla/19\", \"KY/Lexington/19\", \"NE/Lincoln/19\", \"KY/Louisville/19\", \"WI/Madison/19\", \"OR/McMinnville/19\", \"FL/Miami/19\", \"MN/Minneapolis/19\", \"CA/Napa/19\", \"FL/Naples/19\", \"LA/New Orleans/19\", \"NY/New York/19\", \"NE/North Platte/19\", \"FL/Orlando/19\", \"PA/Philadelphia/19\", \"AZ/Phoenix/19\", \"TN/Pigeon Forge/19\", \"AZ/Prescott/19\", \"NM/Raton/19\", \"VA/Roanoke/19\", \"UT/Saint George/19\", \"FL/Saint Petersburg/19\", \"CA/San Diego/19\", \"CA/San Francisco/19\", \"CA/Santa Monica/19\", \"WA/Seattle/19\", \"WI/Sheboygan/19\", \"CA/South Lake Tahoe/19\", \"FL/Tampa/19\", \"CA/Anaheim/2\", \"FL/Orlando/2\", \"LA/New Orleans/20\", \"NY/New York/20\", \"AZ/Phoenix/20\", \"CA/San Francisco/20\", \"WA/Seattle/20\", \"GA/Atlanta/21\", \"NY/New York/21\", \"TX/San Antonio/21\", \"CA/San Diego/21\", \"CA/Anaheim/22\", \"WA/Arlington/22\", \"GA/Atlanta/22\", \"OR/Cannon Beach/22\", \"IL/Chicago/22\", \"TX/Dallas/22\", \"FL/Destin/22\", \"TN/Gatlinburg/22\", \"HI/Honolulu/22\", \"FL/Key West/22\", \"CA/La Jolla/22\", \"HI/Lahaina/22\", \"NV/Las Vegas/22\", \"KY/Louisville/22\", \"WI/Madison/22\", \"FL/Miami/22\", \"CA/Napa/22\", \"LA/New Orleans/22\", \"NY/New York/22\", \"FL/Orlando/22\", \"PA/Philadelphia/22\", \"AZ/Phoenix/22\", \"NM/Raton/22\", \"UT/Saint George/22\", \"TX/San Antonio/22\", \"CA/San Diego/22\", \"CA/San Francisco/22\", \"WA/Seattle/22\", \"SC/Hilton Head Island/23\", \"HI/Honolulu/23\", \"CA/La Jolla/23\", \"HI/Lahaina/23\", \"TN/Pigeon Forge/23\", \"GA/Atlanta/24\", \"CA/Anaheim/3\", \"GA/Atlanta/3\", \"NJ/Atlantic City/3\", \"IL/Chicago/3\", \"TX/Dallas/3\", \"CO/Estes Park/3\", \"IN/Indianapolis/3\", \"TN/Jackson/3\", \"PA/King of Prussia/3\", \"NV/Las Vegas/3\", \"NE/Lincoln/3\", \"KY/Louisville/3\", \"GA/Macon/3\", \"WI/Madison/3\", \"FL/Miami/3\", \"CA/Napa/3\", \"FL/Naples/3\", \"LA/New Orleans/3\", \"FL/Orlando/3\", \"PA/Philadelphia/3\", \"AZ/Phoenix/3\", \"UT/Saint George/3\", \"FL/Saint Petersburg/3\", \"CA/San Diego/3\", \"CA/San Francisco/3\", \"WA/Seattle/3\", \"CA/South Lake Tahoe/3\", \"FL/Tampa/3\", \"OK/Tulsa/3\", \"CA/Anaheim/4\", \"GA/Atlanta/4\", \"OR/Bend/4\", \"MA/Boston/4\", \"OR/Cannon Beach/4\", \"NC/Charlotte/4\", \"IL/Chicago/4\", \"VA/Chincoteague Island/4\", \"CO/Colorado Springs/4\", \"NM/Corrales/4\", \"TX/Dallas/4\", \"FL/Destin/4\", \"CO/Estes Park/4\", \"TN/Gatlinburg/4\", \"GA/Helen/4\", \"SC/Hilton Head Island/4\", \"HI/Honolulu/4\", \"TN/Jackson/4\", \"FL/Key West/4\", \"CA/La Jolla/4\", \"HI/Lahaina/4\", \"NV/Las Vegas/4\", \"KY/Lexington/4\", \"FL/Miami/4\", \"LA/New Orleans/4\", \"NY/New York/4\", \"NE/North Platte/4\", \"FL/Orlando/4\", \"PA/Philadelphia/4\", \"AZ/Phoenix/4\", \"TN/Pigeon Forge/4\", \"OR/Portland/4\", \"MO/Saint Louis/4\", \"FL/Saint Petersburg/4\", \"TX/San Antonio/4\", \"CA/San Diego/4\", \"CA/San Francisco/4\", \"WA/Seattle/4\", \"WI/Wisconsin Dells/4\", \"CA/Anaheim/5\", \"WA/Arlington/5\", \"GA/Atlanta/5\", \"NJ/Atlantic City/5\", \"MA/Boston/5\", \"NC/Charlotte/5\", \"IL/Chicago/5\", \"VA/Chincoteague Island/5\", \"CO/Colorado Springs/5\", \"TX/Dallas/5\", \"FL/Fort Myers Beach/5\", \"TN/Gatlinburg/5\", \"PA/Harrisburg/5\", \"GA/Helen/5\", \"HI/Honolulu/5\", \"IN/Indianapolis/5\", \"TN/Jackson/5\", \"NE/Kearney/5\", \"FL/Key West/5\", \"PA/King of Prussia/5\", \"CA/La Jolla/5\", \"HI/Lahaina/5\", \"NV/Las Vegas/5\", \"KY/Lexington/5\", \"NE/Lincoln/5\", \"KY/Louisville/5\", \"GA/Macon/5\", \"OR/McMinnville/5\", \"FL/Miami/5\", \"MN/Minneapolis/5\", \"CA/Napa/5\", \"FL/Naples/5\", \"LA/New Orleans/5\", \"NY/New York/5\", \"NE/North Platte/5\", \"FL/Orlando/5\", \"TX/Palestine/5\", \"PA/Philadelphia/5\", \"AZ/Phoenix/5\", \"TN/Pigeon Forge/5\", \"OR/Portland/5\", \"AZ/Prescott/5\", \"NM/Raton/5\", \"VA/Roanoke/5\", \"UT/Saint George/5\", \"MO/Saint Louis/5\", \"FL/Saint Petersburg/5\", \"TX/San Antonio/5\", \"CA/San Diego/5\", \"CA/San Francisco/5\", \"WA/Seattle/5\", \"WI/Sheboygan/5\", \"CA/South Lake Tahoe/5\", \"FL/Tampa/5\", \"OK/Tulsa/5\", \"WI/Wisconsin Dells/5\", \"CA/Anaheim/6\", \"WA/Arlington/6\", \"GA/Atlanta/6\", \"OR/Bend/6\", \"OR/Cannon Beach/6\", \"NC/Charlotte/6\", \"IL/Chicago/6\", \"VA/Chincoteague Island/6\", \"CO/Colorado Springs/6\", \"NM/Corrales/6\", \"TX/Dallas/6\", \"FL/Destin/6\", \"CO/Estes Park/6\", \"FL/Fort Myers Beach/6\", \"PA/Harrisburg/6\", \"GA/Helen/6\", \"SC/Hilton Head Island/6\", \"HI/Honolulu/6\", \"TN/Jackson/6\", \"NE/Kearney/6\", \"FL/Key West/6\", \"CA/La Jolla/6\", \"HI/Lahaina/6\", \"NE/Lincoln/6\", \"KY/Louisville/6\", \"GA/Macon/6\", \"WI/Madison/6\", \"OR/McMinnville/6\", \"FL/Miami/6\", \"MN/Minneapolis/6\", \"CA/Napa/6\", \"FL/Naples/6\", \"LA/New Orleans/6\", \"NY/New York/6\", \"NE/North Platte/6\", \"FL/Orlando/6\", \"TX/Palestine/6\", \"PA/Philadelphia/6\", \"AZ/Phoenix/6\", \"TN/Pigeon Forge/6\", \"OR/Portland/6\", \"AZ/Prescott/6\", \"NM/Raton/6\", \"VA/Roanoke/6\", \"UT/Saint George/6\", \"MO/Saint Louis/6\", \"FL/Saint Petersburg/6\", \"TX/San Antonio/6\", \"CA/San Diego/6\", \"CA/San Francisco/6\", \"WA/Seattle/6\", \"WI/Sheboygan/6\", \"CA/South Lake Tahoe/6\", \"FL/Tampa/6\", \"OK/Tulsa/6\", \"CA/Anaheim/7\", \"WA/Arlington/7\", \"GA/Atlanta/7\", \"NJ/Atlantic City/7\", \"OR/Bend/7\", \"MA/Boston/7\", \"OR/Cannon Beach/7\", \"NC/Charlotte/7\", \"IL/Chicago/7\", \"VA/Chincoteague Island/7\", \"CO/Colorado Springs/7\", \"NM/Corrales/7\", \"TX/Dallas/7\", \"FL/Destin/7\", \"CO/Estes Park/7\", \"FL/Fort Myers Beach/7\", \"TN/Gatlinburg/7\", \"PA/Harrisburg/7\", \"GA/Helen/7\", \"SC/Hilton Head Island/7\", \"HI/Honolulu/7\", \"IN/Indianapolis/7\", \"TN/Jackson/7\", \"NE/Kearney/7\", \"FL/Key West/7\", \"PA/King of Prussia/7\", \"CA/La Jolla/7\", \"HI/Lahaina/7\", \"NV/Las Vegas/7\", \"KY/Lexington/7\", \"NE/Lincoln/7\", \"KY/Louisville/7\", \"GA/Macon/7\", \"WI/Madison/7\", \"OR/McMinnville/7\", \"FL/Miami/7\", \"MN/Minneapolis/7\", \"CA/Napa/7\", \"FL/Naples/7\", \"LA/New Orleans/7\", \"NY/New York/7\", \"NE/North Platte/7\", \"FL/Orlando/7\", \"TX/Palestine/7\", \"PA/Philadelphia/7\", \"AZ/Phoenix/7\", \"TN/Pigeon Forge/7\", \"OR/Portland/7\", \"AZ/Prescott/7\", \"NM/Raton/7\", \"VA/Roanoke/7\", \"UT/Saint George/7\", \"MO/Saint Louis/7\", \"FL/Saint Petersburg/7\", \"TX/San Antonio/7\", \"CA/San Diego/7\", \"CA/San Francisco/7\", \"CA/Santa Monica/7\", \"WA/Seattle/7\", \"WI/Sheboygan/7\", \"CA/South Lake Tahoe/7\", \"FL/Tampa/7\", \"WI/Wisconsin Dells/7\", \"CA/Anaheim/8\", \"GA/Atlanta/8\", \"NJ/Atlantic City/8\", \"NC/Charlotte/8\", \"IL/Chicago/8\", \"VA/Chincoteague Island/8\", \"CO/Colorado Springs/8\", \"TX/Dallas/8\", \"FL/Fort Myers Beach/8\", \"TN/Gatlinburg/8\", \"PA/Harrisburg/8\", \"SC/Hilton Head Island/8\", \"HI/Honolulu/8\", \"IN/Indianapolis/8\", \"TN/Jackson/8\", \"NE/Kearney/8\", \"FL/Key West/8\", \"CA/La Jolla/8\", \"HI/Lahaina/8\", \"NV/Las Vegas/8\", \"KY/Lexington/8\", \"NE/Lincoln/8\", \"KY/Louisville/8\", \"GA/Macon/8\", \"FL/Miami/8\", \"MN/Minneapolis/8\", \"CA/Napa/8\", \"FL/Naples/8\", \"LA/New Orleans/8\", \"NY/New York/8\", \"FL/Orlando/8\", \"TX/Palestine/8\", \"PA/Philadelphia/8\", \"AZ/Phoenix/8\", \"TN/Pigeon Forge/8\", \"OR/Portland/8\", \"NM/Raton/8\", \"VA/Roanoke/8\", \"MO/Saint Louis/8\", \"TX/San Antonio/8\", \"CA/San Diego/8\", \"CA/San Francisco/8\", \"WA/Seattle/8\", \"CA/South Lake Tahoe/8\", \"FL/Tampa/8\", \"WI/Wisconsin Dells/8\", \"CA/Anaheim/9\", \"GA/Atlanta/9\", \"OR/Cannon Beach/9\", \"IL/Chicago/9\", \"TX/Dallas/9\", \"FL/Destin/9\", \"TN/Gatlinburg/9\", \"HI/Honolulu/9\", \"FL/Key West/9\", \"CA/La Jolla/9\", \"HI/Lahaina/9\", \"FL/Miami/9\", \"CA/Napa/9\", \"LA/New Orleans/9\", \"NY/New York/9\", \"FL/Orlando/9\", \"PA/Philadelphia/9\", \"AZ/Phoenix/9\", \"AZ/Prescott/9\", \"VA/Roanoke/9\", \"UT/Saint George/9\", \"TX/San Antonio/9\", \"CA/San Diego/9\", \"CA/San Francisco/9\", \"CA/Santa Monica/9\", \"WA/Seattle/9\", \"OK/Tulsa/9\", \"CA/Anaheim\", \"WA/Arlington\", \"GA/Atlanta\", \"NJ/Atlantic City\", \"OR/Bend\", \"MA/Boston\", \"OR/Cannon Beach\", \"NC/Charlotte\", \"IL/Chicago\", \"VA/Chincoteague Island\", \"CO/Colorado Springs\", \"NM/Corrales\", \"TX/Dallas\", \"FL/Destin\", \"CO/Estes Park\", \"FL/Fort Myers Beach\", \"TN/Gatlinburg\", \"PA/Harrisburg\", \"GA/Helen\", \"SC/Hilton Head Island\", \"HI/Honolulu\", \"IN/Indianapolis\", \"TN/Jackson\", \"NE/Kearney\", \"FL/Key West\", \"PA/King of Prussia\", \"CA/La Jolla\", \"HI/Lahaina\", \"NV/Las Vegas\", \"KY/Lexington\", \"NE/Lincoln\", \"KY/Louisville\", \"GA/Macon\", \"WI/Madison\", \"OR/McMinnville\", \"FL/Miami\", \"MN/Minneapolis\", \"CA/Napa\", \"FL/Naples\", \"LA/New Orleans\", \"NY/New York\", \"NE/North Platte\", \"FL/Orlando\", \"TX/Palestine\", \"PA/Philadelphia\", \"AZ/Phoenix\", \"TN/Pigeon Forge\", \"OR/Portland\", \"AZ/Prescott\", \"NM/Raton\", \"VA/Roanoke\", \"UT/Saint George\", \"MO/Saint Louis\", \"FL/Saint Petersburg\", \"TX/San Antonio\", \"CA/San Diego\", \"CA/San Francisco\", \"CA/Santa Monica\", \"WA/Seattle\", \"WI/Sheboygan\", \"CA/South Lake Tahoe\", \"FL/Tampa\", \"OK/Tulsa\", \"WI/Wisconsin Dells\", \"AZ\", \"CA\", \"CO\", \"FL\", \"GA\", \"HI\", \"IL\", \"IN\", \"KY\", \"LA\", \"MA\", \"MN\", \"MO\", \"NC\", \"NE\", \"NJ\", \"NM\", \"NV\", \"NY\", \"OK\", \"OR\", \"PA\", \"SC\", \"TN\", \"TX\", \"UT\", \"VA\", \"WA\", \"WI\"], \"labels\": [\"0\", \"0\", \"0\", \"0\", \"0\", \"0\", \"0\", \"0\", \"0\", \"0\", \"0\", \"0\", \"0\", \"0\", \"0\", \"0\", \"0\", \"0\", \"0\", \"0\", \"0\", \"0\", \"0\", \"0\", \"0\", \"0\", \"0\", \"0\", \"0\", \"0\", \"0\", \"0\", \"0\", \"0\", \"1\", \"1\", \"1\", \"10\", \"10\", \"10\", \"10\", \"10\", \"10\", \"10\", \"10\", \"10\", \"10\", \"10\", \"10\", \"10\", \"10\", \"10\", \"10\", \"10\", \"10\", \"10\", \"11\", \"11\", \"11\", \"11\", \"11\", \"11\", \"11\", \"11\", \"11\", \"11\", \"11\", \"11\", \"11\", \"11\", \"11\", \"11\", \"11\", \"11\", \"11\", \"11\", \"11\", \"11\", \"11\", \"12\", \"12\", \"12\", \"12\", \"12\", \"12\", \"12\", \"12\", \"12\", \"12\", \"12\", \"12\", \"12\", \"12\", \"12\", \"12\", \"12\", \"12\", \"12\", \"13\", \"14\", \"15\", \"15\", \"15\", \"15\", \"15\", \"15\", \"15\", \"15\", \"15\", \"15\", \"15\", \"15\", \"15\", \"15\", \"15\", \"15\", \"15\", \"15\", \"15\", \"15\", \"15\", \"15\", \"15\", \"15\", \"15\", \"15\", \"15\", \"15\", \"15\", \"15\", \"15\", \"15\", \"15\", \"15\", \"15\", \"15\", \"15\", \"15\", \"16\", \"16\", \"17\", \"17\", \"17\", \"17\", \"17\", \"17\", \"17\", \"17\", \"17\", \"17\", \"17\", \"17\", \"17\", \"17\", \"17\", \"17\", \"17\", \"17\", \"17\", \"17\", \"17\", \"17\", \"17\", \"17\", \"17\", \"17\", \"17\", \"17\", \"17\", \"17\", \"17\", \"17\", \"17\", \"17\", \"17\", \"17\", \"17\", \"17\", \"17\", \"17\", \"17\", \"17\", \"17\", \"17\", \"18\", \"18\", \"18\", \"18\", \"18\", \"18\", \"18\", \"18\", \"18\", \"18\", \"18\", \"18\", \"18\", \"18\", \"19\", \"19\", \"19\", \"19\", \"19\", \"19\", \"19\", \"19\", \"19\", \"19\", \"19\", \"19\", \"19\", \"19\", \"19\", \"19\", \"19\", \"19\", \"19\", \"19\", \"19\", \"19\", \"19\", \"19\", \"19\", \"19\", \"19\", \"19\", \"19\", \"19\", \"19\", \"19\", \"19\", \"19\", \"19\", \"19\", \"19\", \"19\", \"19\", \"19\", \"19\", \"19\", \"19\", \"19\", \"19\", \"2\", \"2\", \"20\", \"20\", \"20\", \"20\", \"20\", \"21\", \"21\", \"21\", \"21\", \"22\", \"22\", \"22\", \"22\", \"22\", \"22\", \"22\", \"22\", \"22\", \"22\", \"22\", \"22\", \"22\", \"22\", \"22\", \"22\", \"22\", \"22\", \"22\", \"22\", \"22\", \"22\", \"22\", \"22\", \"22\", \"22\", \"22\", \"22\", \"23\", \"23\", \"23\", \"23\", \"23\", \"24\", \"3\", \"3\", \"3\", \"3\", \"3\", \"3\", \"3\", \"3\", \"3\", \"3\", \"3\", \"3\", \"3\", \"3\", \"3\", \"3\", \"3\", \"3\", \"3\", \"3\", \"3\", \"3\", \"3\", \"3\", \"3\", \"3\", \"3\", \"3\", \"3\", \"4\", \"4\", \"4\", \"4\", \"4\", \"4\", \"4\", \"4\", \"4\", \"4\", \"4\", \"4\", \"4\", \"4\", \"4\", \"4\", \"4\", \"4\", \"4\", \"4\", \"4\", \"4\", \"4\", \"4\", \"4\", \"4\", \"4\", \"4\", \"4\", \"4\", \"4\", \"4\", \"4\", \"4\", \"4\", \"4\", \"4\", \"4\", \"4\", \"5\", \"5\", \"5\", \"5\", \"5\", \"5\", \"5\", \"5\", \"5\", \"5\", \"5\", \"5\", \"5\", \"5\", \"5\", \"5\", \"5\", \"5\", \"5\", \"5\", \"5\", \"5\", \"5\", \"5\", \"5\", \"5\", \"5\", \"5\", \"5\", \"5\", \"5\", \"5\", \"5\", \"5\", \"5\", \"5\", \"5\", \"5\", \"5\", \"5\", \"5\", \"5\", \"5\", \"5\", \"5\", \"5\", \"5\", \"5\", \"5\", \"5\", \"5\", \"5\", \"5\", \"5\", \"5\", \"5\", \"6\", \"6\", \"6\", \"6\", \"6\", \"6\", \"6\", \"6\", \"6\", \"6\", \"6\", \"6\", \"6\", \"6\", \"6\", \"6\", \"6\", \"6\", \"6\", \"6\", \"6\", \"6\", \"6\", \"6\", \"6\", \"6\", \"6\", \"6\", \"6\", \"6\", \"6\", \"6\", \"6\", \"6\", \"6\", \"6\", \"6\", \"6\", \"6\", \"6\", \"6\", \"6\", \"6\", \"6\", \"6\", \"6\", \"6\", \"6\", \"6\", \"6\", \"6\", \"6\", \"6\", \"6\", \"6\", \"7\", \"7\", \"7\", \"7\", \"7\", \"7\", \"7\", \"7\", \"7\", \"7\", \"7\", \"7\", \"7\", \"7\", \"7\", \"7\", \"7\", \"7\", \"7\", \"7\", \"7\", \"7\", \"7\", \"7\", \"7\", \"7\", \"7\", \"7\", \"7\", \"7\", \"7\", \"7\", \"7\", \"7\", \"7\", \"7\", \"7\", \"7\", \"7\", \"7\", \"7\", \"7\", \"7\", \"7\", \"7\", \"7\", \"7\", \"7\", \"7\", \"7\", \"7\", \"7\", \"7\", \"7\", \"7\", \"7\", \"7\", \"7\", \"7\", \"7\", \"7\", \"7\", \"7\", \"8\", \"8\", \"8\", \"8\", \"8\", \"8\", \"8\", \"8\", \"8\", \"8\", \"8\", \"8\", \"8\", \"8\", \"8\", \"8\", \"8\", \"8\", \"8\", \"8\", \"8\", \"8\", \"8\", \"8\", \"8\", \"8\", \"8\", \"8\", \"8\", \"8\", \"8\", \"8\", \"8\", \"8\", \"8\", \"8\", \"8\", \"8\", \"8\", \"8\", \"8\", \"8\", \"8\", \"8\", \"8\", \"8\", \"9\", \"9\", \"9\", \"9\", \"9\", \"9\", \"9\", \"9\", \"9\", \"9\", \"9\", \"9\", \"9\", \"9\", \"9\", \"9\", \"9\", \"9\", \"9\", \"9\", \"9\", \"9\", \"9\", \"9\", \"9\", \"9\", \"9\", \"Anaheim\", \"Arlington\", \"Atlanta\", \"Atlantic City\", \"Bend\", \"Boston\", \"Cannon Beach\", \"Charlotte\", \"Chicago\", \"Chincoteague Island\", \"Colorado Springs\", \"Corrales\", \"Dallas\", \"Destin\", \"Estes Park\", \"Fort Myers Beach\", \"Gatlinburg\", \"Harrisburg\", \"Helen\", \"Hilton Head Island\", \"Honolulu\", \"Indianapolis\", \"Jackson\", \"Kearney\", \"Key West\", \"King of Prussia\", \"La Jolla\", \"Lahaina\", \"Las Vegas\", \"Lexington\", \"Lincoln\", \"Louisville\", \"Macon\", \"Madison\", \"McMinnville\", \"Miami\", \"Minneapolis\", \"Napa\", \"Naples\", \"New Orleans\", \"New York\", \"North Platte\", \"Orlando\", \"Palestine\", \"Philadelphia\", \"Phoenix\", \"Pigeon Forge\", \"Portland\", \"Prescott\", \"Raton\", \"Roanoke\", \"Saint George\", \"Saint Louis\", \"Saint Petersburg\", \"San Antonio\", \"San Diego\", \"San Francisco\", \"Santa Monica\", \"Seattle\", \"Sheboygan\", \"South Lake Tahoe\", \"Tampa\", \"Tulsa\", \"Wisconsin Dells\", \"AZ\", \"CA\", \"CO\", \"FL\", \"GA\", \"HI\", \"IL\", \"IN\", \"KY\", \"LA\", \"MA\", \"MN\", \"MO\", \"NC\", \"NE\", \"NJ\", \"NM\", \"NV\", \"NY\", \"OK\", \"OR\", \"PA\", \"SC\", \"TN\", \"TX\", \"UT\", \"VA\", \"WA\", \"WI\"], \"name\": \"\", \"parents\": [\"CA/Anaheim\", \"GA/Atlanta\", \"OR/Bend\", \"MA/Boston\", \"NC/Charlotte\", \"IL/Chicago\", \"VA/Chincoteague Island\", \"CO/Colorado Springs\", \"TX/Dallas\", \"CO/Estes Park\", \"HI/Honolulu\", \"TN/Jackson\", \"FL/Key West\", \"CA/La Jolla\", \"KY/Lexington\", \"KY/Louisville\", \"FL/Miami\", \"MN/Minneapolis\", \"CA/Napa\", \"LA/New Orleans\", \"NY/New York\", \"FL/Orlando\", \"PA/Philadelphia\", \"AZ/Phoenix\", \"OR/Portland\", \"MO/Saint Louis\", \"FL/Saint Petersburg\", \"TX/San Antonio\", \"CA/San Diego\", \"CA/San Francisco\", \"CA/Santa Monica\", \"WA/Seattle\", \"OK/Tulsa\", \"WI/Wisconsin Dells\", \"TX/Dallas\", \"FL/Miami\", \"FL/Orlando\", \"CA/Anaheim\", \"GA/Atlanta\", \"NC/Charlotte\", \"IL/Chicago\", \"CO/Colorado Springs\", \"TX/Dallas\", \"FL/Key West\", \"CA/La Jolla\", \"KY/Lexington\", \"FL/Miami\", \"MN/Minneapolis\", \"LA/New Orleans\", \"NY/New York\", \"FL/Orlando\", \"PA/Philadelphia\", \"AZ/Phoenix\", \"CA/San Diego\", \"CA/San Francisco\", \"WA/Seattle\", \"CA/Anaheim\", \"GA/Atlanta\", \"NC/Charlotte\", \"IL/Chicago\", \"TX/Dallas\", \"FL/Fort Myers Beach\", \"HI/Honolulu\", \"FL/Key West\", \"PA/King of Prussia\", \"KY/Lexington\", \"GA/Macon\", \"FL/Miami\", \"CA/Napa\", \"LA/New Orleans\", \"FL/Orlando\", \"UT/Saint George\", \"MO/Saint Louis\", \"CA/San Diego\", \"CA/San Francisco\", \"WA/Seattle\", \"CA/South Lake Tahoe\", \"FL/Tampa\", \"WI/Wisconsin Dells\", \"NJ/Atlantic City\", \"OR/Cannon Beach\", \"VA/Chincoteague Island\", \"FL/Destin\", \"FL/Fort Myers Beach\", \"SC/Hilton Head Island\", \"HI/Honolulu\", \"FL/Key West\", \"CA/La Jolla\", \"HI/Lahaina\", \"NV/Las Vegas\", \"FL/Miami\", \"FL/Naples\", \"FL/Orlando\", \"TN/Pigeon Forge\", \"CA/San Diego\", \"CA/San Francisco\", \"CA/South Lake Tahoe\", \"FL/Tampa\", \"IL/Chicago\", \"LA/New Orleans\", \"CA/Anaheim\", \"GA/Atlanta\", \"NC/Charlotte\", \"IL/Chicago\", \"CO/Colorado Springs\", \"TX/Dallas\", \"FL/Fort Myers Beach\", \"PA/Harrisburg\", \"HI/Honolulu\", \"IN/Indianapolis\", \"TN/Jackson\", \"FL/Key West\", \"CA/La Jolla\", \"HI/Lahaina\", \"NV/Las Vegas\", \"KY/Lexington\", \"KY/Louisville\", \"GA/Macon\", \"WI/Madison\", \"FL/Miami\", \"CA/Napa\", \"FL/Naples\", \"LA/New Orleans\", \"NE/North Platte\", \"FL/Orlando\", \"TX/Palestine\", \"PA/Philadelphia\", \"AZ/Phoenix\", \"UT/Saint George\", \"MO/Saint Louis\", \"FL/Saint Petersburg\", \"CA/San Diego\", \"CA/San Francisco\", \"WA/Seattle\", \"WI/Sheboygan\", \"FL/Tampa\", \"OK/Tulsa\", \"WI/Wisconsin Dells\", \"WA/Arlington\", \"WA/Seattle\", \"CA/Anaheim\", \"GA/Atlanta\", \"NJ/Atlantic City\", \"OR/Bend\", \"OR/Cannon Beach\", \"NC/Charlotte\", \"IL/Chicago\", \"VA/Chincoteague Island\", \"CO/Colorado Springs\", \"TX/Dallas\", \"CO/Estes Park\", \"GA/Helen\", \"HI/Honolulu\", \"IN/Indianapolis\", \"TN/Jackson\", \"NE/Kearney\", \"FL/Key West\", \"CA/La Jolla\", \"HI/Lahaina\", \"NV/Las Vegas\", \"KY/Lexington\", \"NE/Lincoln\", \"KY/Louisville\", \"GA/Macon\", \"FL/Miami\", \"CA/Napa\", \"FL/Naples\", \"LA/New Orleans\", \"NY/New York\", \"NE/North Platte\", \"FL/Orlando\", \"TX/Palestine\", \"PA/Philadelphia\", \"AZ/Phoenix\", \"TN/Pigeon Forge\", \"UT/Saint George\", \"TX/San Antonio\", \"CA/San Diego\", \"CA/San Francisco\", \"WA/Seattle\", \"WI/Sheboygan\", \"CA/South Lake Tahoe\", \"FL/Tampa\", \"OK/Tulsa\", \"WA/Arlington\", \"TX/Dallas\", \"TN/Gatlinburg\", \"IN/Indianapolis\", \"NE/Kearney\", \"PA/King of Prussia\", \"FL/Miami\", \"LA/New Orleans\", \"NY/New York\", \"FL/Orlando\", \"NM/Raton\", \"VA/Roanoke\", \"UT/Saint George\", \"CA/San Diego\", \"CA/Anaheim\", \"GA/Atlanta\", \"NJ/Atlantic City\", \"OR/Bend\", \"MA/Boston\", \"IL/Chicago\", \"TX/Dallas\", \"CO/Estes Park\", \"TN/Gatlinburg\", \"PA/Harrisburg\", \"GA/Helen\", \"HI/Honolulu\", \"TN/Jackson\", \"NE/Kearney\", \"FL/Key West\", \"PA/King of Prussia\", \"CA/La Jolla\", \"KY/Lexington\", \"NE/Lincoln\", \"KY/Louisville\", \"WI/Madison\", \"OR/McMinnville\", \"FL/Miami\", \"MN/Minneapolis\", \"CA/Napa\", \"FL/Naples\", \"LA/New Orleans\", \"NY/New York\", \"NE/North Platte\", \"FL/Orlando\", \"PA/Philadelphia\", \"AZ/Phoenix\", \"TN/Pigeon Forge\", \"AZ/Prescott\", \"NM/Raton\", \"VA/Roanoke\", \"UT/Saint George\", \"FL/Saint Petersburg\", \"CA/San Diego\", \"CA/San Francisco\", \"CA/Santa Monica\", \"WA/Seattle\", \"WI/Sheboygan\", \"CA/South Lake Tahoe\", \"FL/Tampa\", \"CA/Anaheim\", \"FL/Orlando\", \"LA/New Orleans\", \"NY/New York\", \"AZ/Phoenix\", \"CA/San Francisco\", \"WA/Seattle\", \"GA/Atlanta\", \"NY/New York\", \"TX/San Antonio\", \"CA/San Diego\", \"CA/Anaheim\", \"WA/Arlington\", \"GA/Atlanta\", \"OR/Cannon Beach\", \"IL/Chicago\", \"TX/Dallas\", \"FL/Destin\", \"TN/Gatlinburg\", \"HI/Honolulu\", \"FL/Key West\", \"CA/La Jolla\", \"HI/Lahaina\", \"NV/Las Vegas\", \"KY/Louisville\", \"WI/Madison\", \"FL/Miami\", \"CA/Napa\", \"LA/New Orleans\", \"NY/New York\", \"FL/Orlando\", \"PA/Philadelphia\", \"AZ/Phoenix\", \"NM/Raton\", \"UT/Saint George\", \"TX/San Antonio\", \"CA/San Diego\", \"CA/San Francisco\", \"WA/Seattle\", \"SC/Hilton Head Island\", \"HI/Honolulu\", \"CA/La Jolla\", \"HI/Lahaina\", \"TN/Pigeon Forge\", \"GA/Atlanta\", \"CA/Anaheim\", \"GA/Atlanta\", \"NJ/Atlantic City\", \"IL/Chicago\", \"TX/Dallas\", \"CO/Estes Park\", \"IN/Indianapolis\", \"TN/Jackson\", \"PA/King of Prussia\", \"NV/Las Vegas\", \"NE/Lincoln\", \"KY/Louisville\", \"GA/Macon\", \"WI/Madison\", \"FL/Miami\", \"CA/Napa\", \"FL/Naples\", \"LA/New Orleans\", \"FL/Orlando\", \"PA/Philadelphia\", \"AZ/Phoenix\", \"UT/Saint George\", \"FL/Saint Petersburg\", \"CA/San Diego\", \"CA/San Francisco\", \"WA/Seattle\", \"CA/South Lake Tahoe\", \"FL/Tampa\", \"OK/Tulsa\", \"CA/Anaheim\", \"GA/Atlanta\", \"OR/Bend\", \"MA/Boston\", \"OR/Cannon Beach\", \"NC/Charlotte\", \"IL/Chicago\", \"VA/Chincoteague Island\", \"CO/Colorado Springs\", \"NM/Corrales\", \"TX/Dallas\", \"FL/Destin\", \"CO/Estes Park\", \"TN/Gatlinburg\", \"GA/Helen\", \"SC/Hilton Head Island\", \"HI/Honolulu\", \"TN/Jackson\", \"FL/Key West\", \"CA/La Jolla\", \"HI/Lahaina\", \"NV/Las Vegas\", \"KY/Lexington\", \"FL/Miami\", \"LA/New Orleans\", \"NY/New York\", \"NE/North Platte\", \"FL/Orlando\", \"PA/Philadelphia\", \"AZ/Phoenix\", \"TN/Pigeon Forge\", \"OR/Portland\", \"MO/Saint Louis\", \"FL/Saint Petersburg\", \"TX/San Antonio\", \"CA/San Diego\", \"CA/San Francisco\", \"WA/Seattle\", \"WI/Wisconsin Dells\", \"CA/Anaheim\", \"WA/Arlington\", \"GA/Atlanta\", \"NJ/Atlantic City\", \"MA/Boston\", \"NC/Charlotte\", \"IL/Chicago\", \"VA/Chincoteague Island\", \"CO/Colorado Springs\", \"TX/Dallas\", \"FL/Fort Myers Beach\", \"TN/Gatlinburg\", \"PA/Harrisburg\", \"GA/Helen\", \"HI/Honolulu\", \"IN/Indianapolis\", \"TN/Jackson\", \"NE/Kearney\", \"FL/Key West\", \"PA/King of Prussia\", \"CA/La Jolla\", \"HI/Lahaina\", \"NV/Las Vegas\", \"KY/Lexington\", \"NE/Lincoln\", \"KY/Louisville\", \"GA/Macon\", \"OR/McMinnville\", \"FL/Miami\", \"MN/Minneapolis\", \"CA/Napa\", \"FL/Naples\", \"LA/New Orleans\", \"NY/New York\", \"NE/North Platte\", \"FL/Orlando\", \"TX/Palestine\", \"PA/Philadelphia\", \"AZ/Phoenix\", \"TN/Pigeon Forge\", \"OR/Portland\", \"AZ/Prescott\", \"NM/Raton\", \"VA/Roanoke\", \"UT/Saint George\", \"MO/Saint Louis\", \"FL/Saint Petersburg\", \"TX/San Antonio\", \"CA/San Diego\", \"CA/San Francisco\", \"WA/Seattle\", \"WI/Sheboygan\", \"CA/South Lake Tahoe\", \"FL/Tampa\", \"OK/Tulsa\", \"WI/Wisconsin Dells\", \"CA/Anaheim\", \"WA/Arlington\", \"GA/Atlanta\", \"OR/Bend\", \"OR/Cannon Beach\", \"NC/Charlotte\", \"IL/Chicago\", \"VA/Chincoteague Island\", \"CO/Colorado Springs\", \"NM/Corrales\", \"TX/Dallas\", \"FL/Destin\", \"CO/Estes Park\", \"FL/Fort Myers Beach\", \"PA/Harrisburg\", \"GA/Helen\", \"SC/Hilton Head Island\", \"HI/Honolulu\", \"TN/Jackson\", \"NE/Kearney\", \"FL/Key West\", \"CA/La Jolla\", \"HI/Lahaina\", \"NE/Lincoln\", \"KY/Louisville\", \"GA/Macon\", \"WI/Madison\", \"OR/McMinnville\", \"FL/Miami\", \"MN/Minneapolis\", \"CA/Napa\", \"FL/Naples\", \"LA/New Orleans\", \"NY/New York\", \"NE/North Platte\", \"FL/Orlando\", \"TX/Palestine\", \"PA/Philadelphia\", \"AZ/Phoenix\", \"TN/Pigeon Forge\", \"OR/Portland\", \"AZ/Prescott\", \"NM/Raton\", \"VA/Roanoke\", \"UT/Saint George\", \"MO/Saint Louis\", \"FL/Saint Petersburg\", \"TX/San Antonio\", \"CA/San Diego\", \"CA/San Francisco\", \"WA/Seattle\", \"WI/Sheboygan\", \"CA/South Lake Tahoe\", \"FL/Tampa\", \"OK/Tulsa\", \"CA/Anaheim\", \"WA/Arlington\", \"GA/Atlanta\", \"NJ/Atlantic City\", \"OR/Bend\", \"MA/Boston\", \"OR/Cannon Beach\", \"NC/Charlotte\", \"IL/Chicago\", \"VA/Chincoteague Island\", \"CO/Colorado Springs\", \"NM/Corrales\", \"TX/Dallas\", \"FL/Destin\", \"CO/Estes Park\", \"FL/Fort Myers Beach\", \"TN/Gatlinburg\", \"PA/Harrisburg\", \"GA/Helen\", \"SC/Hilton Head Island\", \"HI/Honolulu\", \"IN/Indianapolis\", \"TN/Jackson\", \"NE/Kearney\", \"FL/Key West\", \"PA/King of Prussia\", \"CA/La Jolla\", \"HI/Lahaina\", \"NV/Las Vegas\", \"KY/Lexington\", \"NE/Lincoln\", \"KY/Louisville\", \"GA/Macon\", \"WI/Madison\", \"OR/McMinnville\", \"FL/Miami\", \"MN/Minneapolis\", \"CA/Napa\", \"FL/Naples\", \"LA/New Orleans\", \"NY/New York\", \"NE/North Platte\", \"FL/Orlando\", \"TX/Palestine\", \"PA/Philadelphia\", \"AZ/Phoenix\", \"TN/Pigeon Forge\", \"OR/Portland\", \"AZ/Prescott\", \"NM/Raton\", \"VA/Roanoke\", \"UT/Saint George\", \"MO/Saint Louis\", \"FL/Saint Petersburg\", \"TX/San Antonio\", \"CA/San Diego\", \"CA/San Francisco\", \"CA/Santa Monica\", \"WA/Seattle\", \"WI/Sheboygan\", \"CA/South Lake Tahoe\", \"FL/Tampa\", \"WI/Wisconsin Dells\", \"CA/Anaheim\", \"GA/Atlanta\", \"NJ/Atlantic City\", \"NC/Charlotte\", \"IL/Chicago\", \"VA/Chincoteague Island\", \"CO/Colorado Springs\", \"TX/Dallas\", \"FL/Fort Myers Beach\", \"TN/Gatlinburg\", \"PA/Harrisburg\", \"SC/Hilton Head Island\", \"HI/Honolulu\", \"IN/Indianapolis\", \"TN/Jackson\", \"NE/Kearney\", \"FL/Key West\", \"CA/La Jolla\", \"HI/Lahaina\", \"NV/Las Vegas\", \"KY/Lexington\", \"NE/Lincoln\", \"KY/Louisville\", \"GA/Macon\", \"FL/Miami\", \"MN/Minneapolis\", \"CA/Napa\", \"FL/Naples\", \"LA/New Orleans\", \"NY/New York\", \"FL/Orlando\", \"TX/Palestine\", \"PA/Philadelphia\", \"AZ/Phoenix\", \"TN/Pigeon Forge\", \"OR/Portland\", \"NM/Raton\", \"VA/Roanoke\", \"MO/Saint Louis\", \"TX/San Antonio\", \"CA/San Diego\", \"CA/San Francisco\", \"WA/Seattle\", \"CA/South Lake Tahoe\", \"FL/Tampa\", \"WI/Wisconsin Dells\", \"CA/Anaheim\", \"GA/Atlanta\", \"OR/Cannon Beach\", \"IL/Chicago\", \"TX/Dallas\", \"FL/Destin\", \"TN/Gatlinburg\", \"HI/Honolulu\", \"FL/Key West\", \"CA/La Jolla\", \"HI/Lahaina\", \"FL/Miami\", \"CA/Napa\", \"LA/New Orleans\", \"NY/New York\", \"FL/Orlando\", \"PA/Philadelphia\", \"AZ/Phoenix\", \"AZ/Prescott\", \"VA/Roanoke\", \"UT/Saint George\", \"TX/San Antonio\", \"CA/San Diego\", \"CA/San Francisco\", \"CA/Santa Monica\", \"WA/Seattle\", \"OK/Tulsa\", \"CA\", \"WA\", \"GA\", \"NJ\", \"OR\", \"MA\", \"OR\", \"NC\", \"IL\", \"VA\", \"CO\", \"NM\", \"TX\", \"FL\", \"CO\", \"FL\", \"TN\", \"PA\", \"GA\", \"SC\", \"HI\", \"IN\", \"TN\", \"NE\", \"FL\", \"PA\", \"CA\", \"HI\", \"NV\", \"KY\", \"NE\", \"KY\", \"GA\", \"WI\", \"OR\", \"FL\", \"MN\", \"CA\", \"FL\", \"LA\", \"NY\", \"NE\", \"FL\", \"TX\", \"PA\", \"AZ\", \"TN\", \"OR\", \"AZ\", \"NM\", \"VA\", \"UT\", \"MO\", \"FL\", \"TX\", \"CA\", \"CA\", \"CA\", \"WA\", \"WI\", \"CA\", \"FL\", \"OK\", \"WI\", \"\", \"\", \"\", \"\", \"\", \"\", \"\", \"\", \"\", \"\", \"\", \"\", \"\", \"\", \"\", \"\", \"\", \"\", \"\", \"\", \"\", \"\", \"\", \"\", \"\", \"\", \"\", \"\", \"\"], \"type\": \"sunburst\", \"values\": [25, 42, 1, 1, 3, 13, 1, 2, 10, 5, 8, 1, 3, 2, 1, 2, 6, 3, 1, 41, 6, 58, 5, 1, 2, 4, 1, 1, 110, 52, 1, 20, 2, 1, 1, 4, 84, 2, 9, 2, 31, 2, 3, 2, 1, 2, 10, 1, 1, 2, 26, 83, 4, 33, 2, 10, 5, 7, 1, 3, 4, 1, 2, 1, 1, 1, 1, 2, 2, 18, 8, 3, 4, 18, 12, 92, 2, 1, 1, 4, 6, 2, 4, 4, 1, 40, 4, 2, 10, 1, 24, 3, 1, 1, 78, 2, 10, 1, 162, 320, 16, 21, 2, 26, 3, 27, 1, 2, 8, 1, 1, 4, 3, 1, 5, 2, 1, 3, 2, 6, 1, 1, 12, 1, 58, 2, 1, 2, 1, 3, 1, 37, 10, 27, 1, 1, 1, 2, 1, 197, 11, 38, 2, 1, 3, 1, 19, 1, 1, 10, 5, 2, 11, 1, 1, 1, 3, 6, 3, 2, 2, 1, 3, 2, 8, 7, 2, 27, 2, 3, 40, 3, 11, 5, 1, 2, 1, 46, 33, 29, 1, 1, 7, 3, 2, 5, 1, 1, 1, 1, 1, 7, 1, 15, 4, 1, 6, 206, 21, 73, 7, 1, 12, 36, 20, 3, 2, 1, 1, 11, 1, 1, 1, 2, 9, 4, 1, 1, 1, 2, 11, 3, 7, 2, 61, 12, 1, 61, 9, 6, 2, 1, 1, 1, 1, 1, 96, 148, 1, 54, 4, 5, 3, 97, 1, 3, 6, 1, 247, 3, 40, 11, 79, 1, 16, 3, 62, 1, 36, 27, 3, 2, 14, 12, 38, 13, 1, 1, 2, 5, 2, 41, 23, 32, 29, 6, 1, 7, 5, 134, 87, 38, 27, 140, 1, 6, 1, 163, 4, 14, 28, 3, 15, 1, 1, 1, 1, 2, 1, 2, 1, 1, 1, 2, 1, 14, 52, 3, 3, 2, 2, 21, 14, 11, 1, 2, 1, 2, 19, 1, 3, 2, 3, 23, 2, 2, 8, 20, 1, 3, 1, 2, 2, 3, 1, 11, 7, 4, 1, 1, 5, 56, 2, 1, 8, 6, 5, 1, 3, 1, 1, 18, 45, 27, 17, 2, 7, 1, 39, 3, 2, 3, 23, 1, 3, 10, 3, 2, 3, 1, 7, 3, 3, 2, 14, 3, 8, 5, 1, 2, 2, 2, 2, 2, 23, 3, 7, 4, 35, 1, 4, 77, 3, 7, 9, 4, 1, 2, 1, 5, 7, 2, 3, 6, 88, 26, 37, 3, 6, 7, 2, 3, 7, 1, 36, 2, 1, 1, 22, 9, 5, 2, 29, 4, 2, 1, 2, 1, 1, 24, 4, 1, 9, 6, 1, 5, 1, 2, 2, 1, 12, 3, 2, 2, 56, 6, 1, 63, 8, 12, 5, 3, 3, 4, 1, 3, 13, 1, 3, 3, 63, 38, 17, 3, 2, 5, 1, 13, 3, 76, 2, 7, 8, 5, 7, 27, 11, 4, 5, 21, 1, 9, 2, 1, 2, 6, 5, 21, 3, 4, 3, 42, 3, 10, 7, 10, 4, 2, 5, 3, 5, 7, 78, 3, 10, 2, 37, 11, 3, 63, 8, 8, 7, 2, 15, 6, 1, 6, 6, 8, 12, 69, 100, 58, 8, 40, 1, 6, 8, 6, 6, 35, 4, 1, 15, 1, 1, 11, 1, 1, 1, 2, 6, 2, 3, 2, 4, 1, 1, 1, 2, 1, 1, 1, 17, 1, 3, 5, 28, 4, 44, 1, 7, 1, 2, 2, 2, 1, 1, 2, 24, 16, 20, 2, 2, 1, 4, 88, 2, 20, 32, 2, 1, 10, 3, 4, 4, 17, 2, 41, 6, 43, 7, 4, 1, 1, 5, 1, 89, 36, 1, 23, 1, 236, 11, 762, 50, 13, 26, 20, 24, 459, 28, 23, 15, 245, 15, 28, 13, 11, 11, 13, 38, 305, 12, 20, 11, 113, 11, 98, 55, 24, 21, 13, 19, 15, 13, 12, 230, 17, 46, 22, 798, 93, 14, 734, 25, 188, 59, 17, 26, 14, 11, 18, 53, 24, 24, 185, 1189, 808, 11, 635, 13, 35, 37, 11, 16, 73, 2423, 51, 1188, 790, 360, 459, 12, 40, 798, 26, 17, 24, 24, 38, 50, 26, 24, 93, 11, 71, 210, 38, 48, 455, 53, 46, 646, 42]}],                        {\"height\": 750, \"legend\": {\"tracegroupgap\": 0}, \"template\": {\"data\": {\"bar\": [{\"error_x\": {\"color\": \"#2a3f5f\"}, \"error_y\": {\"color\": \"#2a3f5f\"}, \"marker\": {\"line\": {\"color\": \"#E5ECF6\", \"width\": 0.5}}, \"type\": \"bar\"}], \"barpolar\": [{\"marker\": {\"line\": {\"color\": \"#E5ECF6\", \"width\": 0.5}}, \"type\": \"barpolar\"}], \"carpet\": [{\"aaxis\": {\"endlinecolor\": \"#2a3f5f\", \"gridcolor\": \"white\", \"linecolor\": \"white\", \"minorgridcolor\": \"white\", \"startlinecolor\": \"#2a3f5f\"}, \"baxis\": {\"endlinecolor\": \"#2a3f5f\", \"gridcolor\": \"white\", \"linecolor\": \"white\", \"minorgridcolor\": \"white\", \"startlinecolor\": \"#2a3f5f\"}, \"type\": \"carpet\"}], \"choropleth\": [{\"colorbar\": {\"outlinewidth\": 0, \"ticks\": \"\"}, \"type\": \"choropleth\"}], \"contour\": [{\"colorbar\": {\"outlinewidth\": 0, \"ticks\": \"\"}, \"colorscale\": [[0.0, \"#0d0887\"], [0.1111111111111111, \"#46039f\"], [0.2222222222222222, \"#7201a8\"], [0.3333333333333333, \"#9c179e\"], [0.4444444444444444, \"#bd3786\"], [0.5555555555555556, \"#d8576b\"], [0.6666666666666666, \"#ed7953\"], [0.7777777777777778, \"#fb9f3a\"], [0.8888888888888888, \"#fdca26\"], [1.0, \"#f0f921\"]], \"type\": \"contour\"}], \"contourcarpet\": [{\"colorbar\": {\"outlinewidth\": 0, \"ticks\": \"\"}, \"type\": \"contourcarpet\"}], \"heatmap\": [{\"colorbar\": {\"outlinewidth\": 0, \"ticks\": \"\"}, \"colorscale\": [[0.0, \"#0d0887\"], [0.1111111111111111, \"#46039f\"], [0.2222222222222222, \"#7201a8\"], [0.3333333333333333, \"#9c179e\"], [0.4444444444444444, \"#bd3786\"], [0.5555555555555556, \"#d8576b\"], [0.6666666666666666, \"#ed7953\"], [0.7777777777777778, \"#fb9f3a\"], [0.8888888888888888, \"#fdca26\"], [1.0, \"#f0f921\"]], \"type\": \"heatmap\"}], \"heatmapgl\": [{\"colorbar\": {\"outlinewidth\": 0, \"ticks\": \"\"}, \"colorscale\": [[0.0, \"#0d0887\"], [0.1111111111111111, \"#46039f\"], [0.2222222222222222, \"#7201a8\"], [0.3333333333333333, \"#9c179e\"], [0.4444444444444444, \"#bd3786\"], [0.5555555555555556, \"#d8576b\"], [0.6666666666666666, \"#ed7953\"], [0.7777777777777778, \"#fb9f3a\"], [0.8888888888888888, \"#fdca26\"], [1.0, \"#f0f921\"]], \"type\": \"heatmapgl\"}], \"histogram\": [{\"marker\": {\"colorbar\": {\"outlinewidth\": 0, \"ticks\": \"\"}}, \"type\": \"histogram\"}], \"histogram2d\": [{\"colorbar\": {\"outlinewidth\": 0, \"ticks\": \"\"}, \"colorscale\": [[0.0, \"#0d0887\"], [0.1111111111111111, \"#46039f\"], [0.2222222222222222, \"#7201a8\"], [0.3333333333333333, \"#9c179e\"], [0.4444444444444444, \"#bd3786\"], [0.5555555555555556, \"#d8576b\"], [0.6666666666666666, \"#ed7953\"], [0.7777777777777778, \"#fb9f3a\"], [0.8888888888888888, \"#fdca26\"], [1.0, \"#f0f921\"]], \"type\": \"histogram2d\"}], \"histogram2dcontour\": [{\"colorbar\": {\"outlinewidth\": 0, \"ticks\": \"\"}, \"colorscale\": [[0.0, \"#0d0887\"], [0.1111111111111111, \"#46039f\"], [0.2222222222222222, \"#7201a8\"], [0.3333333333333333, \"#9c179e\"], [0.4444444444444444, \"#bd3786\"], [0.5555555555555556, \"#d8576b\"], [0.6666666666666666, \"#ed7953\"], [0.7777777777777778, \"#fb9f3a\"], [0.8888888888888888, \"#fdca26\"], [1.0, \"#f0f921\"]], \"type\": \"histogram2dcontour\"}], \"mesh3d\": [{\"colorbar\": {\"outlinewidth\": 0, \"ticks\": \"\"}, \"type\": \"mesh3d\"}], \"parcoords\": [{\"line\": {\"colorbar\": {\"outlinewidth\": 0, \"ticks\": \"\"}}, \"type\": \"parcoords\"}], \"pie\": [{\"automargin\": true, \"type\": \"pie\"}], \"scatter\": [{\"marker\": {\"colorbar\": {\"outlinewidth\": 0, \"ticks\": \"\"}}, \"type\": \"scatter\"}], \"scatter3d\": [{\"line\": {\"colorbar\": {\"outlinewidth\": 0, \"ticks\": \"\"}}, \"marker\": {\"colorbar\": {\"outlinewidth\": 0, \"ticks\": \"\"}}, \"type\": \"scatter3d\"}], \"scattercarpet\": [{\"marker\": {\"colorbar\": {\"outlinewidth\": 0, \"ticks\": \"\"}}, \"type\": \"scattercarpet\"}], \"scattergeo\": [{\"marker\": {\"colorbar\": {\"outlinewidth\": 0, \"ticks\": \"\"}}, \"type\": \"scattergeo\"}], \"scattergl\": [{\"marker\": {\"colorbar\": {\"outlinewidth\": 0, \"ticks\": \"\"}}, \"type\": \"scattergl\"}], \"scattermapbox\": [{\"marker\": {\"colorbar\": {\"outlinewidth\": 0, \"ticks\": \"\"}}, \"type\": \"scattermapbox\"}], \"scatterpolar\": [{\"marker\": {\"colorbar\": {\"outlinewidth\": 0, \"ticks\": \"\"}}, \"type\": \"scatterpolar\"}], \"scatterpolargl\": [{\"marker\": {\"colorbar\": {\"outlinewidth\": 0, \"ticks\": \"\"}}, \"type\": \"scatterpolargl\"}], \"scatterternary\": [{\"marker\": {\"colorbar\": {\"outlinewidth\": 0, \"ticks\": \"\"}}, \"type\": \"scatterternary\"}], \"surface\": [{\"colorbar\": {\"outlinewidth\": 0, \"ticks\": \"\"}, \"colorscale\": [[0.0, \"#0d0887\"], [0.1111111111111111, \"#46039f\"], [0.2222222222222222, \"#7201a8\"], [0.3333333333333333, \"#9c179e\"], [0.4444444444444444, \"#bd3786\"], [0.5555555555555556, \"#d8576b\"], [0.6666666666666666, \"#ed7953\"], [0.7777777777777778, \"#fb9f3a\"], [0.8888888888888888, \"#fdca26\"], [1.0, \"#f0f921\"]], \"type\": \"surface\"}], \"table\": [{\"cells\": {\"fill\": {\"color\": \"#EBF0F8\"}, \"line\": {\"color\": \"white\"}}, \"header\": {\"fill\": {\"color\": \"#C8D4E3\"}, \"line\": {\"color\": \"white\"}}, \"type\": \"table\"}]}, \"layout\": {\"annotationdefaults\": {\"arrowcolor\": \"#2a3f5f\", \"arrowhead\": 0, \"arrowwidth\": 1}, \"autotypenumbers\": \"strict\", \"coloraxis\": {\"colorbar\": {\"outlinewidth\": 0, \"ticks\": \"\"}}, \"colorscale\": {\"diverging\": [[0, \"#8e0152\"], [0.1, \"#c51b7d\"], [0.2, \"#de77ae\"], [0.3, \"#f1b6da\"], [0.4, \"#fde0ef\"], [0.5, \"#f7f7f7\"], [0.6, \"#e6f5d0\"], [0.7, \"#b8e186\"], [0.8, \"#7fbc41\"], [0.9, \"#4d9221\"], [1, \"#276419\"]], \"sequential\": [[0.0, \"#0d0887\"], [0.1111111111111111, \"#46039f\"], [0.2222222222222222, \"#7201a8\"], [0.3333333333333333, \"#9c179e\"], [0.4444444444444444, \"#bd3786\"], [0.5555555555555556, \"#d8576b\"], [0.6666666666666666, \"#ed7953\"], [0.7777777777777778, \"#fb9f3a\"], [0.8888888888888888, \"#fdca26\"], [1.0, \"#f0f921\"]], \"sequentialminus\": [[0.0, \"#0d0887\"], [0.1111111111111111, \"#46039f\"], [0.2222222222222222, \"#7201a8\"], [0.3333333333333333, \"#9c179e\"], [0.4444444444444444, \"#bd3786\"], [0.5555555555555556, \"#d8576b\"], [0.6666666666666666, \"#ed7953\"], [0.7777777777777778, \"#fb9f3a\"], [0.8888888888888888, \"#fdca26\"], [1.0, \"#f0f921\"]]}, \"colorway\": [\"#636efa\", \"#EF553B\", \"#00cc96\", \"#ab63fa\", \"#FFA15A\", \"#19d3f3\", \"#FF6692\", \"#B6E880\", \"#FF97FF\", \"#FECB52\"], \"font\": {\"color\": \"#2a3f5f\"}, \"geo\": {\"bgcolor\": \"white\", \"lakecolor\": \"white\", \"landcolor\": \"#E5ECF6\", \"showlakes\": true, \"showland\": true, \"subunitcolor\": \"white\"}, \"hoverlabel\": {\"align\": \"left\"}, \"hovermode\": \"closest\", \"mapbox\": {\"style\": \"light\"}, \"paper_bgcolor\": \"white\", \"plot_bgcolor\": \"#E5ECF6\", \"polar\": {\"angularaxis\": {\"gridcolor\": \"white\", \"linecolor\": \"white\", \"ticks\": \"\"}, \"bgcolor\": \"#E5ECF6\", \"radialaxis\": {\"gridcolor\": \"white\", \"linecolor\": \"white\", \"ticks\": \"\"}}, \"scene\": {\"xaxis\": {\"backgroundcolor\": \"#E5ECF6\", \"gridcolor\": \"white\", \"gridwidth\": 2, \"linecolor\": \"white\", \"showbackground\": true, \"ticks\": \"\", \"zerolinecolor\": \"white\"}, \"yaxis\": {\"backgroundcolor\": \"#E5ECF6\", \"gridcolor\": \"white\", \"gridwidth\": 2, \"linecolor\": \"white\", \"showbackground\": true, \"ticks\": \"\", \"zerolinecolor\": \"white\"}, \"zaxis\": {\"backgroundcolor\": \"#E5ECF6\", \"gridcolor\": \"white\", \"gridwidth\": 2, \"linecolor\": \"white\", \"showbackground\": true, \"ticks\": \"\", \"zerolinecolor\": \"white\"}}, \"shapedefaults\": {\"line\": {\"color\": \"#2a3f5f\"}}, \"ternary\": {\"aaxis\": {\"gridcolor\": \"white\", \"linecolor\": \"white\", \"ticks\": \"\"}, \"baxis\": {\"gridcolor\": \"white\", \"linecolor\": \"white\", \"ticks\": \"\"}, \"bgcolor\": \"#E5ECF6\", \"caxis\": {\"gridcolor\": \"white\", \"linecolor\": \"white\", \"ticks\": \"\"}}, \"title\": {\"x\": 0.05}, \"xaxis\": {\"automargin\": true, \"gridcolor\": \"white\", \"linecolor\": \"white\", \"ticks\": \"\", \"title\": {\"standoff\": 15}, \"zerolinecolor\": \"white\", \"zerolinewidth\": 2}, \"yaxis\": {\"automargin\": true, \"gridcolor\": \"white\", \"linecolor\": \"white\", \"ticks\": \"\", \"title\": {\"standoff\": 15}, \"zerolinecolor\": \"white\", \"zerolinewidth\": 2}}}, \"title\": {\"text\": \"Distribution of Clusters within State>City\"}, \"width\": 750},                        {\"responsive\": true}                    ).then(function(){\n",
       "                            \n",
       "var gd = document.getElementById('c1de3bee-f320-431e-846d-d7d47a7e8b08');\n",
       "var x = new MutationObserver(function (mutations, observer) {{\n",
       "        var display = window.getComputedStyle(gd).display;\n",
       "        if (!display || display === 'none') {{\n",
       "            console.log([gd, 'removed!']);\n",
       "            Plotly.purge(gd);\n",
       "            observer.disconnect();\n",
       "        }}\n",
       "}});\n",
       "\n",
       "// Listen for the removal of the full notebook cells\n",
       "var notebookContainer = gd.closest('#notebook-container');\n",
       "if (notebookContainer) {{\n",
       "    x.observe(notebookContainer, {childList: true});\n",
       "}}\n",
       "\n",
       "// Listen for the clearing of the current output cell\n",
       "var outputEl = gd.closest('.output');\n",
       "if (outputEl) {{\n",
       "    x.observe(outputEl, {childList: true});\n",
       "}}\n",
       "\n",
       "                        })                };                });            </script>        </div>"
      ]
     },
     "metadata": {},
     "output_type": "display_data"
    }
   ],
   "source": [
    "fig = px.sunburst(df2,\n",
    "                  path=[\"province\", \"city\", \"cluster\"],\n",
    "                  values='Count',\n",
    "                  width=750, height=750,\n",
    "#                   color_continuous_scale=\"RdYlGn\",\n",
    "                  hover_data=['keywords'],\n",
    "                  title=\"Distribution of Clusters within State>City\",\n",
    "                  )\n",
    "fig.show()\n",
    "fig.write_html(\"plotlytry2.html\", include_plotlyjs = \"cdn\")"
   ]
  },
  {
   "cell_type": "code",
   "execution_count": 14,
   "metadata": {},
   "outputs": [],
   "source": [
    "df2.to_csv(\"output/sunburst_chart_ref.csv\")"
   ]
  },
  {
   "cell_type": "code",
   "execution_count": null,
   "metadata": {},
   "outputs": [],
   "source": []
  }
 ],
 "metadata": {
  "kernelspec": {
   "display_name": "Python 3",
   "language": "python",
   "name": "python3"
  },
  "language_info": {
   "codemirror_mode": {
    "name": "ipython",
    "version": 3
   },
   "file_extension": ".py",
   "mimetype": "text/x-python",
   "name": "python",
   "nbconvert_exporter": "python",
   "pygments_lexer": "ipython3",
   "version": "3.8.3"
  }
 },
 "nbformat": 4,
 "nbformat_minor": 4
}
