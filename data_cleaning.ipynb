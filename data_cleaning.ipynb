{
 "cells": [
  {
   "cell_type": "markdown",
   "metadata": {},
   "source": [
    "### Importing dependencies"
   ]
  },
  {
   "cell_type": "code",
   "execution_count": 1,
   "metadata": {},
   "outputs": [],
   "source": [
    "from scipy import stats\n",
    "import numpy as np\n",
    "import pandas as pd\n",
    "import os\n",
    "import csv\n",
    "from pprint import pprint"
   ]
  },
  {
   "cell_type": "markdown",
   "metadata": {},
   "source": [
    "### Calling csv file & preview data"
   ]
  },
  {
   "cell_type": "code",
   "execution_count": 2,
   "metadata": {},
   "outputs": [
    {
     "name": "stdout",
     "output_type": "stream",
     "text": [
      "Data Shape: (11176, 7)\n"
     ]
    },
    {
     "data": {
      "text/html": [
       "<div>\n",
       "<style scoped>\n",
       "    .dataframe tbody tr th:only-of-type {\n",
       "        vertical-align: middle;\n",
       "    }\n",
       "\n",
       "    .dataframe tbody tr th {\n",
       "        vertical-align: top;\n",
       "    }\n",
       "\n",
       "    .dataframe thead th {\n",
       "        text-align: right;\n",
       "    }\n",
       "</style>\n",
       "<table border=\"1\" class=\"dataframe\">\n",
       "  <thead>\n",
       "    <tr style=\"text-align: right;\">\n",
       "      <th></th>\n",
       "      <th>country</th>\n",
       "      <th>description</th>\n",
       "      <th>points</th>\n",
       "      <th>price</th>\n",
       "      <th>province</th>\n",
       "      <th>region_1</th>\n",
       "      <th>variety</th>\n",
       "    </tr>\n",
       "  </thead>\n",
       "  <tbody>\n",
       "    <tr>\n",
       "      <th>0</th>\n",
       "      <td>US</td>\n",
       "      <td>). Very good wine from a winery increasingly k...</td>\n",
       "      <td>92</td>\n",
       "      <td>47</td>\n",
       "      <td>California</td>\n",
       "      <td>Rockpile</td>\n",
       "      <td>Cabernet Sauvignon</td>\n",
       "    </tr>\n",
       "    <tr>\n",
       "      <th>1</th>\n",
       "      <td>US</td>\n",
       "      <td>100% varietal from one of Washington's most es...</td>\n",
       "      <td>91</td>\n",
       "      <td>55</td>\n",
       "      <td>Washington</td>\n",
       "      <td>Horse Heaven Hills</td>\n",
       "      <td>Merlot</td>\n",
       "    </tr>\n",
       "    <tr>\n",
       "      <th>2</th>\n",
       "      <td>US</td>\n",
       "      <td>100% varietal with the majority of the fruit c...</td>\n",
       "      <td>89</td>\n",
       "      <td>30</td>\n",
       "      <td>Washington</td>\n",
       "      <td>Wahluke Slope</td>\n",
       "      <td>Cabernet Franc</td>\n",
       "    </tr>\n",
       "    <tr>\n",
       "      <th>3</th>\n",
       "      <td>US</td>\n",
       "      <td>100% varietal, this wine exhibits aromas of dr...</td>\n",
       "      <td>89</td>\n",
       "      <td>36</td>\n",
       "      <td>Washington</td>\n",
       "      <td>Columbia Valley (WA)</td>\n",
       "      <td>Cabernet Sauvignon</td>\n",
       "    </tr>\n",
       "    <tr>\n",
       "      <th>4</th>\n",
       "      <td>US</td>\n",
       "      <td>100% varietal, this wine reveals aromas of dar...</td>\n",
       "      <td>91</td>\n",
       "      <td>45</td>\n",
       "      <td>Washington</td>\n",
       "      <td>Red Mountain</td>\n",
       "      <td>Cabernet Sauvignon</td>\n",
       "    </tr>\n",
       "  </tbody>\n",
       "</table>\n",
       "</div>"
      ],
      "text/plain": [
       "  country                                        description  points  price  \\\n",
       "0      US  ). Very good wine from a winery increasingly k...      92     47   \n",
       "1      US  100% varietal from one of Washington's most es...      91     55   \n",
       "2      US  100% varietal with the majority of the fruit c...      89     30   \n",
       "3      US  100% varietal, this wine exhibits aromas of dr...      89     36   \n",
       "4      US  100% varietal, this wine reveals aromas of dar...      91     45   \n",
       "\n",
       "     province              region_1             variety  \n",
       "0  California              Rockpile  Cabernet Sauvignon  \n",
       "1  Washington    Horse Heaven Hills              Merlot  \n",
       "2  Washington         Wahluke Slope      Cabernet Franc  \n",
       "3  Washington  Columbia Valley (WA)  Cabernet Sauvignon  \n",
       "4  Washington          Red Mountain  Cabernet Sauvignon  "
      ]
     },
     "execution_count": 2,
     "metadata": {},
     "output_type": "execute_result"
    }
   ],
   "source": [
    "wine_data = pd.read_csv('./Resources/wine_data.csv')\n",
    "print(f\"Data Shape: {wine_data.shape}\")\n",
    "wine_data.head()"
   ]
  },
  {
   "cell_type": "markdown",
   "metadata": {},
   "source": [
    "### Converting to dataframe"
   ]
  },
  {
   "cell_type": "code",
   "execution_count": 3,
   "metadata": {},
   "outputs": [
    {
     "data": {
      "text/html": [
       "<div>\n",
       "<style scoped>\n",
       "    .dataframe tbody tr th:only-of-type {\n",
       "        vertical-align: middle;\n",
       "    }\n",
       "\n",
       "    .dataframe tbody tr th {\n",
       "        vertical-align: top;\n",
       "    }\n",
       "\n",
       "    .dataframe thead th {\n",
       "        text-align: right;\n",
       "    }\n",
       "</style>\n",
       "<table border=\"1\" class=\"dataframe\">\n",
       "  <thead>\n",
       "    <tr style=\"text-align: right;\">\n",
       "      <th></th>\n",
       "      <th>country</th>\n",
       "      <th>description</th>\n",
       "      <th>points</th>\n",
       "      <th>price</th>\n",
       "      <th>province</th>\n",
       "      <th>region_1</th>\n",
       "      <th>variety</th>\n",
       "    </tr>\n",
       "  </thead>\n",
       "  <tbody>\n",
       "    <tr>\n",
       "      <th>0</th>\n",
       "      <td>US</td>\n",
       "      <td>). Very good wine from a winery increasingly k...</td>\n",
       "      <td>92</td>\n",
       "      <td>47</td>\n",
       "      <td>California</td>\n",
       "      <td>Rockpile</td>\n",
       "      <td>Cabernet Sauvignon</td>\n",
       "    </tr>\n",
       "    <tr>\n",
       "      <th>1</th>\n",
       "      <td>US</td>\n",
       "      <td>100% varietal from one of Washington's most es...</td>\n",
       "      <td>91</td>\n",
       "      <td>55</td>\n",
       "      <td>Washington</td>\n",
       "      <td>Horse Heaven Hills</td>\n",
       "      <td>Merlot</td>\n",
       "    </tr>\n",
       "    <tr>\n",
       "      <th>2</th>\n",
       "      <td>US</td>\n",
       "      <td>100% varietal with the majority of the fruit c...</td>\n",
       "      <td>89</td>\n",
       "      <td>30</td>\n",
       "      <td>Washington</td>\n",
       "      <td>Wahluke Slope</td>\n",
       "      <td>Cabernet Franc</td>\n",
       "    </tr>\n",
       "    <tr>\n",
       "      <th>3</th>\n",
       "      <td>US</td>\n",
       "      <td>100% varietal, this wine exhibits aromas of dr...</td>\n",
       "      <td>89</td>\n",
       "      <td>36</td>\n",
       "      <td>Washington</td>\n",
       "      <td>Columbia Valley (WA)</td>\n",
       "      <td>Cabernet Sauvignon</td>\n",
       "    </tr>\n",
       "    <tr>\n",
       "      <th>4</th>\n",
       "      <td>US</td>\n",
       "      <td>100% varietal, this wine reveals aromas of dar...</td>\n",
       "      <td>91</td>\n",
       "      <td>45</td>\n",
       "      <td>Washington</td>\n",
       "      <td>Red Mountain</td>\n",
       "      <td>Cabernet Sauvignon</td>\n",
       "    </tr>\n",
       "  </tbody>\n",
       "</table>\n",
       "</div>"
      ],
      "text/plain": [
       "  country                                        description  points  price  \\\n",
       "0      US  ). Very good wine from a winery increasingly k...      92     47   \n",
       "1      US  100% varietal from one of Washington's most es...      91     55   \n",
       "2      US  100% varietal with the majority of the fruit c...      89     30   \n",
       "3      US  100% varietal, this wine exhibits aromas of dr...      89     36   \n",
       "4      US  100% varietal, this wine reveals aromas of dar...      91     45   \n",
       "\n",
       "     province              region_1             variety  \n",
       "0  California              Rockpile  Cabernet Sauvignon  \n",
       "1  Washington    Horse Heaven Hills              Merlot  \n",
       "2  Washington         Wahluke Slope      Cabernet Franc  \n",
       "3  Washington  Columbia Valley (WA)  Cabernet Sauvignon  \n",
       "4  Washington          Red Mountain  Cabernet Sauvignon  "
      ]
     },
     "execution_count": 3,
     "metadata": {},
     "output_type": "execute_result"
    }
   ],
   "source": [
    "wine_data= pd.DataFrame(wine_data[['country','description', 'points', 'price','province', 'region_1', 'variety']])\n",
    "\n",
    "wine_data.head()"
   ]
  },
  {
   "cell_type": "markdown",
   "metadata": {},
   "source": [
    "### Dropping duplicates"
   ]
  },
  {
   "cell_type": "code",
   "execution_count": 4,
   "metadata": {},
   "outputs": [],
   "source": [
    "clean_wine_df=wine_data.drop_duplicates()"
   ]
  },
  {
   "cell_type": "markdown",
   "metadata": {},
   "source": [
    "### Preview new dataframe"
   ]
  },
  {
   "cell_type": "code",
   "execution_count": 5,
   "metadata": {},
   "outputs": [
    {
     "data": {
      "text/html": [
       "<div>\n",
       "<style scoped>\n",
       "    .dataframe tbody tr th:only-of-type {\n",
       "        vertical-align: middle;\n",
       "    }\n",
       "\n",
       "    .dataframe tbody tr th {\n",
       "        vertical-align: top;\n",
       "    }\n",
       "\n",
       "    .dataframe thead th {\n",
       "        text-align: right;\n",
       "    }\n",
       "</style>\n",
       "<table border=\"1\" class=\"dataframe\">\n",
       "  <thead>\n",
       "    <tr style=\"text-align: right;\">\n",
       "      <th></th>\n",
       "      <th>country</th>\n",
       "      <th>description</th>\n",
       "      <th>points</th>\n",
       "      <th>price</th>\n",
       "      <th>province</th>\n",
       "      <th>region_1</th>\n",
       "      <th>variety</th>\n",
       "    </tr>\n",
       "  </thead>\n",
       "  <tbody>\n",
       "    <tr>\n",
       "      <th>0</th>\n",
       "      <td>US</td>\n",
       "      <td>). Very good wine from a winery increasingly k...</td>\n",
       "      <td>92</td>\n",
       "      <td>47</td>\n",
       "      <td>California</td>\n",
       "      <td>Rockpile</td>\n",
       "      <td>Cabernet Sauvignon</td>\n",
       "    </tr>\n",
       "    <tr>\n",
       "      <th>1</th>\n",
       "      <td>US</td>\n",
       "      <td>100% varietal from one of Washington's most es...</td>\n",
       "      <td>91</td>\n",
       "      <td>55</td>\n",
       "      <td>Washington</td>\n",
       "      <td>Horse Heaven Hills</td>\n",
       "      <td>Merlot</td>\n",
       "    </tr>\n",
       "    <tr>\n",
       "      <th>2</th>\n",
       "      <td>US</td>\n",
       "      <td>100% varietal with the majority of the fruit c...</td>\n",
       "      <td>89</td>\n",
       "      <td>30</td>\n",
       "      <td>Washington</td>\n",
       "      <td>Wahluke Slope</td>\n",
       "      <td>Cabernet Franc</td>\n",
       "    </tr>\n",
       "    <tr>\n",
       "      <th>3</th>\n",
       "      <td>US</td>\n",
       "      <td>100% varietal, this wine exhibits aromas of dr...</td>\n",
       "      <td>89</td>\n",
       "      <td>36</td>\n",
       "      <td>Washington</td>\n",
       "      <td>Columbia Valley (WA)</td>\n",
       "      <td>Cabernet Sauvignon</td>\n",
       "    </tr>\n",
       "    <tr>\n",
       "      <th>4</th>\n",
       "      <td>US</td>\n",
       "      <td>100% varietal, this wine reveals aromas of dar...</td>\n",
       "      <td>91</td>\n",
       "      <td>45</td>\n",
       "      <td>Washington</td>\n",
       "      <td>Red Mountain</td>\n",
       "      <td>Cabernet Sauvignon</td>\n",
       "    </tr>\n",
       "  </tbody>\n",
       "</table>\n",
       "</div>"
      ],
      "text/plain": [
       "  country                                        description  points  price  \\\n",
       "0      US  ). Very good wine from a winery increasingly k...      92     47   \n",
       "1      US  100% varietal from one of Washington's most es...      91     55   \n",
       "2      US  100% varietal with the majority of the fruit c...      89     30   \n",
       "3      US  100% varietal, this wine exhibits aromas of dr...      89     36   \n",
       "4      US  100% varietal, this wine reveals aromas of dar...      91     45   \n",
       "\n",
       "     province              region_1             variety  \n",
       "0  California              Rockpile  Cabernet Sauvignon  \n",
       "1  Washington    Horse Heaven Hills              Merlot  \n",
       "2  Washington         Wahluke Slope      Cabernet Franc  \n",
       "3  Washington  Columbia Valley (WA)  Cabernet Sauvignon  \n",
       "4  Washington          Red Mountain  Cabernet Sauvignon  "
      ]
     },
     "execution_count": 5,
     "metadata": {},
     "output_type": "execute_result"
    }
   ],
   "source": [
    "clean_wine_df.head()"
   ]
  },
  {
   "cell_type": "markdown",
   "metadata": {},
   "source": [
    "### Data shape"
   ]
  },
  {
   "cell_type": "code",
   "execution_count": 6,
   "metadata": {},
   "outputs": [
    {
     "name": "stdout",
     "output_type": "stream",
     "text": [
      "Data Shape: (9992, 7)\n"
     ]
    }
   ],
   "source": [
    "print(f\"Data Shape: {clean_wine_df.shape}\")"
   ]
  },
  {
   "cell_type": "markdown",
   "metadata": {},
   "source": [
    "### Specify the file to write to and save the file"
   ]
  },
  {
   "cell_type": "code",
   "execution_count": 7,
   "metadata": {},
   "outputs": [],
   "source": [
    "output_path = os.path.join(\"Output\", \"clean_wine_data.csv\")\n",
    "\n",
    "#save the file\n",
    "clean_wine_df.to_csv(output_path,  index=False)"
   ]
  },
  {
   "cell_type": "code",
   "execution_count": null,
   "metadata": {},
   "outputs": [],
   "source": []
  },
  {
   "cell_type": "code",
   "execution_count": null,
   "metadata": {},
   "outputs": [],
   "source": []
  }
 ],
 "metadata": {
  "kernelspec": {
   "display_name": "Python 3",
   "language": "python",
   "name": "python3"
  },
  "language_info": {
   "codemirror_mode": {
    "name": "ipython",
    "version": 3
   },
   "file_extension": ".py",
   "mimetype": "text/x-python",
   "name": "python",
   "nbconvert_exporter": "python",
   "pygments_lexer": "ipython3",
   "version": "3.7.6"
  }
 },
 "nbformat": 4,
 "nbformat_minor": 4
}
