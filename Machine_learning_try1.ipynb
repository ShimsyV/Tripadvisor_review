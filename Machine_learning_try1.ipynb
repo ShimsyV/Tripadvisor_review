{
 "cells": [
  {
   "cell_type": "code",
   "execution_count": null,
   "metadata": {},
   "outputs": [],
   "source": [
    "### dependencies"
   ]
  },
  {
   "cell_type": "code",
   "execution_count": 1,
   "metadata": {},
   "outputs": [
    {
     "name": "stderr",
     "output_type": "stream",
     "text": [
      "[nltk_data] Downloading package stopwords to\n",
      "[nltk_data]     C:\\Users\\duckw\\AppData\\Roaming\\nltk_data...\n",
      "[nltk_data]   Package stopwords is already up-to-date!\n"
     ]
    }
   ],
   "source": [
    "import pandas as pd\n",
    "import numpy as np\n",
    "import matplotlib.pyplot as plt\n",
    "import seaborn as sns\n",
    "import warnings\n",
    "import nltk\n",
    "from sklearn import linear_model\n",
    "from sklearn.feature_extraction.text import TfidfVectorizer , CountVectorizer\n",
    "from sklearn.model_selection import train_test_split, cross_val_score\n",
    "from sklearn.metrics import accuracy_score\n",
    "from sklearn.feature_extraction import text\n",
    "from nltk.tokenize import RegexpTokenizer\n",
    "from nltk.stem.snowball import SnowballStemmer\n",
    "from nltk.corpus import stopwords\n",
    "from sklearn.metrics import confusion_matrix\n",
    "from sklearn.cluster import KMeans\n",
    "from sklearn.ensemble import RandomForestClassifier\n",
    "# nltk.download('stopwords')\n",
    "warnings.filterwarnings(\"ignore\", category=DeprecationWarning) \n",
    "%matplotlib inline\n",
    "sns.set()"
   ]
  },
  {
   "cell_type": "code",
   "execution_count": 2,
   "metadata": {},
   "outputs": [],
   "source": [
    "### import dataset"
   ]
  },
  {
   "cell_type": "code",
   "execution_count": 3,
   "metadata": {},
   "outputs": [
    {
     "data": {
      "text/plain": [
       "9787"
      ]
     },
     "execution_count": 3,
     "metadata": {},
     "output_type": "execute_result"
    }
   ],
   "source": [
    "targetset = pd.read_csv('output/hotel_review_data.csv')\n",
    "len(targetset)"
   ]
  },
  {
   "cell_type": "code",
   "execution_count": null,
   "metadata": {},
   "outputs": [],
   "source": [
    "###There are cities named the same in multiple states. Need to combine to make unique."
   ]
  },
  {
   "cell_type": "code",
   "execution_count": 4,
   "metadata": {},
   "outputs": [],
   "source": [
    "targetset[\"city_and_state\"] = targetset[\"city\"] + \", \" + targetset[\"province\"]"
   ]
  },
  {
   "cell_type": "code",
   "execution_count": null,
   "metadata": {},
   "outputs": [],
   "source": [
    "### checking how many reviews are associated with which cities. Machine learning will not work if there isn't enough data."
   ]
  },
  {
   "cell_type": "code",
   "execution_count": 5,
   "metadata": {},
   "outputs": [
    {
     "data": {
      "text/plain": [
       "San Diego, CA        1188\n",
       "San Francisco, CA     808\n",
       "New Orleans, LA       797\n",
       "Atlanta, GA           761\n",
       "Orlando, FL           723\n",
       "                     ... \n",
       "Pendleton, OR           1\n",
       "Milford, IA             1\n",
       "Shelbyville, TN         1\n",
       "Avon, IN                1\n",
       "Ferndale, CA            1\n",
       "Name: City_and_state, Length: 893, dtype: int64"
      ]
     },
     "execution_count": 5,
     "metadata": {},
     "output_type": "execute_result"
    }
   ],
   "source": [
    "targetset[\"city_and_state\"].value_counts()"
   ]
  },
  {
   "cell_type": "code",
   "execution_count": null,
   "metadata": {},
   "outputs": [],
   "source": [
    "### curating out low review counts"
   ]
  },
  {
   "cell_type": "code",
   "execution_count": 6,
   "metadata": {},
   "outputs": [
    {
     "data": {
      "text/plain": [
       "San Diego        1188\n",
       "San Francisco     808\n",
       "New Orleans       797\n",
       "Atlanta           761\n",
       "Orlando           723\n",
       "                 ... \n",
       "Tulsa              11\n",
       "Corrales           11\n",
       "Raton              11\n",
       "Kearney            11\n",
       "Gatlinburg         11\n",
       "Name: city, Length: 64, dtype: int64"
      ]
     },
     "execution_count": 6,
     "metadata": {},
     "output_type": "execute_result"
    }
   ],
   "source": [
    "cutoff = targetset.groupby(\"city_and_state\").filter(lambda x:len(x)>10)\n",
    "len(cutoff)\n",
    "cutoff[\"city\"].value_counts()"
   ]
  },
  {
   "cell_type": "code",
   "execution_count": 12,
   "metadata": {},
   "outputs": [
    {
     "data": {
      "text/html": [
       "<div>\n",
       "<style scoped>\n",
       "    .dataframe tbody tr th:only-of-type {\n",
       "        vertical-align: middle;\n",
       "    }\n",
       "\n",
       "    .dataframe tbody tr th {\n",
       "        vertical-align: top;\n",
       "    }\n",
       "\n",
       "    .dataframe thead th {\n",
       "        text-align: right;\n",
       "    }\n",
       "</style>\n",
       "<table border=\"1\" class=\"dataframe\">\n",
       "  <thead>\n",
       "    <tr style=\"text-align: right;\">\n",
       "      <th></th>\n",
       "      <th>id</th>\n",
       "      <th>address</th>\n",
       "      <th>city</th>\n",
       "      <th>country</th>\n",
       "      <th>latitude</th>\n",
       "      <th>longitude</th>\n",
       "      <th>name</th>\n",
       "      <th>postalCode</th>\n",
       "      <th>province</th>\n",
       "      <th>reviews_rating</th>\n",
       "      <th>reviews_text</th>\n",
       "      <th>reviews_title</th>\n",
       "      <th>sourceURLs</th>\n",
       "      <th>City_and_state</th>\n",
       "    </tr>\n",
       "  </thead>\n",
       "  <tbody>\n",
       "    <tr>\n",
       "      <th>5</th>\n",
       "      <td>AVweLARAByjofQCxv5vX</td>\n",
       "      <td>167 W Main St</td>\n",
       "      <td>Lexington</td>\n",
       "      <td>US</td>\n",
       "      <td>38.047014</td>\n",
       "      <td>-84.497742</td>\n",
       "      <td>21c Museum Hotel Lexington</td>\n",
       "      <td>40507</td>\n",
       "      <td>KY</td>\n",
       "      <td>4</td>\n",
       "      <td>This is such a fun, lovely hotel. The attentio...</td>\n",
       "      <td>Loved staying here</td>\n",
       "      <td>https://www.tripadvisor.com/Hotel_Review-g3958...</td>\n",
       "      <td>Lexington, KY</td>\n",
       "    </tr>\n",
       "    <tr>\n",
       "      <th>6</th>\n",
       "      <td>AVweLARAByjofQCxv5vX</td>\n",
       "      <td>167 W Main St</td>\n",
       "      <td>Lexington</td>\n",
       "      <td>US</td>\n",
       "      <td>38.047014</td>\n",
       "      <td>-84.497742</td>\n",
       "      <td>21c Museum Hotel Lexington</td>\n",
       "      <td>40507</td>\n",
       "      <td>KY</td>\n",
       "      <td>1</td>\n",
       "      <td>We recently stayed at this hotel on a trip to ...</td>\n",
       "      <td>Does not live up to its reputation</td>\n",
       "      <td>https://www.tripadvisor.com/Hotel_Review-g3958...</td>\n",
       "      <td>Lexington, KY</td>\n",
       "    </tr>\n",
       "    <tr>\n",
       "      <th>8</th>\n",
       "      <td>AVz6h4Sb3D1zeR_xDHsu</td>\n",
       "      <td>2240 Buena Vista Rd</td>\n",
       "      <td>Lexington</td>\n",
       "      <td>US</td>\n",
       "      <td>38.042100</td>\n",
       "      <td>-84.427100</td>\n",
       "      <td>Microtel Inn Suites By Wyndham Lexington</td>\n",
       "      <td>40505</td>\n",
       "      <td>KY</td>\n",
       "      <td>5</td>\n",
       "      <td>MoreMore</td>\n",
       "      <td>Location Location Location</td>\n",
       "      <td>https://www.yellowbook.com/profile/microtel-in...</td>\n",
       "      <td>Lexington, KY</td>\n",
       "    </tr>\n",
       "    <tr>\n",
       "      <th>10</th>\n",
       "      <td>AVwcuo0eIN2L1WUfoPEk</td>\n",
       "      <td>1953 Nicholasville Rd</td>\n",
       "      <td>Lexington</td>\n",
       "      <td>US</td>\n",
       "      <td>38.012430</td>\n",
       "      <td>-84.516350</td>\n",
       "      <td>Hampton Inn Lexington Medical Center</td>\n",
       "      <td>40503</td>\n",
       "      <td>KY</td>\n",
       "      <td>5</td>\n",
       "      <td>This is a new Hampton Inn and is well decorate...</td>\n",
       "      <td>Beautiful hotel</td>\n",
       "      <td>https://www.yellowpages.com/lexington-ky/mip/h...</td>\n",
       "      <td>Lexington, KY</td>\n",
       "    </tr>\n",
       "    <tr>\n",
       "      <th>13</th>\n",
       "      <td>AWV8VsCtRxPSIh2RyTvS</td>\n",
       "      <td>610 Poydras St</td>\n",
       "      <td>New Orleans</td>\n",
       "      <td>US</td>\n",
       "      <td>29.949125</td>\n",
       "      <td>-90.069748</td>\n",
       "      <td>The Whitney Hotel</td>\n",
       "      <td>70130</td>\n",
       "      <td>LA</td>\n",
       "      <td>3</td>\n",
       "      <td>The water is very hot and there's no cold wate...</td>\n",
       "      <td>Very hot water, bad food</td>\n",
       "      <td>https://www.tripadvisor.com/Hotel_Review-g6086...</td>\n",
       "      <td>New Orleans, LA</td>\n",
       "    </tr>\n",
       "  </tbody>\n",
       "</table>\n",
       "</div>"
      ],
      "text/plain": [
       "                      id                address         city country  \\\n",
       "5   AVweLARAByjofQCxv5vX          167 W Main St    Lexington      US   \n",
       "6   AVweLARAByjofQCxv5vX          167 W Main St    Lexington      US   \n",
       "8   AVz6h4Sb3D1zeR_xDHsu    2240 Buena Vista Rd    Lexington      US   \n",
       "10  AVwcuo0eIN2L1WUfoPEk  1953 Nicholasville Rd    Lexington      US   \n",
       "13  AWV8VsCtRxPSIh2RyTvS         610 Poydras St  New Orleans      US   \n",
       "\n",
       "     latitude  longitude                                      name postalCode  \\\n",
       "5   38.047014 -84.497742                21c Museum Hotel Lexington      40507   \n",
       "6   38.047014 -84.497742                21c Museum Hotel Lexington      40507   \n",
       "8   38.042100 -84.427100  Microtel Inn Suites By Wyndham Lexington      40505   \n",
       "10  38.012430 -84.516350      Hampton Inn Lexington Medical Center      40503   \n",
       "13  29.949125 -90.069748                         The Whitney Hotel      70130   \n",
       "\n",
       "   province  reviews_rating  \\\n",
       "5        KY               4   \n",
       "6        KY               1   \n",
       "8        KY               5   \n",
       "10       KY               5   \n",
       "13       LA               3   \n",
       "\n",
       "                                         reviews_text  \\\n",
       "5   This is such a fun, lovely hotel. The attentio...   \n",
       "6   We recently stayed at this hotel on a trip to ...   \n",
       "8                                            MoreMore   \n",
       "10  This is a new Hampton Inn and is well decorate...   \n",
       "13  The water is very hot and there's no cold wate...   \n",
       "\n",
       "                         reviews_title  \\\n",
       "5                   Loved staying here   \n",
       "6   Does not live up to its reputation   \n",
       "8           Location Location Location   \n",
       "10                     Beautiful hotel   \n",
       "13            Very hot water, bad food   \n",
       "\n",
       "                                           sourceURLs   City_and_state  \n",
       "5   https://www.tripadvisor.com/Hotel_Review-g3958...    Lexington, KY  \n",
       "6   https://www.tripadvisor.com/Hotel_Review-g3958...    Lexington, KY  \n",
       "8   https://www.yellowbook.com/profile/microtel-in...    Lexington, KY  \n",
       "10  https://www.yellowpages.com/lexington-ky/mip/h...    Lexington, KY  \n",
       "13  https://www.tripadvisor.com/Hotel_Review-g6086...  New Orleans, LA  "
      ]
     },
     "execution_count": 12,
     "metadata": {},
     "output_type": "execute_result"
    }
   ],
   "source": [
    "cutoff.head()"
   ]
  },
  {
   "cell_type": "code",
   "execution_count": 13,
   "metadata": {},
   "outputs": [
    {
     "data": {
      "image/png": "[encoded data removed]",
      "text/plain": [
       "<Figure size 1440x504 with 1 Axes>"
      ]
     },
     "metadata": {},
     "output_type": "display_data"
    }
   ],
   "source": [
    "xaxis = cutoff.city_and_state.value_counts().index.tolist()\n",
    "fig1 = plt.subplots(figsize = (20,7))\n",
    "sns.countplot(x='City_and_state', data=cutoff, order = xaxis)\n",
    "plt.xticks(rotation = 90)\n",
    "plt.show()"
   ]
  },
  {
   "cell_type": "code",
   "execution_count": 34,
   "metadata": {},
   "outputs": [],
   "source": [
    "### NLP PROCESSING"
   ]
  },
  {
   "cell_type": "code",
   "execution_count": 47,
   "metadata": {},
   "outputs": [],
   "source": [
    "punc = ['.', ',', '\"', \"'\", '?', '!', ':', ';', '(', ')', '[', ']', '{', '}',\"%\"]\n",
    "ignore = set(stopwords.words('english'))\n",
    "ignore.update(punc)"
   ]
  },
  {
   "cell_type": "code",
   "execution_count": 14,
   "metadata": {},
   "outputs": [
    {
     "data": {
      "text/html": [
       "<div>\n",
       "<style scoped>\n",
       "    .dataframe tbody tr th:only-of-type {\n",
       "        vertical-align: middle;\n",
       "    }\n",
       "\n",
       "    .dataframe tbody tr th {\n",
       "        vertical-align: top;\n",
       "    }\n",
       "\n",
       "    .dataframe thead th {\n",
       "        text-align: right;\n",
       "    }\n",
       "</style>\n",
       "<table border=\"1\" class=\"dataframe\">\n",
       "  <thead>\n",
       "    <tr style=\"text-align: right;\">\n",
       "      <th></th>\n",
       "      <th>id</th>\n",
       "      <th>address</th>\n",
       "      <th>city</th>\n",
       "      <th>country</th>\n",
       "      <th>latitude</th>\n",
       "      <th>longitude</th>\n",
       "      <th>name</th>\n",
       "      <th>postalCode</th>\n",
       "      <th>province</th>\n",
       "      <th>reviews_rating</th>\n",
       "      <th>reviews_text</th>\n",
       "      <th>reviews_title</th>\n",
       "      <th>sourceURLs</th>\n",
       "      <th>City_and_state</th>\n",
       "      <th>reviews_text_tokens</th>\n",
       "    </tr>\n",
       "  </thead>\n",
       "  <tbody>\n",
       "    <tr>\n",
       "      <th>5</th>\n",
       "      <td>AVweLARAByjofQCxv5vX</td>\n",
       "      <td>167 W Main St</td>\n",
       "      <td>Lexington</td>\n",
       "      <td>US</td>\n",
       "      <td>38.047014</td>\n",
       "      <td>-84.497742</td>\n",
       "      <td>21c Museum Hotel Lexington</td>\n",
       "      <td>40507</td>\n",
       "      <td>KY</td>\n",
       "      <td>4</td>\n",
       "      <td>This is such a fun, lovely hotel. The attentio...</td>\n",
       "      <td>Loved staying here</td>\n",
       "      <td>https://www.tripadvisor.com/Hotel_Review-g3958...</td>\n",
       "      <td>Lexington, KY</td>\n",
       "      <td>[lovely, hotel, attention, detail, impressive,...</td>\n",
       "    </tr>\n",
       "    <tr>\n",
       "      <th>6</th>\n",
       "      <td>AVweLARAByjofQCxv5vX</td>\n",
       "      <td>167 W Main St</td>\n",
       "      <td>Lexington</td>\n",
       "      <td>US</td>\n",
       "      <td>38.047014</td>\n",
       "      <td>-84.497742</td>\n",
       "      <td>21c Museum Hotel Lexington</td>\n",
       "      <td>40507</td>\n",
       "      <td>KY</td>\n",
       "      <td>1</td>\n",
       "      <td>We recently stayed at this hotel on a trip to ...</td>\n",
       "      <td>Does not live up to its reputation</td>\n",
       "      <td>https://www.tripadvisor.com/Hotel_Review-g3958...</td>\n",
       "      <td>Lexington, KY</td>\n",
       "      <td>[recently, stay, hotel, trip, lexington, frien...</td>\n",
       "    </tr>\n",
       "    <tr>\n",
       "      <th>8</th>\n",
       "      <td>AVz6h4Sb3D1zeR_xDHsu</td>\n",
       "      <td>2240 Buena Vista Rd</td>\n",
       "      <td>Lexington</td>\n",
       "      <td>US</td>\n",
       "      <td>38.042100</td>\n",
       "      <td>-84.427100</td>\n",
       "      <td>Microtel Inn Suites By Wyndham Lexington</td>\n",
       "      <td>40505</td>\n",
       "      <td>KY</td>\n",
       "      <td>5</td>\n",
       "      <td>MoreMore</td>\n",
       "      <td>Location Location Location</td>\n",
       "      <td>https://www.yellowbook.com/profile/microtel-in...</td>\n",
       "      <td>Lexington, KY</td>\n",
       "      <td>[moremore]</td>\n",
       "    </tr>\n",
       "    <tr>\n",
       "      <th>10</th>\n",
       "      <td>AVwcuo0eIN2L1WUfoPEk</td>\n",
       "      <td>1953 Nicholasville Rd</td>\n",
       "      <td>Lexington</td>\n",
       "      <td>US</td>\n",
       "      <td>38.012430</td>\n",
       "      <td>-84.516350</td>\n",
       "      <td>Hampton Inn Lexington Medical Center</td>\n",
       "      <td>40503</td>\n",
       "      <td>KY</td>\n",
       "      <td>5</td>\n",
       "      <td>This is a new Hampton Inn and is well decorate...</td>\n",
       "      <td>Beautiful hotel</td>\n",
       "      <td>https://www.yellowpages.com/lexington-ky/mip/h...</td>\n",
       "      <td>Lexington, KY</td>\n",
       "      <td>[hampton, decorate, color, scheme, give, feel,...</td>\n",
       "    </tr>\n",
       "    <tr>\n",
       "      <th>13</th>\n",
       "      <td>AWV8VsCtRxPSIh2RyTvS</td>\n",
       "      <td>610 Poydras St</td>\n",
       "      <td>New Orleans</td>\n",
       "      <td>US</td>\n",
       "      <td>29.949125</td>\n",
       "      <td>-90.069748</td>\n",
       "      <td>The Whitney Hotel</td>\n",
       "      <td>70130</td>\n",
       "      <td>LA</td>\n",
       "      <td>3</td>\n",
       "      <td>The water is very hot and there's no cold wate...</td>\n",
       "      <td>Very hot water, bad food</td>\n",
       "      <td>https://www.tripadvisor.com/Hotel_Review-g6086...</td>\n",
       "      <td>New Orleans, LA</td>\n",
       "      <td>[water, cold, water, awful, food, good, staff,...</td>\n",
       "    </tr>\n",
       "  </tbody>\n",
       "</table>\n",
       "</div>"
      ],
      "text/plain": [
       "                      id                address         city country  \\\n",
       "5   AVweLARAByjofQCxv5vX          167 W Main St    Lexington      US   \n",
       "6   AVweLARAByjofQCxv5vX          167 W Main St    Lexington      US   \n",
       "8   AVz6h4Sb3D1zeR_xDHsu    2240 Buena Vista Rd    Lexington      US   \n",
       "10  AVwcuo0eIN2L1WUfoPEk  1953 Nicholasville Rd    Lexington      US   \n",
       "13  AWV8VsCtRxPSIh2RyTvS         610 Poydras St  New Orleans      US   \n",
       "\n",
       "     latitude  longitude                                      name postalCode  \\\n",
       "5   38.047014 -84.497742                21c Museum Hotel Lexington      40507   \n",
       "6   38.047014 -84.497742                21c Museum Hotel Lexington      40507   \n",
       "8   38.042100 -84.427100  Microtel Inn Suites By Wyndham Lexington      40505   \n",
       "10  38.012430 -84.516350      Hampton Inn Lexington Medical Center      40503   \n",
       "13  29.949125 -90.069748                         The Whitney Hotel      70130   \n",
       "\n",
       "   province  reviews_rating  \\\n",
       "5        KY               4   \n",
       "6        KY               1   \n",
       "8        KY               5   \n",
       "10       KY               5   \n",
       "13       LA               3   \n",
       "\n",
       "                                         reviews_text  \\\n",
       "5   This is such a fun, lovely hotel. The attentio...   \n",
       "6   We recently stayed at this hotel on a trip to ...   \n",
       "8                                            MoreMore   \n",
       "10  This is a new Hampton Inn and is well decorate...   \n",
       "13  The water is very hot and there's no cold wate...   \n",
       "\n",
       "                         reviews_title  \\\n",
       "5                   Loved staying here   \n",
       "6   Does not live up to its reputation   \n",
       "8           Location Location Location   \n",
       "10                     Beautiful hotel   \n",
       "13            Very hot water, bad food   \n",
       "\n",
       "                                           sourceURLs   City_and_state  \\\n",
       "5   https://www.tripadvisor.com/Hotel_Review-g3958...    Lexington, KY   \n",
       "6   https://www.tripadvisor.com/Hotel_Review-g3958...    Lexington, KY   \n",
       "8   https://www.yellowbook.com/profile/microtel-in...    Lexington, KY   \n",
       "10  https://www.yellowpages.com/lexington-ky/mip/h...    Lexington, KY   \n",
       "13  https://www.tripadvisor.com/Hotel_Review-g6086...  New Orleans, LA   \n",
       "\n",
       "                                  reviews_text_tokens  \n",
       "5   [lovely, hotel, attention, detail, impressive,...  \n",
       "6   [recently, stay, hotel, trip, lexington, frien...  \n",
       "8                                          [moremore]  \n",
       "10  [hampton, decorate, color, scheme, give, feel,...  \n",
       "13  [water, cold, water, awful, food, good, staff,...  "
      ]
     },
     "execution_count": 14,
     "metadata": {},
     "output_type": "execute_result"
    }
   ],
   "source": [
    "from utils import preprocess_text\n",
    "cutoff[\"reviews_text_tokens\"] = cutoff[\"reviews_text\"].apply(lambda x: preprocess_text(x, min_word_length=4))\n",
    "cutoff.head()"
   ]
  },
  {
   "cell_type": "code",
   "execution_count": 51,
   "metadata": {},
   "outputs": [
    {
     "name": "stderr",
     "output_type": "stream",
     "text": [
      "C:\\ProgramData\\Anaconda3\\lib\\site-packages\\sklearn\\feature_extraction\\text.py:383: UserWarning: Your stop_words may be inconsistent with your preprocessing. Tokenizing the stop words generated tokens ['abov', 'afterward', 'alon', 'alreadi', 'alway', 'ani', 'anoth', 'anyon', 'anyth', 'anywher', 'becam', 'becaus', 'becom', 'befor', 'besid', 'cri', 'describ', 'dure', 'els', 'elsewher', 'empti', 'everi', 'everyon', 'everyth', 'everywher', 'fifti', 'forti', 'henc', 'hereaft', 'herebi', 'howev', 'hundr', 'inde', 'mani', 'meanwhil', 'moreov', 'nobodi', 'noon', 'noth', 'nowher', 'onc', 'onli', 'otherwis', 'ourselv', 'perhap', 'pleas', 'sever', 'sinc', 'sincer', 'sixti', 'someon', 'someth', 'sometim', 'somewher', 'themselv', 'thenc', 'thereaft', 'therebi', 'therefor', 'togeth', 'twelv', 'twenti', 'veri', 'whatev', 'whenc', 'whenev', 'wherea', 'whereaft', 'wherebi', 'wherev', 'whi', 'yourselv'] not in stop_words.\n",
      "  warnings.warn('Your stop_words may be inconsistent with '\n"
     ]
    },
    {
     "ename": "AttributeError",
     "evalue": "'list' object has no attribute 'lower'",
     "output_type": "error",
     "traceback": [
      "\u001b[1;31m---------------------------------------------------------------------------\u001b[0m",
      "\u001b[1;31mAttributeError\u001b[0m                            Traceback (most recent call last)",
      "\u001b[1;32m<ipython-input-51-6f1e3f8d0c67>\u001b[0m in \u001b[0;36m<module>\u001b[1;34m\u001b[0m\n\u001b[0;32m     13\u001b[0m \u001b[0mdesc\u001b[0m \u001b[1;33m=\u001b[0m \u001b[0mcutoff\u001b[0m\u001b[1;33m[\u001b[0m\u001b[1;34m\"reviews_text_tokens\"\u001b[0m\u001b[1;33m]\u001b[0m\u001b[1;33m.\u001b[0m\u001b[0mvalues\u001b[0m\u001b[1;33m\u001b[0m\u001b[1;33m\u001b[0m\u001b[0m\n\u001b[0;32m     14\u001b[0m \u001b[0mvectorizer\u001b[0m \u001b[1;33m=\u001b[0m \u001b[0mTfidfVectorizer\u001b[0m\u001b[1;33m(\u001b[0m\u001b[0mstop_words\u001b[0m \u001b[1;33m=\u001b[0m \u001b[0mstop_words\u001b[0m\u001b[1;33m,\u001b[0m \u001b[0mtokenizer\u001b[0m \u001b[1;33m=\u001b[0m \u001b[0mtokenize\u001b[0m\u001b[1;33m,\u001b[0m \u001b[0mmax_features\u001b[0m \u001b[1;33m=\u001b[0m \u001b[1;36m2000\u001b[0m\u001b[1;33m)\u001b[0m\u001b[1;33m\u001b[0m\u001b[1;33m\u001b[0m\u001b[0m\n\u001b[1;32m---> 15\u001b[1;33m \u001b[0mX\u001b[0m \u001b[1;33m=\u001b[0m \u001b[0mvectorizer\u001b[0m\u001b[1;33m.\u001b[0m\u001b[0mfit_transform\u001b[0m\u001b[1;33m(\u001b[0m\u001b[0mdesc\u001b[0m\u001b[1;33m)\u001b[0m\u001b[1;33m\u001b[0m\u001b[1;33m\u001b[0m\u001b[0m\n\u001b[0m",
      "\u001b[1;32mC:\\ProgramData\\Anaconda3\\lib\\site-packages\\sklearn\\feature_extraction\\text.py\u001b[0m in \u001b[0;36mfit_transform\u001b[1;34m(self, raw_documents, y)\u001b[0m\n\u001b[0;32m   1838\u001b[0m         \"\"\"\n\u001b[0;32m   1839\u001b[0m         \u001b[0mself\u001b[0m\u001b[1;33m.\u001b[0m\u001b[0m_check_params\u001b[0m\u001b[1;33m(\u001b[0m\u001b[1;33m)\u001b[0m\u001b[1;33m\u001b[0m\u001b[1;33m\u001b[0m\u001b[0m\n\u001b[1;32m-> 1840\u001b[1;33m         \u001b[0mX\u001b[0m \u001b[1;33m=\u001b[0m \u001b[0msuper\u001b[0m\u001b[1;33m(\u001b[0m\u001b[1;33m)\u001b[0m\u001b[1;33m.\u001b[0m\u001b[0mfit_transform\u001b[0m\u001b[1;33m(\u001b[0m\u001b[0mraw_documents\u001b[0m\u001b[1;33m)\u001b[0m\u001b[1;33m\u001b[0m\u001b[1;33m\u001b[0m\u001b[0m\n\u001b[0m\u001b[0;32m   1841\u001b[0m         \u001b[0mself\u001b[0m\u001b[1;33m.\u001b[0m\u001b[0m_tfidf\u001b[0m\u001b[1;33m.\u001b[0m\u001b[0mfit\u001b[0m\u001b[1;33m(\u001b[0m\u001b[0mX\u001b[0m\u001b[1;33m)\u001b[0m\u001b[1;33m\u001b[0m\u001b[1;33m\u001b[0m\u001b[0m\n\u001b[0;32m   1842\u001b[0m         \u001b[1;31m# X is already a transformed view of raw_documents so\u001b[0m\u001b[1;33m\u001b[0m\u001b[1;33m\u001b[0m\u001b[1;33m\u001b[0m\u001b[0m\n",
      "\u001b[1;32mC:\\ProgramData\\Anaconda3\\lib\\site-packages\\sklearn\\feature_extraction\\text.py\u001b[0m in \u001b[0;36mfit_transform\u001b[1;34m(self, raw_documents, y)\u001b[0m\n\u001b[0;32m   1196\u001b[0m         \u001b[0mmax_features\u001b[0m \u001b[1;33m=\u001b[0m \u001b[0mself\u001b[0m\u001b[1;33m.\u001b[0m\u001b[0mmax_features\u001b[0m\u001b[1;33m\u001b[0m\u001b[1;33m\u001b[0m\u001b[0m\n\u001b[0;32m   1197\u001b[0m \u001b[1;33m\u001b[0m\u001b[0m\n\u001b[1;32m-> 1198\u001b[1;33m         vocabulary, X = self._count_vocab(raw_documents,\n\u001b[0m\u001b[0;32m   1199\u001b[0m                                           self.fixed_vocabulary_)\n\u001b[0;32m   1200\u001b[0m \u001b[1;33m\u001b[0m\u001b[0m\n",
      "\u001b[1;32mC:\\ProgramData\\Anaconda3\\lib\\site-packages\\sklearn\\feature_extraction\\text.py\u001b[0m in \u001b[0;36m_count_vocab\u001b[1;34m(self, raw_documents, fixed_vocab)\u001b[0m\n\u001b[0;32m   1108\u001b[0m         \u001b[1;32mfor\u001b[0m \u001b[0mdoc\u001b[0m \u001b[1;32min\u001b[0m \u001b[0mraw_documents\u001b[0m\u001b[1;33m:\u001b[0m\u001b[1;33m\u001b[0m\u001b[1;33m\u001b[0m\u001b[0m\n\u001b[0;32m   1109\u001b[0m             \u001b[0mfeature_counter\u001b[0m \u001b[1;33m=\u001b[0m \u001b[1;33m{\u001b[0m\u001b[1;33m}\u001b[0m\u001b[1;33m\u001b[0m\u001b[1;33m\u001b[0m\u001b[0m\n\u001b[1;32m-> 1110\u001b[1;33m             \u001b[1;32mfor\u001b[0m \u001b[0mfeature\u001b[0m \u001b[1;32min\u001b[0m \u001b[0manalyze\u001b[0m\u001b[1;33m(\u001b[0m\u001b[0mdoc\u001b[0m\u001b[1;33m)\u001b[0m\u001b[1;33m:\u001b[0m\u001b[1;33m\u001b[0m\u001b[1;33m\u001b[0m\u001b[0m\n\u001b[0m\u001b[0;32m   1111\u001b[0m                 \u001b[1;32mtry\u001b[0m\u001b[1;33m:\u001b[0m\u001b[1;33m\u001b[0m\u001b[1;33m\u001b[0m\u001b[0m\n\u001b[0;32m   1112\u001b[0m                     \u001b[0mfeature_idx\u001b[0m \u001b[1;33m=\u001b[0m \u001b[0mvocabulary\u001b[0m\u001b[1;33m[\u001b[0m\u001b[0mfeature\u001b[0m\u001b[1;33m]\u001b[0m\u001b[1;33m\u001b[0m\u001b[1;33m\u001b[0m\u001b[0m\n",
      "\u001b[1;32mC:\\ProgramData\\Anaconda3\\lib\\site-packages\\sklearn\\feature_extraction\\text.py\u001b[0m in \u001b[0;36m_analyze\u001b[1;34m(doc, analyzer, tokenizer, ngrams, preprocessor, decoder, stop_words)\u001b[0m\n\u001b[0;32m    102\u001b[0m     \u001b[1;32melse\u001b[0m\u001b[1;33m:\u001b[0m\u001b[1;33m\u001b[0m\u001b[1;33m\u001b[0m\u001b[0m\n\u001b[0;32m    103\u001b[0m         \u001b[1;32mif\u001b[0m \u001b[0mpreprocessor\u001b[0m \u001b[1;32mis\u001b[0m \u001b[1;32mnot\u001b[0m \u001b[1;32mNone\u001b[0m\u001b[1;33m:\u001b[0m\u001b[1;33m\u001b[0m\u001b[1;33m\u001b[0m\u001b[0m\n\u001b[1;32m--> 104\u001b[1;33m             \u001b[0mdoc\u001b[0m \u001b[1;33m=\u001b[0m \u001b[0mpreprocessor\u001b[0m\u001b[1;33m(\u001b[0m\u001b[0mdoc\u001b[0m\u001b[1;33m)\u001b[0m\u001b[1;33m\u001b[0m\u001b[1;33m\u001b[0m\u001b[0m\n\u001b[0m\u001b[0;32m    105\u001b[0m         \u001b[1;32mif\u001b[0m \u001b[0mtokenizer\u001b[0m \u001b[1;32mis\u001b[0m \u001b[1;32mnot\u001b[0m \u001b[1;32mNone\u001b[0m\u001b[1;33m:\u001b[0m\u001b[1;33m\u001b[0m\u001b[1;33m\u001b[0m\u001b[0m\n\u001b[0;32m    106\u001b[0m             \u001b[0mdoc\u001b[0m \u001b[1;33m=\u001b[0m \u001b[0mtokenizer\u001b[0m\u001b[1;33m(\u001b[0m\u001b[0mdoc\u001b[0m\u001b[1;33m)\u001b[0m\u001b[1;33m\u001b[0m\u001b[1;33m\u001b[0m\u001b[0m\n",
      "\u001b[1;32mC:\\ProgramData\\Anaconda3\\lib\\site-packages\\sklearn\\feature_extraction\\text.py\u001b[0m in \u001b[0;36m_preprocess\u001b[1;34m(doc, accent_function, lower)\u001b[0m\n\u001b[0;32m     67\u001b[0m     \"\"\"\n\u001b[0;32m     68\u001b[0m     \u001b[1;32mif\u001b[0m \u001b[0mlower\u001b[0m\u001b[1;33m:\u001b[0m\u001b[1;33m\u001b[0m\u001b[1;33m\u001b[0m\u001b[0m\n\u001b[1;32m---> 69\u001b[1;33m         \u001b[0mdoc\u001b[0m \u001b[1;33m=\u001b[0m \u001b[0mdoc\u001b[0m\u001b[1;33m.\u001b[0m\u001b[0mlower\u001b[0m\u001b[1;33m(\u001b[0m\u001b[1;33m)\u001b[0m\u001b[1;33m\u001b[0m\u001b[1;33m\u001b[0m\u001b[0m\n\u001b[0m\u001b[0;32m     70\u001b[0m     \u001b[1;32mif\u001b[0m \u001b[0maccent_function\u001b[0m \u001b[1;32mis\u001b[0m \u001b[1;32mnot\u001b[0m \u001b[1;32mNone\u001b[0m\u001b[1;33m:\u001b[0m\u001b[1;33m\u001b[0m\u001b[1;33m\u001b[0m\u001b[0m\n\u001b[0;32m     71\u001b[0m         \u001b[0mdoc\u001b[0m \u001b[1;33m=\u001b[0m \u001b[0maccent_function\u001b[0m\u001b[1;33m(\u001b[0m\u001b[0mdoc\u001b[0m\u001b[1;33m)\u001b[0m\u001b[1;33m\u001b[0m\u001b[1;33m\u001b[0m\u001b[0m\n",
      "\u001b[1;31mAttributeError\u001b[0m: 'list' object has no attribute 'lower'"
     ]
    }
   ],
   "source": [
    "import string\n",
    "string.punctuation\n",
    "punc = ['.', ',', '\"', \"'\", '?', '!', ':', ';', '(', ')', '[', ']', '{', '}',\"%\"]\n",
    "# punc = string.punctuation\n",
    "stop_words = text.ENGLISH_STOP_WORDS.union(punc)\n",
    "stemmer = SnowballStemmer('english')\n",
    "tokenizer = RegexpTokenizer(r'[a-zA-Z\\']+')\n",
    "\n",
    "def tokenize(text):\n",
    "    return [stemmer.stem(word) for word in tokenizer.tokenize(text.lower())]\n",
    "\n",
    "desc = cutoff[\"reviews_text\"].values\n",
    "vectorizer = TfidfVectorizer(stop_words = stop_words, tokenizer = tokenize, max_features = 2000)\n",
    "X = vectorizer.fit_transform(desc)"
   ]
  },
  {
   "cell_type": "code",
   "execution_count": 46,
   "metadata": {},
   "outputs": [
    {
     "data": {
      "text/plain": [
       "2000"
      ]
     },
     "execution_count": 46,
     "metadata": {},
     "output_type": "execute_result"
    }
   ],
   "source": [
    "word_features = vectorizer.get_feature_names()\n",
    "len(word_features)"
   ]
  },
  {
   "cell_type": "code",
   "execution_count": 47,
   "metadata": {},
   "outputs": [
    {
     "name": "stdout",
     "output_type": "stream",
     "text": [
      "[\"'s\", 'aaa', 'abl', 'abov', 'abri', 'absolut', 'ac', 'accept', 'access', 'accommod', 'accomod', 'accomplish', 'accord', 'account', 'acknowledg', 'act', 'action', 'activ', 'actual', 'ad', 'add', 'addit', 'address', 'adequ', 'adjac', 'adjoin', 'adjust', 'admit', 'ador', 'adult', 'advanc', 'advantag', 'adventur', 'advertis', 'advic', 'advis', 'advisor', 'affect', 'afford', 'afternoon', 'age', 'agent', 'ago', 'agre', 'ahead', 'aim', 'air', 'airlin', 'airport', 'alarm', 'alcohol', 'alex', 'allegro', 'allow', 'aloft', 'aloha', 'alon', 'alot', 'alreadi', 'altern', 'alway', 'alyssa', 'amaz', 'amber', 'ambianc', 'ambienc', 'amen', 'america', 'american', 'ami', 'ampl', 'anaheim', 'angel', 'ani', 'anim', 'annex', 'anniversari', 'annoy', 'annual', 'anoth', 'answer', 'anthoni', 'anticip', 'antonio', 'anyon', 'anyth', 'anytim', 'anywher', 'apart', 'apolog', 'appar', 'appear', 'appet', 'appl', 'appoint', 'appreci', 'approach', 'appropri', 'april', 'aquarium', 'architectur', 'area', \"aren't\", 'arrang', 'arriv', 'art', 'asid', 'ask', 'aspect', 'asset', 'assign', 'assist', 'associ', 'assum', 'assur', 'ate', 'atlanta', 'atmospher', 'attach', 'attempt', 'attend', 'attent', 'attitud', 'attract', 'august', 'avail', 'ave', 'avenu', 'averag', 'avoid', 'aw', 'awar', 'away', 'awesom', 'awkward', 'b', 'babi', 'bacon', 'bad', 'bag', 'bagel', 'bake', 'balconi', 'ball', 'bang', 'bank', 'bar', 'bare', 'bargain', 'bart', 'bartend', 'base', 'basi', 'basic', 'bath', 'bathroom', 'bathtub', 'bay', 'baysid', 'beach', 'beat', 'beauti', 'becaus', 'becom', 'bed', 'bedroom', 'beer', 'befor', 'began', 'begin', 'behalf', 'believ', 'bell', 'bellman', 'benefit', 'bernardo', 'bertschguest', 'besid', 'best', 'better', 'beverag', 'bienvill', 'big', 'bigger', 'biggest', 'bike', 'birthday', 'biscuit', 'bistro', 'bit', 'bite', 'black', 'blake', 'blancogener', 'blanket', 'blind', 'block', 'blue', 'board', 'boardwalk', 'boat', 'bodi', 'boil', 'bonus', 'book', 'boston', 'bother', 'bottl', 'bought', 'bourbon', 'boutiqu', 'bowl', 'box', 'boy', 'boyfriend', 'brand', 'brave', 'bread', 'break', 'breakfast', 'breez', 'breweri', 'brick', 'brickel', 'bridg', 'bright', 'brilliant', 'bring', 'broken', 'brought', 'brown', 'brunch', 'buck', 'buckhead', 'budget', 'buffet', 'bug', 'build', 'built', 'bunch', 'bunk', 'burger', 'bus', 'buse', 'busi', 'bustl', 'button', 'buy', 'bw', 'c', 'ca', 'cab', 'cabl', 'cabrillo', 'caf', 'cafe', 'california', 'callaisgener', 'calm', 'came', 'campus', \"can't\", 'canal', 'cancel', 'candid', 'car', 'card', 'care', 'carlton', 'carpet', 'carri', 'cart', 'case', 'casey', 'cash', 'casino', 'casual', 'cat', 'catch', 'cater', 'caught', 'caus', 'ceil', 'celebr', 'cell', 'center', 'centr', 'central', 'centric', 'cereal', 'certain', 'chain', 'chair', 'challeng', 'chamber', 'champagn', 'chanc', 'chang', 'channel', 'charact', 'charg', 'charl', 'charm', 'chat', 'cheap', 'cheaper', 'cheapest', 'check', 'checkin', 'checkout', 'cheer', 'chees', 'chef', 'chelsea', 'chic', 'chicago', 'chicken', 'child', 'children', 'china', 'chinatown', 'chip', 'chocol', 'choic', 'choos', 'chose', 'chris', 'christma', 'circl', 'citi', 'claim', 'class', 'classi', 'classic', 'clean', 'cleaner', 'cleanli', 'clear', 'clerk', 'clock', 'close', 'closer', 'closest', 'closet', 'cloth', 'club', 'coast', 'cockroach', 'cocktail', 'coffe', 'cold', 'colleagu', 'colleg', 'color', 'com', 'combin', 'come', 'comfi', 'comfort', 'commend', 'comment', 'commit', 'common', 'communic', 'communiti', 'compact', 'compani', 'compar', 'comparison', 'compens', 'competit', 'complain', 'complaint', 'complementari', 'complet', 'complex', 'compliment', 'complimentari', 'comput', 'concern', 'concert', 'concierg', 'condit', 'condition', 'condo', 'confer', 'confid', 'confirm', 'confus', 'congratul', 'connect', 'conrad', 'consid', 'consider', 'consist', 'constant', 'construct', 'contact', 'contain', 'contemporari', 'continent', 'continu', 'control', 'conveni', 'convent', 'convers', 'cook', 'cooki', 'cool', 'corner', 'corpor', 'correct', 'corridor', 'cost', 'couch', \"couldn't\", 'count', 'counter', 'countri', 'coupl', 'coupon', 'cours', 'court', 'courteous', 'courtesi', 'courtyard', 'cover', 'cozi', 'crack', 'cramp', 'crazi', 'cream', 'creat', 'credit', 'crew', 'crib', 'critic', 'croissant', 'cross', 'crowd', 'cruis', 'cuisin', 'cultur', 'cup', 'current', 'curtain', 'custom', 'cut', 'cute', 'd', 'daili', 'dalla', 'damag', 'dark', 'date', 'daughter', 'david', 'day', 'dcor', 'dead', 'deal', 'dealt', 'dear', 'decatur', 'decemb', 'decent', 'decid', 'decis', 'deck', 'deco', 'decor', 'dedic', 'deep', 'deepli', 'defin', 'definit', 'degre', 'del', 'delay', 'delici', 'delight', 'deliv', 'delux', 'denni', 'depart', 'departur', 'depend', 'deposit', 'describ', 'descript', 'deserv', 'design', 'desir', 'desk', 'despit', 'destin', 'devic', 'diamond', 'did', \"didn't\", 'didnt', 'die', 'diego', 'differ', 'difficult', 'difficulti', 'dilig', 'dine', 'diner', 'dinner', 'direct', 'director', 'dirti', 'disappoint', 'discount', 'discov', 'discuss', 'disgust', 'dish', 'dishwash', 'disney', 'disneyland', 'distanc', 'district', 'disturb', 'diva', 'doe', \"doesn't\", 'dog', 'dollar', \"don't\", 'dont', 'donut', 'door', 'doubl', 'doubt', 'downsid', 'downstair', 'downtown', 'dragnagener', 'drain', 'drawback', 'drawer', 'dresser', 'dri', 'drink', 'drive', 'driver', 'drop', 'drove', 'drug', 'druri', 'dryer', 'dump', 'dure', 'dust', 'duti', 'duval', 'e', 'eager', 'ear', 'earli', 'earlier', 'earn', 'earplug', 'eas', 'easi', 'easier', 'easili', 'east', 'eat', 'eateri', 'ecstat', 'edg', 'effect', 'effici', 'effort', 'egg', 'el', 'electr', 'eleg', 'element', 'elev', 'elit', 'els', 'elsewher', 'email', 'emerg', 'emma', 'employe', 'empti', 'en', 'encount', 'encourag', 'end', 'energi', 'engag', 'engin', 'english', 'enhanc', 'enjoy', 'ensur', 'enter', 'entertain', 'entir', 'entranc', 'entri', 'environ', 'equal', 'equip', 'eric', 'error', 'es', 'especi', 'essenti', 'establish', 'estancia', 'eve', 'event', 'eventu', 'everi', 'everyday', 'everyon', 'everyth', 'everywher', 'evid', 'exact', 'exampl', 'exceed', 'excel', 'excit', 'excus', 'execut', 'exercis', 'exhaust', 'exist', 'exit', 'expect', 'expedia', 'expens', 'experi', 'experienc', 'explain', 'explor', 'express', 'ext', 'extend', 'extens', 'exterior', 'extra', 'extrem', 'eye', 'f', 'fabul', 'face', 'facil', 'fact', 'factor', 'fail', 'fair', 'fairfield', 'fall', 'famili', 'familiar', 'famous', 'fan', 'fanci', 'fantast', 'far', 'fare', 'fashion', 'fast', 'fault', 'favor', 'favorit', 'featur', 'februari', 'fee', 'feedback', 'feel', 'feet', 'fell', 'felt', 'ferri', 'festiv', 'fi', 'field', 'figur', 'filthi', 'final', 'financi', 'fine', 'finish', 'fireplac', 'firework', 'firm', 'fish', 'fisherman', 'fit', 'fix', 'fixtur', 'flat', 'fli', 'flight', 'floor', 'florida', 'flow', 'flower', 'flush', 'focus', 'fold', 'folk', 'follow', 'food', 'foot', 'forev', 'forget', 'forgot', 'form', 'fortun', 'forward', 'fountain', 'fourth', 'frame', 'fran', 'francisco', 'frank', 'free', 'freeway', 'french', 'frequent', 'fresh', 'friday', 'fridg', 'friend', 'friendli', 'frig', 'frill', 'fruit', 'frustrat', 'fulli', 'fun', 'function', 'funki', 'funni', 'furnish', 'furnitur', 'futur', 'g', 'ga', 'galleria', 'game', 'garag', 'garbag', 'garden', 'gas', 'gaslamp', 'gate', 'gather', 'gave', 'gem', 'general', 'generous', 'gentleman', 'genuin', 'georg', 'georgia', 'getaway', 'gift', 'girl', 'girlfriend', 'given', 'glad', 'glass', 'gm', 'goal', 'goe', 'gold', 'goldwassergener', 'gone', 'good', 'gorgeous', 'got', 'grab', 'gracious', 'grand', 'gras', 'grate', 'gravi', 'great', 'green', 'greet', 'grill', 'groceri', 'gross', 'ground', 'group', 'guarante', 'guard', 'guess', 'guest', 'guestroom', 'guy', 'gym', 'h', 'hacienda', \"hadn't\", 'hair', 'half', 'hall', 'hallway', 'hampton', 'hand', 'handi', 'handicap', 'handl', 'hang', 'hanger', 'happen', 'happi', 'happier', 'harbor', 'harbour', 'hard', 'hassl', 'hate', 'hawaii', 'hawthorn', 'head', 'healthi', 'hear', 'heard', 'heart', 'heat', 'heater', 'heaven', 'heavi', 'held', 'hello', 'help', 'hesit', 'hey', 'hi', 'hidden', 'high', 'higher', 'highest', 'highlight', 'highway', 'hill', 'hilton', 'hip', 'hire', 'histor', 'histori', 'hit', 'hold', 'hole', 'holiday', 'home', 'homeless', 'homewood', 'honest', 'honeymoon', 'honolulu', 'honor', 'hop', 'hope', 'horribl', 'hospit', 'host', 'hostel', 'hot', 'hotel', 'hou', 'hour', 'hous', 'housekeep', 'howev', 'huge', 'hui', 'humid', 'humphreygener', 'hung', 'husband', 'hyatt', \"i'd\", \"i'll\", \"i'm\", \"i'v\", 'ice', 'id', 'idea', 'ideal', 'ihop', 'ill', 'im', 'imagin', 'immacul', 'immedi', 'impact', 'impecc', 'implement', 'import', 'imposs', 'impress', 'improv', 'incid', 'includ', 'inconveni', 'incred', 'inde', 'indic', 'individu', 'indoor', 'industri', 'inexpens', 'inform', 'initi', 'inn', 'inquir', 'insid', 'inspect', 'instal', 'instead', 'intend', 'interact', 'interior', 'intern', 'internet', 'interst', 'investig', 'invit', 'iron', 'island', \"isn't\", 'issu', 'itali', 'italian', 'item', 'j', 'jackson', 'jacuzzi', 'jam', 'jame', 'januari', 'jazz', 'jennif', 'job', 'joe', 'john', 'join', 'joke', 'jolla', 'jonathan', 'joy', 'juic', 'juli', 'jump', 'june', 'jung', 'just', 'jw', 'k', 'kept', 'key', 'kickback', 'kid', 'kimpton', 'kind', 'kinda', 'kindest', 'king', 'kitchen', 'kitchenett', 'knew', 'knock', 'know', 'knowledg', 'known', 'kudo', 'l', 'la', 'lack', 'ladi', 'laid', 'lake', 'lamp', 'lamplight', 'land', 'landscap', 'laptop', 'larg', 'larger', 'late', 'later', 'laundri', 'laura', 'lay', 'layout', 'lead', 'leak', 'learn', 'leav', 'left', 'leg', 'leidi', 'leisur', 'lenox', 'let', 'level', 'librari', 'lie', 'life', 'lift', 'light', 'like', 'limit', 'line', 'linen', 'link', 'list', 'listen', 'lit', 'liter', 'littl', 'live', 'load', 'lobbi', 'local', 'locat', 'lock', 'lodg', 'long', 'longer', 'look', 'loop', 'lopezhotel', 'lost', 'lot', 'loud', 'loung', 'love', 'low', 'lower', 'loyal', 'loyalti', 'lpradohotelpro', 'luana', 'luck', 'lucki', 'luckili', 'luggag', 'lunch', 'luxuri', 'm', 'machin', 'magic', 'magnific', 'mahalo', 'maid', 'mail', 'main', 'maintain', 'mainten', 'major', 'make', 'maker', 'mall', 'man', 'manag', 'managerhilton', 'mandarin', 'mani', 'manner', 'map', 'mar', 'marathon', 'marbl', 'march', 'mardi', 'mari', 'mark', 'market', 'marriott', 'marta', 'mason', 'massag', 'massiv', 'match', 'matter', 'mattress', 'maui', 'mayb', 'meal', 'mean', 'meant', 'measur', 'meat', 'medic', 'meet', 'member', 'memor', 'memori', 'men', 'mention', 'menu', 'mess', 'messag', 'met', 'metro', 'mexican', 'miami', 'michael', 'michell', 'michigan', 'microwav', 'mid', 'middl', 'midnight', 'midtown', 'midway', 'mike', 'mile', 'milk', 'min', 'mind', 'mini', 'minim', 'minor', 'minut', 'miramar', 'mirror', 'miss', 'mission', 'mistak', 'mix', 'modern', 'mold', 'moldi', 'mom', 'moment', 'monday', 'money', 'monorail', 'month', 'morealoha', 'moredear', 'morehi', 'morethank', 'morn', 'motel', 'mother', 'motor', 'movi', 'mr', 'ms', 'muffin', 'multipl', 'muni', 'museum', 'music', 'musti', 'n', 'nanea', 'napa', 'nasti', 'nation', 'natur', 'nd', 'near', 'nearbi', 'neat', 'necessari', 'need', 'needl', 'needless', 'negat', 'neighbor', 'neighborhood', 'nervous', 'new', 'newer', 'newli', 'news', 'nice', 'nicer', 'nicest', 'night', 'nightmar', 'nois', 'noisi', 'nola', 'non', 'normal', 'north', 'notch', 'note', 'noth', 'notic', 'notifi', 'novemb', 'number', 'numer', 'ny', 'nyc', 'o', 'oasi', 'oatmeal', 'obvious', 'occas', 'occasion', 'occur', 'ocean', 'octob', 'odd', 'odor', 'offer', 'offic', 'oh', 'ok', 'okay', 'old', 'older', 'omelet', 'omelett', 'onc', 'onli', 'onlin', 'onsit', 'open', 'oper', 'opinion', 'opportun', 'opposit', 'opt', 'option', 'orang', 'orchard', 'orchid', 'order', 'organ', 'orient', 'origin', 'orlando', 'orlean', 'otherwis', 'ourselv', 'outdat', 'outdoor', 'outlet', 'outsid', 'outstand', 'overal', 'overlook', 'overnight', 'overpr', 'owner', 'p', 'pacif', 'pack', 'packag', 'paid', 'pain', 'paint', 'palm', 'pancak', 'pantai', 'paper', 'par', 'parad', 'parent', 'park', 'parti', 'partial', 'particular', 'partner', 'pass', 'past', 'pastri', 'path', 'patio', 'patrick', 'paulett', 'pay', 'peac', 'peak', 'pearl', 'peopl', 'perfect', 'perform', 'perhap', 'perimet', 'period', 'perk', 'permit', 'person', 'personnel', 'pet', 'petco', 'phenomen', 'philadelphia', 'philli', 'phoenix', 'phone', 'photo', 'pick', 'picki', 'pictur', 'piec', 'pier', 'pike', 'pillow', 'pit', 'pizza', 'place', 'plain', 'plan', 'plane', 'plant', 'plastic', 'plate', 'platinum', 'play', 'plaza', 'pleas', 'pleasant', 'pleasur', 'plenti', 'plug', 'plus', 'pm', 'point', 'polic', 'polici', 'polit', 'pool', 'poolsid', 'poor', 'pop', 'popcorn', 'popular', 'port', 'portion', 'posit', 'possibl', 'post', 'pot', 'potato', 'potenti', 'powel', 'power', 'practic', 'pradofront', 'prais', 'pre', 'prefer', 'premium', 'prepar', 'present', 'pressur', 'pretti', 'prevent', 'previous', 'price', 'pricelin', 'pricey', 'pride', 'prime', 'print', 'printer', 'prior', 'prioriti', 'privaci', 'privat', 'pro', 'probabl', 'problem', 'procedur', 'process', 'product', 'profession', 'program', 'promis', 'prompt', 'proof', 'proper', 'properti', 'pros', 'proud', 'prove', 'provid', 'proxim', 'public', 'pull', 'purchas', 'purpos', 'quaint', 'qualiti', 'quarter', 'que', 'queen', 'question', 'quick', 'quiet', 'quieter', 'quit', 'r', 'rail', 'rain', 'rais', 'ramada', 'ran', 'rancho', 'random', 'rang', 'rare', 'rate', 'rd', 'reach', 'read', 'readi', 'real', 'realiz', 'realli', 'reason', 'receipt', 'receiv', 'recent', 'recept', 'receptionist', 'recogn', 'recommend', 'record', 'red', 'refer', 'refil', 'reflect', 'refresh', 'refriger', 'refund', 'refurbish', 'refus', 'regard', 'regi', 'regret', 'regular', 'relat', 'relax', 'remain', 'remark', 'rememb', 'remind', 'remodel', 'remot', 'remov', 'renaiss', 'renov', 'rent', 'rental', 'repair', 'repeat', 'replac', 'report', 'repres', 'reput', 'request', 'requir', 'research', 'reserv', 'resid', 'resolv', 'resort', 'respect', 'respond', 'respons', 'rest', 'restaur', 'result', 'retro', 'return', 'review', 'reward', 'ride', 'ridicul', 'right', 'ritz', 'river', 'riverwalk', 'roach', 'road', 'robe', 'robert', 'rock', 'roll', 'romant', 'roof', 'rooftop', 'room', 'roomi', 'rough', 'round', 'rout', 'row', 'royal', 'rude', 'run', 'rush', 'ryan', 's', 'sad', 'safe', 'safeti', 'said', 'salad', 'sale', 'sammi', 'san', 'sandwich', 'sarah', 'sat', 'satisfact', 'satisfactori', 'satisfi', 'saturday', 'sauna', 'sausag', 'save', 'saw', 'say', 'scene', 'schedul', 'school', 'score', 'scrambl', 'scream', 'screen', 'sd', 'sea', 'seal', 'search', 'season', 'seat', 'seattl', 'seaworld', 'seclud', 'second', 'section', 'secur', 'seen', 'select', 'self', 'sell', 'send', 'sens', 'sent', 'separ', 'serv', 'server', 'servic', 'set', 'settl', 'setup', 'seven', 'sever', 'sf', 'shade', 'shame', 'shampoo', 'shape', 'share', 'sheet', 'sheraton', 'shift', 'ship', 'shock', 'shoe', 'shop', 'short', 'shout', 'shower', 'shut', 'shuttl', 'sight', 'sightse', 'sign', 'signatur', 'similar', 'simpl', 'simpli', 'sinc', 'sincer', 'singl', 'sink', 'siren', 'sister', 'sit', 'site', 'situat', 'size', 'skip', 'slam', 'sleep', 'sleeper', 'slept', 'slide', 'slight', 'slow', 'small', 'smaller', 'smell', 'smelli', 'smile', 'smoke', 'smooth', 'snack', 'soak', 'soap', 'social', 'soda', 'sofa', 'soft', 'sol', 'solamar', 'sold', 'solid', 'someon', 'someth', 'sometim', 'somewhat', 'somewher', 'son', 'sonesta', 'soon', 'sorrento', 'sorri', 'sort', 'sound', 'south', 'southern', 'spa', 'space', 'spacious', 'speak', 'special', 'specif', 'spectacular', 'speed', 'spend', 'spent', 'spg', 'spoke', 'sport', 'spot', 'spotless', 'spray', 'spread', 'spring', 'springhil', 'squar', 'st', 'stadium', 'staf', 'staff', 'stain', 'stair', 'stand', 'standard', 'star', 'starbuck', 'start', 'state', 'statement', 'station', 'status', 'stay', 'steak', 'steep', 'step', 'stock', 'stone', 'stop', 'storag', 'store', 'stori', 'stove', 'straight', 'strang', 'street', 'streetcar', 'stress', 'strip', 'strive', 'stroll', 'strong', 'stuck', 'student', 'studio', 'stuff', 'stun', 'style', 'stylish', 'subway', 'success', 'suggest', 'suit', 'suitabl', 'suitcas', 'summer', 'sun', 'sunday', 'sunni', 'sunset', 'super', 'superb', 'superior', 'supper', 'suppli', 'support', 'suppos', 'sure', 'surpris', 'surround', 'survey', 'sweet', 'swim', 'switch', 't', 'tabl', 'taco', 'taken', 'talk', 'tap', 'tast', 'tasti', 'tax', 'taxi', 'tea', 'team', 'tech', 'teenag', 'televis', 'tell', 'temp', 'temperatur', 'tend', 'term', 'termin', 'terrac', 'terribl', 'terrif', 'texa', 'th', 'thank', 'thanksgiv', 'theater', 'theatr', 'theme', 'themselv', 'therefor', 'thermostat', \"they'r\", 'thing', 'think', 'thorough', 'thought', 'thrill', 'throw', 'thursday', 'ticket', 'tidi', 'tight', 'tile', 'till', 'time', 'tini', 'tip', 'tire', 'toast', 'toaster', 'tod', 'today', 'togeth', 'toilet', 'toiletri', 'told', 'ton', 'took', 'total', 'touch', 'tour', 'tourist', 'touristi', 'towel', 'tower', 'town', 'track', 'tradit', 'traffic', 'train', 'tram', 'transfer', 'transit', 'transport', 'trash', 'travel', 'treadmil', 'treat', 'tree', 'tremeil', 'tremend', 'trendi', 'tri', 'trip', 'tripadvisor', 'trolley', 'troubl', 'truck', 'true', 'truli', 'trust', 'tub', 'tuesday', 'turn', 'tv', 'tvs', 'twice', 'twin', 'type', 'typic', 'u', 'uber', 'uk', 'umbrella', 'unabl', 'unaccept', 'unbeliev', 'uncomfort', 'undergo', 'underground', 'understand', 'unfortun', 'unhappi', 'union', 'uniqu', 'unit', 'univers', 'unless', 'unlik', 'unpleas', 'unsaf', 'unusu', 'updat', 'upgrad', 'upper', 'upscal', 'upset', 'upstair', 'urban', 'usa', 'usd', 'use', 'usual', 'utensil', 'util', 'v', 'vacat', 'vacuum', 'valet', 'valley', 'valu', 'valuabl', 'van', 'vaniti', 'vari', 'varieti', 'various', 'vehicl', 'vend', 'venu', 'veri', 'vertigo', 'vibe', 'vibrant', 'view', 'villa', 'villag', 'vintag', 'virgil', 'visit', 'visitor', 'voucher', 'w', 'waffl', 'waikiki', 'wait', 'wake', 'walgreen', 'walk', 'walkabl', 'walkway', 'wall', 'want', 'warm', 'warmest', 'warn', 'wash', 'washer', \"wasn't\", 'wasnt', 'wast', 'watch', 'water', 'waterfront', 'wave', 'waver', 'way', \"we'd\", \"we'll\", \"we'r\", \"we'v\", 'weak', 'wear', 'weather', 'web', 'websit', 'wed', 'wednesday', 'week', 'weekend', 'weight', 'weird', 'welcom', 'went', \"weren't\", 'west', 'western', 'westin', 'wet', 'wharf', 'whatev', 'whenev', 'whi', 'whilst', 'white', 'whitney', 'wi', 'wide', 'wife', 'wifi', 'willi', 'window', 'wine', 'wing', 'wingat', 'winter', 'wireless', 'wise', 'wish', 'woke', 'woken', 'woman', 'women', \"won't\", 'wonder', 'wood', 'word', 'work', 'worker', 'workout', 'world', 'worn', 'worri', 'wors', 'worst', 'worth', \"wouldn't\", 'wow', 'write', 'written', 'wrong', 'wyndham', 'x', 'y', 'yacht', 'yard', 'year', 'yell', 'yes', 'yogurt', 'york', \"you'd\", \"you'll\", \"you'r\", \"you'v\", 'young', 'yummi', 'zaza', 'zephyr', 'zoo']\n"
     ]
    }
   ],
   "source": [
    "print(word_features)"
   ]
  },
  {
   "cell_type": "code",
   "execution_count": 48,
   "metadata": {},
   "outputs": [
    {
     "data": {
      "text/plain": [
       "'!\"#$%&\\'()*+,-./:;<=>?@[\\\\]^_`{|}~'"
      ]
     },
     "execution_count": 48,
     "metadata": {},
     "output_type": "execute_result"
    }
   ],
   "source": [
    "string.punctuation"
   ]
  },
  {
   "cell_type": "code",
   "execution_count": null,
   "metadata": {},
   "outputs": [],
   "source": []
  }
 ],
 "metadata": {
  "kernelspec": {
   "display_name": "Python 3",
   "language": "python",
   "name": "python3"
  },
  "language_info": {
   "codemirror_mode": {
    "name": "ipython",
    "version": 3
   },
   "file_extension": ".py",
   "mimetype": "text/x-python",
   "name": "python",
   "nbconvert_exporter": "python",
   "pygments_lexer": "ipython3",
   "version": "3.8.3"
  }
 },
 "nbformat": 4,
 "nbformat_minor": 4
}
