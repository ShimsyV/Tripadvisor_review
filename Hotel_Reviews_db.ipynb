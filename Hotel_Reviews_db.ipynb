{
  "nbformat": 4,
  "nbformat_minor": 0,
  "metadata": {
    "colab": {
      "name": "Hotel_Reviews_db.ipynb",
      "provenance": []
    },
    "kernelspec": {
      "name": "python3",
      "display_name": "Python 3"
    }
  },
  "cells": [
    {
      "cell_type": "code",
      "metadata": {
        "colab": {
          "base_uri": "https://localhost:8080/"
        },
        "id": "OdDxBO0KkRCY",
        "outputId": "777b0d0a-f4df-4ec8-e880-c070559abbef"
      },
      "source": [
        "import os\r\n",
        "# Find the latest version of spark 3.0  from http://www-us.apache.org/dist/spark/ and enter as the spark version\r\n",
        "# For example:\r\n",
        "spark_version = 'spark-3.0.1'\r\n",
        "# spark_version = 'spark-3.<enter version>'\r\n",
        "os.environ['SPARK_VERSION']=spark_version\r\n",
        "\r\n",
        "# Install Spark and Java\r\n",
        "!apt-get update\r\n",
        "!apt-get install openjdk-11-jdk-headless -qq > /dev/null\r\n",
        "!wget -q http://www-us.apache.org/dist/spark/$SPARK_VERSION/$SPARK_VERSION-bin-hadoop2.7.tgz\r\n",
        "!tar xf $SPARK_VERSION-bin-hadoop2.7.tgz\r\n",
        "!pip install -q findspark\r\n",
        "\r\n",
        "# Set Environment Variables\r\n",
        "os.environ[\"JAVA_HOME\"] = \"/usr/lib/jvm/java-11-openjdk-amd64\"\r\n",
        "os.environ[\"SPARK_HOME\"] = f\"/content/{spark_version}-bin-hadoop2.7\"\r\n",
        "\r\n",
        "# Start a SparkSession\r\n",
        "import findspark\r\n",
        "findspark.init()"
      ],
      "execution_count": 1,
      "outputs": [
        {
          "output_type": "stream",
          "text": [
            "\r0% [Working]\r            \rIgn:1 https://developer.download.nvidia.com/compute/cuda/repos/ubuntu1804/x86_64  InRelease\n",
            "\r0% [Connecting to archive.ubuntu.com (91.189.88.142)] [Waiting for headers] [Co\r                                                                               \rHit:2 https://cloud.r-project.org/bin/linux/ubuntu bionic-cran40/ InRelease\n",
            "\r0% [Connecting to archive.ubuntu.com (91.189.88.142)] [Waiting for headers] [Wa\r0% [2 InRelease gpgv 3,626 B] [Connecting to archive.ubuntu.com (91.189.88.142)\r                                                                               \rHit:3 http://security.ubuntu.com/ubuntu bionic-security InRelease\n",
            "\r0% [2 InRelease gpgv 3,626 B] [Connecting to archive.ubuntu.com (91.189.88.142)\r                                                                               \rHit:4 http://ppa.launchpad.net/c2d4u.team/c2d4u4.0+/ubuntu bionic InRelease\n",
            "\r0% [2 InRelease gpgv 3,626 B] [Connecting to archive.ubuntu.com (91.189.88.142)\r                                                                               \rIgn:5 https://developer.download.nvidia.com/compute/machine-learning/repos/ubuntu1804/x86_64  InRelease\n",
            "\r0% [2 InRelease gpgv 3,626 B] [Waiting for headers] [Connecting to ppa.launchpa\r                                                                               \rHit:6 https://developer.download.nvidia.com/compute/cuda/repos/ubuntu1804/x86_64  Release\n",
            "\r0% [2 InRelease gpgv 3,626 B] [Waiting for headers] [Connecting to ppa.launchpa\r                                                                               \rHit:7 https://developer.download.nvidia.com/compute/machine-learning/repos/ubuntu1804/x86_64  Release\n",
            "Hit:8 http://archive.ubuntu.com/ubuntu bionic InRelease\n",
            "Hit:9 http://ppa.launchpad.net/cran/libgit2/ubuntu bionic InRelease\n",
            "Hit:10 http://archive.ubuntu.com/ubuntu bionic-updates InRelease\n",
            "Hit:11 http://archive.ubuntu.com/ubuntu bionic-backports InRelease\n",
            "Hit:12 http://ppa.launchpad.net/graphics-drivers/ppa/ubuntu bionic InRelease\n",
            "Reading package lists... Done\n"
          ],
          "name": "stdout"
        }
      ]
    },
    {
      "cell_type": "code",
      "metadata": {
        "colab": {
          "base_uri": "https://localhost:8080/"
        },
        "id": "ez-3Y8L46t8B",
        "outputId": "ab5d5557-53ef-42af-9e19-09499ba1ff8c"
      },
      "source": [
        "!wget https://jdbc.postgresql.org/download/postgresql-42.2.9.jar"
      ],
      "execution_count": 2,
      "outputs": [
        {
          "output_type": "stream",
          "text": [
            "--2021-01-22 02:27:54--  https://jdbc.postgresql.org/download/postgresql-42.2.9.jar\n",
            "Resolving jdbc.postgresql.org (jdbc.postgresql.org)... 72.32.157.228, 2001:4800:3e1:1::228\n",
            "Connecting to jdbc.postgresql.org (jdbc.postgresql.org)|72.32.157.228|:443... connected.\n",
            "HTTP request sent, awaiting response... 200 OK\n",
            "Length: 914037 (893K) [application/java-archive]\n",
            "Saving to: ‘postgresql-42.2.9.jar’\n",
            "\n",
            "postgresql-42.2.9.j 100%[===================>] 892.61K  --.-KB/s    in 0.1s    \n",
            "\n",
            "2021-01-22 02:27:55 (5.99 MB/s) - ‘postgresql-42.2.9.jar’ saved [914037/914037]\n",
            "\n"
          ],
          "name": "stdout"
        }
      ]
    },
    {
      "cell_type": "code",
      "metadata": {
        "id": "GGiwDU3D8pPh"
      },
      "source": [
        "from pyspark.sql import SparkSession\r\n",
        "spark = SparkSession.builder.appName(\"CloudETL\").config(\"spark.driver.extraClassPath\",\"/content/postgresql-42.2.9.jar\").getOrCreate()"
      ],
      "execution_count": 3,
      "outputs": []
    },
    {
      "cell_type": "code",
      "metadata": {
        "colab": {
          "base_uri": "https://localhost:8080/"
        },
        "id": "8eyJZgI2-zJc",
        "outputId": "e7e7f7af-5a2c-4dd8-89d6-e820a2510e5d"
      },
      "source": [
        "from pyspark import SparkFiles\r\n",
        "url=\"https://sj-db-data.s3.us-east-2.amazonaws.com/hotel_review_data_sql.csv\"\r\n",
        "spark.sparkContext.addFile(url)\r\n",
        "user_data_df=spark.read.csv(SparkFiles.get(\"hotel_review_data_sql.csv\"),sep=',',header=True,inferSchema=True)\r\n",
        "user_data_df.show()"
      ],
      "execution_count": 4,
      "outputs": [
        {
          "output_type": "stream",
          "text": [
            "+---+--------------------+--------------------+-----------------+-------+------------------+-------------------+--------------------+----------+--------+--------------+--------------------+\n",
            "| id|            hotel_id|             address|             city|country|          latitude|          longitude|                name|postalCode|province|reviews_rating|  reviews_sourceURLs|\n",
            "+---+--------------------+--------------------+-----------------+-------+------------------+-------------------+--------------------+----------+--------+--------------+--------------------+\n",
            "|  1|AWE2FvX5RxPSIh2RscTK|     5620 Calle Real|           Goleta|     US|          34.44178|         -119.81979|Best Western Plus...|     93117|      CA|             3|https://www.tripa...|\n",
            "|  2|AVwcj_OhkufWRAb5wi9T|5th And San Carlo...|Carmel by the Sea|     US|          36.55722|-121.92193999999999|Best Western Carm...|     93921|      CA|             4|https://www.tripa...|\n",
            "|  3|AVwcj_OhkufWRAb5wi9T|5th And San Carlo...|Carmel by the Sea|     US|          36.55722|-121.92193999999999|Best Western Carm...|     93921|      CA|             3|https://www.tripa...|\n",
            "|  4|AVwcj_OhkufWRAb5wi9T|5th And San Carlo...|Carmel by the Sea|     US|          36.55722|-121.92193999999999|Best Western Carm...|     93921|      CA|             5|https://www.tripa...|\n",
            "|  5|AVwcj_OhkufWRAb5wi9T|5th And San Carlo...|Carmel by the Sea|     US|          36.55722|-121.92193999999999|Best Western Carm...|     93921|      CA|             2|https://www.tripa...|\n",
            "|  6|AVweLARAByjofQCxv5vX|       167 W Main St|        Lexington|     US|38.047014000000004|         -84.497742|21c Museum Hotel ...|     40507|      KY|             4|http://www.tripad...|\n",
            "|  7|AVweLARAByjofQCxv5vX|       167 W Main St|        Lexington|     US|38.047014000000004|         -84.497742|21c Museum Hotel ...|     40507|      KY|             1|https://www.tripa...|\n",
            "|  8|AV1thAoL3-Khe5l_Ott5|115 W Steve Warin...|  Russell Springs|     US|37.065296000000004|          -85.07358|   Springs Motel LLC|     42642|      KY|             1|https://www.tripa...|\n",
            "|  9|AVz6h4Sb3D1zeR_xDHsu| 2240 Buena Vista Rd|        Lexington|     US|           38.0421|           -84.4271|Microtel Inn Suit...|     40505|      KY|             5|https://www.tripa...|\n",
            "| 10|AVwdo6WHByjofQCxrGaj|      1107 N Main St|     Hopkinsville|     US|            36.889|           -87.4813|        American Inn|     42240|      KY|             1|https://www.tripa...|\n",
            "| 11|AVwcuo0eIN2L1WUfoPEk|1953 Nicholasvill...|        Lexington|     US|          38.01243|          -84.51635|Hampton Inn Lexin...|     40503|      KY|             5|https://www.tripa...|\n",
            "| 12|AWB2mcqARxPSIh2RpdHz|       4200 Via Real|      Carpinteria|     US|          34.40507|         -119.53119|Motel 6 Santa Bar...|     93013|      CA|             3|https://www.tripa...|\n",
            "| 13|AVwdhvN2kufWRAb56xSm| 1818 El Camino Real|     Redwood City|     US|           37.4777|          -122.2249|         Comfort Inn|     94063|      CA|             5|https://www.tripa...|\n",
            "| 14|AWV8VsCtRxPSIh2RyTvS|      610 Poydras St|      New Orleans|     US|         29.949125|         -90.069748|   The Whitney Hotel|     70130|      LA|             3|https://www.tripa...|\n",
            "| 15|AWV8VsCtRxPSIh2RyTvS|      610 Poydras St|      New Orleans|     US|         29.949125|         -90.069748|   The Whitney Hotel|     70130|      LA|             5|https://www.tripa...|\n",
            "| 16|AWV8VsCtRxPSIh2RyTvS|      610 Poydras St|      New Orleans|     US|         29.949125|         -90.069748|   The Whitney Hotel|     70130|      LA|             2|https://www.tripa...|\n",
            "| 17|AWV8VsCtRxPSIh2RyTvS|      610 Poydras St|      New Orleans|     US|         29.949125|         -90.069748|   The Whitney Hotel|     70130|      LA|             4|https://www.tripa...|\n",
            "| 18|AWV8VsCtRxPSIh2RyTvS|      610 Poydras St|      New Orleans|     US|         29.949125|         -90.069748|   The Whitney Hotel|     70130|      LA|             4|https://www.tripa...|\n",
            "| 19|AWV8VsCtRxPSIh2RyTvS|      610 Poydras St|      New Orleans|     US|         29.949125|         -90.069748|   The Whitney Hotel|     70130|      LA|             3|https://www.tripa...|\n",
            "| 20|AWV8VsCtRxPSIh2RyTvS|      610 Poydras St|      New Orleans|     US|         29.949125|         -90.069748|   The Whitney Hotel|     70130|      LA|             4|https://www.tripa...|\n",
            "+---+--------------------+--------------------+-----------------+-------+------------------+-------------------+--------------------+----------+--------+--------------+--------------------+\n",
            "only showing top 20 rows\n",
            "\n"
          ],
          "name": "stdout"
        }
      ]
    },
    {
      "cell_type": "code",
      "metadata": {
        "colab": {
          "base_uri": "https://localhost:8080/"
        },
        "id": "EmVV96UxULf8",
        "outputId": "5d2ab5ee-4221-4193-e7b4-af3a426ae75f"
      },
      "source": [
        "hotel_reviews_info= user_data_df.select([\"id\", \"hotel_id\", \"address\", \"city\", \"country\",\"latitude\",\"longitude\",\"name\",\"postalcode\",\"province\",\"reviews_rating\",\"reviews_sourceURLs\"])\r\n",
        "hotel_reviews_info.show(5)"
      ],
      "execution_count": 5,
      "outputs": [
        {
          "output_type": "stream",
          "text": [
            "+---+--------------------+--------------------+-----------------+-------+--------+-------------------+--------------------+----------+--------+--------------+--------------------+\n",
            "| id|            hotel_id|             address|             city|country|latitude|          longitude|                name|postalcode|province|reviews_rating|  reviews_sourceURLs|\n",
            "+---+--------------------+--------------------+-----------------+-------+--------+-------------------+--------------------+----------+--------+--------------+--------------------+\n",
            "|  1|AWE2FvX5RxPSIh2RscTK|     5620 Calle Real|           Goleta|     US|34.44178|         -119.81979|Best Western Plus...|     93117|      CA|             3|https://www.tripa...|\n",
            "|  2|AVwcj_OhkufWRAb5wi9T|5th And San Carlo...|Carmel by the Sea|     US|36.55722|-121.92193999999999|Best Western Carm...|     93921|      CA|             4|https://www.tripa...|\n",
            "|  3|AVwcj_OhkufWRAb5wi9T|5th And San Carlo...|Carmel by the Sea|     US|36.55722|-121.92193999999999|Best Western Carm...|     93921|      CA|             3|https://www.tripa...|\n",
            "|  4|AVwcj_OhkufWRAb5wi9T|5th And San Carlo...|Carmel by the Sea|     US|36.55722|-121.92193999999999|Best Western Carm...|     93921|      CA|             5|https://www.tripa...|\n",
            "|  5|AVwcj_OhkufWRAb5wi9T|5th And San Carlo...|Carmel by the Sea|     US|36.55722|-121.92193999999999|Best Western Carm...|     93921|      CA|             2|https://www.tripa...|\n",
            "+---+--------------------+--------------------+-----------------+-------+--------+-------------------+--------------------+----------+--------+--------------+--------------------+\n",
            "only showing top 5 rows\n",
            "\n"
          ],
          "name": "stdout"
        }
      ]
    },
    {
      "cell_type": "code",
      "metadata": {
        "id": "z4f0Fn-xD7R3"
      },
      "source": [
        "# Configuration for RDS instance\r\n",
        "mode=\"overwrite\"\r\n",
        "jdbc_url = \"jdbc:postgresql://sj-db-1.ctg25floyats.us-east-2.rds.amazonaws.com:5432/Hotel_Reviews_db\"\r\n",
        "config = {\"user\":\"postgres\",\r\n",
        "          \"password\": \"postgres\",\r\n",
        "          \"driver\":\"org.postgresql.Driver\"}\r\n",
        "\r\n"
      ],
      "execution_count": 10,
      "outputs": []
    },
    {
      "cell_type": "code",
      "metadata": {
        "id": "yPBSqgG0T2FW"
      },
      "source": [
        "# Write DataFrame to table\r\n",
        "\r\n",
        "hotel_reviews_info.write.jdbc(url=jdbc_url, table='review', mode=mode, properties=config)"
      ],
      "execution_count": 11,
      "outputs": []
    }
  ]
}